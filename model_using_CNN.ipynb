{
 "cells": [
  {
   "cell_type": "code",
   "execution_count": 1,
   "metadata": {},
   "outputs": [
    {
     "name": "stdout",
     "output_type": "stream",
     "text": [
      "pygame 2.1.3 (SDL 2.0.22, Python 3.11.4)\n",
      "Hello from the pygame community. https://www.pygame.org/contribute.html\n"
     ]
    }
   ],
   "source": [
    "import numpy as np\n",
    "from scene import Scene\n",
    "import tensorflow as tf\n",
    "import tensorflow.keras as keras\n",
    "from keras.layers import Conv2D, MaxPooling2D, Dense, Flatten\n",
    "\n",
    "scene = Scene(using_cnn=True, init_randomly=True)"
   ]
  },
  {
   "cell_type": "code",
   "execution_count": 2,
   "metadata": {},
   "outputs": [],
   "source": [
    "model = keras.Sequential([\n",
    "    Conv2D(16, (3, 3), activation='relu', padding=\"same\", kernel_initializer='he_normal', input_shape=(scene.height, scene.width,scene.elements_count)),\n",
    "    Conv2D(16, (3, 3), activation='relu', padding=\"same\", kernel_initializer='he_normal', input_shape=(scene.height, scene.width,scene.elements_count)),\n",
    "    MaxPooling2D(2),\n",
    "    Conv2D(32, (3, 3), activation='relu', padding=\"same\", kernel_initializer='he_normal'),\n",
    "    MaxPooling2D(2),\n",
    "    Flatten(),    \n",
    "    Dense(16, activation='relu', kernel_initializer='he_normal'),\n",
    "    Dense(4, activation='softmax')\n",
    "])\n",
    "\n",
    "model.compile(optimizer='adam', loss='categorical_crossentropy', metrics=['accuracy'])\n",
    "\n",
    "target = keras.models.clone_model(model)\n",
    "target.set_weights(model.get_weights())"
   ]
  },
  {
   "cell_type": "code",
   "execution_count": 3,
   "metadata": {},
   "outputs": [],
   "source": [
    "def epsilon_greedy_policy(state, epsilon=0):\n",
    "    if np.random.rand() < epsilon:\n",
    "        return np.random.randint(4)\n",
    "    else:\n",
    "        Q_values = model.predict(tf.one_hot(state[np.newaxis], scene.elements_count), verbose=False)\n",
    "        return np.argmax(Q_values[0])"
   ]
  },
  {
   "cell_type": "code",
   "execution_count": 4,
   "metadata": {},
   "outputs": [],
   "source": [
    "from collections import deque\n",
    "\n",
    "# (state, action, reward, next_state, done)\n",
    "replay_memory = deque(maxlen=2000)\n",
    "\n",
    "def sample_experiences(batch_size):\n",
    "    indices = np.random.randint(len(replay_memory), size=batch_size)\n",
    "    batch = [replay_memory[index] for index in indices]\n",
    "    states, actions, rewards, next_states, dones = [np.array([experience[field_index]\n",
    "                                                            for experience in batch])\n",
    "                                                            for field_index in range(5)]\n",
    "    return states, actions, rewards, next_states, dones"
   ]
  },
  {
   "cell_type": "code",
   "execution_count": 5,
   "metadata": {},
   "outputs": [],
   "source": [
    "def play_one_step(scene, state, epsilon):\n",
    "    action = epsilon_greedy_policy(state, epsilon)\n",
    "    scene.snake.change_direction(action)\n",
    "    next_state, reward, done = scene.move()\n",
    "    replay_memory.append((state, action, reward, next_state, done))\n",
    "    return next_state, reward, done"
   ]
  },
  {
   "cell_type": "code",
   "execution_count": 6,
   "metadata": {},
   "outputs": [],
   "source": [
    "batch_size = 32\n",
    "discount_rate = 0.95\n",
    "optimizer = keras.optimizers.legacy.Adam(learning_rate=1e-2)\n",
    "loss_fn = keras.losses.mean_squared_error\n",
    "\n",
    "def training_step(batch_size):\n",
    "    states, actions, rewards, next_states, dones = sample_experiences(batch_size)\n",
    "    next_Q_values = model.predict(tf.one_hot(next_states, scene.elements_count), verbose=False)\n",
    "    best_next_actions = np.argmax(next_Q_values, axis=1)\n",
    "    next_mask = tf.one_hot(best_next_actions, 4).numpy()\n",
    "    next_best_Q_values = (target.predict(tf.one_hot(next_states, scene.elements_count), verbose=False) * next_mask).sum(axis=1)\n",
    "    target_Q_values = (rewards + (1 - dones) * discount_rate * next_best_Q_values).reshape(-1, 1)\n",
    "    mask = tf.one_hot(actions, 4)\n",
    "    with tf.GradientTape() as tape:\n",
    "        all_Q_values = model(tf.one_hot(states, scene.elements_count))\n",
    "        Q_values = tf.reduce_sum(all_Q_values * mask, axis=1, keepdims=True)\n",
    "        loss = tf.reduce_mean(loss_fn(target_Q_values, Q_values))\n",
    "    grads = tape.gradient(loss, model.trainable_variables)\n",
    "    optimizer.apply_gradients(zip(grads, model.trainable_variables))"
   ]
  },
  {
   "cell_type": "code",
   "execution_count": null,
   "metadata": {},
   "outputs": [],
   "source": [
    "episodes_count = 8000\n",
    "reward_per_batch = 0\n",
    "\n",
    "for episode in range(1, episodes_count + 1):\n",
    "    state = scene.scene_as_matrix()\n",
    "    epsilon = (1 / (np.linspace(1, 8, episodes_count)**(1/3)))[episode - 1]\n",
    "    done = False\n",
    "    \n",
    "    steps = 0\n",
    "    while not done:\n",
    "        steps += 1\n",
    "        state, reward, done = play_one_step(scene, state, epsilon)\n",
    "        reward_per_batch += reward\n",
    "        \n",
    "    if episode > 50:\n",
    "        training_step(batch_size)\n",
    "        if episode % 50 == 0:\n",
    "            print(\"Episode number: \", episode)\n",
    "            target.set_weights(model.get_weights())\n",
    "            print(\"Average reward: \", reward_per_batch / 50)\n",
    "            reward_per_batch = 0\n",
    "            \n",
    "    if episode % 1000 == 0:\n",
    "        model.save(f\"models/CNN_model{episode}.h5\")"
   ]
  },
  {
   "cell_type": "code",
   "execution_count": null,
   "metadata": {},
   "outputs": [],
   "source": []
  }
 ],
 "metadata": {
  "kernelspec": {
   "display_name": "base",
   "language": "python",
   "name": "python3"
  },
  "language_info": {
   "codemirror_mode": {
    "name": "ipython",
    "version": 3
   },
   "file_extension": ".py",
   "mimetype": "text/x-python",
   "name": "python",
   "nbconvert_exporter": "python",
   "pygments_lexer": "ipython3",
   "version": "3.11.4"
  },
  "orig_nbformat": 4
 },
 "nbformat": 4,
 "nbformat_minor": 2
}
