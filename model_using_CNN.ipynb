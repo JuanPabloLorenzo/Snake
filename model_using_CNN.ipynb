{
 "cells": [
  {
   "cell_type": "code",
   "execution_count": 2,
   "metadata": {},
   "outputs": [],
   "source": [
    "import numpy as np\n",
    "from scene import Scene\n",
    "import tensorflow as tf\n",
    "import tensorflow.keras as keras\n",
    "from keras.layers import Conv2D, MaxPooling2D, Dense, Flatten\n",
    "\n",
    "scene = Scene(init_randomly=True)\n",
    "N_OUTPUTS = 4\n"
   ]
  },
  {
   "cell_type": "code",
   "execution_count": 17,
   "metadata": {},
   "outputs": [
    {
     "name": "stdout",
     "output_type": "stream",
     "text": [
      "Model: \"sequential_11\"\n",
      "_________________________________________________________________\n",
      " Layer (type)                Output Shape              Param #   \n",
      "=================================================================\n",
      " conv2d_20 (Conv2D)          (None, 5, 5, 32)          1184      \n",
      "                                                                 \n",
      " conv2d_21 (Conv2D)          (None, 3, 3, 16)          4624      \n",
      "                                                                 \n",
      " flatten_12 (Flatten)        (None, 144)               0         \n",
      "                                                                 \n",
      " dense_23 (Dense)            (None, 32)                4640      \n",
      "                                                                 \n",
      " dense_24 (Dense)            (None, 4)                 132       \n",
      "                                                                 \n",
      "=================================================================\n",
      "Total params: 10580 (41.33 KB)\n",
      "Trainable params: 10580 (41.33 KB)\n",
      "Non-trainable params: 0 (0.00 Byte)\n",
      "_________________________________________________________________\n"
     ]
    }
   ],
   "source": [
    "model = keras.Sequential([\n",
    "        Conv2D(32, (3, 3), activation='relu', padding=\"same\", kernel_initializer='he_normal', input_shape=(scene.height, scene.width, scene.elements_count)),\n",
    "        Conv2D(16, (3, 3), activation='relu', padding=\"valid\", kernel_initializer='he_normal'),\n",
    "        Flatten(),    \n",
    "        Dense(32, activation='relu', kernel_initializer='he_normal'),\n",
    "        Dense(4, activation='linear')\n",
    "    ])\n",
    "\n",
    "model.summary()\n",
    "\n",
    "model.compile(optimizer='adam', loss='categorical_crossentropy', metrics=['accuracy'])\n",
    "\n",
    "target = keras.models.clone_model(model)\n",
    "target.set_weights(model.get_weights())\n"
   ]
  },
  {
   "cell_type": "code",
   "execution_count": 9,
   "metadata": {},
   "outputs": [],
   "source": [
    "def epsilon_greedy_policy(state, epsilon=0):\n",
    "    if np.random.rand() < epsilon:\n",
    "        return np.random.randint(N_OUTPUTS)\n",
    "    else:\n",
    "        Q_values = model.predict(state[np.newaxis], verbose=0)\n",
    "        return np.argmax(Q_values[0])\n"
   ]
  },
  {
   "cell_type": "code",
   "execution_count": 10,
   "metadata": {},
   "outputs": [],
   "source": [
    "from collections import deque\n",
    "\n",
    "# (state, action, reward, next_state, done)\n",
    "replay_memory = deque(maxlen=20000)\n",
    "\n",
    "def sample_experiences(batch_size):\n",
    "    indices = np.random.randint(len(replay_memory), size=batch_size)\n",
    "    batch = [replay_memory[index] for index in indices]\n",
    "    states, actions, rewards, next_states, dones = [np.array([experience[field_index] for experience in batch])\n",
    "                                                            for field_index in range(5)]\n",
    "    return states, actions, rewards, next_states, dones\n"
   ]
  },
  {
   "cell_type": "code",
   "execution_count": 11,
   "metadata": {},
   "outputs": [],
   "source": [
    "def play_one_step(scene, state, epsilon):\n",
    "    action = epsilon_greedy_policy(state, epsilon)\n",
    "    next_state, reward, done = scene.move(action)\n",
    "    next_state = tf.one_hot(next_state, scene.elements_count)\n",
    "    replay_memory.append((state, action, reward, next_state, done))\n",
    "    return next_state, reward, done\n"
   ]
  },
  {
   "cell_type": "code",
   "execution_count": 12,
   "metadata": {},
   "outputs": [],
   "source": [
    "batch_size = 32\n",
    "discount_rate = 0.99\n",
    "optimizer = keras.optimizers.legacy.Adam(learning_rate=1e-3)\n",
    "loss_fn = keras.losses.mean_squared_error\n",
    "\n",
    "def training_step(batch_size):\n",
    "    states, actions, rewards, next_states, dones = sample_experiences(batch_size)\n",
    "    next_Q_values = target.predict(next_states, verbose=False)\n",
    "    max_next_Q_values = np.max(next_Q_values, axis=1)\n",
    "    target_Q_values = (rewards + (1 - dones) * discount_rate * max_next_Q_values).reshape(-1, 1)\n",
    "    mask = tf.one_hot(actions, N_OUTPUTS)\n",
    "    with tf.GradientTape() as tape:\n",
    "        all_Q_values = model(states)\n",
    "        Q_values = tf.reduce_sum(all_Q_values * mask, axis=1, keepdims=True)\n",
    "        loss = tf.reduce_mean(loss_fn(target_Q_values, Q_values))\n",
    "    grads = tape.gradient(loss, model.trainable_variables)\n",
    "    optimizer.apply_gradients(zip(grads, model.trainable_variables))\n"
   ]
  },
  {
   "cell_type": "code",
   "execution_count": 13,
   "metadata": {},
   "outputs": [
    {
     "name": "stdout",
     "output_type": "stream",
     "text": [
      "Episode number:  50\n",
      "Average reward:  -16.0\n",
      "Episode number:  100\n",
      "Average reward:  -14.28\n",
      "Episode number:  150\n",
      "Average reward:  -13.34\n",
      "Episode number:  200\n",
      "Average reward:  -15.1\n",
      "Episode number:  250\n",
      "Average reward:  -14.66\n",
      "Episode number:  300\n",
      "Average reward:  -14.58\n",
      "Episode number:  350\n",
      "Average reward:  -14.36\n",
      "Episode number:  400\n",
      "Average reward:  -14.78\n",
      "Episode number:  450\n",
      "Average reward:  -13.56\n"
     ]
    },
    {
     "name": "stderr",
     "output_type": "stream",
     "text": [
      "/Users/juanpablo/miniconda3/lib/python3.11/site-packages/keras/src/engine/training.py:3000: UserWarning: You are saving your model as an HDF5 file via `model.save()`. This file format is considered legacy. We recommend using instead the native Keras format, e.g. `model.save('my_model.keras')`.\n",
      "  saving_api.save_model(\n"
     ]
    },
    {
     "name": "stdout",
     "output_type": "stream",
     "text": [
      "Episode number:  500\n",
      "Average reward:  -14.14\n",
      "Episode number:  550\n",
      "Average reward:  -16.1\n",
      "Episode number:  600\n",
      "Average reward:  -14.72\n",
      "Episode number:  650\n",
      "Average reward:  -14.04\n",
      "Episode number:  700\n",
      "Average reward:  -14.96\n",
      "Episode number:  750\n",
      "Average reward:  -14.16\n",
      "Episode number:  800\n",
      "Average reward:  -15.7\n",
      "Episode number:  850\n",
      "Average reward:  -13.6\n",
      "Episode number:  900\n",
      "Average reward:  -13.48\n",
      "Episode number:  950\n",
      "Average reward:  -13.84\n",
      "Episode number:  1000\n",
      "Average reward:  -15.64\n",
      "Episode number:  1050\n",
      "Average reward:  -14.62\n",
      "Episode number:  1100\n",
      "Average reward:  -13.24\n",
      "Episode number:  1150\n",
      "Average reward:  -13.42\n",
      "Episode number:  1200\n",
      "Average reward:  -15.62\n",
      "Episode number:  1250\n",
      "Average reward:  -11.26\n",
      "Episode number:  1300\n",
      "Average reward:  -10.6\n",
      "Episode number:  1350\n",
      "Average reward:  -11.82\n",
      "Episode number:  1400\n",
      "Average reward:  -3.28\n",
      "Episode number:  1450\n",
      "Average reward:  -6.22\n",
      "Episode number:  1500\n",
      "Average reward:  8.4\n"
     ]
    }
   ],
   "source": [
    "# Training\n",
    "episodes_count = 1500\n",
    "reward_per_batch = 0\n",
    "epsilons = np.linspace(1, 0.01, episodes_count)\n",
    "max_steps = 50\n",
    "\n",
    "for episode in range(1, episodes_count + 1):\n",
    "    scene.reset()\n",
    "    state = scene.scene_as_matrix()\n",
    "    state = tf.one_hot(state, scene.elements_count)\n",
    "    epsilon = epsilons[episode - 1]\n",
    "    done = False\n",
    "    \n",
    "    steps = 0\n",
    "    while not done and steps < max_steps:\n",
    "        steps += 1\n",
    "        state, reward, done = play_one_step(scene, state, epsilon)\n",
    "        reward_per_batch += reward\n",
    "        \n",
    "    if episode >= 50:\n",
    "        training_step(batch_size)\n",
    "        if episode % 50 == 0:\n",
    "            target.set_weights(model.get_weights())\n",
    "    \n",
    "    if episode % 50 == 0:\n",
    "        print(\"Episode number: \", episode)\n",
    "        print(\"Average reward: \", reward_per_batch / 50)\n",
    "        reward_per_batch = 0\n",
    "\n",
    "    if (episode + 1) % 500 == 0:\n",
    "        model.save(f\"models/1p_{episode + 1}_episodes.h5\")\n"
   ]
  }
 ],
 "metadata": {
  "kernelspec": {
   "display_name": "base",
   "language": "python",
   "name": "python3"
  },
  "language_info": {
   "codemirror_mode": {
    "name": "ipython",
    "version": 3
   },
   "file_extension": ".py",
   "mimetype": "text/x-python",
   "name": "python",
   "nbconvert_exporter": "python",
   "pygments_lexer": "ipython3",
   "version": "3.11.4"
  },
  "orig_nbformat": 4
 },
 "nbformat": 4,
 "nbformat_minor": 2
}
