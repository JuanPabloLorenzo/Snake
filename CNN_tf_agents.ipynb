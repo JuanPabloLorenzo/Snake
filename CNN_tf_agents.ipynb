{
 "cells": [
  {
   "cell_type": "code",
   "execution_count": 14,
   "metadata": {},
   "outputs": [],
   "source": [
    "import numpy as np\n",
    "import tensorflow as tf\n",
    "from tf_agents.networks.q_network import QNetwork\n",
    "import tf_agents.networks.network as network\n",
    "from tf_agents.specs import tensor_spec\n",
    "from snake_game import SnakeGame\n",
    "from scene import Scene\n",
    "from scene_longer_snake import SceneLongerSnake\n",
    "from tensorflow.keras import Sequential\n",
    "from tensorflow.keras.layers import Dense, Flatten, Conv2D, Input\n",
    "\n",
    "scene = SceneLongerSnake(init_randomly=True, snake_longer_prob=0.95, length_mean=10, length_std=2)\n",
    "episodes_count = 100000\n",
    "random_episodes = 20000\n"
   ]
  },
  {
   "cell_type": "code",
   "execution_count": 15,
   "metadata": {},
   "outputs": [],
   "source": [
    "from tf_agents.environments.tf_py_environment import TFPyEnvironment\n",
    "\n",
    "env = SnakeGame(scene)\n",
    "env = TFPyEnvironment(env)\n"
   ]
  },
  {
   "cell_type": "code",
   "execution_count": 16,
   "metadata": {},
   "outputs": [
    {
     "name": "stdout",
     "output_type": "stream",
     "text": [
      "Model: \"model_2\"\n",
      "__________________________________________________________________________________________________\n",
      " Layer (type)                Output Shape                 Param #   Connected to                  \n",
      "==================================================================================================\n",
      " input_7 (InputLayer)        [(None, 5, 5, 4)]            0         []                            \n",
      "                                                                                                  \n",
      " conv2d_2 (Conv2D)           (None, 4, 4, 32)             544       ['input_7[0][0]']             \n",
      "                                                                                                  \n",
      " flatten_2 (Flatten)         (None, 512)                  0         ['conv2d_2[0][0]']            \n",
      "                                                                                                  \n",
      " dense_6 (Dense)             (None, 128)                  65664     ['flatten_2[0][0]']           \n",
      "                                                                                                  \n",
      " dense_7 (Dense)             (None, 32)                   4128      ['dense_6[0][0]']             \n",
      "                                                                                                  \n",
      " input_8 (InputLayer)        [(None, 4)]                  0         []                            \n",
      "                                                                                                  \n",
      " input_9 (InputLayer)        [(None, 4)]                  0         []                            \n",
      "                                                                                                  \n",
      " concatenate_2 (Concatenate  (None, 40)                   0         ['dense_7[0][0]',             \n",
      " )                                                                   'input_8[0][0]',             \n",
      "                                                                     'input_9[0][0]']             \n",
      "                                                                                                  \n",
      " dense_8 (Dense)             (None, 4)                    164       ['concatenate_2[0][0]']       \n",
      "                                                                                                  \n",
      "==================================================================================================\n",
      "Total params: 70500 (275.39 KB)\n",
      "Trainable params: 70500 (275.39 KB)\n",
      "Non-trainable params: 0 (0.00 Byte)\n",
      "__________________________________________________________________________________________________\n"
     ]
    }
   ],
   "source": [
    "class MyQNetwork(network.Network):\n",
    "    def __init__(self,\n",
    "                 input_tensor_spec,\n",
    "                 action_spec,\n",
    "                 name='MyQNetwork'):\n",
    "        super(MyQNetwork, self).__init__(\n",
    "            input_tensor_spec=input_tensor_spec,\n",
    "            state_spec=(),\n",
    "            name=name)\n",
    "        \n",
    "        self._action_spec = action_spec\n",
    "        matrix_shape = input_tensor_spec[0].shape\n",
    "        obstacles_shape = input_tensor_spec[1].shape\n",
    "        no_body_blocks_shape = input_tensor_spec[2].shape\n",
    "        \n",
    "        input0 = Input(shape=matrix_shape)\n",
    "        input1 = Input(shape=obstacles_shape) # Each value represents if there is a wall or the snake body in the direction, 0 - no wall, 1 - wall\n",
    "        input2 = Input(shape=no_body_blocks_shape) # Each value represents how many no body blocks are in the direction\n",
    "        \n",
    "        conv = Conv2D(32, (2, 2), 1, activation='relu', kernel_initializer='he_normal')(input0)\n",
    "        flat = Flatten()(conv)\n",
    "        dense1 = Dense(128, activation='relu', kernel_initializer='he_normal')(flat)\n",
    "        dense2 = Dense(32, activation='relu', kernel_initializer='he_normal')(dense1)\n",
    "        \n",
    "        concat = tf.keras.layers.concatenate([dense2, input1, input2])\n",
    "        output = Dense(4, activation='linear')(concat)\n",
    "        \n",
    "        self._model = tf.keras.Model(inputs=[input0, input1, input2], outputs=output)\n",
    "        \n",
    "        self._model.summary()\n",
    "\n",
    "    def call(self, observations, step_type=None, network_state=(), training=False):\n",
    "        output = self._model([observations[0], observations[1], observations[2]])\n",
    "        return output, network_state\n",
    "\n",
    "q_net = MyQNetwork(\n",
    "    env.observation_spec(),\n",
    "    env.action_spec())\n"
   ]
  },
  {
   "cell_type": "code",
   "execution_count": 17,
   "metadata": {},
   "outputs": [
    {
     "name": "stdout",
     "output_type": "stream",
     "text": [
      "Model: \"model_3\"\n",
      "__________________________________________________________________________________________________\n",
      " Layer (type)                Output Shape                 Param #   Connected to                  \n",
      "==================================================================================================\n",
      " input_10 (InputLayer)       [(None, 5, 5, 4)]            0         []                            \n",
      "                                                                                                  \n",
      " conv2d_3 (Conv2D)           (None, 4, 4, 32)             544       ['input_10[0][0]']            \n",
      "                                                                                                  \n",
      " flatten_3 (Flatten)         (None, 512)                  0         ['conv2d_3[0][0]']            \n",
      "                                                                                                  \n",
      " dense_9 (Dense)             (None, 128)                  65664     ['flatten_3[0][0]']           \n",
      "                                                                                                  \n",
      " dense_10 (Dense)            (None, 32)                   4128      ['dense_9[0][0]']             \n",
      "                                                                                                  \n",
      " input_11 (InputLayer)       [(None, 4)]                  0         []                            \n",
      "                                                                                                  \n",
      " input_12 (InputLayer)       [(None, 4)]                  0         []                            \n",
      "                                                                                                  \n",
      " concatenate_3 (Concatenate  (None, 40)                   0         ['dense_10[0][0]',            \n",
      " )                                                                   'input_11[0][0]',            \n",
      "                                                                     'input_12[0][0]']            \n",
      "                                                                                                  \n",
      " dense_11 (Dense)            (None, 4)                    164       ['concatenate_3[0][0]']       \n",
      "                                                                                                  \n",
      "==================================================================================================\n",
      "Total params: 70500 (275.39 KB)\n",
      "Trainable params: 70500 (275.39 KB)\n",
      "Non-trainable params: 0 (0.00 Byte)\n",
      "__________________________________________________________________________________________________\n"
     ]
    }
   ],
   "source": [
    "# Create the agent\n",
    "from tf_agents.agents.dqn.dqn_agent import DdqnAgent\n",
    "from tensorflow import keras\n",
    "from keras.optimizers.legacy import Adam\n",
    "from keras.losses import Huber\n",
    "from tf_agents.trajectories import TimeStep\n",
    "\n",
    "train_step_counter = tf.Variable(0)\n",
    "optimizer = Adam(learning_rate=0.001)\n",
    "\n",
    "epsilon = keras.optimizers.schedules.PolynomialDecay(\n",
    "    initial_learning_rate=0.1,\n",
    "    decay_steps=episodes_count,\n",
    "    end_learning_rate=0.01\n",
    ")\n",
    "\n",
    "agent = DdqnAgent(\n",
    "    time_step_spec=env.time_step_spec(),\n",
    "    action_spec=env.action_spec(),\n",
    "    q_network=q_net,\n",
    "    optimizer=optimizer,\n",
    "    td_errors_loss_fn=Huber(reduction=\"none\"),\n",
    "    gamma=tf.constant(0.95, dtype=tf.float32),\n",
    "    train_step_counter=train_step_counter,\n",
    "    epsilon_greedy=lambda: epsilon(train_step_counter)\n",
    ")\n"
   ]
  },
  {
   "cell_type": "code",
   "execution_count": 18,
   "metadata": {},
   "outputs": [],
   "source": [
    "# Create the replay buffer\n",
    "from tf_agents.replay_buffers import tf_uniform_replay_buffer\n",
    "\n",
    "replay_buffer = tf_uniform_replay_buffer.TFUniformReplayBuffer(\n",
    "    data_spec=agent.collect_data_spec,\n",
    "    batch_size=env.batch_size,\n",
    "    max_length=100000\n",
    ")\n"
   ]
  },
  {
   "cell_type": "code",
   "execution_count": 19,
   "metadata": {},
   "outputs": [],
   "source": [
    "# Create the training metrics\n",
    "from tf_agents.metrics import tf_metrics\n",
    "\n",
    "train_metrics = [\n",
    "    tf_metrics.NumberOfEpisodes(),\n",
    "    tf_metrics.EnvironmentSteps(),\n",
    "    tf_metrics.AverageReturnMetric(),\n",
    "    tf_metrics.AverageEpisodeLengthMetric()\n",
    "]\n"
   ]
  },
  {
   "cell_type": "code",
   "execution_count": 20,
   "metadata": {},
   "outputs": [],
   "source": [
    "# Create the driver\n",
    "from tf_agents.drivers import dynamic_step_driver\n",
    "\n",
    "collect_driver = dynamic_step_driver.DynamicStepDriver(\n",
    "    env,\n",
    "    policy=agent.collect_policy,\n",
    "    observers=[replay_buffer.add_batch] + train_metrics,\n",
    "    num_steps=2\n",
    ")\n",
    "\n",
    "# Run a random policy to fill the replay buffer\n",
    "from tf_agents.policies.random_tf_policy import RandomTFPolicy\n",
    "\n",
    "initial_collect_policy = RandomTFPolicy(env.time_step_spec(), env.action_spec())\n",
    "init_driver = dynamic_step_driver.DynamicStepDriver(\n",
    "    env,\n",
    "    policy=initial_collect_policy,\n",
    "    observers=[replay_buffer.add_batch],\n",
    "    num_steps=random_episodes\n",
    ")\n",
    "\n",
    "final_time_step, final_policy_state = init_driver.run()\n"
   ]
  },
  {
   "cell_type": "code",
   "execution_count": 21,
   "metadata": {},
   "outputs": [],
   "source": [
    "# Create the dataset\n",
    "dataset = replay_buffer.as_dataset(\n",
    "    sample_batch_size=64,\n",
    "    num_steps=2, # Capaz cambiar esto\n",
    "    num_parallel_calls=5\n",
    ").prefetch(5)\n"
   ]
  },
  {
   "cell_type": "code",
   "execution_count": 22,
   "metadata": {},
   "outputs": [],
   "source": [
    "\n",
    "# Create the training loop\n",
    "\n",
    "from tf_agents.utils.common import function\n",
    "from tf_agents.trajectories import trajectory\n",
    "from tf_agents.eval.metric_utils import log_metrics\n",
    "import logging\n",
    "\n",
    "logging.getLogger().setLevel(logging.INFO)\n",
    "\n",
    "collect_driver.run = function(collect_driver.run)\n",
    "agent.train = function(agent.train)\n",
    "\n",
    "def train_agent(n_iterations):\n",
    "    time_step = None\n",
    "    policy_state = agent.collect_policy.get_initial_state(env.batch_size)\n",
    "    iterator = iter(dataset)\n",
    "    for iteration in range(n_iterations):\n",
    "        time_step, policy_state = collect_driver.run(time_step, policy_state)\n",
    "        trajectories, buffer_info = next(iterator)\n",
    "        train_loss = agent.train(trajectories)\n",
    "        if iteration % 1000 == 0:\n",
    "            print(\"Iteration: \", iteration)\n",
    "            print(\"Replay buffer len: \" + str(replay_buffer.num_frames().numpy()))\n",
    "            log_metrics(train_metrics)\n"
   ]
  },
  {
   "cell_type": "code",
   "execution_count": 23,
   "metadata": {},
   "outputs": [
    {
     "name": "stderr",
     "output_type": "stream",
     "text": [
      "INFO:absl: \n",
      "\t\t NumberOfEpisodes = 2\n",
      "\t\t EnvironmentSteps = 2\n",
      "\t\t AverageReturn = -60.0\n",
      "\t\t AverageEpisodeLength = 0.5\n"
     ]
    },
    {
     "name": "stdout",
     "output_type": "stream",
     "text": [
      "Iteration:  0\n",
      "Replay buffer len: 43702\n"
     ]
    },
    {
     "name": "stderr",
     "output_type": "stream",
     "text": [
      "INFO:absl: \n",
      "\t\t NumberOfEpisodes = 672\n",
      "\t\t EnvironmentSteps = 2002\n",
      "\t\t AverageReturn = -26223.0\n",
      "\t\t AverageEpisodeLength = 5.199999809265137\n"
     ]
    },
    {
     "name": "stdout",
     "output_type": "stream",
     "text": [
      "Iteration:  1000\n",
      "Replay buffer len: 46372\n"
     ]
    },
    {
     "name": "stderr",
     "output_type": "stream",
     "text": [
      "INFO:absl: \n",
      "\t\t NumberOfEpisodes = 914\n",
      "\t\t EnvironmentSteps = 4002\n",
      "\t\t AverageReturn = -35406.0\n",
      "\t\t AverageEpisodeLength = 3.700000047683716\n"
     ]
    },
    {
     "name": "stdout",
     "output_type": "stream",
     "text": [
      "Iteration:  2000\n",
      "Replay buffer len: 48614\n"
     ]
    },
    {
     "name": "stderr",
     "output_type": "stream",
     "text": [
      "INFO:absl: \n",
      "\t\t NumberOfEpisodes = 1044\n",
      "\t\t EnvironmentSteps = 6002\n",
      "\t\t AverageReturn = -40192.5\n",
      "\t\t AverageEpisodeLength = 26.600000381469727\n"
     ]
    },
    {
     "name": "stdout",
     "output_type": "stream",
     "text": [
      "Iteration:  3000\n",
      "Replay buffer len: 50743\n"
     ]
    },
    {
     "name": "stderr",
     "output_type": "stream",
     "text": [
      "INFO:absl: \n",
      "\t\t NumberOfEpisodes = 1172\n",
      "\t\t EnvironmentSteps = 8002\n",
      "\t\t AverageReturn = -44733.0\n",
      "\t\t AverageEpisodeLength = 12.199999809265137\n"
     ]
    },
    {
     "name": "stdout",
     "output_type": "stream",
     "text": [
      "Iteration:  4000\n",
      "Replay buffer len: 52872\n"
     ]
    },
    {
     "name": "stderr",
     "output_type": "stream",
     "text": [
      "INFO:absl: \n",
      "\t\t NumberOfEpisodes = 1266\n",
      "\t\t EnvironmentSteps = 10002\n",
      "\t\t AverageReturn = -48149.5\n",
      "\t\t AverageEpisodeLength = 17.700000762939453\n"
     ]
    },
    {
     "name": "stdout",
     "output_type": "stream",
     "text": [
      "Iteration:  5000\n",
      "Replay buffer len: 54966\n"
     ]
    },
    {
     "name": "stderr",
     "output_type": "stream",
     "text": [
      "INFO:absl: \n",
      "\t\t NumberOfEpisodes = 1381\n",
      "\t\t EnvironmentSteps = 12002\n",
      "\t\t AverageReturn = -52282.0\n",
      "\t\t AverageEpisodeLength = 26.700000762939453\n"
     ]
    },
    {
     "name": "stdout",
     "output_type": "stream",
     "text": [
      "Iteration:  6000\n",
      "Replay buffer len: 57081\n"
     ]
    },
    {
     "name": "stderr",
     "output_type": "stream",
     "text": [
      "INFO:absl: \n",
      "\t\t NumberOfEpisodes = 1492\n",
      "\t\t EnvironmentSteps = 14002\n",
      "\t\t AverageReturn = -56185.0\n",
      "\t\t AverageEpisodeLength = 10.899999618530273\n"
     ]
    },
    {
     "name": "stdout",
     "output_type": "stream",
     "text": [
      "Iteration:  7000\n",
      "Replay buffer len: 59192\n"
     ]
    },
    {
     "name": "stderr",
     "output_type": "stream",
     "text": [
      "INFO:absl: \n",
      "\t\t NumberOfEpisodes = 1609\n",
      "\t\t EnvironmentSteps = 16002\n",
      "\t\t AverageReturn = -60343.0\n",
      "\t\t AverageEpisodeLength = 13.5\n"
     ]
    },
    {
     "name": "stdout",
     "output_type": "stream",
     "text": [
      "Iteration:  8000\n",
      "Replay buffer len: 61309\n"
     ]
    },
    {
     "name": "stderr",
     "output_type": "stream",
     "text": [
      "INFO:absl: \n",
      "\t\t NumberOfEpisodes = 1744\n",
      "\t\t EnvironmentSteps = 18002\n",
      "\t\t AverageReturn = -65081.5\n",
      "\t\t AverageEpisodeLength = 14.600000381469727\n"
     ]
    },
    {
     "name": "stdout",
     "output_type": "stream",
     "text": [
      "Iteration:  9000\n",
      "Replay buffer len: 63444\n"
     ]
    },
    {
     "name": "stderr",
     "output_type": "stream",
     "text": [
      "INFO:absl: \n",
      "\t\t NumberOfEpisodes = 1866\n",
      "\t\t EnvironmentSteps = 20002\n",
      "\t\t AverageReturn = -69138.5\n",
      "\t\t AverageEpisodeLength = 8.600000381469727\n"
     ]
    },
    {
     "name": "stdout",
     "output_type": "stream",
     "text": [
      "Iteration:  10000\n",
      "Replay buffer len: 65566\n"
     ]
    },
    {
     "name": "stderr",
     "output_type": "stream",
     "text": [
      "INFO:absl: \n",
      "\t\t NumberOfEpisodes = 2003\n",
      "\t\t EnvironmentSteps = 22002\n",
      "\t\t AverageReturn = -73778.0\n",
      "\t\t AverageEpisodeLength = 14.699999809265137\n"
     ]
    },
    {
     "name": "stdout",
     "output_type": "stream",
     "text": [
      "Iteration:  11000\n",
      "Replay buffer len: 67703\n"
     ]
    },
    {
     "name": "stderr",
     "output_type": "stream",
     "text": [
      "INFO:absl: \n",
      "\t\t NumberOfEpisodes = 2127\n",
      "\t\t EnvironmentSteps = 24002\n",
      "\t\t AverageReturn = -77765.0\n",
      "\t\t AverageEpisodeLength = 13.300000190734863\n"
     ]
    },
    {
     "name": "stdout",
     "output_type": "stream",
     "text": [
      "Iteration:  12000\n",
      "Replay buffer len: 69826\n"
     ]
    },
    {
     "name": "stderr",
     "output_type": "stream",
     "text": [
      "INFO:absl: \n",
      "\t\t NumberOfEpisodes = 2232\n",
      "\t\t EnvironmentSteps = 26002\n",
      "\t\t AverageReturn = -80835.0\n",
      "\t\t AverageEpisodeLength = 10.5\n"
     ]
    },
    {
     "name": "stdout",
     "output_type": "stream",
     "text": [
      "Iteration:  13000\n",
      "Replay buffer len: 71932\n"
     ]
    },
    {
     "name": "stderr",
     "output_type": "stream",
     "text": [
      "INFO:absl: \n",
      "\t\t NumberOfEpisodes = 2358\n",
      "\t\t EnvironmentSteps = 28002\n",
      "\t\t AverageReturn = -84732.5\n",
      "\t\t AverageEpisodeLength = 17.0\n"
     ]
    },
    {
     "name": "stdout",
     "output_type": "stream",
     "text": [
      "Iteration:  14000\n",
      "Replay buffer len: 74058\n"
     ]
    },
    {
     "name": "stderr",
     "output_type": "stream",
     "text": [
      "INFO:absl: \n",
      "\t\t NumberOfEpisodes = 2499\n",
      "\t\t EnvironmentSteps = 30002\n",
      "\t\t AverageReturn = -89143.5\n",
      "\t\t AverageEpisodeLength = 7.400000095367432\n"
     ]
    },
    {
     "name": "stdout",
     "output_type": "stream",
     "text": [
      "Iteration:  15000\n",
      "Replay buffer len: 76199\n"
     ]
    },
    {
     "name": "stderr",
     "output_type": "stream",
     "text": [
      "INFO:absl: \n",
      "\t\t NumberOfEpisodes = 2634\n",
      "\t\t EnvironmentSteps = 32002\n",
      "\t\t AverageReturn = -93335.0\n",
      "\t\t AverageEpisodeLength = 14.399999618530273\n"
     ]
    },
    {
     "name": "stdout",
     "output_type": "stream",
     "text": [
      "Iteration:  16000\n",
      "Replay buffer len: 78334\n"
     ]
    },
    {
     "name": "stderr",
     "output_type": "stream",
     "text": [
      "INFO:absl: \n",
      "\t\t NumberOfEpisodes = 2760\n",
      "\t\t EnvironmentSteps = 34002\n",
      "\t\t AverageReturn = -97050.0\n",
      "\t\t AverageEpisodeLength = 14.800000190734863\n"
     ]
    },
    {
     "name": "stdout",
     "output_type": "stream",
     "text": [
      "Iteration:  17000\n",
      "Replay buffer len: 80460\n"
     ]
    },
    {
     "name": "stderr",
     "output_type": "stream",
     "text": [
      "INFO:absl: \n",
      "\t\t NumberOfEpisodes = 2880\n",
      "\t\t EnvironmentSteps = 36002\n",
      "\t\t AverageReturn = -100528.0\n",
      "\t\t AverageEpisodeLength = 17.100000381469727\n"
     ]
    },
    {
     "name": "stdout",
     "output_type": "stream",
     "text": [
      "Iteration:  18000\n",
      "Replay buffer len: 82580\n"
     ]
    },
    {
     "name": "stderr",
     "output_type": "stream",
     "text": [
      "INFO:absl: \n",
      "\t\t NumberOfEpisodes = 3007\n",
      "\t\t EnvironmentSteps = 38002\n",
      "\t\t AverageReturn = -104190.0\n",
      "\t\t AverageEpisodeLength = 12.600000381469727\n"
     ]
    },
    {
     "name": "stdout",
     "output_type": "stream",
     "text": [
      "Iteration:  19000\n",
      "Replay buffer len: 84707\n"
     ]
    },
    {
     "name": "stderr",
     "output_type": "stream",
     "text": [
      "INFO:absl: \n",
      "\t\t NumberOfEpisodes = 3126\n",
      "\t\t EnvironmentSteps = 40002\n",
      "\t\t AverageReturn = -107346.5\n",
      "\t\t AverageEpisodeLength = 20.399999618530273\n"
     ]
    },
    {
     "name": "stdout",
     "output_type": "stream",
     "text": [
      "Iteration:  20000\n",
      "Replay buffer len: 86826\n"
     ]
    },
    {
     "name": "stderr",
     "output_type": "stream",
     "text": [
      "INFO:absl: \n",
      "\t\t NumberOfEpisodes = 3238\n",
      "\t\t EnvironmentSteps = 42002\n",
      "\t\t AverageReturn = -110384.0\n",
      "\t\t AverageEpisodeLength = 17.5\n"
     ]
    },
    {
     "name": "stdout",
     "output_type": "stream",
     "text": [
      "Iteration:  21000\n",
      "Replay buffer len: 88938\n"
     ]
    },
    {
     "name": "stderr",
     "output_type": "stream",
     "text": [
      "INFO:absl: \n",
      "\t\t NumberOfEpisodes = 3369\n",
      "\t\t EnvironmentSteps = 44002\n",
      "\t\t AverageReturn = -114256.0\n",
      "\t\t AverageEpisodeLength = 10.5\n"
     ]
    },
    {
     "name": "stdout",
     "output_type": "stream",
     "text": [
      "Iteration:  22000\n",
      "Replay buffer len: 91069\n"
     ]
    },
    {
     "name": "stderr",
     "output_type": "stream",
     "text": [
      "INFO:absl: \n",
      "\t\t NumberOfEpisodes = 3494\n",
      "\t\t EnvironmentSteps = 46002\n",
      "\t\t AverageReturn = -117744.0\n",
      "\t\t AverageEpisodeLength = 18.899999618530273\n"
     ]
    },
    {
     "name": "stdout",
     "output_type": "stream",
     "text": [
      "Iteration:  23000\n",
      "Replay buffer len: 93194\n"
     ]
    },
    {
     "name": "stderr",
     "output_type": "stream",
     "text": [
      "INFO:absl: \n",
      "\t\t NumberOfEpisodes = 3607\n",
      "\t\t EnvironmentSteps = 48002\n",
      "\t\t AverageReturn = -120766.5\n",
      "\t\t AverageEpisodeLength = 17.5\n"
     ]
    },
    {
     "name": "stdout",
     "output_type": "stream",
     "text": [
      "Iteration:  24000\n",
      "Replay buffer len: 95307\n"
     ]
    },
    {
     "name": "stderr",
     "output_type": "stream",
     "text": [
      "INFO:absl: \n",
      "\t\t NumberOfEpisodes = 3714\n",
      "\t\t EnvironmentSteps = 50002\n",
      "\t\t AverageReturn = -123244.5\n",
      "\t\t AverageEpisodeLength = 14.0\n"
     ]
    },
    {
     "name": "stdout",
     "output_type": "stream",
     "text": [
      "Iteration:  25000\n",
      "Replay buffer len: 97414\n"
     ]
    },
    {
     "name": "stderr",
     "output_type": "stream",
     "text": [
      "INFO:absl: \n",
      "\t\t NumberOfEpisodes = 3826\n",
      "\t\t EnvironmentSteps = 52002\n",
      "\t\t AverageReturn = -126110.0\n",
      "\t\t AverageEpisodeLength = 14.0\n"
     ]
    },
    {
     "name": "stdout",
     "output_type": "stream",
     "text": [
      "Iteration:  26000\n",
      "Replay buffer len: 99526\n"
     ]
    },
    {
     "name": "stderr",
     "output_type": "stream",
     "text": [
      "INFO:absl: \n",
      "\t\t NumberOfEpisodes = 3940\n",
      "\t\t EnvironmentSteps = 54002\n",
      "\t\t AverageReturn = -129008.0\n",
      "\t\t AverageEpisodeLength = 12.699999809265137\n"
     ]
    },
    {
     "name": "stdout",
     "output_type": "stream",
     "text": [
      "Iteration:  27000\n",
      "Replay buffer len: 100000\n"
     ]
    },
    {
     "name": "stderr",
     "output_type": "stream",
     "text": [
      "INFO:absl: \n",
      "\t\t NumberOfEpisodes = 4063\n",
      "\t\t EnvironmentSteps = 56002\n",
      "\t\t AverageReturn = -132213.5\n",
      "\t\t AverageEpisodeLength = 13.800000190734863\n"
     ]
    },
    {
     "name": "stdout",
     "output_type": "stream",
     "text": [
      "Iteration:  28000\n",
      "Replay buffer len: 100000\n"
     ]
    },
    {
     "name": "stderr",
     "output_type": "stream",
     "text": [
      "INFO:absl: \n",
      "\t\t NumberOfEpisodes = 4178\n",
      "\t\t EnvironmentSteps = 58002\n",
      "\t\t AverageReturn = -135163.0\n",
      "\t\t AverageEpisodeLength = 21.200000762939453\n"
     ]
    },
    {
     "name": "stdout",
     "output_type": "stream",
     "text": [
      "Iteration:  29000\n",
      "Replay buffer len: 100000\n"
     ]
    },
    {
     "name": "stderr",
     "output_type": "stream",
     "text": [
      "INFO:absl: \n",
      "\t\t NumberOfEpisodes = 4297\n",
      "\t\t EnvironmentSteps = 60002\n",
      "\t\t AverageReturn = -138133.5\n",
      "\t\t AverageEpisodeLength = 23.200000762939453\n"
     ]
    },
    {
     "name": "stdout",
     "output_type": "stream",
     "text": [
      "Iteration:  30000\n",
      "Replay buffer len: 100000\n"
     ]
    },
    {
     "name": "stderr",
     "output_type": "stream",
     "text": [
      "INFO:absl: \n",
      "\t\t NumberOfEpisodes = 4403\n",
      "\t\t EnvironmentSteps = 62002\n",
      "\t\t AverageReturn = -140598.5\n",
      "\t\t AverageEpisodeLength = 20.399999618530273\n"
     ]
    },
    {
     "name": "stdout",
     "output_type": "stream",
     "text": [
      "Iteration:  31000\n",
      "Replay buffer len: 100000\n"
     ]
    },
    {
     "name": "stderr",
     "output_type": "stream",
     "text": [
      "INFO:absl: \n",
      "\t\t NumberOfEpisodes = 4513\n",
      "\t\t EnvironmentSteps = 64002\n",
      "\t\t AverageReturn = -143220.0\n",
      "\t\t AverageEpisodeLength = 16.899999618530273\n"
     ]
    },
    {
     "name": "stdout",
     "output_type": "stream",
     "text": [
      "Iteration:  32000\n",
      "Replay buffer len: 100000\n"
     ]
    },
    {
     "name": "stderr",
     "output_type": "stream",
     "text": [
      "INFO:absl: \n",
      "\t\t NumberOfEpisodes = 4621\n",
      "\t\t EnvironmentSteps = 66002\n",
      "\t\t AverageReturn = -145796.0\n",
      "\t\t AverageEpisodeLength = 17.799999237060547\n"
     ]
    },
    {
     "name": "stdout",
     "output_type": "stream",
     "text": [
      "Iteration:  33000\n",
      "Replay buffer len: 100000\n"
     ]
    },
    {
     "name": "stderr",
     "output_type": "stream",
     "text": [
      "INFO:absl: \n",
      "\t\t NumberOfEpisodes = 4720\n",
      "\t\t EnvironmentSteps = 68002\n",
      "\t\t AverageReturn = -147999.5\n",
      "\t\t AverageEpisodeLength = 17.299999237060547\n"
     ]
    },
    {
     "name": "stdout",
     "output_type": "stream",
     "text": [
      "Iteration:  34000\n",
      "Replay buffer len: 100000\n"
     ]
    },
    {
     "name": "stderr",
     "output_type": "stream",
     "text": [
      "INFO:absl: \n",
      "\t\t NumberOfEpisodes = 4821\n",
      "\t\t EnvironmentSteps = 70002\n",
      "\t\t AverageReturn = -150332.0\n",
      "\t\t AverageEpisodeLength = 23.799999237060547\n"
     ]
    },
    {
     "name": "stdout",
     "output_type": "stream",
     "text": [
      "Iteration:  35000\n",
      "Replay buffer len: 100000\n"
     ]
    },
    {
     "name": "stderr",
     "output_type": "stream",
     "text": [
      "INFO:absl: \n",
      "\t\t NumberOfEpisodes = 4922\n",
      "\t\t EnvironmentSteps = 72002\n",
      "\t\t AverageReturn = -152412.0\n",
      "\t\t AverageEpisodeLength = 7.0\n"
     ]
    },
    {
     "name": "stdout",
     "output_type": "stream",
     "text": [
      "Iteration:  36000\n",
      "Replay buffer len: 100000\n"
     ]
    },
    {
     "name": "stderr",
     "output_type": "stream",
     "text": [
      "INFO:absl: \n",
      "\t\t NumberOfEpisodes = 5023\n",
      "\t\t EnvironmentSteps = 74002\n",
      "\t\t AverageReturn = -154734.0\n",
      "\t\t AverageEpisodeLength = 22.399999618530273\n"
     ]
    },
    {
     "name": "stdout",
     "output_type": "stream",
     "text": [
      "Iteration:  37000\n",
      "Replay buffer len: 100000\n"
     ]
    },
    {
     "name": "stderr",
     "output_type": "stream",
     "text": [
      "INFO:absl: \n",
      "\t\t NumberOfEpisodes = 5140\n",
      "\t\t EnvironmentSteps = 76002\n",
      "\t\t AverageReturn = -157640.0\n",
      "\t\t AverageEpisodeLength = 17.700000762939453\n"
     ]
    },
    {
     "name": "stdout",
     "output_type": "stream",
     "text": [
      "Iteration:  38000\n",
      "Replay buffer len: 100000\n"
     ]
    },
    {
     "name": "stderr",
     "output_type": "stream",
     "text": [
      "INFO:absl: \n",
      "\t\t NumberOfEpisodes = 5233\n",
      "\t\t EnvironmentSteps = 78002\n",
      "\t\t AverageReturn = -159542.5\n",
      "\t\t AverageEpisodeLength = 14.699999809265137\n"
     ]
    },
    {
     "name": "stdout",
     "output_type": "stream",
     "text": [
      "Iteration:  39000\n",
      "Replay buffer len: 100000\n"
     ]
    },
    {
     "name": "stderr",
     "output_type": "stream",
     "text": [
      "INFO:absl: \n",
      "\t\t NumberOfEpisodes = 5349\n",
      "\t\t EnvironmentSteps = 80002\n",
      "\t\t AverageReturn = -162319.0\n",
      "\t\t AverageEpisodeLength = 13.399999618530273\n"
     ]
    },
    {
     "name": "stdout",
     "output_type": "stream",
     "text": [
      "Iteration:  40000\n",
      "Replay buffer len: 100000\n"
     ]
    },
    {
     "name": "stderr",
     "output_type": "stream",
     "text": [
      "INFO:absl: \n",
      "\t\t NumberOfEpisodes = 5446\n",
      "\t\t EnvironmentSteps = 82002\n",
      "\t\t AverageReturn = -164374.5\n",
      "\t\t AverageEpisodeLength = 10.5\n"
     ]
    },
    {
     "name": "stdout",
     "output_type": "stream",
     "text": [
      "Iteration:  41000\n",
      "Replay buffer len: 100000\n"
     ]
    },
    {
     "name": "stderr",
     "output_type": "stream",
     "text": [
      "INFO:absl: \n",
      "\t\t NumberOfEpisodes = 5543\n",
      "\t\t EnvironmentSteps = 84002\n",
      "\t\t AverageReturn = -166585.0\n",
      "\t\t AverageEpisodeLength = 17.299999237060547\n"
     ]
    },
    {
     "name": "stdout",
     "output_type": "stream",
     "text": [
      "Iteration:  42000\n",
      "Replay buffer len: 100000\n"
     ]
    },
    {
     "name": "stderr",
     "output_type": "stream",
     "text": [
      "INFO:absl: \n",
      "\t\t NumberOfEpisodes = 5653\n",
      "\t\t EnvironmentSteps = 86002\n",
      "\t\t AverageReturn = -169351.5\n",
      "\t\t AverageEpisodeLength = 13.199999809265137\n"
     ]
    },
    {
     "name": "stdout",
     "output_type": "stream",
     "text": [
      "Iteration:  43000\n",
      "Replay buffer len: 100000\n"
     ]
    },
    {
     "name": "stderr",
     "output_type": "stream",
     "text": [
      "INFO:absl: \n",
      "\t\t NumberOfEpisodes = 5756\n",
      "\t\t EnvironmentSteps = 88002\n",
      "\t\t AverageReturn = -171437.0\n",
      "\t\t AverageEpisodeLength = 9.699999809265137\n"
     ]
    },
    {
     "name": "stdout",
     "output_type": "stream",
     "text": [
      "Iteration:  44000\n",
      "Replay buffer len: 100000\n"
     ]
    },
    {
     "name": "stderr",
     "output_type": "stream",
     "text": [
      "INFO:absl: \n",
      "\t\t NumberOfEpisodes = 5856\n",
      "\t\t EnvironmentSteps = 90002\n",
      "\t\t AverageReturn = -173703.5\n",
      "\t\t AverageEpisodeLength = 14.800000190734863\n"
     ]
    },
    {
     "name": "stdout",
     "output_type": "stream",
     "text": [
      "Iteration:  45000\n",
      "Replay buffer len: 100000\n"
     ]
    },
    {
     "name": "stderr",
     "output_type": "stream",
     "text": [
      "INFO:absl: \n",
      "\t\t NumberOfEpisodes = 5947\n",
      "\t\t EnvironmentSteps = 92002\n",
      "\t\t AverageReturn = -175370.5\n",
      "\t\t AverageEpisodeLength = 29.799999237060547\n"
     ]
    },
    {
     "name": "stdout",
     "output_type": "stream",
     "text": [
      "Iteration:  46000\n",
      "Replay buffer len: 100000\n"
     ]
    },
    {
     "name": "stderr",
     "output_type": "stream",
     "text": [
      "INFO:absl: \n",
      "\t\t NumberOfEpisodes = 6046\n",
      "\t\t EnvironmentSteps = 94002\n",
      "\t\t AverageReturn = -177537.5\n",
      "\t\t AverageEpisodeLength = 13.300000190734863\n"
     ]
    },
    {
     "name": "stdout",
     "output_type": "stream",
     "text": [
      "Iteration:  47000\n",
      "Replay buffer len: 100000\n"
     ]
    },
    {
     "name": "stderr",
     "output_type": "stream",
     "text": [
      "INFO:absl: \n",
      "\t\t NumberOfEpisodes = 6134\n",
      "\t\t EnvironmentSteps = 96002\n",
      "\t\t AverageReturn = -179148.5\n",
      "\t\t AverageEpisodeLength = 26.600000381469727\n"
     ]
    },
    {
     "name": "stdout",
     "output_type": "stream",
     "text": [
      "Iteration:  48000\n",
      "Replay buffer len: 100000\n"
     ]
    },
    {
     "name": "stderr",
     "output_type": "stream",
     "text": [
      "INFO:absl: \n",
      "\t\t NumberOfEpisodes = 6232\n",
      "\t\t EnvironmentSteps = 98002\n",
      "\t\t AverageReturn = -181274.0\n",
      "\t\t AverageEpisodeLength = 25.799999237060547\n"
     ]
    },
    {
     "name": "stdout",
     "output_type": "stream",
     "text": [
      "Iteration:  49000\n",
      "Replay buffer len: 100000\n"
     ]
    },
    {
     "name": "stderr",
     "output_type": "stream",
     "text": [
      "INFO:absl: \n",
      "\t\t NumberOfEpisodes = 6350\n",
      "\t\t EnvironmentSteps = 100002\n",
      "\t\t AverageReturn = -184096.5\n",
      "\t\t AverageEpisodeLength = 11.699999809265137\n"
     ]
    },
    {
     "name": "stdout",
     "output_type": "stream",
     "text": [
      "Iteration:  50000\n",
      "Replay buffer len: 100000\n"
     ]
    },
    {
     "name": "stderr",
     "output_type": "stream",
     "text": [
      "INFO:absl: \n",
      "\t\t NumberOfEpisodes = 6435\n",
      "\t\t EnvironmentSteps = 102002\n",
      "\t\t AverageReturn = -185754.0\n",
      "\t\t AverageEpisodeLength = 18.799999237060547\n"
     ]
    },
    {
     "name": "stdout",
     "output_type": "stream",
     "text": [
      "Iteration:  51000\n",
      "Replay buffer len: 100000\n"
     ]
    },
    {
     "name": "stderr",
     "output_type": "stream",
     "text": [
      "INFO:absl: \n",
      "\t\t NumberOfEpisodes = 6528\n",
      "\t\t EnvironmentSteps = 104002\n",
      "\t\t AverageReturn = -187891.5\n",
      "\t\t AverageEpisodeLength = 33.5\n"
     ]
    },
    {
     "name": "stdout",
     "output_type": "stream",
     "text": [
      "Iteration:  52000\n",
      "Replay buffer len: 100000\n"
     ]
    },
    {
     "name": "stderr",
     "output_type": "stream",
     "text": [
      "INFO:absl: \n",
      "\t\t NumberOfEpisodes = 6617\n",
      "\t\t EnvironmentSteps = 106002\n",
      "\t\t AverageReturn = -189499.0\n",
      "\t\t AverageEpisodeLength = 21.5\n"
     ]
    },
    {
     "name": "stdout",
     "output_type": "stream",
     "text": [
      "Iteration:  53000\n",
      "Replay buffer len: 100000\n"
     ]
    },
    {
     "name": "stderr",
     "output_type": "stream",
     "text": [
      "INFO:absl: \n",
      "\t\t NumberOfEpisodes = 6715\n",
      "\t\t EnvironmentSteps = 108002\n",
      "\t\t AverageReturn = -191576.5\n",
      "\t\t AverageEpisodeLength = 17.799999237060547\n"
     ]
    },
    {
     "name": "stdout",
     "output_type": "stream",
     "text": [
      "Iteration:  54000\n",
      "Replay buffer len: 100000\n"
     ]
    },
    {
     "name": "stderr",
     "output_type": "stream",
     "text": [
      "INFO:absl: \n",
      "\t\t NumberOfEpisodes = 6799\n",
      "\t\t EnvironmentSteps = 110002\n",
      "\t\t AverageReturn = -193198.5\n",
      "\t\t AverageEpisodeLength = 30.600000381469727\n"
     ]
    },
    {
     "name": "stdout",
     "output_type": "stream",
     "text": [
      "Iteration:  55000\n",
      "Replay buffer len: 100000\n"
     ]
    },
    {
     "name": "stderr",
     "output_type": "stream",
     "text": [
      "INFO:absl: \n",
      "\t\t NumberOfEpisodes = 6888\n",
      "\t\t EnvironmentSteps = 112002\n",
      "\t\t AverageReturn = -194765.5\n",
      "\t\t AverageEpisodeLength = 31.0\n"
     ]
    },
    {
     "name": "stdout",
     "output_type": "stream",
     "text": [
      "Iteration:  56000\n",
      "Replay buffer len: 100000\n"
     ]
    },
    {
     "name": "stderr",
     "output_type": "stream",
     "text": [
      "INFO:absl: \n",
      "\t\t NumberOfEpisodes = 6970\n",
      "\t\t EnvironmentSteps = 114002\n",
      "\t\t AverageReturn = -196250.5\n",
      "\t\t AverageEpisodeLength = 21.100000381469727\n"
     ]
    },
    {
     "name": "stdout",
     "output_type": "stream",
     "text": [
      "Iteration:  57000\n",
      "Replay buffer len: 100000\n"
     ]
    },
    {
     "name": "stderr",
     "output_type": "stream",
     "text": [
      "INFO:absl: \n",
      "\t\t NumberOfEpisodes = 7044\n",
      "\t\t EnvironmentSteps = 116002\n",
      "\t\t AverageReturn = -197400.5\n",
      "\t\t AverageEpisodeLength = 21.299999237060547\n"
     ]
    },
    {
     "name": "stdout",
     "output_type": "stream",
     "text": [
      "Iteration:  58000\n",
      "Replay buffer len: 100000\n"
     ]
    },
    {
     "name": "stderr",
     "output_type": "stream",
     "text": [
      "INFO:absl: \n",
      "\t\t NumberOfEpisodes = 7111\n",
      "\t\t EnvironmentSteps = 118002\n",
      "\t\t AverageReturn = -198247.0\n",
      "\t\t AverageEpisodeLength = 23.299999237060547\n"
     ]
    },
    {
     "name": "stdout",
     "output_type": "stream",
     "text": [
      "Iteration:  59000\n",
      "Replay buffer len: 100000\n"
     ]
    },
    {
     "name": "stderr",
     "output_type": "stream",
     "text": [
      "INFO:absl: \n",
      "\t\t NumberOfEpisodes = 7197\n",
      "\t\t EnvironmentSteps = 120002\n",
      "\t\t AverageReturn = -199737.0\n",
      "\t\t AverageEpisodeLength = 11.199999809265137\n"
     ]
    },
    {
     "name": "stdout",
     "output_type": "stream",
     "text": [
      "Iteration:  60000\n",
      "Replay buffer len: 100000\n"
     ]
    },
    {
     "name": "stderr",
     "output_type": "stream",
     "text": [
      "INFO:absl: \n",
      "\t\t NumberOfEpisodes = 7272\n",
      "\t\t EnvironmentSteps = 122002\n",
      "\t\t AverageReturn = -200964.0\n",
      "\t\t AverageEpisodeLength = 27.5\n"
     ]
    },
    {
     "name": "stdout",
     "output_type": "stream",
     "text": [
      "Iteration:  61000\n",
      "Replay buffer len: 100000\n"
     ]
    },
    {
     "name": "stderr",
     "output_type": "stream",
     "text": [
      "INFO:absl: \n",
      "\t\t NumberOfEpisodes = 7352\n",
      "\t\t EnvironmentSteps = 124002\n",
      "\t\t AverageReturn = -202363.5\n",
      "\t\t AverageEpisodeLength = 25.299999237060547\n"
     ]
    },
    {
     "name": "stdout",
     "output_type": "stream",
     "text": [
      "Iteration:  62000\n",
      "Replay buffer len: 100000\n"
     ]
    },
    {
     "name": "stderr",
     "output_type": "stream",
     "text": [
      "INFO:absl: \n",
      "\t\t NumberOfEpisodes = 7423\n",
      "\t\t EnvironmentSteps = 126002\n",
      "\t\t AverageReturn = -203331.0\n",
      "\t\t AverageEpisodeLength = 22.399999618530273\n"
     ]
    },
    {
     "name": "stdout",
     "output_type": "stream",
     "text": [
      "Iteration:  63000\n",
      "Replay buffer len: 100000\n"
     ]
    },
    {
     "name": "stderr",
     "output_type": "stream",
     "text": [
      "INFO:absl: \n",
      "\t\t NumberOfEpisodes = 7498\n",
      "\t\t EnvironmentSteps = 128002\n",
      "\t\t AverageReturn = -204539.0\n",
      "\t\t AverageEpisodeLength = 25.0\n"
     ]
    },
    {
     "name": "stdout",
     "output_type": "stream",
     "text": [
      "Iteration:  64000\n",
      "Replay buffer len: 100000\n"
     ]
    },
    {
     "name": "stderr",
     "output_type": "stream",
     "text": [
      "INFO:absl: \n",
      "\t\t NumberOfEpisodes = 7571\n",
      "\t\t EnvironmentSteps = 130002\n",
      "\t\t AverageReturn = -205717.0\n",
      "\t\t AverageEpisodeLength = 28.399999618530273\n"
     ]
    },
    {
     "name": "stdout",
     "output_type": "stream",
     "text": [
      "Iteration:  65000\n",
      "Replay buffer len: 100000\n"
     ]
    },
    {
     "name": "stderr",
     "output_type": "stream",
     "text": [
      "INFO:absl: \n",
      "\t\t NumberOfEpisodes = 7642\n",
      "\t\t EnvironmentSteps = 132002\n",
      "\t\t AverageReturn = -206701.0\n",
      "\t\t AverageEpisodeLength = 25.200000762939453\n"
     ]
    },
    {
     "name": "stdout",
     "output_type": "stream",
     "text": [
      "Iteration:  66000\n",
      "Replay buffer len: 100000\n"
     ]
    },
    {
     "name": "stderr",
     "output_type": "stream",
     "text": [
      "INFO:absl: \n",
      "\t\t NumberOfEpisodes = 7717\n",
      "\t\t EnvironmentSteps = 134002\n",
      "\t\t AverageReturn = -207780.5\n",
      "\t\t AverageEpisodeLength = 19.399999618530273\n"
     ]
    },
    {
     "name": "stdout",
     "output_type": "stream",
     "text": [
      "Iteration:  67000\n",
      "Replay buffer len: 100000\n"
     ]
    },
    {
     "name": "stderr",
     "output_type": "stream",
     "text": [
      "INFO:absl: \n",
      "\t\t NumberOfEpisodes = 7788\n",
      "\t\t EnvironmentSteps = 136002\n",
      "\t\t AverageReturn = -208835.0\n",
      "\t\t AverageEpisodeLength = 18.799999237060547\n"
     ]
    },
    {
     "name": "stdout",
     "output_type": "stream",
     "text": [
      "Iteration:  68000\n",
      "Replay buffer len: 100000\n"
     ]
    },
    {
     "name": "stderr",
     "output_type": "stream",
     "text": [
      "INFO:absl: \n",
      "\t\t NumberOfEpisodes = 7877\n",
      "\t\t EnvironmentSteps = 138002\n",
      "\t\t AverageReturn = -210456.0\n",
      "\t\t AverageEpisodeLength = 14.0\n"
     ]
    },
    {
     "name": "stdout",
     "output_type": "stream",
     "text": [
      "Iteration:  69000\n",
      "Replay buffer len: 100000\n"
     ]
    },
    {
     "name": "stderr",
     "output_type": "stream",
     "text": [
      "INFO:absl: \n",
      "\t\t NumberOfEpisodes = 7947\n",
      "\t\t EnvironmentSteps = 140002\n",
      "\t\t AverageReturn = -211443.5\n",
      "\t\t AverageEpisodeLength = 29.399999618530273\n"
     ]
    },
    {
     "name": "stdout",
     "output_type": "stream",
     "text": [
      "Iteration:  70000\n",
      "Replay buffer len: 100000\n"
     ]
    },
    {
     "name": "stderr",
     "output_type": "stream",
     "text": [
      "INFO:absl: \n",
      "\t\t NumberOfEpisodes = 8019\n",
      "\t\t EnvironmentSteps = 142002\n",
      "\t\t AverageReturn = -212483.5\n",
      "\t\t AverageEpisodeLength = 21.899999618530273\n"
     ]
    },
    {
     "name": "stdout",
     "output_type": "stream",
     "text": [
      "Iteration:  71000\n",
      "Replay buffer len: 100000\n"
     ]
    },
    {
     "name": "stderr",
     "output_type": "stream",
     "text": [
      "INFO:absl: \n",
      "\t\t NumberOfEpisodes = 8092\n",
      "\t\t EnvironmentSteps = 144002\n",
      "\t\t AverageReturn = -213603.0\n",
      "\t\t AverageEpisodeLength = 21.600000381469727\n"
     ]
    },
    {
     "name": "stdout",
     "output_type": "stream",
     "text": [
      "Iteration:  72000\n",
      "Replay buffer len: 100000\n"
     ]
    },
    {
     "name": "stderr",
     "output_type": "stream",
     "text": [
      "INFO:absl: \n",
      "\t\t NumberOfEpisodes = 8162\n",
      "\t\t EnvironmentSteps = 146002\n",
      "\t\t AverageReturn = -214562.0\n",
      "\t\t AverageEpisodeLength = 41.20000076293945\n"
     ]
    },
    {
     "name": "stdout",
     "output_type": "stream",
     "text": [
      "Iteration:  73000\n",
      "Replay buffer len: 100000\n"
     ]
    },
    {
     "name": "stderr",
     "output_type": "stream",
     "text": [
      "INFO:absl: \n",
      "\t\t NumberOfEpisodes = 8239\n",
      "\t\t EnvironmentSteps = 148002\n",
      "\t\t AverageReturn = -215693.0\n",
      "\t\t AverageEpisodeLength = 30.399999618530273\n"
     ]
    },
    {
     "name": "stdout",
     "output_type": "stream",
     "text": [
      "Iteration:  74000\n",
      "Replay buffer len: 100000\n"
     ]
    },
    {
     "name": "stderr",
     "output_type": "stream",
     "text": [
      "INFO:absl: \n",
      "\t\t NumberOfEpisodes = 8317\n",
      "\t\t EnvironmentSteps = 150002\n",
      "\t\t AverageReturn = -216797.5\n",
      "\t\t AverageEpisodeLength = 18.0\n"
     ]
    },
    {
     "name": "stdout",
     "output_type": "stream",
     "text": [
      "Iteration:  75000\n",
      "Replay buffer len: 100000\n"
     ]
    },
    {
     "name": "stderr",
     "output_type": "stream",
     "text": [
      "INFO:absl: \n",
      "\t\t NumberOfEpisodes = 8383\n",
      "\t\t EnvironmentSteps = 152002\n",
      "\t\t AverageReturn = -217549.0\n",
      "\t\t AverageEpisodeLength = 26.200000762939453\n"
     ]
    },
    {
     "name": "stdout",
     "output_type": "stream",
     "text": [
      "Iteration:  76000\n",
      "Replay buffer len: 100000\n"
     ]
    },
    {
     "name": "stderr",
     "output_type": "stream",
     "text": [
      "INFO:absl: \n",
      "\t\t NumberOfEpisodes = 8456\n",
      "\t\t EnvironmentSteps = 154002\n",
      "\t\t AverageReturn = -218534.0\n",
      "\t\t AverageEpisodeLength = 26.0\n"
     ]
    },
    {
     "name": "stdout",
     "output_type": "stream",
     "text": [
      "Iteration:  77000\n",
      "Replay buffer len: 100000\n"
     ]
    },
    {
     "name": "stderr",
     "output_type": "stream",
     "text": [
      "INFO:absl: \n",
      "\t\t NumberOfEpisodes = 8522\n",
      "\t\t EnvironmentSteps = 156002\n",
      "\t\t AverageReturn = -219422.0\n",
      "\t\t AverageEpisodeLength = 43.900001525878906\n"
     ]
    },
    {
     "name": "stdout",
     "output_type": "stream",
     "text": [
      "Iteration:  78000\n",
      "Replay buffer len: 100000\n"
     ]
    },
    {
     "name": "stderr",
     "output_type": "stream",
     "text": [
      "INFO:absl: \n",
      "\t\t NumberOfEpisodes = 8589\n",
      "\t\t EnvironmentSteps = 158002\n",
      "\t\t AverageReturn = -220169.0\n",
      "\t\t AverageEpisodeLength = 21.899999618530273\n"
     ]
    },
    {
     "name": "stdout",
     "output_type": "stream",
     "text": [
      "Iteration:  79000\n",
      "Replay buffer len: 100000\n"
     ]
    },
    {
     "name": "stderr",
     "output_type": "stream",
     "text": [
      "INFO:absl: \n",
      "\t\t NumberOfEpisodes = 8664\n",
      "\t\t EnvironmentSteps = 160002\n",
      "\t\t AverageReturn = -221181.5\n",
      "\t\t AverageEpisodeLength = 22.200000762939453\n"
     ]
    },
    {
     "name": "stdout",
     "output_type": "stream",
     "text": [
      "Iteration:  80000\n",
      "Replay buffer len: 100000\n"
     ]
    },
    {
     "name": "stderr",
     "output_type": "stream",
     "text": [
      "INFO:absl: \n",
      "\t\t NumberOfEpisodes = 8733\n",
      "\t\t EnvironmentSteps = 162002\n",
      "\t\t AverageReturn = -221944.5\n",
      "\t\t AverageEpisodeLength = 17.399999618530273\n"
     ]
    },
    {
     "name": "stdout",
     "output_type": "stream",
     "text": [
      "Iteration:  81000\n",
      "Replay buffer len: 100000\n"
     ]
    },
    {
     "name": "stderr",
     "output_type": "stream",
     "text": [
      "INFO:absl: \n",
      "\t\t NumberOfEpisodes = 8795\n",
      "\t\t EnvironmentSteps = 164002\n",
      "\t\t AverageReturn = -222629.5\n",
      "\t\t AverageEpisodeLength = 40.099998474121094\n"
     ]
    },
    {
     "name": "stdout",
     "output_type": "stream",
     "text": [
      "Iteration:  82000\n",
      "Replay buffer len: 100000\n"
     ]
    },
    {
     "name": "stderr",
     "output_type": "stream",
     "text": [
      "INFO:absl: \n",
      "\t\t NumberOfEpisodes = 8854\n",
      "\t\t EnvironmentSteps = 166002\n",
      "\t\t AverageReturn = -222811.5\n",
      "\t\t AverageEpisodeLength = 16.5\n"
     ]
    },
    {
     "name": "stdout",
     "output_type": "stream",
     "text": [
      "Iteration:  83000\n",
      "Replay buffer len: 100000\n"
     ]
    },
    {
     "name": "stderr",
     "output_type": "stream",
     "text": [
      "INFO:absl: \n",
      "\t\t NumberOfEpisodes = 8916\n",
      "\t\t EnvironmentSteps = 168002\n",
      "\t\t AverageReturn = -223471.5\n",
      "\t\t AverageEpisodeLength = 24.799999237060547\n"
     ]
    },
    {
     "name": "stdout",
     "output_type": "stream",
     "text": [
      "Iteration:  84000\n",
      "Replay buffer len: 100000\n"
     ]
    },
    {
     "name": "stderr",
     "output_type": "stream",
     "text": [
      "INFO:absl: \n",
      "\t\t NumberOfEpisodes = 8985\n",
      "\t\t EnvironmentSteps = 170002\n",
      "\t\t AverageReturn = -224138.0\n",
      "\t\t AverageEpisodeLength = 19.299999237060547\n"
     ]
    },
    {
     "name": "stdout",
     "output_type": "stream",
     "text": [
      "Iteration:  85000\n",
      "Replay buffer len: 100000\n"
     ]
    },
    {
     "name": "stderr",
     "output_type": "stream",
     "text": [
      "INFO:absl: \n",
      "\t\t NumberOfEpisodes = 9039\n",
      "\t\t EnvironmentSteps = 172002\n",
      "\t\t AverageReturn = -224480.0\n",
      "\t\t AverageEpisodeLength = 29.100000381469727\n"
     ]
    },
    {
     "name": "stdout",
     "output_type": "stream",
     "text": [
      "Iteration:  86000\n",
      "Replay buffer len: 100000\n"
     ]
    },
    {
     "name": "stderr",
     "output_type": "stream",
     "text": [
      "INFO:absl: \n",
      "\t\t NumberOfEpisodes = 9102\n",
      "\t\t EnvironmentSteps = 174002\n",
      "\t\t AverageReturn = -225135.5\n",
      "\t\t AverageEpisodeLength = 33.900001525878906\n"
     ]
    },
    {
     "name": "stdout",
     "output_type": "stream",
     "text": [
      "Iteration:  87000\n",
      "Replay buffer len: 100000\n"
     ]
    },
    {
     "name": "stderr",
     "output_type": "stream",
     "text": [
      "INFO:absl: \n",
      "\t\t NumberOfEpisodes = 9162\n",
      "\t\t EnvironmentSteps = 176002\n",
      "\t\t AverageReturn = -225460.5\n",
      "\t\t AverageEpisodeLength = 16.100000381469727\n"
     ]
    },
    {
     "name": "stdout",
     "output_type": "stream",
     "text": [
      "Iteration:  88000\n",
      "Replay buffer len: 100000\n"
     ]
    },
    {
     "name": "stderr",
     "output_type": "stream",
     "text": [
      "INFO:absl: \n",
      "\t\t NumberOfEpisodes = 9217\n",
      "\t\t EnvironmentSteps = 178002\n",
      "\t\t AverageReturn = -225939.0\n",
      "\t\t AverageEpisodeLength = 26.700000762939453\n"
     ]
    },
    {
     "name": "stdout",
     "output_type": "stream",
     "text": [
      "Iteration:  89000\n",
      "Replay buffer len: 100000\n"
     ]
    },
    {
     "name": "stderr",
     "output_type": "stream",
     "text": [
      "INFO:absl: \n",
      "\t\t NumberOfEpisodes = 9281\n",
      "\t\t EnvironmentSteps = 180002\n",
      "\t\t AverageReturn = -226727.0\n",
      "\t\t AverageEpisodeLength = 41.900001525878906\n"
     ]
    },
    {
     "name": "stdout",
     "output_type": "stream",
     "text": [
      "Iteration:  90000\n",
      "Replay buffer len: 100000\n"
     ]
    },
    {
     "name": "stderr",
     "output_type": "stream",
     "text": [
      "INFO:absl: \n",
      "\t\t NumberOfEpisodes = 9343\n",
      "\t\t EnvironmentSteps = 182002\n",
      "\t\t AverageReturn = -227212.5\n",
      "\t\t AverageEpisodeLength = 31.0\n"
     ]
    },
    {
     "name": "stdout",
     "output_type": "stream",
     "text": [
      "Iteration:  91000\n",
      "Replay buffer len: 100000\n"
     ]
    },
    {
     "name": "stderr",
     "output_type": "stream",
     "text": [
      "INFO:absl: \n",
      "\t\t NumberOfEpisodes = 9405\n",
      "\t\t EnvironmentSteps = 184002\n",
      "\t\t AverageReturn = -227637.5\n",
      "\t\t AverageEpisodeLength = 29.600000381469727\n"
     ]
    },
    {
     "name": "stdout",
     "output_type": "stream",
     "text": [
      "Iteration:  92000\n",
      "Replay buffer len: 100000\n"
     ]
    },
    {
     "name": "stderr",
     "output_type": "stream",
     "text": [
      "INFO:absl: \n",
      "\t\t NumberOfEpisodes = 9451\n",
      "\t\t EnvironmentSteps = 186002\n",
      "\t\t AverageReturn = -227636.5\n",
      "\t\t AverageEpisodeLength = 32.79999923706055\n"
     ]
    },
    {
     "name": "stdout",
     "output_type": "stream",
     "text": [
      "Iteration:  93000\n",
      "Replay buffer len: 100000\n"
     ]
    },
    {
     "name": "stderr",
     "output_type": "stream",
     "text": [
      "INFO:absl: \n",
      "\t\t NumberOfEpisodes = 9506\n",
      "\t\t EnvironmentSteps = 188002\n",
      "\t\t AverageReturn = -227934.5\n",
      "\t\t AverageEpisodeLength = 41.0\n"
     ]
    },
    {
     "name": "stdout",
     "output_type": "stream",
     "text": [
      "Iteration:  94000\n",
      "Replay buffer len: 100000\n"
     ]
    },
    {
     "name": "stderr",
     "output_type": "stream",
     "text": [
      "INFO:absl: \n",
      "\t\t NumberOfEpisodes = 9553\n",
      "\t\t EnvironmentSteps = 190002\n",
      "\t\t AverageReturn = -227878.5\n",
      "\t\t AverageEpisodeLength = 40.099998474121094\n"
     ]
    },
    {
     "name": "stdout",
     "output_type": "stream",
     "text": [
      "Iteration:  95000\n",
      "Replay buffer len: 100000\n"
     ]
    },
    {
     "name": "stderr",
     "output_type": "stream",
     "text": [
      "INFO:absl: \n",
      "\t\t NumberOfEpisodes = 9609\n",
      "\t\t EnvironmentSteps = 192002\n",
      "\t\t AverageReturn = -228057.5\n",
      "\t\t AverageEpisodeLength = 26.399999618530273\n"
     ]
    },
    {
     "name": "stdout",
     "output_type": "stream",
     "text": [
      "Iteration:  96000\n",
      "Replay buffer len: 100000\n"
     ]
    },
    {
     "name": "stderr",
     "output_type": "stream",
     "text": [
      "INFO:absl: \n",
      "\t\t NumberOfEpisodes = 9662\n",
      "\t\t EnvironmentSteps = 194002\n",
      "\t\t AverageReturn = -228149.5\n",
      "\t\t AverageEpisodeLength = 29.399999618530273\n"
     ]
    },
    {
     "name": "stdout",
     "output_type": "stream",
     "text": [
      "Iteration:  97000\n",
      "Replay buffer len: 100000\n"
     ]
    },
    {
     "name": "stderr",
     "output_type": "stream",
     "text": [
      "INFO:absl: \n",
      "\t\t NumberOfEpisodes = 9718\n",
      "\t\t EnvironmentSteps = 196002\n",
      "\t\t AverageReturn = -228432.0\n",
      "\t\t AverageEpisodeLength = 39.20000076293945\n"
     ]
    },
    {
     "name": "stdout",
     "output_type": "stream",
     "text": [
      "Iteration:  98000\n",
      "Replay buffer len: 100000\n"
     ]
    },
    {
     "name": "stderr",
     "output_type": "stream",
     "text": [
      "INFO:absl: \n",
      "\t\t NumberOfEpisodes = 9770\n",
      "\t\t EnvironmentSteps = 198002\n",
      "\t\t AverageReturn = -228383.0\n",
      "\t\t AverageEpisodeLength = 41.099998474121094\n"
     ]
    },
    {
     "name": "stdout",
     "output_type": "stream",
     "text": [
      "Iteration:  99000\n",
      "Replay buffer len: 100000\n"
     ]
    }
   ],
   "source": [
    "train_agent(episodes_count)\n"
   ]
  },
  {
   "cell_type": "code",
   "execution_count": 24,
   "metadata": {},
   "outputs": [
    {
     "name": "stdout",
     "output_type": "stream",
     "text": [
      "Map:\n",
      " [[[0 0 0 0 0]\n",
      "  [0 0 0 0 0]\n",
      "  [0 3 0 0 0]\n",
      "  [0 0 0 0 0]\n",
      "  [1 2 0 0 0]]]\n",
      "Direction:\n",
      " tf.Tensor([[ True False  True  True]], shape=(1, 4), dtype=bool)\n",
      "No body blocks:\n",
      " tf.Tensor([[0.  0.5 0.5 0. ]], shape=(1, 4), dtype=float32)\n",
      "Action:  [1]\n",
      "Map:\n",
      " [[[0 0 0 0 0]\n",
      "  [0 0 0 0 0]\n",
      "  [0 3 0 0 0]\n",
      "  [1 0 0 0 0]\n",
      "  [2 0 0 0 0]]]\n",
      "Direction:\n",
      " tf.Tensor([[ True False False  True]], shape=(1, 4), dtype=bool)\n",
      "No body blocks:\n",
      " tf.Tensor([[0.    0.375 0.5   0.125]], shape=(1, 4), dtype=float32)\n",
      "Action:  [2]\n",
      "Map:\n",
      " [[[0 0 0 0 0]\n",
      "  [0 0 0 0 0]\n",
      "  [0 3 0 0 0]\n",
      "  [2 1 0 0 0]\n",
      "  [0 0 0 0 0]]]\n",
      "Direction:\n",
      " tf.Tensor([[ True False False False]], shape=(1, 4), dtype=bool)\n",
      "No body blocks:\n",
      " tf.Tensor([[0.125 0.375 0.375 0.125]], shape=(1, 4), dtype=float32)\n",
      "Action:  [1]\n",
      "Map:\n",
      " [[[0 0 0 0 0]\n",
      "  [0 0 0 0 0]\n",
      "  [0 1 0 0 0]\n",
      "  [2 2 0 0 0]\n",
      "  [0 0 3 0 0]]]\n",
      "Direction:\n",
      " tf.Tensor([[False False False  True]], shape=(1, 4), dtype=bool)\n",
      "No body blocks:\n",
      " tf.Tensor([[0.12820514 0.25641027 0.3846154  0.23076923]], shape=(1, 4), dtype=float32)\n",
      "Action:  [2]\n",
      "Map:\n",
      " [[[0 0 0 0 0]\n",
      "  [0 0 0 0 0]\n",
      "  [0 2 1 0 0]\n",
      "  [0 2 0 0 0]\n",
      "  [0 0 3 0 0]]]\n",
      "Direction:\n",
      " tf.Tensor([[ True False False False]], shape=(1, 4), dtype=bool)\n",
      "No body blocks:\n",
      " tf.Tensor([[0.23076923 0.25641027 0.25641027 0.25641027]], shape=(1, 4), dtype=float32)\n",
      "Action:  [3]\n",
      "Map:\n",
      " [[[0 0 0 0 0]\n",
      "  [0 0 0 0 0]\n",
      "  [0 2 2 0 0]\n",
      "  [0 0 1 0 0]\n",
      "  [0 0 3 0 0]]]\n",
      "Direction:\n",
      " tf.Tensor([[False  True False False]], shape=(1, 4), dtype=bool)\n",
      "No body blocks:\n",
      " tf.Tensor([[0.25641027 0.35897437 0.25641027 0.12820514]], shape=(1, 4), dtype=float32)\n",
      "Action:  [3]\n",
      "Map:\n",
      " [[[0 0 0 0 0]\n",
      "  [0 0 0 0 0]\n",
      "  [0 2 2 0 0]\n",
      "  [3 0 2 0 0]\n",
      "  [0 0 1 0 0]]]\n",
      "Direction:\n",
      " tf.Tensor([[False  True False  True]], shape=(1, 4), dtype=bool)\n",
      "No body blocks:\n",
      " tf.Tensor([[0.2631579  0.47368422 0.2631579  0.        ]], shape=(1, 4), dtype=float32)\n",
      "Action:  [0]\n",
      "Map:\n",
      " [[[0 0 0 0 0]\n",
      "  [0 0 0 0 0]\n",
      "  [0 0 2 0 0]\n",
      "  [3 0 2 0 0]\n",
      "  [0 1 2 0 0]]]\n",
      "Direction:\n",
      " tf.Tensor([[False False  True  True]], shape=(1, 4), dtype=bool)\n",
      "No body blocks:\n",
      " tf.Tensor([[0.13513513 0.5135135  0.35135135 0.        ]], shape=(1, 4), dtype=float32)\n",
      "Action:  [0]\n",
      "Map:\n",
      " [[[0 0 0 0 0]\n",
      "  [0 0 0 0 0]\n",
      "  [0 0 0 0 0]\n",
      "  [3 0 2 0 0]\n",
      "  [1 2 2 0 0]]]\n",
      "Direction:\n",
      " tf.Tensor([[ True False  True  True]], shape=(1, 4), dtype=bool)\n",
      "No body blocks:\n",
      " tf.Tensor([[0.         0.5263158  0.47368422 0.        ]], shape=(1, 4), dtype=float32)\n",
      "Action:  [1]\n",
      "Map:\n",
      " [[[0 0 0 0 0]\n",
      "  [0 3 0 0 0]\n",
      "  [0 0 0 0 0]\n",
      "  [1 0 2 0 0]\n",
      "  [2 2 2 0 0]]]\n",
      "Direction:\n",
      " tf.Tensor([[ True False False  True]], shape=(1, 4), dtype=bool)\n",
      "No body blocks:\n",
      " tf.Tensor([[0.         0.42857143 0.51428574 0.05714286]], shape=(1, 4), dtype=float32)\n",
      "Action:  [1]\n",
      "Map:\n",
      " [[[0 0 0 0 0]\n",
      "  [0 3 0 0 0]\n",
      "  [1 0 0 0 0]\n",
      "  [2 0 0 0 0]\n",
      "  [2 2 2 0 0]]]\n",
      "Direction:\n",
      " tf.Tensor([[ True False False  True]], shape=(1, 4), dtype=bool)\n",
      "No body blocks:\n",
      " tf.Tensor([[0.         0.2777778  0.5277778  0.19444445]], shape=(1, 4), dtype=float32)\n",
      "Action:  [1]\n",
      "Map:\n",
      " [[[0 0 0 0 0]\n",
      "  [1 3 0 0 0]\n",
      "  [2 0 0 0 0]\n",
      "  [2 0 0 0 0]\n",
      "  [2 2 0 0 0]]]\n",
      "Direction:\n",
      " tf.Tensor([[ True False False  True]], shape=(1, 4), dtype=bool)\n",
      "No body blocks:\n",
      " tf.Tensor([[0.         0.13513513 0.5405405  0.3243243 ]], shape=(1, 4), dtype=float32)\n",
      "Action:  [2]\n",
      "Map:\n",
      " [[[3 0 0 0 0]\n",
      "  [2 1 0 0 0]\n",
      "  [2 0 0 0 0]\n",
      "  [2 0 0 0 0]\n",
      "  [2 2 0 0 0]]]\n",
      "Direction:\n",
      " tf.Tensor([[ True False False False]], shape=(1, 4), dtype=bool)\n",
      "No body blocks:\n",
      " tf.Tensor([[0.03030303 0.15151516 0.45454547 0.36363637]], shape=(1, 4), dtype=float32)\n",
      "Action:  [3]\n",
      "Map:\n",
      " [[[3 0 0 0 0]\n",
      "  [2 2 0 0 0]\n",
      "  [2 1 0 0 0]\n",
      "  [2 0 0 0 0]\n",
      "  [2 0 0 0 0]]]\n",
      "Direction:\n",
      " tf.Tensor([[ True  True False False]], shape=(1, 4), dtype=bool)\n",
      "No body blocks:\n",
      " tf.Tensor([[0.05882353 0.23529412 0.44117647 0.2647059 ]], shape=(1, 4), dtype=float32)\n",
      "Action:  [3]\n",
      "Map:\n",
      " [[[3 0 0 0 0]\n",
      "  [2 2 0 0 0]\n",
      "  [2 2 0 0 0]\n",
      "  [2 1 0 0 0]\n",
      "  [0 0 0 0 0]]]\n",
      "Direction:\n",
      " tf.Tensor([[False  True False False]], shape=(1, 4), dtype=bool)\n",
      "No body blocks:\n",
      " tf.Tensor([[0.0882353  0.32352942 0.44117647 0.14705883]], shape=(1, 4), dtype=float32)\n",
      "Action:  [3]\n",
      "Map:\n",
      " [[[3 0 0 0 0]\n",
      "  [2 2 0 0 0]\n",
      "  [2 2 0 0 0]\n",
      "  [0 2 0 0 0]\n",
      "  [0 1 0 0 0]]]\n",
      "Direction:\n",
      " tf.Tensor([[False  True False  True]], shape=(1, 4), dtype=bool)\n",
      "No body blocks:\n",
      " tf.Tensor([[0.11428571 0.45714286 0.42857143 0.        ]], shape=(1, 4), dtype=float32)\n",
      "Action:  [0]\n",
      "Map:\n",
      " [[[3 0 0 0 0]\n",
      "  [2 2 0 0 0]\n",
      "  [0 2 0 0 0]\n",
      "  [0 2 0 0 0]\n",
      "  [1 2 0 0 0]]]\n",
      "Direction:\n",
      " tf.Tensor([[ True False  True  True]], shape=(1, 4), dtype=bool)\n",
      "No body blocks:\n",
      " tf.Tensor([[0.        0.5151515 0.4848485 0.       ]], shape=(1, 4), dtype=float32)\n",
      "Action:  [1]\n",
      "Map:\n",
      " [[[3 0 0 0 0]\n",
      "  [0 2 0 0 0]\n",
      "  [0 2 0 0 0]\n",
      "  [1 2 0 0 0]\n",
      "  [2 2 0 0 0]]]\n",
      "Direction:\n",
      " tf.Tensor([[ True False  True  True]], shape=(1, 4), dtype=bool)\n",
      "No body blocks:\n",
      " tf.Tensor([[0.        0.4117647 0.5       0.0882353]], shape=(1, 4), dtype=float32)\n",
      "Action:  [1]\n",
      "Map:\n",
      " [[[3 0 0 0 0]\n",
      "  [0 0 0 0 0]\n",
      "  [1 2 0 0 0]\n",
      "  [2 2 0 0 0]\n",
      "  [2 2 0 0 0]]]\n",
      "Direction:\n",
      " tf.Tensor([[ True False False  True]], shape=(1, 4), dtype=bool)\n",
      "No body blocks:\n",
      " tf.Tensor([[0.         0.29411766 0.5294118  0.1764706 ]], shape=(1, 4), dtype=float32)\n",
      "Action:  [1]\n",
      "Map:\n",
      " [[[3 0 0 0 0]\n",
      "  [1 0 0 0 0]\n",
      "  [2 0 0 0 0]\n",
      "  [2 2 0 0 0]\n",
      "  [2 2 0 0 0]]]\n",
      "Direction:\n",
      " tf.Tensor([[ True False False  True]], shape=(1, 4), dtype=bool)\n",
      "No body blocks:\n",
      " tf.Tensor([[0.         0.14285715 0.54285717 0.31428573]], shape=(1, 4), dtype=float32)\n",
      "Action:  [1]\n",
      "Map:\n",
      " [[[1 0 0 0 0]\n",
      "  [2 0 0 0 0]\n",
      "  [2 0 3 0 0]\n",
      "  [2 2 0 0 0]\n",
      "  [2 2 0 0 0]]]\n",
      "Direction:\n",
      " tf.Tensor([[ True  True False  True]], shape=(1, 4), dtype=bool)\n",
      "No body blocks:\n",
      " tf.Tensor([[0.         0.         0.5588235  0.44117647]], shape=(1, 4), dtype=float32)\n",
      "Action:  [2]\n",
      "Map:\n",
      " [[[2 1 0 0 0]\n",
      "  [2 0 0 0 0]\n",
      "  [2 0 3 0 0]\n",
      "  [2 0 0 0 0]\n",
      "  [2 2 0 0 0]]]\n",
      "Direction:\n",
      " tf.Tensor([[ True  True False False]], shape=(1, 4), dtype=bool)\n",
      "No body blocks:\n",
      " tf.Tensor([[0.         0.         0.48387095 0.516129  ]], shape=(1, 4), dtype=float32)\n",
      "Action:  [2]\n",
      "Map:\n",
      " [[[2 2 1 0 0]\n",
      "  [2 0 0 0 0]\n",
      "  [2 0 3 0 0]\n",
      "  [2 0 0 0 0]\n",
      "  [2 0 0 0 0]]]\n",
      "Direction:\n",
      " tf.Tensor([[ True  True False False]], shape=(1, 4), dtype=bool)\n",
      "No body blocks:\n",
      " tf.Tensor([[0.15625 0.      0.3125  0.53125]], shape=(1, 4), dtype=float32)\n",
      "Action:  [3]\n",
      "Map:\n",
      " [[[2 2 2 0 0]\n",
      "  [2 0 1 0 0]\n",
      "  [2 0 3 0 0]\n",
      "  [2 0 0 0 0]\n",
      "  [0 0 0 0 0]]]\n",
      "Direction:\n",
      " tf.Tensor([[False  True False False]], shape=(1, 4), dtype=bool)\n",
      "No body blocks:\n",
      " tf.Tensor([[0.1875 0.0625 0.3125 0.4375]], shape=(1, 4), dtype=float32)\n",
      "Action:  [3]\n",
      "Map:\n",
      " [[[2 2 2 0 0]\n",
      "  [2 0 2 0 0]\n",
      "  [2 0 1 0 0]\n",
      "  [2 3 0 0 0]\n",
      "  [0 0 0 0 0]]]\n",
      "Direction:\n",
      " tf.Tensor([[False  True False False]], shape=(1, 4), dtype=bool)\n",
      "No body blocks:\n",
      " tf.Tensor([[0.19354838 0.16129032 0.32258064 0.32258064]], shape=(1, 4), dtype=float32)\n",
      "Action:  [0]\n",
      "Map:\n",
      " [[[2 2 2 0 0]\n",
      "  [2 0 2 0 0]\n",
      "  [2 1 2 0 0]\n",
      "  [0 3 0 0 0]\n",
      "  [0 0 0 0 0]]]\n",
      "Direction:\n",
      " tf.Tensor([[False False  True False]], shape=(1, 4), dtype=bool)\n",
      "No body blocks:\n",
      " tf.Tensor([[0.1        0.16666667 0.4        0.33333334]], shape=(1, 4), dtype=float32)\n",
      "Action:  [3]\n",
      "Map:\n",
      " [[[2 2 2 0 0]\n",
      "  [2 0 2 0 0]\n",
      "  [2 2 2 3 0]\n",
      "  [0 1 0 0 0]\n",
      "  [0 0 0 0 0]]]\n",
      "Direction:\n",
      " tf.Tensor([[False  True False False]], shape=(1, 4), dtype=bool)\n",
      "No body blocks:\n",
      " tf.Tensor([[0.10714286 0.2857143  0.42857143 0.17857143]], shape=(1, 4), dtype=float32)\n",
      "Action:  [2]\n",
      "Map:\n",
      " [[[2 2 2 0 0]\n",
      "  [2 0 2 0 0]\n",
      "  [0 2 2 3 0]\n",
      "  [0 2 1 0 0]\n",
      "  [0 0 0 0 0]]]\n",
      "Direction:\n",
      " tf.Tensor([[ True  True False False]], shape=(1, 4), dtype=bool)\n",
      "No body blocks:\n",
      " tf.Tensor([[0.2        0.3        0.33333334 0.16666667]], shape=(1, 4), dtype=float32)\n",
      "Action:  [2]\n",
      "Map:\n",
      " [[[2 2 2 0 0]\n",
      "  [0 0 2 0 0]\n",
      "  [0 2 2 3 0]\n",
      "  [0 2 2 1 0]\n",
      "  [0 0 0 0 0]]]\n",
      "Direction:\n",
      " tf.Tensor([[ True False False False]], shape=(1, 4), dtype=bool)\n",
      "No body blocks:\n",
      " tf.Tensor([[0.2857143  0.35714287 0.17857143 0.17857143]], shape=(1, 4), dtype=float32)\n",
      "Action:  [1]\n",
      "Map:\n",
      " [[[2 2 2 0 0]\n",
      "  [0 0 2 0 0]\n",
      "  [0 2 2 1 0]\n",
      "  [3 2 2 2 0]\n",
      "  [0 0 0 0 0]]]\n",
      "Direction:\n",
      " tf.Tensor([[ True False False  True]], shape=(1, 4), dtype=bool)\n",
      "No body blocks:\n",
      " tf.Tensor([[0.2962963  0.25925925 0.18518518 0.25925925]], shape=(1, 4), dtype=float32)\n",
      "Action:  [2]\n",
      "Map:\n",
      " [[[0 2 2 0 0]\n",
      "  [0 0 2 0 0]\n",
      "  [0 2 2 2 1]\n",
      "  [3 2 2 2 0]\n",
      "  [0 0 0 0 0]]]\n",
      "Direction:\n",
      " tf.Tensor([[ True False  True False]], shape=(1, 4), dtype=bool)\n",
      "No body blocks:\n",
      " tf.Tensor([[0.44444445 0.2962963  0.         0.25925925]], shape=(1, 4), dtype=float32)\n",
      "Action:  [3]\n",
      "Map:\n",
      " [[[0 0 2 0 0]\n",
      "  [0 0 2 0 0]\n",
      "  [0 2 2 2 2]\n",
      "  [3 2 2 2 1]\n",
      "  [0 0 0 0 0]]]\n",
      "Direction:\n",
      " tf.Tensor([[ True  True  True False]], shape=(1, 4), dtype=bool)\n",
      "No body blocks:\n",
      " tf.Tensor([[0.4642857  0.35714287 0.         0.17857143]], shape=(1, 4), dtype=float32)\n",
      "Action:  [3]\n",
      "Map:\n",
      " [[[0 0 0 0 0]\n",
      "  [0 0 2 0 0]\n",
      "  [0 2 2 2 2]\n",
      "  [3 2 2 2 2]\n",
      "  [0 0 0 0 1]]]\n",
      "Direction:\n",
      " tf.Tensor([[False  True  True  True]], shape=(1, 4), dtype=bool)\n",
      "No body blocks:\n",
      " tf.Tensor([[0.53846157 0.46153846 0.         0.        ]], shape=(1, 4), dtype=float32)\n",
      "Action:  [0]\n",
      "Map:\n",
      " [[[0 0 0 0 0]\n",
      "  [0 0 0 0 0]\n",
      "  [0 2 2 2 2]\n",
      "  [3 2 2 2 2]\n",
      "  [0 0 0 1 2]]]\n",
      "Direction:\n",
      " tf.Tensor([[False  True  True  True]], shape=(1, 4), dtype=bool)\n",
      "No body blocks:\n",
      " tf.Tensor([[0.44444445 0.4814815  0.07407407 0.        ]], shape=(1, 4), dtype=float32)\n",
      "Action:  [0]\n",
      "Map:\n",
      " [[[0 0 0 0 0]\n",
      "  [0 0 0 0 0]\n",
      "  [0 2 0 2 2]\n",
      "  [3 2 2 2 2]\n",
      "  [0 0 1 2 2]]]\n",
      "Direction:\n",
      " tf.Tensor([[False  True  True  True]], shape=(1, 4), dtype=bool)\n",
      "No body blocks:\n",
      " tf.Tensor([[0.33333334 0.5185185  0.14814815 0.        ]], shape=(1, 4), dtype=float32)\n",
      "Action:  [0]\n",
      "Map:\n",
      " [[[0 0 0 0 0]\n",
      "  [0 0 0 0 0]\n",
      "  [0 0 0 2 2]\n",
      "  [3 2 2 2 2]\n",
      "  [0 1 2 2 2]]]\n",
      "Direction:\n",
      " tf.Tensor([[False False  True  True]], shape=(1, 4), dtype=bool)\n",
      "No body blocks:\n",
      " tf.Tensor([[0.18518518 0.5555556  0.25925925 0.        ]], shape=(1, 4), dtype=float32)\n",
      "Action:  [0]\n",
      "Map:\n",
      " [[[0 0 0 0 0]\n",
      "  [0 0 0 0 0]\n",
      "  [0 0 0 2 2]\n",
      "  [3 0 2 2 2]\n",
      "  [1 2 2 2 2]]]\n",
      "Direction:\n",
      " tf.Tensor([[ True False  True  True]], shape=(1, 4), dtype=bool)\n",
      "No body blocks:\n",
      " tf.Tensor([[0.         0.5714286  0.42857143 0.        ]], shape=(1, 4), dtype=float32)\n",
      "Action:  [1]\n",
      "Map:\n",
      " [[[0 0 0 0 0]\n",
      "  [0 0 0 3 0]\n",
      "  [0 0 0 2 2]\n",
      "  [1 0 2 2 2]\n",
      "  [2 2 2 2 2]]]\n",
      "Direction:\n",
      " tf.Tensor([[ True False False  True]], shape=(1, 4), dtype=bool)\n",
      "No body blocks:\n",
      " tf.Tensor([[0.   0.52 0.48 0.  ]], shape=(1, 4), dtype=float32)\n",
      "Action:  [1]\n",
      "Map:\n",
      " [[[0 0 0 0 0]\n",
      "  [0 0 0 3 0]\n",
      "  [1 0 0 2 2]\n",
      "  [2 0 0 2 2]\n",
      "  [2 2 2 2 2]]]\n",
      "Direction:\n",
      " tf.Tensor([[ True False False  True]], shape=(1, 4), dtype=bool)\n",
      "No body blocks:\n",
      " tf.Tensor([[0.         0.3846154  0.5        0.11538462]], shape=(1, 4), dtype=float32)\n",
      "Action:  [1]\n",
      "Map:\n",
      " [[[0 0 0 0 0]\n",
      "  [1 0 0 3 0]\n",
      "  [2 0 0 2 2]\n",
      "  [2 0 0 0 2]\n",
      "  [2 2 2 2 2]]]\n",
      "Direction:\n",
      " tf.Tensor([[ True False False  True]], shape=(1, 4), dtype=bool)\n",
      "No body blocks:\n",
      " tf.Tensor([[0.   0.2  0.56 0.24]], shape=(1, 4), dtype=float32)\n",
      "Action:  [1]\n",
      "Map:\n",
      " [[[1 0 0 0 0]\n",
      "  [2 0 0 3 0]\n",
      "  [2 0 0 0 2]\n",
      "  [2 0 0 0 2]\n",
      "  [2 2 2 2 2]]]\n",
      "Direction:\n",
      " tf.Tensor([[ True  True False  True]], shape=(1, 4), dtype=bool)\n",
      "No body blocks:\n",
      " tf.Tensor([[0.         0.         0.5769231  0.42307693]], shape=(1, 4), dtype=float32)\n",
      "Action:  [2]\n",
      "Map:\n",
      " [[[2 1 0 0 0]\n",
      "  [2 0 0 3 0]\n",
      "  [2 0 0 0 0]\n",
      "  [2 0 0 0 2]\n",
      "  [2 2 2 2 2]]]\n",
      "Direction:\n",
      " tf.Tensor([[ True  True False False]], shape=(1, 4), dtype=bool)\n",
      "No body blocks:\n",
      " tf.Tensor([[0.  0.  0.5 0.5]], shape=(1, 4), dtype=float32)\n",
      "Action:  [2]\n",
      "Map:\n",
      " [[[2 2 1 0 0]\n",
      "  [2 0 0 3 0]\n",
      "  [2 0 0 0 0]\n",
      "  [2 0 0 0 0]\n",
      "  [2 2 2 2 2]]]\n",
      "Direction:\n",
      " tf.Tensor([[ True  True False False]], shape=(1, 4), dtype=bool)\n",
      "No body blocks:\n",
      " tf.Tensor([[0.12 0.   0.36 0.52]], shape=(1, 4), dtype=float32)\n",
      "Action:  [3]\n",
      "Map:\n",
      " [[[2 2 2 0 0]\n",
      "  [2 0 1 3 0]\n",
      "  [2 0 0 0 0]\n",
      "  [2 0 0 0 0]\n",
      "  [2 2 2 2 0]]]\n",
      "Direction:\n",
      " tf.Tensor([[False  True False False]], shape=(1, 4), dtype=bool)\n",
      "No body blocks:\n",
      " tf.Tensor([[0.12 0.08 0.4  0.4 ]], shape=(1, 4), dtype=float32)\n",
      "Action:  [2]\n",
      "Map:\n",
      " [[[2 2 2 0 0]\n",
      "  [2 0 2 1 0]\n",
      "  [2 0 0 0 0]\n",
      "  [2 0 0 0 3]\n",
      "  [2 2 2 2 0]]]\n",
      "Direction:\n",
      " tf.Tensor([[ True False False False]], shape=(1, 4), dtype=bool)\n",
      "No body blocks:\n",
      " tf.Tensor([[0.22727273 0.09090909 0.22727273 0.45454547]], shape=(1, 4), dtype=float32)\n",
      "Action:  [2]\n",
      "Map:\n",
      " [[[2 2 2 0 0]\n",
      "  [2 0 2 2 1]\n",
      "  [2 0 0 0 0]\n",
      "  [2 0 0 0 3]\n",
      "  [2 2 2 0 0]]]\n",
      "Direction:\n",
      " tf.Tensor([[ True False  True False]], shape=(1, 4), dtype=bool)\n",
      "No body blocks:\n",
      " tf.Tensor([[0.4347826  0.08695652 0.         0.47826087]], shape=(1, 4), dtype=float32)\n",
      "Action:  [3]\n",
      "Map:\n",
      " [[[2 2 2 0 0]\n",
      "  [2 0 2 2 2]\n",
      "  [2 0 0 0 1]\n",
      "  [2 0 0 0 3]\n",
      "  [2 2 0 0 0]]]\n",
      "Direction:\n",
      " tf.Tensor([[False  True  True False]], shape=(1, 4), dtype=bool)\n",
      "No body blocks:\n",
      " tf.Tensor([[0.5        0.13636364 0.         0.36363637]], shape=(1, 4), dtype=float32)\n",
      "Action:  [3]\n",
      "Map:\n",
      " [[[2 2 2 0 0]\n",
      "  [2 0 2 2 2]\n",
      "  [2 0 0 0 2]\n",
      "  [2 0 0 0 1]\n",
      "  [2 2 0 0 3]]]\n",
      "Direction:\n",
      " tf.Tensor([[False  True  True False]], shape=(1, 4), dtype=bool)\n",
      "No body blocks:\n",
      " tf.Tensor([[0.52380955 0.2857143  0.         0.1904762 ]], shape=(1, 4), dtype=float32)\n",
      "Action:  [3]\n",
      "Map:\n",
      " [[[2 2 2 0 0]\n",
      "  [2 0 2 2 2]\n",
      "  [2 3 0 0 2]\n",
      "  [2 0 0 0 2]\n",
      "  [2 2 0 0 1]]]\n",
      "Direction:\n",
      " tf.Tensor([[False  True  True  True]], shape=(1, 4), dtype=bool)\n",
      "No body blocks:\n",
      " tf.Tensor([[0.55 0.45 0.   0.  ]], shape=(1, 4), dtype=float32)\n",
      "Action:  [0]\n",
      "Map:\n",
      " [[[2 2 2 0 0]\n",
      "  [2 0 2 2 2]\n",
      "  [2 3 0 0 2]\n",
      "  [2 0 0 0 2]\n",
      "  [2 0 0 1 2]]]\n",
      "Direction:\n",
      " tf.Tensor([[False False  True  True]], shape=(1, 4), dtype=bool)\n",
      "No body blocks:\n",
      " tf.Tensor([[0.44444445 0.5        0.05555556 0.        ]], shape=(1, 4), dtype=float32)\n",
      "Action:  [0]\n",
      "Map:\n",
      " [[[2 2 2 0 0]\n",
      "  [2 0 2 2 2]\n",
      "  [2 3 0 0 2]\n",
      "  [2 0 0 0 2]\n",
      "  [0 0 1 2 2]]]\n",
      "Direction:\n",
      " tf.Tensor([[False False  True  True]], shape=(1, 4), dtype=bool)\n",
      "No body blocks:\n",
      " tf.Tensor([[0.3 0.5 0.2 0. ]], shape=(1, 4), dtype=float32)\n",
      "Action:  [0]\n",
      "Map:\n",
      " [[[2 2 2 0 0]\n",
      "  [2 0 2 2 2]\n",
      "  [2 3 0 0 2]\n",
      "  [0 0 0 0 2]\n",
      "  [0 1 2 2 2]]]\n",
      "Direction:\n",
      " tf.Tensor([[False False  True  True]], shape=(1, 4), dtype=bool)\n",
      "No body blocks:\n",
      " tf.Tensor([[0.15 0.55 0.3  0.  ]], shape=(1, 4), dtype=float32)\n",
      "Action:  [0]\n",
      "Map:\n",
      " [[[2 2 2 0 0]\n",
      "  [2 0 2 2 2]\n",
      "  [0 3 0 0 2]\n",
      "  [0 0 0 0 2]\n",
      "  [1 2 2 2 2]]]\n",
      "Direction:\n",
      " tf.Tensor([[ True False  True  True]], shape=(1, 4), dtype=bool)\n",
      "No body blocks:\n",
      " tf.Tensor([[0.         0.5714286  0.42857143 0.        ]], shape=(1, 4), dtype=float32)\n",
      "Action:  [1]\n",
      "Map:\n",
      " [[[2 2 2 0 0]\n",
      "  [0 0 2 2 2]\n",
      "  [0 3 0 0 2]\n",
      "  [1 0 0 0 2]\n",
      "  [2 2 2 2 2]]]\n",
      "Direction:\n",
      " tf.Tensor([[ True False False  True]], shape=(1, 4), dtype=bool)\n",
      "No body blocks:\n",
      " tf.Tensor([[0.  0.5 0.5 0. ]], shape=(1, 4), dtype=float32)\n",
      "Action:  [2]\n",
      "Map:\n",
      " [[[0 2 2 0 0]\n",
      "  [0 0 2 2 2]\n",
      "  [0 3 0 0 2]\n",
      "  [2 1 0 0 2]\n",
      "  [2 2 2 2 2]]]\n",
      "Direction:\n",
      " tf.Tensor([[ True False False  True]], shape=(1, 4), dtype=bool)\n",
      "No body blocks:\n",
      " tf.Tensor([[0.15789473 0.5263158  0.31578946 0.        ]], shape=(1, 4), dtype=float32)\n",
      "Action:  [1]\n",
      "Map:\n",
      " [[[0 2 2 0 3]\n",
      "  [0 0 2 2 2]\n",
      "  [0 1 0 0 2]\n",
      "  [2 2 0 0 2]\n",
      "  [2 2 2 2 2]]]\n",
      "Direction:\n",
      " tf.Tensor([[False False False  True]], shape=(1, 4), dtype=bool)\n",
      "No body blocks:\n",
      " tf.Tensor([[0.1764706  0.3529412  0.3529412  0.11764706]], shape=(1, 4), dtype=float32)\n",
      "Action:  [0]\n",
      "Map:\n",
      " [[[0 0 2 0 3]\n",
      "  [0 0 2 2 2]\n",
      "  [1 2 0 0 2]\n",
      "  [2 2 0 0 2]\n",
      "  [2 2 2 2 2]]]\n",
      "Direction:\n",
      " tf.Tensor([[ True False  True  True]], shape=(1, 4), dtype=bool)\n",
      "No body blocks:\n",
      " tf.Tensor([[0.         0.3888889  0.5        0.11111111]], shape=(1, 4), dtype=float32)\n",
      "Action:  [1]\n",
      "Map:\n",
      " [[[0 0 0 0 3]\n",
      "  [1 0 2 2 2]\n",
      "  [2 2 0 0 2]\n",
      "  [2 2 0 0 2]\n",
      "  [2 2 2 2 2]]]\n",
      "Direction:\n",
      " tf.Tensor([[ True False False  True]], shape=(1, 4), dtype=bool)\n",
      "No body blocks:\n",
      " tf.Tensor([[0.         0.2631579  0.5263158  0.21052632]], shape=(1, 4), dtype=float32)\n",
      "Action:  [1]\n",
      "Map:\n",
      " [[[1 0 0 0 3]\n",
      "  [2 0 0 2 2]\n",
      "  [2 2 0 0 2]\n",
      "  [2 2 0 0 2]\n",
      "  [2 2 2 2 2]]]\n",
      "Direction:\n",
      " tf.Tensor([[ True  True False  True]], shape=(1, 4), dtype=bool)\n",
      "No body blocks:\n",
      " tf.Tensor([[0.        0.        0.6111111 0.3888889]], shape=(1, 4), dtype=float32)\n",
      "Action:  [2]\n",
      "Map:\n",
      " [[[2 1 0 0 3]\n",
      "  [2 0 0 0 2]\n",
      "  [2 2 0 0 2]\n",
      "  [2 2 0 0 2]\n",
      "  [2 2 2 2 2]]]\n",
      "Direction:\n",
      " tf.Tensor([[ True  True False False]], shape=(1, 4), dtype=bool)\n",
      "No body blocks:\n",
      " tf.Tensor([[0.         0.         0.5555556  0.44444445]], shape=(1, 4), dtype=float32)\n",
      "Action:  [2]\n",
      "Map:\n",
      " [[[2 2 1 0 3]\n",
      "  [2 0 0 0 0]\n",
      "  [2 2 0 0 2]\n",
      "  [2 2 0 0 2]\n",
      "  [2 2 2 2 2]]]\n",
      "Direction:\n",
      " tf.Tensor([[ True  True False False]], shape=(1, 4), dtype=bool)\n",
      "No body blocks:\n",
      " tf.Tensor([[0.05882353 0.         0.4117647  0.5294118 ]], shape=(1, 4), dtype=float32)\n",
      "Action:  [2]\n",
      "Map:\n",
      " [[[2 2 2 1 3]\n",
      "  [2 0 0 0 0]\n",
      "  [2 2 0 0 0]\n",
      "  [2 2 0 0 2]\n",
      "  [2 2 2 2 2]]]\n",
      "Direction:\n",
      " tf.Tensor([[ True  True False False]], shape=(1, 4), dtype=bool)\n",
      "No body blocks:\n",
      " tf.Tensor([[0.22222222 0.         0.22222222 0.5555556 ]], shape=(1, 4), dtype=float32)\n",
      "Action:  [2]\n",
      "Map:\n",
      " [[[2 2 2 2 1]\n",
      "  [2 3 0 0 0]\n",
      "  [2 2 0 0 0]\n",
      "  [2 2 0 0 2]\n",
      "  [2 2 2 2 2]]]\n",
      "Direction:\n",
      " tf.Tensor([[ True  True  True False]], shape=(1, 4), dtype=bool)\n",
      "No body blocks:\n",
      " tf.Tensor([[0.4117647 0.        0.        0.5882353]], shape=(1, 4), dtype=float32)\n",
      "Action:  [3]\n",
      "Map:\n",
      " [[[2 2 2 2 2]\n",
      "  [2 3 0 0 1]\n",
      "  [2 2 0 0 0]\n",
      "  [2 2 0 0 0]\n",
      "  [2 2 2 2 2]]]\n",
      "Direction:\n",
      " tf.Tensor([[False  True  True False]], shape=(1, 4), dtype=bool)\n",
      "No body blocks:\n",
      " tf.Tensor([[0.5 0.  0.  0.5]], shape=(1, 4), dtype=float32)\n",
      "Action:  [0]\n",
      "Map:\n",
      " [[[2 2 2 2 2]\n",
      "  [2 3 0 1 2]\n",
      "  [2 2 0 0 0]\n",
      "  [2 2 0 0 0]\n",
      "  [2 2 2 2 0]]]\n",
      "Direction:\n",
      " tf.Tensor([[False  True  True False]], shape=(1, 4), dtype=bool)\n",
      "No body blocks:\n",
      " tf.Tensor([[0.26666668 0.         0.2        0.53333336]], shape=(1, 4), dtype=float32)\n",
      "Action:  [0]\n",
      "Map:\n",
      " [[[2 2 2 2 2]\n",
      "  [2 3 1 2 2]\n",
      "  [2 2 0 0 0]\n",
      "  [2 2 0 0 0]\n",
      "  [2 2 2 0 0]]]\n",
      "Direction:\n",
      " tf.Tensor([[False  True  True False]], shape=(1, 4), dtype=bool)\n",
      "No body blocks:\n",
      " tf.Tensor([[0.0625 0.     0.375  0.5625]], shape=(1, 4), dtype=float32)\n",
      "Action:  [3]\n",
      "Map:\n",
      " [[[2 2 2 2 2]\n",
      "  [2 3 2 2 2]\n",
      "  [2 2 1 0 0]\n",
      "  [2 2 0 0 0]\n",
      "  [2 2 0 0 0]]]\n",
      "Direction:\n",
      " tf.Tensor([[ True  True False False]], shape=(1, 4), dtype=bool)\n",
      "No body blocks:\n",
      " tf.Tensor([[0.125  0.0625 0.375  0.4375]], shape=(1, 4), dtype=float32)\n",
      "Action:  [2]\n",
      "Map:\n",
      " [[[2 2 2 2 2]\n",
      "  [2 3 2 2 2]\n",
      "  [2 2 2 1 0]\n",
      "  [2 2 0 0 0]\n",
      "  [2 0 0 0 0]]]\n",
      "Direction:\n",
      " tf.Tensor([[ True  True False False]], shape=(1, 4), dtype=bool)\n",
      "No body blocks:\n",
      " tf.Tensor([[0.29411766 0.05882353 0.1764706  0.47058824]], shape=(1, 4), dtype=float32)\n",
      "Action:  [2]\n",
      "Map:\n",
      " [[[2 2 2 2 2]\n",
      "  [2 3 2 2 2]\n",
      "  [2 2 2 2 1]\n",
      "  [2 2 0 0 0]\n",
      "  [0 0 0 0 0]]]\n",
      "Direction:\n",
      " tf.Tensor([[ True  True  True False]], shape=(1, 4), dtype=bool)\n",
      "No body blocks:\n",
      " tf.Tensor([[0.44444445 0.05555556 0.         0.5       ]], shape=(1, 4), dtype=float32)\n",
      "Action:  [3]\n",
      "Map:\n",
      " [[[2 2 2 2 2]\n",
      "  [2 3 2 2 2]\n",
      "  [2 2 2 2 2]\n",
      "  [0 2 0 0 1]\n",
      "  [0 0 0 0 0]]]\n",
      "Direction:\n",
      " tf.Tensor([[False  True  True False]], shape=(1, 4), dtype=bool)\n",
      "No body blocks:\n",
      " tf.Tensor([[0.6        0.06666667 0.         0.33333334]], shape=(1, 4), dtype=float32)\n",
      "Action:  [3]\n",
      "Map:\n",
      " [[[2 2 2 2 2]\n",
      "  [2 3 2 2 2]\n",
      "  [2 2 2 2 2]\n",
      "  [0 0 0 0 2]\n",
      "  [0 0 0 0 1]]]\n",
      "Direction:\n",
      " tf.Tensor([[False  True  True  True]], shape=(1, 4), dtype=bool)\n",
      "No body blocks:\n",
      " tf.Tensor([[0.625 0.375 0.    0.   ]], shape=(1, 4), dtype=float32)\n",
      "Action:  [0]\n",
      "Map:\n",
      " [[[2 2 2 2 2]\n",
      "  [2 3 2 2 2]\n",
      "  [2 0 2 2 2]\n",
      "  [0 0 0 0 2]\n",
      "  [0 0 0 1 2]]]\n",
      "Direction:\n",
      " tf.Tensor([[False False  True  True]], shape=(1, 4), dtype=bool)\n",
      "No body blocks:\n",
      " tf.Tensor([[0.5625 0.4375 0.     0.    ]], shape=(1, 4), dtype=float32)\n",
      "Action:  [1]\n",
      "Map:\n",
      " [[[2 2 2 2 2]\n",
      "  [2 3 2 2 2]\n",
      "  [0 0 2 2 2]\n",
      "  [0 0 0 1 2]\n",
      "  [0 0 0 2 2]]]\n",
      "Direction:\n",
      " tf.Tensor([[False  True  True  True]], shape=(1, 4), dtype=bool)\n",
      "No body blocks:\n",
      " tf.Tensor([[0.5882353  0.23529412 0.         0.1764706 ]], shape=(1, 4), dtype=float32)\n",
      "Action:  [0]\n",
      "Map:\n",
      " [[[2 2 2 2 2]\n",
      "  [0 3 2 2 2]\n",
      "  [0 0 2 2 2]\n",
      "  [0 0 1 2 2]\n",
      "  [0 0 0 2 2]]]\n",
      "Direction:\n",
      " tf.Tensor([[False  True  True False]], shape=(1, 4), dtype=bool)\n",
      "No body blocks:\n",
      " tf.Tensor([[0.5294118  0.29411766 0.         0.1764706 ]], shape=(1, 4), dtype=float32)\n",
      "Action:  [3]\n",
      "Map:\n",
      " [[[0 2 2 2 2]\n",
      "  [0 3 2 2 2]\n",
      "  [0 0 2 2 2]\n",
      "  [0 0 2 2 2]\n",
      "  [0 0 1 2 2]]]\n",
      "Direction:\n",
      " tf.Tensor([[False  True  True  True]], shape=(1, 4), dtype=bool)\n",
      "No body blocks:\n",
      " tf.Tensor([[0.5555556  0.44444445 0.         0.        ]], shape=(1, 4), dtype=float32)\n",
      "Action:  [0]\n",
      "Map:\n",
      " [[[0 0 2 2 2]\n",
      "  [0 3 2 2 2]\n",
      "  [0 0 2 2 2]\n",
      "  [0 0 2 2 2]\n",
      "  [0 1 2 2 2]]]\n",
      "Direction:\n",
      " tf.Tensor([[False False  True  True]], shape=(1, 4), dtype=bool)\n",
      "No body blocks:\n",
      " tf.Tensor([[0.33333334 0.6        0.06666667 0.        ]], shape=(1, 4), dtype=float32)\n",
      "Action:  [0]\n",
      "Map:\n",
      " [[[0 0 0 2 2]\n",
      "  [0 3 2 2 2]\n",
      "  [0 0 2 2 2]\n",
      "  [0 0 2 2 2]\n",
      "  [1 2 2 2 2]]]\n",
      "Direction:\n",
      " tf.Tensor([[ True False  True  True]], shape=(1, 4), dtype=bool)\n",
      "No body blocks:\n",
      " tf.Tensor([[0.    0.625 0.375 0.   ]], shape=(1, 4), dtype=float32)\n",
      "Action:  [1]\n",
      "Map:\n",
      " [[[0 0 0 0 2]\n",
      "  [0 3 2 2 2]\n",
      "  [0 0 2 2 2]\n",
      "  [1 0 2 2 2]\n",
      "  [2 2 2 2 2]]]\n",
      "Direction:\n",
      " tf.Tensor([[ True False False  True]], shape=(1, 4), dtype=bool)\n",
      "No body blocks:\n",
      " tf.Tensor([[0.     0.5625 0.4375 0.    ]], shape=(1, 4), dtype=float32)\n",
      "Action:  [1]\n",
      "Map:\n",
      " [[[0 0 0 0 0]\n",
      "  [0 3 2 2 2]\n",
      "  [1 0 2 2 2]\n",
      "  [2 0 2 2 2]\n",
      "  [2 2 2 2 2]]]\n",
      "Direction:\n",
      " tf.Tensor([[ True False False  True]], shape=(1, 4), dtype=bool)\n",
      "No body blocks:\n",
      " tf.Tensor([[0.         0.47058824 0.47058824 0.05882353]], shape=(1, 4), dtype=float32)\n",
      "Action:  [1]\n",
      "Map:\n",
      " [[[0 0 0 0 0]\n",
      "  [1 3 2 2 0]\n",
      "  [2 0 2 2 2]\n",
      "  [2 0 2 2 2]\n",
      "  [2 2 2 2 2]]]\n",
      "Direction:\n",
      " tf.Tensor([[ True False False  True]], shape=(1, 4), dtype=bool)\n",
      "No body blocks:\n",
      " tf.Tensor([[0.     0.3125 0.5625 0.125 ]], shape=(1, 4), dtype=float32)\n",
      "Action:  [1]\n",
      "Map:\n",
      " [[[1 0 0 0 0]\n",
      "  [2 3 2 0 0]\n",
      "  [2 0 2 2 2]\n",
      "  [2 0 2 2 2]\n",
      "  [2 2 2 2 2]]]\n",
      "Direction:\n",
      " tf.Tensor([[ True  True False  True]], shape=(1, 4), dtype=bool)\n",
      "No body blocks:\n",
      " tf.Tensor([[0.    0.    0.625 0.375]], shape=(1, 4), dtype=float32)\n",
      "Action:  [2]\n",
      "Map:\n",
      " [[[2 1 0 0 0]\n",
      "  [2 3 0 0 0]\n",
      "  [2 0 2 2 2]\n",
      "  [2 0 2 2 2]\n",
      "  [2 2 2 2 2]]]\n",
      "Direction:\n",
      " tf.Tensor([[ True  True False False]], shape=(1, 4), dtype=bool)\n",
      "No body blocks:\n",
      " tf.Tensor([[0.  0.  0.5 0.5]], shape=(1, 4), dtype=float32)\n",
      "Action:  [3]\n",
      "Map:\n",
      " [[[2 2 0 0 0]\n",
      "  [2 1 0 0 0]\n",
      "  [2 0 2 2 2]\n",
      "  [2 3 2 2 2]\n",
      "  [2 2 2 2 2]]]\n",
      "Direction:\n",
      " tf.Tensor([[ True  True False False]], shape=(1, 4), dtype=bool)\n",
      "No body blocks:\n",
      " tf.Tensor([[0.         0.23076923 0.53846157 0.23076923]], shape=(1, 4), dtype=float32)\n",
      "Action:  [2]\n",
      "Map:\n",
      " [[[2 2 0 0 0]\n",
      "  [2 2 1 0 0]\n",
      "  [2 0 0 2 2]\n",
      "  [2 3 2 2 2]\n",
      "  [2 2 2 2 2]]]\n",
      "Direction:\n",
      " tf.Tensor([[ True False False False]], shape=(1, 4), dtype=bool)\n",
      "No body blocks:\n",
      " tf.Tensor([[0.14285715 0.21428572 0.35714287 0.2857143 ]], shape=(1, 4), dtype=float32)\n",
      "Action:  [1]\n",
      "Map:\n",
      " [[[2 2 1 0 0]\n",
      "  [2 2 2 0 0]\n",
      "  [2 0 0 0 2]\n",
      "  [2 3 2 2 2]\n",
      "  [2 2 2 2 2]]]\n",
      "Direction:\n",
      " tf.Tensor([[ True  True False  True]], shape=(1, 4), dtype=bool)\n",
      "No body blocks:\n",
      " tf.Tensor([[0.13333334 0.         0.4        0.46666667]], shape=(1, 4), dtype=float32)\n",
      "Action:  [2]\n",
      "Map:\n",
      " [[[2 2 2 1 0]\n",
      "  [2 2 2 0 0]\n",
      "  [2 0 0 0 0]\n",
      "  [2 3 2 2 2]\n",
      "  [2 2 2 2 2]]]\n",
      "Direction:\n",
      " tf.Tensor([[ True  True False False]], shape=(1, 4), dtype=bool)\n",
      "No body blocks:\n",
      " tf.Tensor([[0.2        0.         0.26666668 0.53333336]], shape=(1, 4), dtype=float32)\n",
      "Action:  [2]\n",
      "Map:\n",
      " [[[2 2 2 2 1]\n",
      "  [2 2 2 0 0]\n",
      "  [2 0 0 0 0]\n",
      "  [2 3 2 2 0]\n",
      "  [2 2 2 2 2]]]\n",
      "Direction:\n",
      " tf.Tensor([[ True  True  True False]], shape=(1, 4), dtype=bool)\n",
      "No body blocks:\n",
      " tf.Tensor([[0.35714287 0.         0.         0.64285713]], shape=(1, 4), dtype=float32)\n",
      "Action:  [3]\n",
      "Map:\n",
      " [[[2 2 2 2 2]\n",
      "  [2 2 2 0 1]\n",
      "  [2 0 0 0 0]\n",
      "  [2 3 2 2 0]\n",
      "  [2 2 2 2 0]]]\n",
      "Direction:\n",
      " tf.Tensor([[False  True  True False]], shape=(1, 4), dtype=bool)\n",
      "No body blocks:\n",
      " tf.Tensor([[0.42857143 0.         0.         0.5714286 ]], shape=(1, 4), dtype=float32)\n",
      "Action:  [0]\n",
      "Map:\n",
      " [[[2 2 2 2 2]\n",
      "  [2 2 2 1 2]\n",
      "  [2 0 0 0 0]\n",
      "  [2 3 2 2 0]\n",
      "  [2 2 2 0 0]]]\n",
      "Direction:\n",
      " tf.Tensor([[ True  True  True False]], shape=(1, 4), dtype=bool)\n",
      "No body blocks:\n",
      " tf.Tensor([[0.2 0.  0.2 0.6]], shape=(1, 4), dtype=float32)\n",
      "Action:  [3]\n",
      "Map:\n",
      " [[[2 2 2 2 2]\n",
      "  [2 2 2 2 2]\n",
      "  [2 0 0 1 0]\n",
      "  [2 3 2 0 0]\n",
      "  [2 2 2 0 0]]]\n",
      "Direction:\n",
      " tf.Tensor([[False  True False False]], shape=(1, 4), dtype=bool)\n",
      "No body blocks:\n",
      " tf.Tensor([[0.30769232 0.         0.23076923 0.46153846]], shape=(1, 4), dtype=float32)\n",
      "Action:  [2]\n",
      "Map:\n",
      " [[[2 2 2 2 2]\n",
      "  [2 2 2 2 2]\n",
      "  [2 0 0 2 1]\n",
      "  [2 3 0 0 0]\n",
      "  [2 2 2 0 0]]]\n",
      "Direction:\n",
      " tf.Tensor([[ True  True  True False]], shape=(1, 4), dtype=bool)\n",
      "No body blocks:\n",
      " tf.Tensor([[0.5 0.  0.  0.5]], shape=(1, 4), dtype=float32)\n",
      "Action:  [3]\n",
      "Map:\n",
      " [[[2 2 2 2 2]\n",
      "  [2 2 2 2 2]\n",
      "  [2 0 0 2 2]\n",
      "  [2 3 0 0 1]\n",
      "  [2 2 0 0 0]]]\n",
      "Direction:\n",
      " tf.Tensor([[False  True  True False]], shape=(1, 4), dtype=bool)\n",
      "No body blocks:\n",
      " tf.Tensor([[0.5714286  0.14285715 0.         0.2857143 ]], shape=(1, 4), dtype=float32)\n",
      "Action:  [3]\n",
      "Map:\n",
      " [[[2 2 2 2 2]\n",
      "  [2 2 2 2 2]\n",
      "  [2 0 0 2 2]\n",
      "  [2 3 0 0 2]\n",
      "  [2 0 0 0 1]]]\n",
      "Direction:\n",
      " tf.Tensor([[False  True  True  True]], shape=(1, 4), dtype=bool)\n",
      "No body blocks:\n",
      " tf.Tensor([[0.64285713 0.35714287 0.         0.        ]], shape=(1, 4), dtype=float32)\n",
      "Action:  [0]\n",
      "Map:\n",
      " [[[2 2 2 2 2]\n",
      "  [2 2 2 2 2]\n",
      "  [2 0 0 2 2]\n",
      "  [2 3 0 0 2]\n",
      "  [0 0 0 1 2]]]\n",
      "Direction:\n",
      " tf.Tensor([[False False  True  True]], shape=(1, 4), dtype=bool)\n",
      "No body blocks:\n",
      " tf.Tensor([[0.5714286  0.42857143 0.         0.        ]], shape=(1, 4), dtype=float32)\n",
      "Action:  [0]\n",
      "Map:\n",
      " [[[2 2 2 2 2]\n",
      "  [2 2 2 2 2]\n",
      "  [2 0 0 2 2]\n",
      "  [0 3 0 0 2]\n",
      "  [0 0 1 2 2]]]\n",
      "Direction:\n",
      " tf.Tensor([[False False  True  True]], shape=(1, 4), dtype=bool)\n",
      "No body blocks:\n",
      " tf.Tensor([[0.42857143 0.5        0.07142857 0.        ]], shape=(1, 4), dtype=float32)\n",
      "Action:  [0]\n",
      "Map:\n",
      " [[[2 2 2 2 2]\n",
      "  [2 2 2 2 2]\n",
      "  [0 0 0 2 2]\n",
      "  [0 3 0 0 2]\n",
      "  [0 1 2 2 2]]]\n",
      "Direction:\n",
      " tf.Tensor([[False False  True  True]], shape=(1, 4), dtype=bool)\n",
      "No body blocks:\n",
      " tf.Tensor([[0.26666668 0.53333336 0.2        0.        ]], shape=(1, 4), dtype=float32)\n",
      "Action:  [0]\n",
      "Map:\n",
      " [[[2 2 2 2 2]\n",
      "  [0 2 2 2 2]\n",
      "  [0 0 0 2 2]\n",
      "  [0 3 0 0 2]\n",
      "  [1 2 2 2 2]]]\n",
      "Direction:\n",
      " tf.Tensor([[ True False  True  True]], shape=(1, 4), dtype=bool)\n",
      "No body blocks:\n",
      " tf.Tensor([[0.         0.64285713 0.35714287 0.        ]], shape=(1, 4), dtype=float32)\n",
      "Action:  [1]\n",
      "Map:\n",
      " [[[0 2 2 2 2]\n",
      "  [0 2 2 2 2]\n",
      "  [0 0 0 2 2]\n",
      "  [1 3 0 0 2]\n",
      "  [2 2 2 2 2]]]\n",
      "Direction:\n",
      " tf.Tensor([[ True False False  True]], shape=(1, 4), dtype=bool)\n",
      "No body blocks:\n",
      " tf.Tensor([[0.  0.5 0.5 0. ]], shape=(1, 4), dtype=float32)\n",
      "Action:  [2]\n",
      "Map:\n",
      " [[[0 2 2 2 2]\n",
      "  [0 2 2 2 2]\n",
      "  [0 0 0 2 2]\n",
      "  [2 1 3 0 2]\n",
      "  [2 2 2 2 2]]]\n",
      "Direction:\n",
      " tf.Tensor([[ True False False  True]], shape=(1, 4), dtype=bool)\n",
      "No body blocks:\n",
      " tf.Tensor([[0.25 0.5  0.25 0.  ]], shape=(1, 4), dtype=float32)\n",
      "Action:  [2]\n",
      "Map:\n",
      " [[[0 2 2 2 2]\n",
      "  [3 2 2 2 2]\n",
      "  [0 0 0 2 2]\n",
      "  [2 2 1 0 2]\n",
      "  [2 2 2 2 2]]]\n",
      "Direction:\n",
      " tf.Tensor([[ True False False  True]], shape=(1, 4), dtype=bool)\n",
      "No body blocks:\n",
      " tf.Tensor([[0.41666666 0.5        0.08333334 0.        ]], shape=(1, 4), dtype=float32)\n",
      "Action:  [1]\n",
      "Map:\n",
      " [[[0 0 2 2 2]\n",
      "  [3 2 2 2 2]\n",
      "  [0 0 1 2 2]\n",
      "  [2 2 2 0 2]\n",
      "  [2 2 2 2 2]]]\n",
      "Direction:\n",
      " tf.Tensor([[False  True  True  True]], shape=(1, 4), dtype=bool)\n",
      "No body blocks:\n",
      " tf.Tensor([[0.5        0.33333334 0.08333334 0.08333334]], shape=(1, 4), dtype=float32)\n",
      "Action:  [0]\n",
      "Map:\n",
      " [[[0 0 2 2 2]\n",
      "  [3 0 2 2 2]\n",
      "  [0 1 2 2 2]\n",
      "  [2 2 2 0 2]\n",
      "  [2 2 2 2 2]]]\n",
      "Direction:\n",
      " tf.Tensor([[False False  True  True]], shape=(1, 4), dtype=bool)\n",
      "No body blocks:\n",
      " tf.Tensor([[0.27272728 0.45454547 0.18181819 0.09090909]], shape=(1, 4), dtype=float32)\n",
      "Action:  [1]\n",
      "Map:\n",
      " [[[0 0 2 2 2]\n",
      "  [3 1 0 2 2]\n",
      "  [0 2 2 2 2]\n",
      "  [2 2 2 0 2]\n",
      "  [2 2 2 2 2]]]\n",
      "Direction:\n",
      " tf.Tensor([[False False False  True]], shape=(1, 4), dtype=bool)\n",
      "No body blocks:\n",
      " tf.Tensor([[0.27272728 0.27272728 0.27272728 0.18181819]], shape=(1, 4), dtype=float32)\n",
      "Action:  [0]\n",
      "Map:\n",
      " [[[0 0 2 2 2]\n",
      "  [1 2 3 2 2]\n",
      "  [0 2 2 2 2]\n",
      "  [2 2 2 0 2]\n",
      "  [2 2 2 2 2]]]\n",
      "Direction:\n",
      " tf.Tensor([[ True False  True False]], shape=(1, 4), dtype=bool)\n",
      "No body blocks:\n",
      " tf.Tensor([[0.         0.33333334 0.44444445 0.22222222]], shape=(1, 4), dtype=float32)\n",
      "Action:  [1]\n",
      "Map:\n",
      " [[[1 0 0 2 2]\n",
      "  [2 2 3 2 2]\n",
      "  [0 2 2 2 2]\n",
      "  [2 2 2 0 2]\n",
      "  [2 2 2 2 2]]]\n",
      "Direction:\n",
      " tf.Tensor([[ True  True False  True]], shape=(1, 4), dtype=bool)\n",
      "No body blocks:\n",
      " tf.Tensor([[0.    0.    0.625 0.375]], shape=(1, 4), dtype=float32)\n",
      "Action:  [2]\n",
      "Map:\n",
      " [[[2 1 0 0 2]\n",
      "  [2 2 3 2 2]\n",
      "  [0 2 2 2 2]\n",
      "  [2 2 2 0 2]\n",
      "  [2 2 2 2 2]]]\n",
      "Direction:\n",
      " tf.Tensor([[ True  True False  True]], shape=(1, 4), dtype=bool)\n",
      "No body blocks:\n",
      " tf.Tensor([[0.11111111 0.         0.5555556  0.33333334]], shape=(1, 4), dtype=float32)\n",
      "Action:  [2]\n",
      "Map:\n",
      " [[[2 2 1 0 0]\n",
      "  [2 2 3 2 2]\n",
      "  [0 2 2 2 2]\n",
      "  [2 2 2 0 2]\n",
      "  [2 2 2 2 2]]]\n",
      "Direction:\n",
      " tf.Tensor([[ True  True False False]], shape=(1, 4), dtype=bool)\n",
      "No body blocks:\n",
      " tf.Tensor([[0.11111111 0.         0.44444445 0.44444445]], shape=(1, 4), dtype=float32)\n",
      "Action:  [2]\n",
      "Map:\n",
      " [[[2 2 2 1 0]\n",
      "  [2 2 3 2 0]\n",
      "  [0 2 2 2 2]\n",
      "  [2 2 2 0 2]\n",
      "  [2 2 2 2 2]]]\n",
      "Direction:\n",
      " tf.Tensor([[ True  True False False]], shape=(1, 4), dtype=bool)\n",
      "No body blocks:\n",
      " tf.Tensor([[0.22222222 0.         0.22222222 0.5555556 ]], shape=(1, 4), dtype=float32)\n",
      "Action:  [2]\n",
      "Map:\n",
      " [[[2 2 2 2 1]\n",
      "  [2 2 3 0 0]\n",
      "  [0 2 2 2 2]\n",
      "  [2 2 2 0 2]\n",
      "  [2 2 2 2 2]]]\n",
      "Direction:\n",
      " tf.Tensor([[ True  True  True False]], shape=(1, 4), dtype=bool)\n",
      "No body blocks:\n",
      " tf.Tensor([[0.45454547 0.         0.         0.54545456]], shape=(1, 4), dtype=float32)\n",
      "Action:  [3]\n",
      "Map:\n",
      " [[[2 2 2 2 2]\n",
      "  [2 2 3 0 1]\n",
      "  [0 2 2 0 2]\n",
      "  [2 2 2 0 2]\n",
      "  [2 2 2 2 2]]]\n",
      "Direction:\n",
      " tf.Tensor([[False  True  True False]], shape=(1, 4), dtype=bool)\n",
      "No body blocks:\n",
      " tf.Tensor([[0.5555556  0.         0.         0.44444445]], shape=(1, 4), dtype=float32)\n",
      "Action:  [0]\n",
      "Map:\n",
      " [[[2 2 2 2 2]\n",
      "  [2 2 3 1 2]\n",
      "  [0 2 2 0 0]\n",
      "  [2 2 2 0 2]\n",
      "  [2 2 2 2 2]]]\n",
      "Direction:\n",
      " tf.Tensor([[False  True  True False]], shape=(1, 4), dtype=bool)\n",
      "No body blocks:\n",
      " tf.Tensor([[0.22222222 0.         0.22222222 0.5555556 ]], shape=(1, 4), dtype=float32)\n",
      "Action:  [3]\n",
      "Map:\n",
      " [[[2 2 2 2 2]\n",
      "  [2 2 3 2 2]\n",
      "  [0 2 2 1 0]\n",
      "  [2 2 2 0 0]\n",
      "  [2 2 2 2 2]]]\n",
      "Direction:\n",
      " tf.Tensor([[ True  True False False]], shape=(1, 4), dtype=bool)\n",
      "No body blocks:\n",
      " tf.Tensor([[0.22222222 0.11111111 0.33333334 0.33333334]], shape=(1, 4), dtype=float32)\n",
      "Action:  [2]\n",
      "Map:\n",
      " [[[2 2 2 2 2]\n",
      "  [2 2 3 2 2]\n",
      "  [0 2 2 2 1]\n",
      "  [2 2 2 0 0]\n",
      "  [2 2 2 2 0]]]\n",
      "Direction:\n",
      " tf.Tensor([[ True  True  True False]], shape=(1, 4), dtype=bool)\n",
      "No body blocks:\n",
      " tf.Tensor([[0.44444445 0.11111111 0.         0.44444445]], shape=(1, 4), dtype=float32)\n",
      "Action:  [3]\n",
      "Map:\n",
      " [[[2 2 2 2 2]\n",
      "  [2 2 3 2 2]\n",
      "  [0 2 2 2 2]\n",
      "  [2 2 2 0 1]\n",
      "  [2 2 2 0 0]]]\n",
      "Direction:\n",
      " tf.Tensor([[False  True  True False]], shape=(1, 4), dtype=bool)\n",
      "No body blocks:\n",
      " tf.Tensor([[0.5 0.2 0.  0.3]], shape=(1, 4), dtype=float32)\n",
      "Action:  [3]\n",
      "Map:\n",
      " [[[2 2 2 2 2]\n",
      "  [2 2 3 2 2]\n",
      "  [0 2 2 2 2]\n",
      "  [2 2 2 0 2]\n",
      "  [2 2 0 0 1]]]\n",
      "Direction:\n",
      " tf.Tensor([[False  True  True  True]], shape=(1, 4), dtype=bool)\n",
      "No body blocks:\n",
      " tf.Tensor([[0.6666667  0.33333334 0.         0.        ]], shape=(1, 4), dtype=float32)\n",
      "Action:  [0]\n",
      "Map:\n",
      " [[[2 2 2 2 2]\n",
      "  [2 2 3 2 2]\n",
      "  [0 2 2 2 2]\n",
      "  [2 2 2 0 2]\n",
      "  [2 0 0 1 2]]]\n",
      "Direction:\n",
      " tf.Tensor([[False False  True  True]], shape=(1, 4), dtype=bool)\n",
      "No body blocks:\n",
      " tf.Tensor([[0.625 0.375 0.    0.   ]], shape=(1, 4), dtype=float32)\n",
      "Action:  [0]\n",
      "Map:\n",
      " [[[2 2 2 2 2]\n",
      "  [2 2 3 2 2]\n",
      "  [0 2 2 2 2]\n",
      "  [2 2 2 0 2]\n",
      "  [0 0 1 2 2]]]\n",
      "Direction:\n",
      " tf.Tensor([[False  True  True  True]], shape=(1, 4), dtype=bool)\n",
      "No body blocks:\n",
      " tf.Tensor([[0.44444445 0.44444445 0.11111111 0.        ]], shape=(1, 4), dtype=float32)\n",
      "Action:  [0]\n",
      "Map:\n",
      " [[[2 2 2 2 2]\n",
      "  [2 2 3 2 2]\n",
      "  [0 2 2 2 2]\n",
      "  [0 2 2 0 2]\n",
      "  [0 1 2 2 2]]]\n",
      "Direction:\n",
      " tf.Tensor([[False False  True  True]], shape=(1, 4), dtype=bool)\n",
      "No body blocks:\n",
      " tf.Tensor([[0.3 0.5 0.2 0. ]], shape=(1, 4), dtype=float32)\n",
      "Action:  [0]\n",
      "Map:\n",
      " [[[2 2 2 2 2]\n",
      "  [2 2 3 2 2]\n",
      "  [0 2 2 2 2]\n",
      "  [0 0 2 0 2]\n",
      "  [1 2 2 2 2]]]\n",
      "Direction:\n",
      " tf.Tensor([[ True False  True  True]], shape=(1, 4), dtype=bool)\n",
      "No body blocks:\n",
      " tf.Tensor([[0.  0.6 0.4 0. ]], shape=(1, 4), dtype=float32)\n",
      "Action:  [1]\n",
      "Map:\n",
      " [[[2 2 2 2 2]\n",
      "  [2 2 3 2 2]\n",
      "  [0 2 2 2 2]\n",
      "  [1 0 0 0 2]\n",
      "  [2 2 2 2 2]]]\n",
      "Direction:\n",
      " tf.Tensor([[ True False False  True]], shape=(1, 4), dtype=bool)\n",
      "No body blocks:\n",
      " tf.Tensor([[0.    0.375 0.625 0.   ]], shape=(1, 4), dtype=float32)\n",
      "Action:  [2]\n",
      "Map:\n",
      " [[[2 2 2 2 2]\n",
      "  [2 2 3 2 2]\n",
      "  [0 2 0 2 2]\n",
      "  [2 1 0 0 2]\n",
      "  [2 2 2 2 2]]]\n",
      "Direction:\n",
      " tf.Tensor([[ True False False  True]], shape=(1, 4), dtype=bool)\n",
      "No body blocks:\n",
      " tf.Tensor([[0.11111111 0.44444445 0.44444445 0.        ]], shape=(1, 4), dtype=float32)\n",
      "Action:  [2]\n",
      "Map:\n",
      " [[[2 2 2 2 2]\n",
      "  [2 2 3 2 2]\n",
      "  [0 0 0 2 2]\n",
      "  [2 2 1 0 2]\n",
      "  [2 2 2 2 2]]]\n",
      "Direction:\n",
      " tf.Tensor([[ True False False  True]], shape=(1, 4), dtype=bool)\n",
      "No body blocks:\n",
      " tf.Tensor([[0.33333334 0.5555556  0.11111111 0.        ]], shape=(1, 4), dtype=float32)\n",
      "Action:  [1]\n",
      "Map:\n",
      " [[[2 2 2 2 2]\n",
      "  [2 0 3 2 2]\n",
      "  [0 0 1 2 2]\n",
      "  [2 2 2 0 2]\n",
      "  [2 2 2 2 2]]]\n",
      "Direction:\n",
      " tf.Tensor([[False False  True  True]], shape=(1, 4), dtype=bool)\n",
      "No body blocks:\n",
      " tf.Tensor([[0.44444445 0.33333334 0.11111111 0.11111111]], shape=(1, 4), dtype=float32)\n",
      "Action:  [1]\n",
      "Map:\n",
      " [[[2 2 2 2 2]\n",
      "  [2 0 1 2 2]\n",
      "  [0 0 2 2 2]\n",
      "  [2 2 2 3 2]\n",
      "  [2 2 2 2 2]]]\n",
      "Direction:\n",
      " tf.Tensor([[False  True  True  True]], shape=(1, 4), dtype=bool)\n",
      "No body blocks:\n",
      " tf.Tensor([[0.5   0.    0.125 0.375]], shape=(1, 4), dtype=float32)\n",
      "Action:  [0]\n",
      "Map:\n",
      " [[[2 2 2 2 2]\n",
      "  [0 1 2 2 2]\n",
      "  [0 0 2 2 2]\n",
      "  [2 2 2 3 2]\n",
      "  [2 2 2 2 2]]]\n",
      "Direction:\n",
      " tf.Tensor([[False  True  True False]], shape=(1, 4), dtype=bool)\n",
      "No body blocks:\n",
      " tf.Tensor([[0.375 0.125 0.125 0.375]], shape=(1, 4), dtype=float32)\n",
      "Action:  [3]\n",
      "Map:\n",
      " [[[0 2 2 2 2]\n",
      "  [0 2 2 2 2]\n",
      "  [0 1 2 2 2]\n",
      "  [2 2 2 3 2]\n",
      "  [2 2 2 2 2]]]\n",
      "Direction:\n",
      " tf.Tensor([[False  True  True  True]], shape=(1, 4), dtype=bool)\n",
      "No body blocks:\n",
      " tf.Tensor([[0.375 0.375 0.125 0.125]], shape=(1, 4), dtype=float32)\n",
      "Action:  [0]\n",
      "Map:\n",
      " [[[0 0 2 2 2]\n",
      "  [0 2 2 2 2]\n",
      "  [1 2 2 2 2]\n",
      "  [2 2 2 3 2]\n",
      "  [2 2 2 2 2]]]\n",
      "Direction:\n",
      " tf.Tensor([[ True False  True  True]], shape=(1, 4), dtype=bool)\n",
      "No body blocks:\n",
      " tf.Tensor([[0.    0.5   0.375 0.125]], shape=(1, 4), dtype=float32)\n",
      "Action:  [1]\n",
      "Map:\n",
      " [[[0 0 0 2 2]\n",
      "  [1 2 2 2 2]\n",
      "  [2 2 2 2 2]\n",
      "  [2 2 2 3 2]\n",
      "  [2 2 2 2 2]]]\n",
      "Direction:\n",
      " tf.Tensor([[ True False  True  True]], shape=(1, 4), dtype=bool)\n",
      "No body blocks:\n",
      " tf.Tensor([[0.         0.44444445 0.44444445 0.11111111]], shape=(1, 4), dtype=float32)\n",
      "Action:  [1]\n",
      "Map:\n",
      " [[[1 0 0 0 2]\n",
      "  [2 2 2 2 2]\n",
      "  [2 2 2 2 2]\n",
      "  [2 2 2 3 2]\n",
      "  [2 2 2 2 2]]]\n",
      "Direction:\n",
      " tf.Tensor([[ True  True False  True]], shape=(1, 4), dtype=bool)\n",
      "No body blocks:\n",
      " tf.Tensor([[0.         0.         0.8333333  0.16666667]], shape=(1, 4), dtype=float32)\n",
      "Action:  [2]\n",
      "Map:\n",
      " [[[2 1 0 0 0]\n",
      "  [2 2 2 2 2]\n",
      "  [2 2 2 2 2]\n",
      "  [2 2 2 3 2]\n",
      "  [2 2 2 2 2]]]\n",
      "Direction:\n",
      " tf.Tensor([[ True  True False  True]], shape=(1, 4), dtype=bool)\n",
      "No body blocks:\n",
      " tf.Tensor([[0.         0.         0.71428573 0.2857143 ]], shape=(1, 4), dtype=float32)\n",
      "Action:  [2]\n",
      "Map:\n",
      " [[[2 2 1 0 0]\n",
      "  [2 2 2 2 0]\n",
      "  [2 2 2 2 2]\n",
      "  [2 2 2 3 2]\n",
      "  [2 2 2 2 2]]]\n",
      "Direction:\n",
      " tf.Tensor([[ True  True False  True]], shape=(1, 4), dtype=bool)\n",
      "No body blocks:\n",
      " tf.Tensor([[0.    0.    0.625 0.375]], shape=(1, 4), dtype=float32)\n",
      "Action:  [2]\n",
      "Map:\n",
      " [[[2 2 2 1 0]\n",
      "  [2 2 2 0 0]\n",
      "  [2 2 2 2 2]\n",
      "  [2 2 2 3 2]\n",
      "  [2 2 2 2 2]]]\n",
      "Direction:\n",
      " tf.Tensor([[ True  True False False]], shape=(1, 4), dtype=bool)\n",
      "No body blocks:\n",
      " tf.Tensor([[0.         0.         0.33333334 0.6666667 ]], shape=(1, 4), dtype=float32)\n",
      "Action:  [2]\n",
      "Map:\n",
      " [[[2 2 2 2 1]\n",
      "  [2 2 2 0 0]\n",
      "  [2 2 2 0 2]\n",
      "  [2 2 2 3 2]\n",
      "  [2 2 2 2 2]]]\n",
      "Direction:\n",
      " tf.Tensor([[ True  True  True False]], shape=(1, 4), dtype=bool)\n",
      "No body blocks:\n",
      " tf.Tensor([[0.375 0.    0.    0.625]], shape=(1, 4), dtype=float32)\n",
      "Action:  [3]\n",
      "Map:\n",
      " [[[2 2 2 2 2]\n",
      "  [2 2 2 0 1]\n",
      "  [2 2 2 0 0]\n",
      "  [2 2 2 3 2]\n",
      "  [2 2 2 2 2]]]\n",
      "Direction:\n",
      " tf.Tensor([[False  True  True False]], shape=(1, 4), dtype=bool)\n",
      "No body blocks:\n",
      " tf.Tensor([[0.42857143 0.         0.         0.5714286 ]], shape=(1, 4), dtype=float32)\n",
      "Action:  [0]\n",
      "Map:\n",
      " [[[2 2 2 2 2]\n",
      "  [2 2 2 1 2]\n",
      "  [2 2 2 0 0]\n",
      "  [2 2 2 3 0]\n",
      "  [2 2 2 2 2]]]\n",
      "Direction:\n",
      " tf.Tensor([[ True  True  True False]], shape=(1, 4), dtype=bool)\n",
      "No body blocks:\n",
      " tf.Tensor([[0.    0.    0.375 0.625]], shape=(1, 4), dtype=float32)\n",
      "Action:  [3]\n",
      "Map:\n",
      " [[[2 2 2 2 2]\n",
      "  [2 2 2 2 2]\n",
      "  [2 2 2 1 0]\n",
      "  [2 2 2 3 0]\n",
      "  [2 2 2 2 0]]]\n",
      "Direction:\n",
      " tf.Tensor([[ True  True False False]], shape=(1, 4), dtype=bool)\n",
      "No body blocks:\n",
      " tf.Tensor([[0.         0.         0.42857143 0.5714286 ]], shape=(1, 4), dtype=float32)\n",
      "Action:  [3]\n",
      "Map:\n",
      " [[[2 2 2 2 2]\n",
      "  [2 2 2 2 2]\n",
      "  [2 2 2 2 0]\n",
      "  [2 2 2 1 0]\n",
      "  [2 2 2 2 3]]]\n",
      "Direction:\n",
      " tf.Tensor([[ True  True False False]], shape=(1, 4), dtype=bool)\n",
      "No body blocks:\n",
      " tf.Tensor([[0.         0.16666667 0.5        0.33333334]], shape=(1, 4), dtype=float32)\n",
      "Action:  [2]\n",
      "Map:\n",
      " [[[2 2 2 2 2]\n",
      "  [2 2 2 2 2]\n",
      "  [2 2 2 2 0]\n",
      "  [2 2 2 2 1]\n",
      "  [2 2 2 0 3]]]\n",
      "Direction:\n",
      " tf.Tensor([[ True False  True False]], shape=(1, 4), dtype=bool)\n",
      "No body blocks:\n",
      " tf.Tensor([[0.33333334 0.16666667 0.         0.5       ]], shape=(1, 4), dtype=float32)\n",
      "Action:  [1]\n",
      "Map:\n",
      " [[[2 2 2 2 2]\n",
      "  [2 2 2 2 2]\n",
      "  [2 2 2 2 1]\n",
      "  [2 2 2 2 2]\n",
      "  [2 2 0 0 3]]]\n",
      "Direction:\n",
      " tf.Tensor([[ True  True  True  True]], shape=(1, 4), dtype=bool)\n",
      "No body blocks:\n",
      " tf.Tensor([[0.42857143 0.         0.         0.5714286 ]], shape=(1, 4), dtype=float32)\n",
      "Action:  [3]\n",
      "Total reward:  60.0\n",
      "Total steps:  139\n"
     ]
    }
   ],
   "source": [
    "# Evaluate the agent\n",
    "\n",
    "test_scene = Scene(init_randomly=True)\n",
    "test_env = SnakeGame(test_scene)\n",
    "test_env = TFPyEnvironment(test_env)\n",
    "\n",
    "time_step = test_env.reset()\n",
    "rewards = []\n",
    "steps = 0\n",
    "\n",
    "while not time_step.is_last() and steps < 200:\n",
    "    steps += 1\n",
    "    print(\"Map:\\n\", np.argmax(time_step.observation[0], axis=3))\n",
    "    print(\"Direction:\\n\", time_step.observation[1])\n",
    "    print(\"No body blocks:\\n\", time_step.observation[2])\n",
    "    action_step = agent.policy.action(time_step)\n",
    "    print(\"Action: \", action_step.action.numpy())\n",
    "    time_step = test_env.step(action_step.action)\n",
    "    rewards.append(time_step.reward.numpy()[0])\n",
    "    \n",
    "print(\"Total reward: \", sum(rewards))\n",
    "print(\"Total steps: \", steps)\n"
   ]
  },
  {
   "cell_type": "code",
   "execution_count": 25,
   "metadata": {},
   "outputs": [
    {
     "name": "stdout",
     "output_type": "stream",
     "text": [
      "Episode:  10\n",
      "Avg reward:  44.09090909090909\n",
      "Episode:  20\n",
      "Avg reward:  38.095238095238095\n",
      "Episode:  30\n",
      "Avg reward:  39.03225806451613\n",
      "Episode:  40\n",
      "Avg reward:  42.19512195121951\n",
      "Episode:  50\n",
      "Avg reward:  41.76470588235294\n",
      "Episode:  60\n",
      "Avg reward:  41.721311475409834\n",
      "Episode:  70\n",
      "Avg reward:  43.66197183098591\n",
      "Episode:  80\n",
      "Avg reward:  44.44444444444444\n",
      "Episode:  90\n",
      "Avg reward:  44.010989010989015\n",
      "Episode:  100\n",
      "Avg reward:  44.20792079207921\n",
      "Episode:  110\n",
      "Avg reward:  45.04504504504504\n",
      "Episode:  120\n",
      "Avg reward:  44.79338842975206\n",
      "Episode:  130\n",
      "Avg reward:  45.725190839694655\n",
      "Episode:  140\n",
      "Avg reward:  44.57446808510638\n",
      "Episode:  150\n",
      "Avg reward:  45.2317880794702\n",
      "Episode:  160\n",
      "Avg reward:  45.43478260869565\n",
      "Episode:  170\n",
      "Avg reward:  45.84795321637427\n",
      "Episode:  180\n",
      "Avg reward:  46.43646408839779\n",
      "Episode:  190\n",
      "Avg reward:  46.49214659685864\n",
      "Episode:  200\n",
      "Avg reward:  47.08955223880597\n",
      "Episode:  210\n",
      "Avg reward:  47.03791469194313\n",
      "Episode:  220\n",
      "Avg reward:  47.23981900452489\n",
      "Episode:  230\n",
      "Avg reward:  46.77489177489178\n",
      "Episode:  240\n",
      "Avg reward:  46.2448132780083\n",
      "Episode:  250\n",
      "Avg reward:  45.97609561752988\n",
      "Episode:  260\n",
      "Avg reward:  45.82375478927203\n",
      "Episode:  270\n",
      "Avg reward:  46.4760147601476\n",
      "Episode:  280\n",
      "Avg reward:  46.88612099644128\n",
      "Episode:  290\n",
      "Avg reward:  46.83848797250859\n",
      "Episode:  300\n",
      "Avg reward:  46.7109634551495\n",
      "Episode:  310\n",
      "Avg reward:  46.92926045016077\n",
      "Episode:  320\n",
      "Avg reward:  46.86915887850467\n",
      "Episode:  330\n",
      "Avg reward:  46.963746223564954\n",
      "Episode:  340\n",
      "Avg reward:  47.27272727272727\n",
      "Episode:  350\n",
      "Avg reward:  47.12250712250712\n",
      "Episode:  360\n",
      "Avg reward:  47.43767313019391\n",
      "Episode:  370\n",
      "Avg reward:  47.52021563342318\n",
      "Episode:  380\n",
      "Avg reward:  47.59842519685039\n",
      "Episode:  390\n",
      "Avg reward:  47.749360613810744\n",
      "Episode:  400\n",
      "Avg reward:  47.61845386533666\n",
      "Episode:  410\n",
      "Avg reward:  47.59124087591241\n",
      "Episode:  420\n",
      "Avg reward:  47.719714964370546\n",
      "Episode:  430\n",
      "Avg reward:  47.81902552204176\n",
      "Episode:  440\n",
      "Avg reward:  47.90249433106576\n",
      "Episode:  450\n",
      "Avg reward:  47.71618625277162\n",
      "Episode:  460\n",
      "Avg reward:  47.613882863340564\n",
      "Episode:  470\n",
      "Avg reward:  47.696390658174096\n",
      "Episode:  480\n",
      "Avg reward:  47.60914760914761\n",
      "Episode:  490\n",
      "Avg reward:  47.657841140529534\n",
      "Average steps per episode:  78.26868686868687\n",
      "Average reward per episode:  47.56\n",
      "Total 500 episodes:  5\n",
      "Wins:  34\n"
     ]
    }
   ],
   "source": [
    "\n",
    "# Count the average steps per episode\n",
    "\n",
    "n = 500\n",
    "total_steps = 0\n",
    "total_reward = 0\n",
    "steps = 0\n",
    "total_500 = 0\n",
    "wins = 0\n",
    "\n",
    "for i in range(n):\n",
    "    if i % 10 == 0 and i != 0:\n",
    "        print(\"Episode: \", i)\n",
    "        \n",
    "    time_step = test_env.reset()\n",
    "    steps = 0\n",
    "    episode_reward = 0\n",
    "    while not time_step.is_last() and steps < 500:\n",
    "        steps += 1\n",
    "        action_step = agent.policy.action(time_step)\n",
    "        time_step = test_env.step(action_step.action)\n",
    "        reward = time_step.reward.numpy()[0]\n",
    "        total_reward += reward\n",
    "        episode_reward += reward\n",
    "        \n",
    "    if episode_reward == 115:\n",
    "        wins += 1\n",
    "    \n",
    "    if steps == 500:\n",
    "        total_500 += 1\n",
    "    else:\n",
    "        total_steps += steps\n",
    "        \n",
    "    if i % 10 == 0 and i != 0:\n",
    "        print(\"Avg reward: \", total_reward / (i + 1))\n",
    "        \n",
    "if steps == 500:\n",
    "    print(\"500 episodes reached\")\n",
    "    \n",
    "print(\"Average steps per episode: \", total_steps / (n - total_500))\n",
    "print(\"Average reward per episode: \", total_reward / n)\n",
    "print(\"Total 500 episodes: \", total_500)\n",
    "print(\"Wins: \", wins)\n"
   ]
  },
  {
   "cell_type": "code",
   "execution_count": 26,
   "metadata": {},
   "outputs": [
    {
     "name": "stdout",
     "output_type": "stream",
     "text": [
      "WARNING:tensorflow:Compiled the loaded model, but the compiled metrics have yet to be built. `model.compile_metrics` will be empty until you train or evaluate the model.\n"
     ]
    },
    {
     "name": "stderr",
     "output_type": "stream",
     "text": [
      "/var/folders/bw/_7s8wxw93cngpt5f7bg5s3hm0000gn/T/ipykernel_28307/4087533747.py:2: UserWarning: You are saving your model as an HDF5 file via `model.save()`. This file format is considered legacy. We recommend using instead the native Keras format, e.g. `model.save('my_model.keras')`.\n",
      "  tf.keras.models.save_model(q_net._model, \"q_network_5x5_3.h5\")\n",
      "WARNING:tensorflow:Compiled the loaded model, but the compiled metrics have yet to be built. `model.compile_metrics` will be empty until you train or evaluate the model.\n"
     ]
    }
   ],
   "source": [
    "# Save the q network weights\n",
    "tf.keras.models.save_model(q_net._model, \"q_network_x.h5\")"
   ]
  }
 ],
 "metadata": {
  "kernelspec": {
   "display_name": "base",
   "language": "python",
   "name": "python3"
  },
  "language_info": {
   "codemirror_mode": {
    "name": "ipython",
    "version": 3
   },
   "file_extension": ".py",
   "mimetype": "text/x-python",
   "name": "python",
   "nbconvert_exporter": "python",
   "pygments_lexer": "ipython3",
   "version": "3.11.4"
  },
  "orig_nbformat": 4
 },
 "nbformat": 4,
 "nbformat_minor": 2
}
