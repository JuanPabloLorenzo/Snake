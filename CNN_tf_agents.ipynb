{
 "cells": [
  {
   "cell_type": "code",
   "execution_count": 1,
   "metadata": {},
   "outputs": [],
   "source": [
    "import numpy as np\n",
    "import tensorflow as tf\n",
    "from tf_agents.networks.q_network import QNetwork\n",
    "import tf_agents.networks.network as network\n",
    "from tf_agents.specs import tensor_spec\n",
    "from snake_game import SnakeGame\n",
    "from scene import Scene\n",
    "from scene_longer_snake import SceneLongerSnake\n",
    "from tensorflow.keras import Sequential\n",
    "from tensorflow.keras.layers import Dense, Flatten, Conv2D, Input\n",
    "\n",
    "scene = SceneLongerSnake(init_randomly=True, snake_longer_prob=0.95, length_mean=10, length_std=2)\n",
    "episodes_count = 100000\n",
    "random_episodes = 20000\n"
   ]
  },
  {
   "cell_type": "code",
   "execution_count": 2,
   "metadata": {},
   "outputs": [],
   "source": [
    "from tf_agents.environments.tf_py_environment import TFPyEnvironment\n",
    "\n",
    "env = SnakeGame(scene)\n",
    "env = TFPyEnvironment(env)\n"
   ]
  },
  {
   "cell_type": "code",
   "execution_count": 3,
   "metadata": {},
   "outputs": [
    {
     "name": "stdout",
     "output_type": "stream",
     "text": [
      "Model: \"model\"\n",
      "__________________________________________________________________________________________________\n",
      " Layer (type)                Output Shape                 Param #   Connected to                  \n",
      "==================================================================================================\n",
      " input_1 (InputLayer)        [(None, 5, 5, 4)]            0         []                            \n",
      "                                                                                                  \n",
      " conv2d (Conv2D)             (None, 4, 4, 32)             544       ['input_1[0][0]']             \n",
      "                                                                                                  \n",
      " flatten (Flatten)           (None, 512)                  0         ['conv2d[0][0]']              \n",
      "                                                                                                  \n",
      " dense (Dense)               (None, 128)                  65664     ['flatten[0][0]']             \n",
      "                                                                                                  \n",
      " dense_1 (Dense)             (None, 32)                   4128      ['dense[0][0]']               \n",
      "                                                                                                  \n",
      " input_2 (InputLayer)        [(None, 4)]                  0         []                            \n",
      "                                                                                                  \n",
      " input_3 (InputLayer)        [(None, 4)]                  0         []                            \n",
      "                                                                                                  \n",
      " concatenate (Concatenate)   (None, 40)                   0         ['dense_1[0][0]',             \n",
      "                                                                     'input_2[0][0]',             \n",
      "                                                                     'input_3[0][0]']             \n",
      "                                                                                                  \n",
      " dense_2 (Dense)             (None, 4)                    164       ['concatenate[0][0]']         \n",
      "                                                                                                  \n",
      "==================================================================================================\n",
      "Total params: 70500 (275.39 KB)\n",
      "Trainable params: 70500 (275.39 KB)\n",
      "Non-trainable params: 0 (0.00 Byte)\n",
      "__________________________________________________________________________________________________\n"
     ]
    }
   ],
   "source": [
    "class MyQNetwork(network.Network):\n",
    "    def __init__(self,\n",
    "                 input_tensor_spec,\n",
    "                 action_spec,\n",
    "                 name='MyQNetwork'):\n",
    "        super(MyQNetwork, self).__init__(\n",
    "            input_tensor_spec=input_tensor_spec,\n",
    "            state_spec=(),\n",
    "            name=name)\n",
    "        \n",
    "        self._action_spec = action_spec\n",
    "        matrix_shape = input_tensor_spec[0].shape\n",
    "        obstacles_shape = input_tensor_spec[1].shape\n",
    "        no_body_blocks_shape = input_tensor_spec[2].shape\n",
    "        \n",
    "        input0 = Input(shape=matrix_shape)\n",
    "        input1 = Input(shape=obstacles_shape) # Each value represents if there is a wall or the snake body in the direction, 0 - no wall, 1 - wall\n",
    "        input2 = Input(shape=no_body_blocks_shape) # Each value represents how many no body blocks are in the direction\n",
    "        \n",
    "        conv = Conv2D(32, (2, 2), 1, activation='relu', kernel_initializer='he_normal')(input0)\n",
    "        flat = Flatten()(conv)\n",
    "        dense1 = Dense(128, activation='relu', kernel_initializer='he_normal')(flat)\n",
    "        dense2 = Dense(32, activation='relu', kernel_initializer='he_normal')(dense1)\n",
    "        \n",
    "        concat = tf.keras.layers.concatenate([dense2, input1, input2])\n",
    "        output = Dense(4, activation='linear')(concat)\n",
    "        \n",
    "        self._model = tf.keras.Model(inputs=[input0, input1, input2], outputs=output)\n",
    "        \n",
    "        self._model.summary()\n",
    "\n",
    "    def call(self, observations, step_type=None, network_state=(), training=False):\n",
    "        output = self._model([observations[0], observations[1], observations[2]])\n",
    "        return output, network_state\n",
    "\n",
    "q_net = MyQNetwork(\n",
    "    env.observation_spec(),\n",
    "    env.action_spec())\n"
   ]
  },
  {
   "cell_type": "code",
   "execution_count": 4,
   "metadata": {},
   "outputs": [
    {
     "name": "stdout",
     "output_type": "stream",
     "text": [
      "Model: \"model_1\"\n",
      "__________________________________________________________________________________________________\n",
      " Layer (type)                Output Shape                 Param #   Connected to                  \n",
      "==================================================================================================\n",
      " input_4 (InputLayer)        [(None, 5, 5, 4)]            0         []                            \n",
      "                                                                                                  \n",
      " conv2d_1 (Conv2D)           (None, 4, 4, 32)             544       ['input_4[0][0]']             \n",
      "                                                                                                  \n",
      " flatten_1 (Flatten)         (None, 512)                  0         ['conv2d_1[0][0]']            \n",
      "                                                                                                  \n",
      " dense_3 (Dense)             (None, 128)                  65664     ['flatten_1[0][0]']           \n",
      "                                                                                                  \n",
      " dense_4 (Dense)             (None, 32)                   4128      ['dense_3[0][0]']             \n",
      "                                                                                                  \n",
      " input_5 (InputLayer)        [(None, 4)]                  0         []                            \n",
      "                                                                                                  \n",
      " input_6 (InputLayer)        [(None, 4)]                  0         []                            \n",
      "                                                                                                  \n",
      " concatenate_1 (Concatenate  (None, 40)                   0         ['dense_4[0][0]',             \n",
      " )                                                                   'input_5[0][0]',             \n",
      "                                                                     'input_6[0][0]']             \n",
      "                                                                                                  \n",
      " dense_5 (Dense)             (None, 4)                    164       ['concatenate_1[0][0]']       \n",
      "                                                                                                  \n",
      "==================================================================================================\n",
      "Total params: 70500 (275.39 KB)\n",
      "Trainable params: 70500 (275.39 KB)\n",
      "Non-trainable params: 0 (0.00 Byte)\n",
      "__________________________________________________________________________________________________\n"
     ]
    }
   ],
   "source": [
    "# Create the agent\n",
    "from tf_agents.agents.dqn.dqn_agent import DdqnAgent\n",
    "from tensorflow import keras\n",
    "from keras.optimizers.legacy import Adam\n",
    "from keras.losses import Huber\n",
    "from tf_agents.trajectories import TimeStep\n",
    "\n",
    "train_step_counter = tf.Variable(0)\n",
    "optimizer = Adam(learning_rate=0.002)\n",
    "\n",
    "epsilon = keras.optimizers.schedules.PolynomialDecay(\n",
    "    initial_learning_rate=0.1,\n",
    "    decay_steps=episodes_count,\n",
    "    end_learning_rate=0.01\n",
    ")\n",
    "\n",
    "agent = DdqnAgent(\n",
    "    time_step_spec=env.time_step_spec(),\n",
    "    action_spec=env.action_spec(),\n",
    "    q_network=q_net,\n",
    "    optimizer=optimizer,\n",
    "    td_errors_loss_fn=Huber(reduction=\"none\"),\n",
    "    gamma=tf.constant(0.95, dtype=tf.float32),\n",
    "    train_step_counter=train_step_counter,\n",
    "    epsilon_greedy=lambda: epsilon(train_step_counter)\n",
    ")\n"
   ]
  },
  {
   "cell_type": "code",
   "execution_count": 5,
   "metadata": {},
   "outputs": [],
   "source": [
    "# Create the replay buffer\n",
    "from tf_agents.replay_buffers import tf_uniform_replay_buffer\n",
    "\n",
    "replay_buffer = tf_uniform_replay_buffer.TFUniformReplayBuffer(\n",
    "    data_spec=agent.collect_data_spec,\n",
    "    batch_size=env.batch_size,\n",
    "    max_length=100000\n",
    ")\n"
   ]
  },
  {
   "cell_type": "code",
   "execution_count": 6,
   "metadata": {},
   "outputs": [],
   "source": [
    "# Create the training metrics\n",
    "from tf_agents.metrics import tf_metrics\n",
    "\n",
    "train_metrics = [\n",
    "    tf_metrics.NumberOfEpisodes(),\n",
    "    tf_metrics.EnvironmentSteps(),\n",
    "    tf_metrics.AverageReturnMetric(),\n",
    "    tf_metrics.AverageEpisodeLengthMetric()\n",
    "]\n"
   ]
  },
  {
   "cell_type": "code",
   "execution_count": 7,
   "metadata": {},
   "outputs": [],
   "source": [
    "# Create the driver\n",
    "from tf_agents.drivers import dynamic_step_driver\n",
    "\n",
    "collect_driver = dynamic_step_driver.DynamicStepDriver(\n",
    "    env,\n",
    "    policy=agent.collect_policy,\n",
    "    observers=[replay_buffer.add_batch] + train_metrics,\n",
    "    num_steps=2\n",
    ")\n",
    "\n",
    "# Run a random policy to fill the replay buffer\n",
    "from tf_agents.policies.random_tf_policy import RandomTFPolicy\n",
    "\n",
    "initial_collect_policy = RandomTFPolicy(env.time_step_spec(), env.action_spec())\n",
    "init_driver = dynamic_step_driver.DynamicStepDriver(\n",
    "    env,\n",
    "    policy=initial_collect_policy,\n",
    "    observers=[replay_buffer.add_batch],\n",
    "    num_steps=random_episodes\n",
    ")\n",
    "\n",
    "final_time_step, final_policy_state = init_driver.run()\n"
   ]
  },
  {
   "cell_type": "code",
   "execution_count": 8,
   "metadata": {},
   "outputs": [
    {
     "name": "stdout",
     "output_type": "stream",
     "text": [
      "WARNING:tensorflow:From /Users/juanpablo/miniconda3/lib/python3.11/site-packages/tensorflow/python/autograph/impl/api.py:377: ReplayBuffer.get_next (from tf_agents.replay_buffers.replay_buffer) is deprecated and will be removed in a future version.\n",
      "Instructions for updating:\n",
      "Use `as_dataset(..., single_deterministic_pass=False) instead.\n"
     ]
    }
   ],
   "source": [
    "# Create the dataset\n",
    "dataset = replay_buffer.as_dataset(\n",
    "    sample_batch_size=64,\n",
    "    num_steps=2, # Capaz cambiar esto\n",
    "    num_parallel_calls=5\n",
    ").prefetch(5)\n"
   ]
  },
  {
   "cell_type": "code",
   "execution_count": 9,
   "metadata": {},
   "outputs": [],
   "source": [
    "\n",
    "# Create the training loop\n",
    "\n",
    "from tf_agents.utils.common import function\n",
    "from tf_agents.trajectories import trajectory\n",
    "from tf_agents.eval.metric_utils import log_metrics\n",
    "import logging\n",
    "\n",
    "logging.getLogger().setLevel(logging.INFO)\n",
    "\n",
    "collect_driver.run = function(collect_driver.run)\n",
    "agent.train = function(agent.train)\n",
    "\n",
    "def train_agent(n_iterations):\n",
    "    time_step = None\n",
    "    policy_state = agent.collect_policy.get_initial_state(env.batch_size)\n",
    "    iterator = iter(dataset)\n",
    "    for iteration in range(n_iterations):\n",
    "        time_step, policy_state = collect_driver.run(time_step, policy_state)\n",
    "        trajectories, buffer_info = next(iterator)\n",
    "        train_loss = agent.train(trajectories)\n",
    "        if iteration % 1000 == 0:\n",
    "            print(\"Iteration: \", iteration)\n",
    "            print(\"Replay buffer len: \" + str(replay_buffer.num_frames().numpy()))\n",
    "            log_metrics(train_metrics)\n"
   ]
  },
  {
   "cell_type": "code",
   "execution_count": 10,
   "metadata": {},
   "outputs": [
    {
     "name": "stdout",
     "output_type": "stream",
     "text": [
      "WARNING:tensorflow:From /Users/juanpablo/miniconda3/lib/python3.11/site-packages/tensorflow/python/util/dispatch.py:1260: calling foldr_v2 (from tensorflow.python.ops.functional_ops) with back_prop=False is deprecated and will be removed in a future version.\n",
      "Instructions for updating:\n",
      "back_prop=False is deprecated. Consider using tf.stop_gradient instead.\n",
      "Instead of:\n",
      "results = tf.foldr(fn, elems, back_prop=False)\n",
      "Use:\n",
      "results = tf.nest.map_structure(tf.stop_gradient, tf.foldr(fn, elems))\n"
     ]
    },
    {
     "name": "stderr",
     "output_type": "stream",
     "text": [
      "INFO:absl: \n",
      "\t\t NumberOfEpisodes = 11\n",
      "\t\t EnvironmentSteps = 2\n",
      "\t\t AverageReturn = -260.0\n",
      "\t\t AverageEpisodeLength = 0.10000000149011612\n"
     ]
    },
    {
     "name": "stdout",
     "output_type": "stream",
     "text": [
      "Iteration:  0\n",
      "Replay buffer len: 43665\n"
     ]
    },
    {
     "name": "stderr",
     "output_type": "stream",
     "text": [
      "INFO:absl: \n",
      "\t\t NumberOfEpisodes = 392\n",
      "\t\t EnvironmentSteps = 2002\n",
      "\t\t AverageReturn = -15003.5\n",
      "\t\t AverageEpisodeLength = 18.600000381469727\n"
     ]
    },
    {
     "name": "stdout",
     "output_type": "stream",
     "text": [
      "Iteration:  1000\n",
      "Replay buffer len: 46047\n"
     ]
    },
    {
     "name": "stderr",
     "output_type": "stream",
     "text": [
      "INFO:absl: \n",
      "\t\t NumberOfEpisodes = 534\n",
      "\t\t EnvironmentSteps = 4002\n",
      "\t\t AverageReturn = -20213.0\n",
      "\t\t AverageEpisodeLength = 13.699999809265137\n"
     ]
    },
    {
     "name": "stdout",
     "output_type": "stream",
     "text": [
      "Iteration:  2000\n",
      "Replay buffer len: 48189\n"
     ]
    },
    {
     "name": "stderr",
     "output_type": "stream",
     "text": [
      "INFO:absl: \n",
      "\t\t NumberOfEpisodes = 660\n",
      "\t\t EnvironmentSteps = 6002\n",
      "\t\t AverageReturn = -24396.0\n",
      "\t\t AverageEpisodeLength = 11.800000190734863\n"
     ]
    },
    {
     "name": "stdout",
     "output_type": "stream",
     "text": [
      "Iteration:  3000\n",
      "Replay buffer len: 50315\n"
     ]
    },
    {
     "name": "stderr",
     "output_type": "stream",
     "text": [
      "INFO:absl: \n",
      "\t\t NumberOfEpisodes = 803\n",
      "\t\t EnvironmentSteps = 8002\n",
      "\t\t AverageReturn = -29023.5\n",
      "\t\t AverageEpisodeLength = 12.300000190734863\n"
     ]
    },
    {
     "name": "stdout",
     "output_type": "stream",
     "text": [
      "Iteration:  4000\n",
      "Replay buffer len: 52458\n"
     ]
    },
    {
     "name": "stderr",
     "output_type": "stream",
     "text": [
      "INFO:absl: \n",
      "\t\t NumberOfEpisodes = 958\n",
      "\t\t EnvironmentSteps = 10002\n",
      "\t\t AverageReturn = -34009.0\n",
      "\t\t AverageEpisodeLength = 5.199999809265137\n"
     ]
    },
    {
     "name": "stdout",
     "output_type": "stream",
     "text": [
      "Iteration:  5000\n",
      "Replay buffer len: 54613\n"
     ]
    },
    {
     "name": "stderr",
     "output_type": "stream",
     "text": [
      "INFO:absl: \n",
      "\t\t NumberOfEpisodes = 1099\n",
      "\t\t EnvironmentSteps = 12002\n",
      "\t\t AverageReturn = -38204.5\n",
      "\t\t AverageEpisodeLength = 21.299999237060547\n"
     ]
    },
    {
     "name": "stdout",
     "output_type": "stream",
     "text": [
      "Iteration:  6000\n",
      "Replay buffer len: 56754\n"
     ]
    },
    {
     "name": "stderr",
     "output_type": "stream",
     "text": [
      "INFO:absl: \n",
      "\t\t NumberOfEpisodes = 1234\n",
      "\t\t EnvironmentSteps = 14002\n",
      "\t\t AverageReturn = -42086.5\n",
      "\t\t AverageEpisodeLength = 10.600000381469727\n"
     ]
    },
    {
     "name": "stdout",
     "output_type": "stream",
     "text": [
      "Iteration:  7000\n",
      "Replay buffer len: 58889\n"
     ]
    },
    {
     "name": "stderr",
     "output_type": "stream",
     "text": [
      "INFO:absl: \n",
      "\t\t NumberOfEpisodes = 1362\n",
      "\t\t EnvironmentSteps = 16002\n",
      "\t\t AverageReturn = -45634.5\n",
      "\t\t AverageEpisodeLength = 13.399999618530273\n"
     ]
    },
    {
     "name": "stdout",
     "output_type": "stream",
     "text": [
      "Iteration:  8000\n",
      "Replay buffer len: 61017\n"
     ]
    },
    {
     "name": "stderr",
     "output_type": "stream",
     "text": [
      "INFO:absl: \n",
      "\t\t NumberOfEpisodes = 1532\n",
      "\t\t EnvironmentSteps = 18002\n",
      "\t\t AverageReturn = -50843.5\n",
      "\t\t AverageEpisodeLength = 8.399999618530273\n"
     ]
    },
    {
     "name": "stdout",
     "output_type": "stream",
     "text": [
      "Iteration:  9000\n",
      "Replay buffer len: 63187\n"
     ]
    },
    {
     "name": "stderr",
     "output_type": "stream",
     "text": [
      "INFO:absl: \n",
      "\t\t NumberOfEpisodes = 1654\n",
      "\t\t EnvironmentSteps = 20002\n",
      "\t\t AverageReturn = -54166.0\n",
      "\t\t AverageEpisodeLength = 11.100000381469727\n"
     ]
    },
    {
     "name": "stdout",
     "output_type": "stream",
     "text": [
      "Iteration:  10000\n",
      "Replay buffer len: 65309\n"
     ]
    },
    {
     "name": "stderr",
     "output_type": "stream",
     "text": [
      "INFO:absl: \n",
      "\t\t NumberOfEpisodes = 1799\n",
      "\t\t EnvironmentSteps = 22002\n",
      "\t\t AverageReturn = -58298.0\n",
      "\t\t AverageEpisodeLength = 14.300000190734863\n"
     ]
    },
    {
     "name": "stdout",
     "output_type": "stream",
     "text": [
      "Iteration:  11000\n",
      "Replay buffer len: 67454\n"
     ]
    },
    {
     "name": "stderr",
     "output_type": "stream",
     "text": [
      "INFO:absl: \n",
      "\t\t NumberOfEpisodes = 1933\n",
      "\t\t EnvironmentSteps = 24002\n",
      "\t\t AverageReturn = -61877.0\n",
      "\t\t AverageEpisodeLength = 7.5\n"
     ]
    },
    {
     "name": "stdout",
     "output_type": "stream",
     "text": [
      "Iteration:  12000\n",
      "Replay buffer len: 69588\n"
     ]
    },
    {
     "name": "stderr",
     "output_type": "stream",
     "text": [
      "INFO:absl: \n",
      "\t\t NumberOfEpisodes = 2081\n",
      "\t\t EnvironmentSteps = 26002\n",
      "\t\t AverageReturn = -66119.5\n",
      "\t\t AverageEpisodeLength = 10.0\n"
     ]
    },
    {
     "name": "stdout",
     "output_type": "stream",
     "text": [
      "Iteration:  13000\n",
      "Replay buffer len: 71736\n"
     ]
    },
    {
     "name": "stderr",
     "output_type": "stream",
     "text": [
      "INFO:absl: \n",
      "\t\t NumberOfEpisodes = 2215\n",
      "\t\t EnvironmentSteps = 28002\n",
      "\t\t AverageReturn = -69745.0\n",
      "\t\t AverageEpisodeLength = 15.600000381469727\n"
     ]
    },
    {
     "name": "stdout",
     "output_type": "stream",
     "text": [
      "Iteration:  14000\n",
      "Replay buffer len: 73870\n"
     ]
    },
    {
     "name": "stderr",
     "output_type": "stream",
     "text": [
      "INFO:absl: \n",
      "\t\t NumberOfEpisodes = 2375\n",
      "\t\t EnvironmentSteps = 30002\n",
      "\t\t AverageReturn = -74096.5\n",
      "\t\t AverageEpisodeLength = 10.300000190734863\n"
     ]
    },
    {
     "name": "stdout",
     "output_type": "stream",
     "text": [
      "Iteration:  15000\n",
      "Replay buffer len: 76030\n"
     ]
    },
    {
     "name": "stderr",
     "output_type": "stream",
     "text": [
      "INFO:absl: \n",
      "\t\t NumberOfEpisodes = 2506\n",
      "\t\t EnvironmentSteps = 32002\n",
      "\t\t AverageReturn = -77470.0\n",
      "\t\t AverageEpisodeLength = 20.200000762939453\n"
     ]
    },
    {
     "name": "stdout",
     "output_type": "stream",
     "text": [
      "Iteration:  16000\n",
      "Replay buffer len: 78161\n"
     ]
    },
    {
     "name": "stderr",
     "output_type": "stream",
     "text": [
      "INFO:absl: \n",
      "\t\t NumberOfEpisodes = 2650\n",
      "\t\t EnvironmentSteps = 34002\n",
      "\t\t AverageReturn = -81242.0\n",
      "\t\t AverageEpisodeLength = 10.399999618530273\n"
     ]
    },
    {
     "name": "stdout",
     "output_type": "stream",
     "text": [
      "Iteration:  17000\n",
      "Replay buffer len: 80305\n"
     ]
    },
    {
     "name": "stderr",
     "output_type": "stream",
     "text": [
      "INFO:absl: \n",
      "\t\t NumberOfEpisodes = 2787\n",
      "\t\t EnvironmentSteps = 36002\n",
      "\t\t AverageReturn = -85010.5\n",
      "\t\t AverageEpisodeLength = 14.5\n"
     ]
    },
    {
     "name": "stdout",
     "output_type": "stream",
     "text": [
      "Iteration:  18000\n",
      "Replay buffer len: 82442\n"
     ]
    },
    {
     "name": "stderr",
     "output_type": "stream",
     "text": [
      "INFO:absl: \n",
      "\t\t NumberOfEpisodes = 2917\n",
      "\t\t EnvironmentSteps = 38002\n",
      "\t\t AverageReturn = -88339.0\n",
      "\t\t AverageEpisodeLength = 14.699999809265137\n"
     ]
    },
    {
     "name": "stdout",
     "output_type": "stream",
     "text": [
      "Iteration:  19000\n",
      "Replay buffer len: 84572\n"
     ]
    },
    {
     "name": "stderr",
     "output_type": "stream",
     "text": [
      "INFO:absl: \n",
      "\t\t NumberOfEpisodes = 3030\n",
      "\t\t EnvironmentSteps = 40002\n",
      "\t\t AverageReturn = -90928.0\n",
      "\t\t AverageEpisodeLength = 14.100000381469727\n"
     ]
    },
    {
     "name": "stdout",
     "output_type": "stream",
     "text": [
      "Iteration:  20000\n",
      "Replay buffer len: 86685\n"
     ]
    },
    {
     "name": "stderr",
     "output_type": "stream",
     "text": [
      "INFO:absl: \n",
      "\t\t NumberOfEpisodes = 3161\n",
      "\t\t EnvironmentSteps = 42002\n",
      "\t\t AverageReturn = -94322.5\n",
      "\t\t AverageEpisodeLength = 10.199999809265137\n"
     ]
    },
    {
     "name": "stdout",
     "output_type": "stream",
     "text": [
      "Iteration:  21000\n",
      "Replay buffer len: 88816\n"
     ]
    },
    {
     "name": "stderr",
     "output_type": "stream",
     "text": [
      "INFO:absl: \n",
      "\t\t NumberOfEpisodes = 3272\n",
      "\t\t EnvironmentSteps = 44002\n",
      "\t\t AverageReturn = -96942.5\n",
      "\t\t AverageEpisodeLength = 19.399999618530273\n"
     ]
    },
    {
     "name": "stdout",
     "output_type": "stream",
     "text": [
      "Iteration:  22000\n",
      "Replay buffer len: 90927\n"
     ]
    },
    {
     "name": "stderr",
     "output_type": "stream",
     "text": [
      "INFO:absl: \n",
      "\t\t NumberOfEpisodes = 3396\n",
      "\t\t EnvironmentSteps = 46002\n",
      "\t\t AverageReturn = -100057.5\n",
      "\t\t AverageEpisodeLength = 17.399999618530273\n"
     ]
    },
    {
     "name": "stdout",
     "output_type": "stream",
     "text": [
      "Iteration:  23000\n",
      "Replay buffer len: 93051\n"
     ]
    },
    {
     "name": "stderr",
     "output_type": "stream",
     "text": [
      "INFO:absl: \n",
      "\t\t NumberOfEpisodes = 3523\n",
      "\t\t EnvironmentSteps = 48002\n",
      "\t\t AverageReturn = -103266.5\n",
      "\t\t AverageEpisodeLength = 14.199999809265137\n"
     ]
    },
    {
     "name": "stdout",
     "output_type": "stream",
     "text": [
      "Iteration:  24000\n",
      "Replay buffer len: 95177\n"
     ]
    },
    {
     "name": "stderr",
     "output_type": "stream",
     "text": [
      "INFO:absl: \n",
      "\t\t NumberOfEpisodes = 3648\n",
      "\t\t EnvironmentSteps = 50002\n",
      "\t\t AverageReturn = -106380.5\n",
      "\t\t AverageEpisodeLength = 21.100000381469727\n"
     ]
    },
    {
     "name": "stdout",
     "output_type": "stream",
     "text": [
      "Iteration:  25000\n",
      "Replay buffer len: 97303\n"
     ]
    },
    {
     "name": "stderr",
     "output_type": "stream",
     "text": [
      "INFO:absl: \n",
      "\t\t NumberOfEpisodes = 3757\n",
      "\t\t EnvironmentSteps = 52002\n",
      "\t\t AverageReturn = -108830.5\n",
      "\t\t AverageEpisodeLength = 12.800000190734863\n"
     ]
    },
    {
     "name": "stdout",
     "output_type": "stream",
     "text": [
      "Iteration:  26000\n",
      "Replay buffer len: 99412\n"
     ]
    },
    {
     "name": "stderr",
     "output_type": "stream",
     "text": [
      "INFO:absl: \n",
      "\t\t NumberOfEpisodes = 3873\n",
      "\t\t EnvironmentSteps = 54002\n",
      "\t\t AverageReturn = -111635.0\n",
      "\t\t AverageEpisodeLength = 12.800000190734863\n"
     ]
    },
    {
     "name": "stdout",
     "output_type": "stream",
     "text": [
      "Iteration:  27000\n",
      "Replay buffer len: 100000\n"
     ]
    },
    {
     "name": "stderr",
     "output_type": "stream",
     "text": [
      "INFO:absl: \n",
      "\t\t NumberOfEpisodes = 3997\n",
      "\t\t EnvironmentSteps = 56002\n",
      "\t\t AverageReturn = -114789.5\n",
      "\t\t AverageEpisodeLength = 15.100000381469727\n"
     ]
    },
    {
     "name": "stdout",
     "output_type": "stream",
     "text": [
      "Iteration:  28000\n",
      "Replay buffer len: 100000\n"
     ]
    },
    {
     "name": "stderr",
     "output_type": "stream",
     "text": [
      "INFO:absl: \n",
      "\t\t NumberOfEpisodes = 4111\n",
      "\t\t EnvironmentSteps = 58002\n",
      "\t\t AverageReturn = -117551.5\n",
      "\t\t AverageEpisodeLength = 25.299999237060547\n"
     ]
    },
    {
     "name": "stdout",
     "output_type": "stream",
     "text": [
      "Iteration:  29000\n",
      "Replay buffer len: 100000\n"
     ]
    },
    {
     "name": "stderr",
     "output_type": "stream",
     "text": [
      "INFO:absl: \n",
      "\t\t NumberOfEpisodes = 4209\n",
      "\t\t EnvironmentSteps = 60002\n",
      "\t\t AverageReturn = -119689.5\n",
      "\t\t AverageEpisodeLength = 19.700000762939453\n"
     ]
    },
    {
     "name": "stdout",
     "output_type": "stream",
     "text": [
      "Iteration:  30000\n",
      "Replay buffer len: 100000\n"
     ]
    },
    {
     "name": "stderr",
     "output_type": "stream",
     "text": [
      "INFO:absl: \n",
      "\t\t NumberOfEpisodes = 4351\n",
      "\t\t EnvironmentSteps = 62002\n",
      "\t\t AverageReturn = -123292.0\n",
      "\t\t AverageEpisodeLength = 14.100000381469727\n"
     ]
    },
    {
     "name": "stdout",
     "output_type": "stream",
     "text": [
      "Iteration:  31000\n",
      "Replay buffer len: 100000\n"
     ]
    },
    {
     "name": "stderr",
     "output_type": "stream",
     "text": [
      "INFO:absl: \n",
      "\t\t NumberOfEpisodes = 4471\n",
      "\t\t EnvironmentSteps = 64002\n",
      "\t\t AverageReturn = -126129.0\n",
      "\t\t AverageEpisodeLength = 12.300000190734863\n"
     ]
    },
    {
     "name": "stdout",
     "output_type": "stream",
     "text": [
      "Iteration:  32000\n",
      "Replay buffer len: 100000\n"
     ]
    },
    {
     "name": "stderr",
     "output_type": "stream",
     "text": [
      "INFO:absl: \n",
      "\t\t NumberOfEpisodes = 4577\n",
      "\t\t EnvironmentSteps = 66002\n",
      "\t\t AverageReturn = -128600.0\n",
      "\t\t AverageEpisodeLength = 10.399999618530273\n"
     ]
    },
    {
     "name": "stdout",
     "output_type": "stream",
     "text": [
      "Iteration:  33000\n",
      "Replay buffer len: 100000\n"
     ]
    },
    {
     "name": "stderr",
     "output_type": "stream",
     "text": [
      "INFO:absl: \n",
      "\t\t NumberOfEpisodes = 4701\n",
      "\t\t EnvironmentSteps = 68002\n",
      "\t\t AverageReturn = -131698.5\n",
      "\t\t AverageEpisodeLength = 20.600000381469727\n"
     ]
    },
    {
     "name": "stdout",
     "output_type": "stream",
     "text": [
      "Iteration:  34000\n",
      "Replay buffer len: 100000\n"
     ]
    },
    {
     "name": "stderr",
     "output_type": "stream",
     "text": [
      "INFO:absl: \n",
      "\t\t NumberOfEpisodes = 4821\n",
      "\t\t EnvironmentSteps = 70002\n",
      "\t\t AverageReturn = -134505.0\n",
      "\t\t AverageEpisodeLength = 17.100000381469727\n"
     ]
    },
    {
     "name": "stdout",
     "output_type": "stream",
     "text": [
      "Iteration:  35000\n",
      "Replay buffer len: 100000\n"
     ]
    },
    {
     "name": "stderr",
     "output_type": "stream",
     "text": [
      "INFO:absl: \n",
      "\t\t NumberOfEpisodes = 4926\n",
      "\t\t EnvironmentSteps = 72002\n",
      "\t\t AverageReturn = -136719.5\n",
      "\t\t AverageEpisodeLength = 12.600000381469727\n"
     ]
    },
    {
     "name": "stdout",
     "output_type": "stream",
     "text": [
      "Iteration:  36000\n",
      "Replay buffer len: 100000\n"
     ]
    },
    {
     "name": "stderr",
     "output_type": "stream",
     "text": [
      "INFO:absl: \n",
      "\t\t NumberOfEpisodes = 5021\n",
      "\t\t EnvironmentSteps = 74002\n",
      "\t\t AverageReturn = -138724.5\n",
      "\t\t AverageEpisodeLength = 11.100000381469727\n"
     ]
    },
    {
     "name": "stdout",
     "output_type": "stream",
     "text": [
      "Iteration:  37000\n",
      "Replay buffer len: 100000\n"
     ]
    },
    {
     "name": "stderr",
     "output_type": "stream",
     "text": [
      "INFO:absl: \n",
      "\t\t NumberOfEpisodes = 5124\n",
      "\t\t EnvironmentSteps = 76002\n",
      "\t\t AverageReturn = -140961.0\n",
      "\t\t AverageEpisodeLength = 27.399999618530273\n"
     ]
    },
    {
     "name": "stdout",
     "output_type": "stream",
     "text": [
      "Iteration:  38000\n",
      "Replay buffer len: 100000\n"
     ]
    },
    {
     "name": "stderr",
     "output_type": "stream",
     "text": [
      "INFO:absl: \n",
      "\t\t NumberOfEpisodes = 5228\n",
      "\t\t EnvironmentSteps = 78002\n",
      "\t\t AverageReturn = -143193.5\n",
      "\t\t AverageEpisodeLength = 26.5\n"
     ]
    },
    {
     "name": "stdout",
     "output_type": "stream",
     "text": [
      "Iteration:  39000\n",
      "Replay buffer len: 100000\n"
     ]
    },
    {
     "name": "stderr",
     "output_type": "stream",
     "text": [
      "INFO:absl: \n",
      "\t\t NumberOfEpisodes = 5324\n",
      "\t\t EnvironmentSteps = 80002\n",
      "\t\t AverageReturn = -145023.5\n",
      "\t\t AverageEpisodeLength = 22.399999618530273\n"
     ]
    },
    {
     "name": "stdout",
     "output_type": "stream",
     "text": [
      "Iteration:  40000\n",
      "Replay buffer len: 100000\n"
     ]
    },
    {
     "name": "stderr",
     "output_type": "stream",
     "text": [
      "INFO:absl: \n",
      "\t\t NumberOfEpisodes = 5435\n",
      "\t\t EnvironmentSteps = 82002\n",
      "\t\t AverageReturn = -147573.0\n",
      "\t\t AverageEpisodeLength = 20.0\n"
     ]
    },
    {
     "name": "stdout",
     "output_type": "stream",
     "text": [
      "Iteration:  41000\n",
      "Replay buffer len: 100000\n"
     ]
    },
    {
     "name": "stderr",
     "output_type": "stream",
     "text": [
      "INFO:absl: \n",
      "\t\t NumberOfEpisodes = 5527\n",
      "\t\t EnvironmentSteps = 84002\n",
      "\t\t AverageReturn = -149309.5\n",
      "\t\t AverageEpisodeLength = 13.699999809265137\n"
     ]
    },
    {
     "name": "stdout",
     "output_type": "stream",
     "text": [
      "Iteration:  42000\n",
      "Replay buffer len: 100000\n"
     ]
    },
    {
     "name": "stderr",
     "output_type": "stream",
     "text": [
      "INFO:absl: \n",
      "\t\t NumberOfEpisodes = 5627\n",
      "\t\t EnvironmentSteps = 86002\n",
      "\t\t AverageReturn = -151470.5\n",
      "\t\t AverageEpisodeLength = 25.399999618530273\n"
     ]
    },
    {
     "name": "stdout",
     "output_type": "stream",
     "text": [
      "Iteration:  43000\n",
      "Replay buffer len: 100000\n"
     ]
    },
    {
     "name": "stderr",
     "output_type": "stream",
     "text": [
      "INFO:absl: \n",
      "\t\t NumberOfEpisodes = 5735\n",
      "\t\t EnvironmentSteps = 88002\n",
      "\t\t AverageReturn = -153906.5\n",
      "\t\t AverageEpisodeLength = 21.700000762939453\n"
     ]
    },
    {
     "name": "stdout",
     "output_type": "stream",
     "text": [
      "Iteration:  44000\n",
      "Replay buffer len: 100000\n"
     ]
    },
    {
     "name": "stderr",
     "output_type": "stream",
     "text": [
      "INFO:absl: \n",
      "\t\t NumberOfEpisodes = 5820\n",
      "\t\t EnvironmentSteps = 90002\n",
      "\t\t AverageReturn = -155324.0\n",
      "\t\t AverageEpisodeLength = 28.100000381469727\n"
     ]
    },
    {
     "name": "stdout",
     "output_type": "stream",
     "text": [
      "Iteration:  45000\n",
      "Replay buffer len: 100000\n"
     ]
    },
    {
     "name": "stderr",
     "output_type": "stream",
     "text": [
      "INFO:absl: \n",
      "\t\t NumberOfEpisodes = 5943\n",
      "\t\t EnvironmentSteps = 92002\n",
      "\t\t AverageReturn = -158318.5\n",
      "\t\t AverageEpisodeLength = 16.299999237060547\n"
     ]
    },
    {
     "name": "stdout",
     "output_type": "stream",
     "text": [
      "Iteration:  46000\n",
      "Replay buffer len: 100000\n"
     ]
    },
    {
     "name": "stderr",
     "output_type": "stream",
     "text": [
      "INFO:absl: \n",
      "\t\t NumberOfEpisodes = 6046\n",
      "\t\t EnvironmentSteps = 94002\n",
      "\t\t AverageReturn = -160570.0\n",
      "\t\t AverageEpisodeLength = 19.5\n"
     ]
    },
    {
     "name": "stdout",
     "output_type": "stream",
     "text": [
      "Iteration:  47000\n",
      "Replay buffer len: 100000\n"
     ]
    },
    {
     "name": "stderr",
     "output_type": "stream",
     "text": [
      "INFO:absl: \n",
      "\t\t NumberOfEpisodes = 6141\n",
      "\t\t EnvironmentSteps = 96002\n",
      "\t\t AverageReturn = -162446.5\n",
      "\t\t AverageEpisodeLength = 19.5\n"
     ]
    },
    {
     "name": "stdout",
     "output_type": "stream",
     "text": [
      "Iteration:  48000\n",
      "Replay buffer len: 100000\n"
     ]
    },
    {
     "name": "stderr",
     "output_type": "stream",
     "text": [
      "INFO:absl: \n",
      "\t\t NumberOfEpisodes = 6231\n",
      "\t\t EnvironmentSteps = 98002\n",
      "\t\t AverageReturn = -164260.5\n",
      "\t\t AverageEpisodeLength = 25.700000762939453\n"
     ]
    },
    {
     "name": "stdout",
     "output_type": "stream",
     "text": [
      "Iteration:  49000\n",
      "Replay buffer len: 100000\n"
     ]
    },
    {
     "name": "stderr",
     "output_type": "stream",
     "text": [
      "INFO:absl: \n",
      "\t\t NumberOfEpisodes = 6319\n",
      "\t\t EnvironmentSteps = 100002\n",
      "\t\t AverageReturn = -165775.0\n",
      "\t\t AverageEpisodeLength = 23.100000381469727\n"
     ]
    },
    {
     "name": "stdout",
     "output_type": "stream",
     "text": [
      "Iteration:  50000\n",
      "Replay buffer len: 100000\n"
     ]
    },
    {
     "name": "stderr",
     "output_type": "stream",
     "text": [
      "INFO:absl: \n",
      "\t\t NumberOfEpisodes = 6395\n",
      "\t\t EnvironmentSteps = 102002\n",
      "\t\t AverageReturn = -166808.0\n",
      "\t\t AverageEpisodeLength = 22.600000381469727\n"
     ]
    },
    {
     "name": "stdout",
     "output_type": "stream",
     "text": [
      "Iteration:  51000\n",
      "Replay buffer len: 100000\n"
     ]
    },
    {
     "name": "stderr",
     "output_type": "stream",
     "text": [
      "INFO:absl: \n",
      "\t\t NumberOfEpisodes = 6480\n",
      "\t\t EnvironmentSteps = 104002\n",
      "\t\t AverageReturn = -168301.5\n",
      "\t\t AverageEpisodeLength = 12.699999809265137\n"
     ]
    },
    {
     "name": "stdout",
     "output_type": "stream",
     "text": [
      "Iteration:  52000\n",
      "Replay buffer len: 100000\n"
     ]
    },
    {
     "name": "stderr",
     "output_type": "stream",
     "text": [
      "INFO:absl: \n",
      "\t\t NumberOfEpisodes = 6579\n",
      "\t\t EnvironmentSteps = 106002\n",
      "\t\t AverageReturn = -170365.5\n",
      "\t\t AverageEpisodeLength = 27.100000381469727\n"
     ]
    },
    {
     "name": "stdout",
     "output_type": "stream",
     "text": [
      "Iteration:  53000\n",
      "Replay buffer len: 100000\n"
     ]
    },
    {
     "name": "stderr",
     "output_type": "stream",
     "text": [
      "INFO:absl: \n",
      "\t\t NumberOfEpisodes = 6667\n",
      "\t\t EnvironmentSteps = 108002\n",
      "\t\t AverageReturn = -171885.5\n",
      "\t\t AverageEpisodeLength = 15.699999809265137\n"
     ]
    },
    {
     "name": "stdout",
     "output_type": "stream",
     "text": [
      "Iteration:  54000\n",
      "Replay buffer len: 100000\n"
     ]
    },
    {
     "name": "stderr",
     "output_type": "stream",
     "text": [
      "INFO:absl: \n",
      "\t\t NumberOfEpisodes = 6761\n",
      "\t\t EnvironmentSteps = 110002\n",
      "\t\t AverageReturn = -173625.5\n",
      "\t\t AverageEpisodeLength = 24.700000762939453\n"
     ]
    },
    {
     "name": "stdout",
     "output_type": "stream",
     "text": [
      "Iteration:  55000\n",
      "Replay buffer len: 100000\n"
     ]
    },
    {
     "name": "stderr",
     "output_type": "stream",
     "text": [
      "INFO:absl: \n",
      "\t\t NumberOfEpisodes = 6851\n",
      "\t\t EnvironmentSteps = 112002\n",
      "\t\t AverageReturn = -175308.5\n",
      "\t\t AverageEpisodeLength = 11.199999809265137\n"
     ]
    },
    {
     "name": "stdout",
     "output_type": "stream",
     "text": [
      "Iteration:  56000\n",
      "Replay buffer len: 100000\n"
     ]
    },
    {
     "name": "stderr",
     "output_type": "stream",
     "text": [
      "INFO:absl: \n",
      "\t\t NumberOfEpisodes = 6937\n",
      "\t\t EnvironmentSteps = 114002\n",
      "\t\t AverageReturn = -176868.0\n",
      "\t\t AverageEpisodeLength = 22.299999237060547\n"
     ]
    },
    {
     "name": "stdout",
     "output_type": "stream",
     "text": [
      "Iteration:  57000\n",
      "Replay buffer len: 100000\n"
     ]
    },
    {
     "name": "stderr",
     "output_type": "stream",
     "text": [
      "INFO:absl: \n",
      "\t\t NumberOfEpisodes = 7027\n",
      "\t\t EnvironmentSteps = 116002\n",
      "\t\t AverageReturn = -178337.5\n",
      "\t\t AverageEpisodeLength = 16.5\n"
     ]
    },
    {
     "name": "stdout",
     "output_type": "stream",
     "text": [
      "Iteration:  58000\n",
      "Replay buffer len: 100000\n"
     ]
    },
    {
     "name": "stderr",
     "output_type": "stream",
     "text": [
      "INFO:absl: \n",
      "\t\t NumberOfEpisodes = 7105\n",
      "\t\t EnvironmentSteps = 118002\n",
      "\t\t AverageReturn = -179691.0\n",
      "\t\t AverageEpisodeLength = 21.5\n"
     ]
    },
    {
     "name": "stdout",
     "output_type": "stream",
     "text": [
      "Iteration:  59000\n",
      "Replay buffer len: 100000\n"
     ]
    },
    {
     "name": "stderr",
     "output_type": "stream",
     "text": [
      "INFO:absl: \n",
      "\t\t NumberOfEpisodes = 7181\n",
      "\t\t EnvironmentSteps = 120002\n",
      "\t\t AverageReturn = -180782.5\n",
      "\t\t AverageEpisodeLength = 27.100000381469727\n"
     ]
    },
    {
     "name": "stdout",
     "output_type": "stream",
     "text": [
      "Iteration:  60000\n",
      "Replay buffer len: 100000\n"
     ]
    },
    {
     "name": "stderr",
     "output_type": "stream",
     "text": [
      "INFO:absl: \n",
      "\t\t NumberOfEpisodes = 7262\n",
      "\t\t EnvironmentSteps = 122002\n",
      "\t\t AverageReturn = -182009.0\n",
      "\t\t AverageEpisodeLength = 14.800000190734863\n"
     ]
    },
    {
     "name": "stdout",
     "output_type": "stream",
     "text": [
      "Iteration:  61000\n",
      "Replay buffer len: 100000\n"
     ]
    },
    {
     "name": "stderr",
     "output_type": "stream",
     "text": [
      "INFO:absl: \n",
      "\t\t NumberOfEpisodes = 7347\n",
      "\t\t EnvironmentSteps = 124002\n",
      "\t\t AverageReturn = -183339.5\n",
      "\t\t AverageEpisodeLength = 25.200000762939453\n"
     ]
    },
    {
     "name": "stdout",
     "output_type": "stream",
     "text": [
      "Iteration:  62000\n",
      "Replay buffer len: 100000\n"
     ]
    },
    {
     "name": "stderr",
     "output_type": "stream",
     "text": [
      "INFO:absl: \n",
      "\t\t NumberOfEpisodes = 7434\n",
      "\t\t EnvironmentSteps = 126002\n",
      "\t\t AverageReturn = -184689.5\n",
      "\t\t AverageEpisodeLength = 15.899999618530273\n"
     ]
    },
    {
     "name": "stdout",
     "output_type": "stream",
     "text": [
      "Iteration:  63000\n",
      "Replay buffer len: 100000\n"
     ]
    },
    {
     "name": "stderr",
     "output_type": "stream",
     "text": [
      "INFO:absl: \n",
      "\t\t NumberOfEpisodes = 7509\n",
      "\t\t EnvironmentSteps = 128002\n",
      "\t\t AverageReturn = -185849.5\n",
      "\t\t AverageEpisodeLength = 34.400001525878906\n"
     ]
    },
    {
     "name": "stdout",
     "output_type": "stream",
     "text": [
      "Iteration:  64000\n",
      "Replay buffer len: 100000\n"
     ]
    },
    {
     "name": "stderr",
     "output_type": "stream",
     "text": [
      "INFO:absl: \n",
      "\t\t NumberOfEpisodes = 7587\n",
      "\t\t EnvironmentSteps = 130002\n",
      "\t\t AverageReturn = -186969.0\n",
      "\t\t AverageEpisodeLength = 23.899999618530273\n"
     ]
    },
    {
     "name": "stdout",
     "output_type": "stream",
     "text": [
      "Iteration:  65000\n",
      "Replay buffer len: 100000\n"
     ]
    },
    {
     "name": "stderr",
     "output_type": "stream",
     "text": [
      "INFO:absl: \n",
      "\t\t NumberOfEpisodes = 7660\n",
      "\t\t EnvironmentSteps = 132002\n",
      "\t\t AverageReturn = -187716.0\n",
      "\t\t AverageEpisodeLength = 16.100000381469727\n"
     ]
    },
    {
     "name": "stdout",
     "output_type": "stream",
     "text": [
      "Iteration:  66000\n",
      "Replay buffer len: 100000\n"
     ]
    },
    {
     "name": "stderr",
     "output_type": "stream",
     "text": [
      "INFO:absl: \n",
      "\t\t NumberOfEpisodes = 7739\n",
      "\t\t EnvironmentSteps = 134002\n",
      "\t\t AverageReturn = -188908.0\n",
      "\t\t AverageEpisodeLength = 15.5\n"
     ]
    },
    {
     "name": "stdout",
     "output_type": "stream",
     "text": [
      "Iteration:  67000\n",
      "Replay buffer len: 100000\n"
     ]
    },
    {
     "name": "stderr",
     "output_type": "stream",
     "text": [
      "INFO:absl: \n",
      "\t\t NumberOfEpisodes = 7816\n",
      "\t\t EnvironmentSteps = 136002\n",
      "\t\t AverageReturn = -190001.5\n",
      "\t\t AverageEpisodeLength = 20.0\n"
     ]
    },
    {
     "name": "stdout",
     "output_type": "stream",
     "text": [
      "Iteration:  68000\n",
      "Replay buffer len: 100000\n"
     ]
    },
    {
     "name": "stderr",
     "output_type": "stream",
     "text": [
      "INFO:absl: \n",
      "\t\t NumberOfEpisodes = 7891\n",
      "\t\t EnvironmentSteps = 138002\n",
      "\t\t AverageReturn = -190941.0\n",
      "\t\t AverageEpisodeLength = 30.0\n"
     ]
    },
    {
     "name": "stdout",
     "output_type": "stream",
     "text": [
      "Iteration:  69000\n",
      "Replay buffer len: 100000\n"
     ]
    },
    {
     "name": "stderr",
     "output_type": "stream",
     "text": [
      "INFO:absl: \n",
      "\t\t NumberOfEpisodes = 7982\n",
      "\t\t EnvironmentSteps = 140002\n",
      "\t\t AverageReturn = -192425.0\n",
      "\t\t AverageEpisodeLength = 17.5\n"
     ]
    },
    {
     "name": "stdout",
     "output_type": "stream",
     "text": [
      "Iteration:  70000\n",
      "Replay buffer len: 100000\n"
     ]
    },
    {
     "name": "stderr",
     "output_type": "stream",
     "text": [
      "INFO:absl: \n",
      "\t\t NumberOfEpisodes = 8053\n",
      "\t\t EnvironmentSteps = 142002\n",
      "\t\t AverageReturn = -193319.5\n",
      "\t\t AverageEpisodeLength = 30.299999237060547\n"
     ]
    },
    {
     "name": "stdout",
     "output_type": "stream",
     "text": [
      "Iteration:  71000\n",
      "Replay buffer len: 100000\n"
     ]
    },
    {
     "name": "stderr",
     "output_type": "stream",
     "text": [
      "INFO:absl: \n",
      "\t\t NumberOfEpisodes = 8124\n",
      "\t\t EnvironmentSteps = 144002\n",
      "\t\t AverageReturn = -194067.0\n",
      "\t\t AverageEpisodeLength = 23.0\n"
     ]
    },
    {
     "name": "stdout",
     "output_type": "stream",
     "text": [
      "Iteration:  72000\n",
      "Replay buffer len: 100000\n"
     ]
    },
    {
     "name": "stderr",
     "output_type": "stream",
     "text": [
      "INFO:absl: \n",
      "\t\t NumberOfEpisodes = 8200\n",
      "\t\t EnvironmentSteps = 146002\n",
      "\t\t AverageReturn = -195064.0\n",
      "\t\t AverageEpisodeLength = 45.599998474121094\n"
     ]
    },
    {
     "name": "stdout",
     "output_type": "stream",
     "text": [
      "Iteration:  73000\n",
      "Replay buffer len: 100000\n"
     ]
    },
    {
     "name": "stderr",
     "output_type": "stream",
     "text": [
      "INFO:absl: \n",
      "\t\t NumberOfEpisodes = 8277\n",
      "\t\t EnvironmentSteps = 148002\n",
      "\t\t AverageReturn = -195939.0\n",
      "\t\t AverageEpisodeLength = 35.79999923706055\n"
     ]
    },
    {
     "name": "stdout",
     "output_type": "stream",
     "text": [
      "Iteration:  74000\n",
      "Replay buffer len: 100000\n"
     ]
    },
    {
     "name": "stderr",
     "output_type": "stream",
     "text": [
      "INFO:absl: \n",
      "\t\t NumberOfEpisodes = 8347\n",
      "\t\t EnvironmentSteps = 150002\n",
      "\t\t AverageReturn = -196549.0\n",
      "\t\t AverageEpisodeLength = 30.700000762939453\n"
     ]
    },
    {
     "name": "stdout",
     "output_type": "stream",
     "text": [
      "Iteration:  75000\n",
      "Replay buffer len: 100000\n"
     ]
    },
    {
     "name": "stderr",
     "output_type": "stream",
     "text": [
      "INFO:absl: \n",
      "\t\t NumberOfEpisodes = 8408\n",
      "\t\t EnvironmentSteps = 152002\n",
      "\t\t AverageReturn = -196833.0\n",
      "\t\t AverageEpisodeLength = 23.100000381469727\n"
     ]
    },
    {
     "name": "stdout",
     "output_type": "stream",
     "text": [
      "Iteration:  76000\n",
      "Replay buffer len: 100000\n"
     ]
    },
    {
     "name": "stderr",
     "output_type": "stream",
     "text": [
      "INFO:absl: \n",
      "\t\t NumberOfEpisodes = 8489\n",
      "\t\t EnvironmentSteps = 154002\n",
      "\t\t AverageReturn = -198073.0\n",
      "\t\t AverageEpisodeLength = 26.299999237060547\n"
     ]
    },
    {
     "name": "stdout",
     "output_type": "stream",
     "text": [
      "Iteration:  77000\n",
      "Replay buffer len: 100000\n"
     ]
    },
    {
     "name": "stderr",
     "output_type": "stream",
     "text": [
      "INFO:absl: \n",
      "\t\t NumberOfEpisodes = 8565\n",
      "\t\t EnvironmentSteps = 156002\n",
      "\t\t AverageReturn = -199257.0\n",
      "\t\t AverageEpisodeLength = 31.399999618530273\n"
     ]
    },
    {
     "name": "stdout",
     "output_type": "stream",
     "text": [
      "Iteration:  78000\n",
      "Replay buffer len: 100000\n"
     ]
    },
    {
     "name": "stderr",
     "output_type": "stream",
     "text": [
      "INFO:absl: \n",
      "\t\t NumberOfEpisodes = 8633\n",
      "\t\t EnvironmentSteps = 158002\n",
      "\t\t AverageReturn = -200065.0\n",
      "\t\t AverageEpisodeLength = 18.799999237060547\n"
     ]
    },
    {
     "name": "stdout",
     "output_type": "stream",
     "text": [
      "Iteration:  79000\n",
      "Replay buffer len: 100000\n"
     ]
    },
    {
     "name": "stderr",
     "output_type": "stream",
     "text": [
      "INFO:absl: \n",
      "\t\t NumberOfEpisodes = 8697\n",
      "\t\t EnvironmentSteps = 160002\n",
      "\t\t AverageReturn = -200473.5\n",
      "\t\t AverageEpisodeLength = 33.099998474121094\n"
     ]
    },
    {
     "name": "stdout",
     "output_type": "stream",
     "text": [
      "Iteration:  80000\n",
      "Replay buffer len: 100000\n"
     ]
    },
    {
     "name": "stderr",
     "output_type": "stream",
     "text": [
      "INFO:absl: \n",
      "\t\t NumberOfEpisodes = 8772\n",
      "\t\t EnvironmentSteps = 162002\n",
      "\t\t AverageReturn = -201445.0\n",
      "\t\t AverageEpisodeLength = 39.900001525878906\n"
     ]
    },
    {
     "name": "stdout",
     "output_type": "stream",
     "text": [
      "Iteration:  81000\n",
      "Replay buffer len: 100000\n"
     ]
    },
    {
     "name": "stderr",
     "output_type": "stream",
     "text": [
      "INFO:absl: \n",
      "\t\t NumberOfEpisodes = 8830\n",
      "\t\t EnvironmentSteps = 164002\n",
      "\t\t AverageReturn = -201611.0\n",
      "\t\t AverageEpisodeLength = 36.400001525878906\n"
     ]
    },
    {
     "name": "stdout",
     "output_type": "stream",
     "text": [
      "Iteration:  82000\n",
      "Replay buffer len: 100000\n"
     ]
    },
    {
     "name": "stderr",
     "output_type": "stream",
     "text": [
      "INFO:absl: \n",
      "\t\t NumberOfEpisodes = 8912\n",
      "\t\t EnvironmentSteps = 166002\n",
      "\t\t AverageReturn = -202686.0\n",
      "\t\t AverageEpisodeLength = 26.600000381469727\n"
     ]
    },
    {
     "name": "stdout",
     "output_type": "stream",
     "text": [
      "Iteration:  83000\n",
      "Replay buffer len: 100000\n"
     ]
    },
    {
     "name": "stderr",
     "output_type": "stream",
     "text": [
      "INFO:absl: \n",
      "\t\t NumberOfEpisodes = 8979\n",
      "\t\t EnvironmentSteps = 168002\n",
      "\t\t AverageReturn = -203526.0\n",
      "\t\t AverageEpisodeLength = 32.29999923706055\n"
     ]
    },
    {
     "name": "stdout",
     "output_type": "stream",
     "text": [
      "Iteration:  84000\n",
      "Replay buffer len: 100000\n"
     ]
    },
    {
     "name": "stderr",
     "output_type": "stream",
     "text": [
      "INFO:absl: \n",
      "\t\t NumberOfEpisodes = 9045\n",
      "\t\t EnvironmentSteps = 170002\n",
      "\t\t AverageReturn = -204182.5\n",
      "\t\t AverageEpisodeLength = 32.5\n"
     ]
    },
    {
     "name": "stdout",
     "output_type": "stream",
     "text": [
      "Iteration:  85000\n",
      "Replay buffer len: 100000\n"
     ]
    },
    {
     "name": "stderr",
     "output_type": "stream",
     "text": [
      "INFO:absl: \n",
      "\t\t NumberOfEpisodes = 9106\n",
      "\t\t EnvironmentSteps = 172002\n",
      "\t\t AverageReturn = -204293.0\n",
      "\t\t AverageEpisodeLength = 27.0\n"
     ]
    },
    {
     "name": "stdout",
     "output_type": "stream",
     "text": [
      "Iteration:  86000\n",
      "Replay buffer len: 100000\n"
     ]
    },
    {
     "name": "stderr",
     "output_type": "stream",
     "text": [
      "INFO:absl: \n",
      "\t\t NumberOfEpisodes = 9171\n",
      "\t\t EnvironmentSteps = 174002\n",
      "\t\t AverageReturn = -204870.0\n",
      "\t\t AverageEpisodeLength = 27.799999237060547\n"
     ]
    },
    {
     "name": "stdout",
     "output_type": "stream",
     "text": [
      "Iteration:  87000\n",
      "Replay buffer len: 100000\n"
     ]
    },
    {
     "name": "stderr",
     "output_type": "stream",
     "text": [
      "INFO:absl: \n",
      "\t\t NumberOfEpisodes = 9234\n",
      "\t\t EnvironmentSteps = 176002\n",
      "\t\t AverageReturn = -205332.5\n",
      "\t\t AverageEpisodeLength = 33.400001525878906\n"
     ]
    },
    {
     "name": "stdout",
     "output_type": "stream",
     "text": [
      "Iteration:  88000\n",
      "Replay buffer len: 100000\n"
     ]
    },
    {
     "name": "stderr",
     "output_type": "stream",
     "text": [
      "INFO:absl: \n",
      "\t\t NumberOfEpisodes = 9304\n",
      "\t\t EnvironmentSteps = 178002\n",
      "\t\t AverageReturn = -206125.5\n",
      "\t\t AverageEpisodeLength = 43.5\n"
     ]
    },
    {
     "name": "stdout",
     "output_type": "stream",
     "text": [
      "Iteration:  89000\n",
      "Replay buffer len: 100000\n"
     ]
    },
    {
     "name": "stderr",
     "output_type": "stream",
     "text": [
      "INFO:absl: \n",
      "\t\t NumberOfEpisodes = 9362\n",
      "\t\t EnvironmentSteps = 180002\n",
      "\t\t AverageReturn = -206227.0\n",
      "\t\t AverageEpisodeLength = 23.0\n"
     ]
    },
    {
     "name": "stdout",
     "output_type": "stream",
     "text": [
      "Iteration:  90000\n",
      "Replay buffer len: 100000\n"
     ]
    },
    {
     "name": "stderr",
     "output_type": "stream",
     "text": [
      "INFO:absl: \n",
      "\t\t NumberOfEpisodes = 9428\n",
      "\t\t EnvironmentSteps = 182002\n",
      "\t\t AverageReturn = -206526.5\n",
      "\t\t AverageEpisodeLength = 23.899999618530273\n"
     ]
    },
    {
     "name": "stdout",
     "output_type": "stream",
     "text": [
      "Iteration:  91000\n",
      "Replay buffer len: 100000\n"
     ]
    },
    {
     "name": "stderr",
     "output_type": "stream",
     "text": [
      "INFO:absl: \n",
      "\t\t NumberOfEpisodes = 9490\n",
      "\t\t EnvironmentSteps = 184002\n",
      "\t\t AverageReturn = -206850.5\n",
      "\t\t AverageEpisodeLength = 37.79999923706055\n"
     ]
    },
    {
     "name": "stdout",
     "output_type": "stream",
     "text": [
      "Iteration:  92000\n",
      "Replay buffer len: 100000\n"
     ]
    },
    {
     "name": "stderr",
     "output_type": "stream",
     "text": [
      "INFO:absl: \n",
      "\t\t NumberOfEpisodes = 9549\n",
      "\t\t EnvironmentSteps = 186002\n",
      "\t\t AverageReturn = -207084.0\n",
      "\t\t AverageEpisodeLength = 39.900001525878906\n"
     ]
    },
    {
     "name": "stdout",
     "output_type": "stream",
     "text": [
      "Iteration:  93000\n",
      "Replay buffer len: 100000\n"
     ]
    },
    {
     "name": "stderr",
     "output_type": "stream",
     "text": [
      "INFO:absl: \n",
      "\t\t NumberOfEpisodes = 9604\n",
      "\t\t EnvironmentSteps = 188002\n",
      "\t\t AverageReturn = -207096.5\n",
      "\t\t AverageEpisodeLength = 46.0\n"
     ]
    },
    {
     "name": "stdout",
     "output_type": "stream",
     "text": [
      "Iteration:  94000\n",
      "Replay buffer len: 100000\n"
     ]
    },
    {
     "name": "stderr",
     "output_type": "stream",
     "text": [
      "INFO:absl: \n",
      "\t\t NumberOfEpisodes = 9657\n",
      "\t\t EnvironmentSteps = 190002\n",
      "\t\t AverageReturn = -207052.5\n",
      "\t\t AverageEpisodeLength = 42.0\n"
     ]
    },
    {
     "name": "stdout",
     "output_type": "stream",
     "text": [
      "Iteration:  95000\n",
      "Replay buffer len: 100000\n"
     ]
    },
    {
     "name": "stderr",
     "output_type": "stream",
     "text": [
      "INFO:absl: \n",
      "\t\t NumberOfEpisodes = 9710\n",
      "\t\t EnvironmentSteps = 192002\n",
      "\t\t AverageReturn = -207019.0\n",
      "\t\t AverageEpisodeLength = 33.20000076293945\n"
     ]
    },
    {
     "name": "stdout",
     "output_type": "stream",
     "text": [
      "Iteration:  96000\n",
      "Replay buffer len: 100000\n"
     ]
    },
    {
     "name": "stderr",
     "output_type": "stream",
     "text": [
      "INFO:absl: \n",
      "\t\t NumberOfEpisodes = 9765\n",
      "\t\t EnvironmentSteps = 194002\n",
      "\t\t AverageReturn = -207141.0\n",
      "\t\t AverageEpisodeLength = 40.70000076293945\n"
     ]
    },
    {
     "name": "stdout",
     "output_type": "stream",
     "text": [
      "Iteration:  97000\n",
      "Replay buffer len: 100000\n"
     ]
    },
    {
     "name": "stderr",
     "output_type": "stream",
     "text": [
      "INFO:absl: \n",
      "\t\t NumberOfEpisodes = 9826\n",
      "\t\t EnvironmentSteps = 196002\n",
      "\t\t AverageReturn = -207325.5\n",
      "\t\t AverageEpisodeLength = 45.20000076293945\n"
     ]
    },
    {
     "name": "stdout",
     "output_type": "stream",
     "text": [
      "Iteration:  98000\n",
      "Replay buffer len: 100000\n"
     ]
    },
    {
     "name": "stderr",
     "output_type": "stream",
     "text": [
      "INFO:absl: \n",
      "\t\t NumberOfEpisodes = 9877\n",
      "\t\t EnvironmentSteps = 198002\n",
      "\t\t AverageReturn = -207287.5\n",
      "\t\t AverageEpisodeLength = 50.79999923706055\n"
     ]
    },
    {
     "name": "stdout",
     "output_type": "stream",
     "text": [
      "Iteration:  99000\n",
      "Replay buffer len: 100000\n"
     ]
    }
   ],
   "source": [
    "train_agent(episodes_count)\n"
   ]
  },
  {
   "cell_type": "code",
   "execution_count": 59,
   "metadata": {},
   "outputs": [
    {
     "name": "stdout",
     "output_type": "stream",
     "text": [
      "Map:\n",
      " [[[0 0 0 1 2]\n",
      "  [0 0 0 0 0]\n",
      "  [0 0 0 0 3]\n",
      "  [0 0 0 0 0]\n",
      "  [0 0 0 0 0]]]\n",
      "Direction:\n",
      " tf.Tensor([[False  True  True False]], shape=(1, 4), dtype=bool)\n",
      "No body blocks:\n",
      " tf.Tensor([[0.375 0.    0.125 0.5  ]], shape=(1, 4), dtype=float32)\n",
      "Action:  [3]\n",
      "Map:\n",
      " [[[0 0 0 2 0]\n",
      "  [0 0 0 1 0]\n",
      "  [0 0 0 0 3]\n",
      "  [0 0 0 0 0]\n",
      "  [0 0 0 0 0]]]\n",
      "Direction:\n",
      " tf.Tensor([[False  True False False]], shape=(1, 4), dtype=bool)\n",
      "No body blocks:\n",
      " tf.Tensor([[0.375 0.125 0.125 0.375]], shape=(1, 4), dtype=float32)\n",
      "Action:  [3]\n",
      "Map:\n",
      " [[[0 0 0 0 0]\n",
      "  [0 0 0 2 0]\n",
      "  [0 0 0 1 3]\n",
      "  [0 0 0 0 0]\n",
      "  [0 0 0 0 0]]]\n",
      "Direction:\n",
      " tf.Tensor([[False  True False False]], shape=(1, 4), dtype=bool)\n",
      "No body blocks:\n",
      " tf.Tensor([[0.375 0.25  0.125 0.25 ]], shape=(1, 4), dtype=float32)\n",
      "Action:  [2]\n",
      "Map:\n",
      " [[[0 0 0 0 0]\n",
      "  [0 0 0 2 0]\n",
      "  [3 0 0 2 1]\n",
      "  [0 0 0 0 0]\n",
      "  [0 0 0 0 0]]]\n",
      "Direction:\n",
      " tf.Tensor([[ True False  True False]], shape=(1, 4), dtype=bool)\n",
      "No body blocks:\n",
      " tf.Tensor([[0.4871795  0.25641027 0.         0.25641027]], shape=(1, 4), dtype=float32)\n",
      "Action:  [1]\n",
      "Map:\n",
      " [[[0 0 0 0 0]\n",
      "  [0 0 0 0 1]\n",
      "  [3 0 0 2 2]\n",
      "  [0 0 0 0 0]\n",
      "  [0 0 0 0 0]]]\n",
      "Direction:\n",
      " tf.Tensor([[False False  True  True]], shape=(1, 4), dtype=bool)\n",
      "No body blocks:\n",
      " tf.Tensor([[0.51282054 0.12820514 0.         0.35897437]], shape=(1, 4), dtype=float32)\n",
      "Action:  [0]\n",
      "Map:\n",
      " [[[0 0 0 0 0]\n",
      "  [0 0 0 1 2]\n",
      "  [3 0 0 0 2]\n",
      "  [0 0 0 0 0]\n",
      "  [0 0 0 0 0]]]\n",
      "Direction:\n",
      " tf.Tensor([[False False  True False]], shape=(1, 4), dtype=bool)\n",
      "No body blocks:\n",
      " tf.Tensor([[0.3846154  0.12820514 0.1025641  0.3846154 ]], shape=(1, 4), dtype=float32)\n",
      "Action:  [0]\n",
      "Map:\n",
      " [[[0 0 0 0 0]\n",
      "  [0 0 1 2 2]\n",
      "  [3 0 0 0 0]\n",
      "  [0 0 0 0 0]\n",
      "  [0 0 0 0 0]]]\n",
      "Direction:\n",
      " tf.Tensor([[False False  True False]], shape=(1, 4), dtype=bool)\n",
      "No body blocks:\n",
      " tf.Tensor([[0.25641027 0.12820514 0.23076923 0.3846154 ]], shape=(1, 4), dtype=float32)\n",
      "Action:  [0]\n",
      "Map:\n",
      " [[[0 0 0 0 0]\n",
      "  [0 1 2 2 0]\n",
      "  [3 0 0 0 0]\n",
      "  [0 0 0 0 0]\n",
      "  [0 0 0 0 0]]]\n",
      "Direction:\n",
      " tf.Tensor([[False False  True False]], shape=(1, 4), dtype=bool)\n",
      "No body blocks:\n",
      " tf.Tensor([[0.12820514 0.12820514 0.35897437 0.3846154 ]], shape=(1, 4), dtype=float32)\n",
      "Action:  [0]\n",
      "Map:\n",
      " [[[0 0 0 0 0]\n",
      "  [1 2 2 0 0]\n",
      "  [3 0 0 0 0]\n",
      "  [0 0 0 0 0]\n",
      "  [0 0 0 0 0]]]\n",
      "Direction:\n",
      " tf.Tensor([[ True False  True False]], shape=(1, 4), dtype=bool)\n",
      "No body blocks:\n",
      " tf.Tensor([[0.         0.12820514 0.4871795  0.3846154 ]], shape=(1, 4), dtype=float32)\n",
      "Action:  [3]\n",
      "Map:\n",
      " [[[0 0 0 0 3]\n",
      "  [2 2 2 0 0]\n",
      "  [1 0 0 0 0]\n",
      "  [0 0 0 0 0]\n",
      "  [0 0 0 0 0]]]\n",
      "Direction:\n",
      " tf.Tensor([[ True  True False False]], shape=(1, 4), dtype=bool)\n",
      "No body blocks:\n",
      " tf.Tensor([[0.         0.21621622 0.5135135  0.27027026]], shape=(1, 4), dtype=float32)\n",
      "Action:  [2]\n",
      "Map:\n",
      " [[[0 0 0 0 3]\n",
      "  [2 2 0 0 0]\n",
      "  [2 1 0 0 0]\n",
      "  [0 0 0 0 0]\n",
      "  [0 0 0 0 0]]]\n",
      "Direction:\n",
      " tf.Tensor([[ True False False False]], shape=(1, 4), dtype=bool)\n",
      "No body blocks:\n",
      " tf.Tensor([[0.08108108 0.24324325 0.4054054  0.27027026]], shape=(1, 4), dtype=float32)\n",
      "Action:  [2]\n",
      "Map:\n",
      " [[[0 0 0 0 3]\n",
      "  [2 0 0 0 0]\n",
      "  [2 2 1 0 0]\n",
      "  [0 0 0 0 0]\n",
      "  [0 0 0 0 0]]]\n",
      "Direction:\n",
      " tf.Tensor([[ True False False False]], shape=(1, 4), dtype=bool)\n",
      "No body blocks:\n",
      " tf.Tensor([[0.21052632 0.2631579  0.2631579  0.2631579 ]], shape=(1, 4), dtype=float32)\n",
      "Action:  [2]\n",
      "Map:\n",
      " [[[0 0 0 0 3]\n",
      "  [0 0 0 0 0]\n",
      "  [2 2 2 1 0]\n",
      "  [0 0 0 0 0]\n",
      "  [0 0 0 0 0]]]\n",
      "Direction:\n",
      " tf.Tensor([[ True False False False]], shape=(1, 4), dtype=bool)\n",
      "No body blocks:\n",
      " tf.Tensor([[0.34210527 0.2631579  0.13157895 0.2631579 ]], shape=(1, 4), dtype=float32)\n",
      "Action:  [1]\n",
      "Map:\n",
      " [[[0 0 0 0 3]\n",
      "  [0 0 0 1 0]\n",
      "  [0 2 2 2 0]\n",
      "  [0 0 0 0 0]\n",
      "  [0 0 0 0 0]]]\n",
      "Direction:\n",
      " tf.Tensor([[False False False  True]], shape=(1, 4), dtype=bool)\n",
      "No body blocks:\n",
      " tf.Tensor([[0.3783784  0.13513513 0.13513513 0.35135135]], shape=(1, 4), dtype=float32)\n",
      "Action:  [1]\n",
      "Map:\n",
      " [[[0 0 0 1 3]\n",
      "  [0 0 0 2 0]\n",
      "  [0 0 2 2 0]\n",
      "  [0 0 0 0 0]\n",
      "  [0 0 0 0 0]]]\n",
      "Direction:\n",
      " tf.Tensor([[False  True False  True]], shape=(1, 4), dtype=bool)\n",
      "No body blocks:\n",
      " tf.Tensor([[0.39473686 0.         0.13157895 0.47368422]], shape=(1, 4), dtype=float32)\n",
      "Action:  [2]\n",
      "Map:\n",
      " [[[0 0 0 2 1]\n",
      "  [0 0 0 2 3]\n",
      "  [0 0 2 2 0]\n",
      "  [0 0 0 0 0]\n",
      "  [0 0 0 0 0]]]\n",
      "Direction:\n",
      " tf.Tensor([[ True  True  True False]], shape=(1, 4), dtype=bool)\n",
      "No body blocks:\n",
      " tf.Tensor([[0.4857143  0.         0.         0.51428574]], shape=(1, 4), dtype=float32)\n",
      "Action:  [3]\n",
      "Map:\n",
      " [[[0 0 0 2 2]\n",
      "  [0 0 0 2 1]\n",
      "  [0 0 2 2 3]\n",
      "  [0 0 0 0 0]\n",
      "  [0 0 0 0 0]]]\n",
      "Direction:\n",
      " tf.Tensor([[ True  True  True False]], shape=(1, 4), dtype=bool)\n",
      "No body blocks:\n",
      " tf.Tensor([[0.5       0.0882353 0.        0.4117647]], shape=(1, 4), dtype=float32)\n",
      "Action:  [3]\n",
      "Map:\n",
      " [[[3 0 0 2 2]\n",
      "  [0 0 0 2 2]\n",
      "  [0 0 2 2 1]\n",
      "  [0 0 0 0 0]\n",
      "  [0 0 0 0 0]]]\n",
      "Direction:\n",
      " tf.Tensor([[ True  True  True False]], shape=(1, 4), dtype=bool)\n",
      "No body blocks:\n",
      " tf.Tensor([[0.5151515  0.18181819 0.         0.3030303 ]], shape=(1, 4), dtype=float32)\n",
      "Action:  [3]\n",
      "Map:\n",
      " [[[3 0 0 2 2]\n",
      "  [0 0 0 2 2]\n",
      "  [0 0 0 2 2]\n",
      "  [0 0 0 0 1]\n",
      "  [0 0 0 0 0]]]\n",
      "Direction:\n",
      " tf.Tensor([[False  True  True False]], shape=(1, 4), dtype=bool)\n",
      "No body blocks:\n",
      " tf.Tensor([[0.54545456 0.3030303  0.         0.15151516]], shape=(1, 4), dtype=float32)\n",
      "Action:  [0]\n",
      "Map:\n",
      " [[[3 0 0 2 2]\n",
      "  [0 0 0 2 2]\n",
      "  [0 0 0 0 2]\n",
      "  [0 0 0 1 2]\n",
      "  [0 0 0 0 0]]]\n",
      "Direction:\n",
      " tf.Tensor([[False False  True False]], shape=(1, 4), dtype=bool)\n",
      "No body blocks:\n",
      " tf.Tensor([[0.46875 0.34375 0.03125 0.15625]], shape=(1, 4), dtype=float32)\n",
      "Action:  [1]\n",
      "Map:\n",
      " [[[3 0 0 2 2]\n",
      "  [0 0 0 0 2]\n",
      "  [0 0 0 1 2]\n",
      "  [0 0 0 2 2]\n",
      "  [0 0 0 0 0]]]\n",
      "Direction:\n",
      " tf.Tensor([[False False  True  True]], shape=(1, 4), dtype=bool)\n",
      "No body blocks:\n",
      " tf.Tensor([[0.46875 0.25    0.03125 0.25   ]], shape=(1, 4), dtype=float32)\n",
      "Action:  [1]\n",
      "Map:\n",
      " [[[3 0 0 0 2]\n",
      "  [0 0 0 1 2]\n",
      "  [0 0 0 2 2]\n",
      "  [0 0 0 2 2]\n",
      "  [0 0 0 0 0]]]\n",
      "Direction:\n",
      " tf.Tensor([[False False  True  True]], shape=(1, 4), dtype=bool)\n",
      "No body blocks:\n",
      " tf.Tensor([[0.45454547 0.15151516 0.06060606 0.33333334]], shape=(1, 4), dtype=float32)\n",
      "Action:  [0]\n",
      "Map:\n",
      " [[[3 0 0 0 0]\n",
      "  [0 0 1 2 2]\n",
      "  [0 0 0 2 2]\n",
      "  [0 0 0 2 2]\n",
      "  [0 0 0 0 0]]]\n",
      "Direction:\n",
      " tf.Tensor([[False False  True False]], shape=(1, 4), dtype=bool)\n",
      "No body blocks:\n",
      " tf.Tensor([[0.32258064 0.16129032 0.16129032 0.3548387 ]], shape=(1, 4), dtype=float32)\n",
      "Action:  [1]\n",
      "Map:\n",
      " [[[3 0 1 0 0]\n",
      "  [0 0 2 2 0]\n",
      "  [0 0 0 2 2]\n",
      "  [0 0 0 2 2]\n",
      "  [0 0 0 0 0]]]\n",
      "Direction:\n",
      " tf.Tensor([[False  True False  True]], shape=(1, 4), dtype=bool)\n",
      "No body blocks:\n",
      " tf.Tensor([[0.32258064 0.         0.19354838 0.48387095]], shape=(1, 4), dtype=float32)\n",
      "Action:  [0]\n",
      "Map:\n",
      " [[[3 1 2 0 0]\n",
      "  [0 0 2 2 0]\n",
      "  [0 0 0 2 0]\n",
      "  [0 0 0 2 2]\n",
      "  [0 0 0 0 0]]]\n",
      "Direction:\n",
      " tf.Tensor([[False  True  True False]], shape=(1, 4), dtype=bool)\n",
      "No body blocks:\n",
      " tf.Tensor([[0.16129032 0.         0.32258064 0.516129  ]], shape=(1, 4), dtype=float32)\n",
      "Action:  [0]\n",
      "Map:\n",
      " [[[1 2 2 0 0]\n",
      "  [0 0 2 2 0]\n",
      "  [3 0 0 2 0]\n",
      "  [0 0 0 2 2]\n",
      "  [0 0 0 0 0]]]\n",
      "Direction:\n",
      " tf.Tensor([[ True  True  True False]], shape=(1, 4), dtype=bool)\n",
      "No body blocks:\n",
      " tf.Tensor([[0.         0.         0.46666667 0.53333336]], shape=(1, 4), dtype=float32)\n",
      "Action:  [3]\n",
      "Map:\n",
      " [[[2 2 2 0 0]\n",
      "  [1 0 2 2 0]\n",
      "  [3 0 0 2 0]\n",
      "  [0 0 0 2 0]\n",
      "  [0 0 0 0 0]]]\n",
      "Direction:\n",
      " tf.Tensor([[ True  True False False]], shape=(1, 4), dtype=bool)\n",
      "No body blocks:\n",
      " tf.Tensor([[0.         0.06451613 0.48387095 0.4516129 ]], shape=(1, 4), dtype=float32)\n",
      "Action:  [3]\n",
      "Map:\n",
      " [[[2 2 2 0 0]\n",
      "  [2 0 2 2 0]\n",
      "  [1 0 3 2 0]\n",
      "  [0 0 0 2 0]\n",
      "  [0 0 0 0 0]]]\n",
      "Direction:\n",
      " tf.Tensor([[ True  True False False]], shape=(1, 4), dtype=bool)\n",
      "No body blocks:\n",
      " tf.Tensor([[0.         0.13793103 0.51724136 0.3448276 ]], shape=(1, 4), dtype=float32)\n",
      "Action:  [2]\n",
      "Map:\n",
      " [[[2 2 2 0 0]\n",
      "  [2 0 2 2 0]\n",
      "  [2 1 3 2 0]\n",
      "  [0 0 0 0 0]\n",
      "  [0 0 0 0 0]]]\n",
      "Direction:\n",
      " tf.Tensor([[ True False False False]], shape=(1, 4), dtype=bool)\n",
      "No body blocks:\n",
      " tf.Tensor([[0.07142857 0.14285715 0.42857143 0.35714287]], shape=(1, 4), dtype=float32)\n",
      "Action:  [2]\n",
      "Map:\n",
      " [[[2 2 2 0 0]\n",
      "  [2 3 2 2 0]\n",
      "  [2 2 1 2 0]\n",
      "  [0 0 0 0 0]\n",
      "  [0 0 0 0 0]]]\n",
      "Direction:\n",
      " tf.Tensor([[ True  True False False]], shape=(1, 4), dtype=bool)\n",
      "No body blocks:\n",
      " tf.Tensor([[0.17857143 0.14285715 0.32142857 0.35714287]], shape=(1, 4), dtype=float32)\n",
      "Action:  [3]\n",
      "Map:\n",
      " [[[2 2 2 0 0]\n",
      "  [2 3 2 2 0]\n",
      "  [2 2 2 0 0]\n",
      "  [0 0 1 0 0]\n",
      "  [0 0 0 0 0]]]\n",
      "Direction:\n",
      " tf.Tensor([[False  True False False]], shape=(1, 4), dtype=bool)\n",
      "No body blocks:\n",
      " tf.Tensor([[0.18518518 0.25925925 0.37037036 0.18518518]], shape=(1, 4), dtype=float32)\n",
      "Action:  [2]\n",
      "Map:\n",
      " [[[2 2 2 0 0]\n",
      "  [2 3 2 0 0]\n",
      "  [2 2 2 0 0]\n",
      "  [0 0 2 1 0]\n",
      "  [0 0 0 0 0]]]\n",
      "Direction:\n",
      " tf.Tensor([[ True False False False]], shape=(1, 4), dtype=bool)\n",
      "No body blocks:\n",
      " tf.Tensor([[0.28 0.32 0.2  0.2 ]], shape=(1, 4), dtype=float32)\n",
      "Action:  [1]\n",
      "Map:\n",
      " [[[2 2 2 0 0]\n",
      "  [2 3 0 0 0]\n",
      "  [2 2 2 1 0]\n",
      "  [0 0 2 2 0]\n",
      "  [0 0 0 0 0]]]\n",
      "Direction:\n",
      " tf.Tensor([[ True False False  True]], shape=(1, 4), dtype=bool)\n",
      "No body blocks:\n",
      " tf.Tensor([[0.2857143  0.25       0.17857143 0.2857143 ]], shape=(1, 4), dtype=float32)\n",
      "Action:  [1]\n",
      "Map:\n",
      " [[[2 2 0 0 0]\n",
      "  [2 3 0 1 0]\n",
      "  [2 2 2 2 0]\n",
      "  [0 0 2 2 0]\n",
      "  [0 0 0 0 0]]]\n",
      "Direction:\n",
      " tf.Tensor([[False False False  True]], shape=(1, 4), dtype=bool)\n",
      "No body blocks:\n",
      " tf.Tensor([[0.33333334 0.14814815 0.18518518 0.33333334]], shape=(1, 4), dtype=float32)\n",
      "Action:  [0]\n",
      "Map:\n",
      " [[[2 0 0 0 0]\n",
      "  [2 3 1 2 0]\n",
      "  [2 2 2 2 0]\n",
      "  [0 0 2 2 0]\n",
      "  [0 0 0 0 0]]]\n",
      "Direction:\n",
      " tf.Tensor([[False False  True  True]], shape=(1, 4), dtype=bool)\n",
      "No body blocks:\n",
      " tf.Tensor([[0.25       0.17857143 0.25       0.32142857]], shape=(1, 4), dtype=float32)\n",
      "Action:  [0]\n",
      "Map:\n",
      " [[[2 0 0 0 0]\n",
      "  [2 1 2 2 0]\n",
      "  [2 2 2 2 0]\n",
      "  [0 0 2 2 0]\n",
      "  [0 0 3 0 0]]]\n",
      "Direction:\n",
      " tf.Tensor([[ True False  True  True]], shape=(1, 4), dtype=bool)\n",
      "No body blocks:\n",
      " tf.Tensor([[0.11538462 0.1923077  0.34615386 0.34615386]], shape=(1, 4), dtype=float32)\n",
      "Action:  [1]\n",
      "Map:\n",
      " [[[0 1 0 0 0]\n",
      "  [2 2 2 2 0]\n",
      "  [2 2 2 2 0]\n",
      "  [0 0 2 2 0]\n",
      "  [0 0 3 0 0]]]\n",
      "Direction:\n",
      " tf.Tensor([[False  True False  True]], shape=(1, 4), dtype=bool)\n",
      "No body blocks:\n",
      " tf.Tensor([[0.16666667 0.         0.375      0.45833334]], shape=(1, 4), dtype=float32)\n",
      "Action:  [2]\n",
      "Map:\n",
      " [[[0 2 1 0 0]\n",
      "  [0 2 2 2 0]\n",
      "  [2 2 2 2 0]\n",
      "  [0 0 2 2 0]\n",
      "  [0 0 3 0 0]]]\n",
      "Direction:\n",
      " tf.Tensor([[ True  True False  True]], shape=(1, 4), dtype=bool)\n",
      "No body blocks:\n",
      " tf.Tensor([[0.26923078 0.         0.26923078 0.46153846]], shape=(1, 4), dtype=float32)\n",
      "Action:  [2]\n",
      "Map:\n",
      " [[[0 2 2 1 0]\n",
      "  [0 2 2 2 0]\n",
      "  [0 2 2 2 0]\n",
      "  [0 0 2 2 0]\n",
      "  [0 0 3 0 0]]]\n",
      "Direction:\n",
      " tf.Tensor([[ True  True False  True]], shape=(1, 4), dtype=bool)\n",
      "No body blocks:\n",
      " tf.Tensor([[0.33333334 0.         0.18518518 0.4814815 ]], shape=(1, 4), dtype=float32)\n",
      "Action:  [2]\n",
      "Map:\n",
      " [[[0 2 2 2 1]\n",
      "  [0 2 2 2 0]\n",
      "  [0 0 2 2 0]\n",
      "  [0 0 2 2 0]\n",
      "  [0 0 3 0 0]]]\n",
      "Direction:\n",
      " tf.Tensor([[ True  True  True False]], shape=(1, 4), dtype=bool)\n",
      "No body blocks:\n",
      " tf.Tensor([[0.44 0.   0.   0.56]], shape=(1, 4), dtype=float32)\n",
      "Action:  [3]\n",
      "Map:\n",
      " [[[0 2 2 2 2]\n",
      "  [0 2 2 2 1]\n",
      "  [0 0 0 2 0]\n",
      "  [0 0 2 2 0]\n",
      "  [0 0 3 0 0]]]\n",
      "Direction:\n",
      " tf.Tensor([[ True  True  True False]], shape=(1, 4), dtype=bool)\n",
      "No body blocks:\n",
      " tf.Tensor([[0.46153846 0.03846154 0.         0.5       ]], shape=(1, 4), dtype=float32)\n",
      "Action:  [3]\n",
      "Map:\n",
      " [[[0 2 2 2 2]\n",
      "  [0 2 2 2 2]\n",
      "  [0 0 0 2 1]\n",
      "  [0 0 0 2 0]\n",
      "  [0 0 3 0 0]]]\n",
      "Direction:\n",
      " tf.Tensor([[ True  True  True False]], shape=(1, 4), dtype=bool)\n",
      "No body blocks:\n",
      " tf.Tensor([[0.52 0.08 0.   0.4 ]], shape=(1, 4), dtype=float32)\n",
      "Action:  [3]\n",
      "Map:\n",
      " [[[0 2 2 2 2]\n",
      "  [0 2 2 2 2]\n",
      "  [0 0 0 2 2]\n",
      "  [0 0 0 0 1]\n",
      "  [0 0 3 0 0]]]\n",
      "Direction:\n",
      " tf.Tensor([[False  True  True False]], shape=(1, 4), dtype=bool)\n",
      "No body blocks:\n",
      " tf.Tensor([[0.56 0.24 0.   0.2 ]], shape=(1, 4), dtype=float32)\n",
      "Action:  [3]\n",
      "Map:\n",
      " [[[0 2 2 2 2]\n",
      "  [0 2 2 2 2]\n",
      "  [0 0 0 0 2]\n",
      "  [0 0 0 0 2]\n",
      "  [0 0 3 0 1]]]\n",
      "Direction:\n",
      " tf.Tensor([[False  True  True  True]], shape=(1, 4), dtype=bool)\n",
      "No body blocks:\n",
      " tf.Tensor([[0.5769231  0.42307693 0.         0.        ]], shape=(1, 4), dtype=float32)\n",
      "Action:  [0]\n",
      "Map:\n",
      " [[[0 2 2 2 2]\n",
      "  [0 2 2 0 2]\n",
      "  [0 0 0 0 2]\n",
      "  [0 0 0 0 2]\n",
      "  [0 0 3 1 2]]]\n",
      "Direction:\n",
      " tf.Tensor([[False False  True  True]], shape=(1, 4), dtype=bool)\n",
      "No body blocks:\n",
      " tf.Tensor([[0.5 0.5 0.  0. ]], shape=(1, 4), dtype=float32)\n",
      "Action:  [0]\n",
      "Map:\n",
      " [[[0 2 2 2 2]\n",
      "  [0 2 2 0 2]\n",
      "  [0 0 3 0 2]\n",
      "  [0 0 0 0 2]\n",
      "  [0 0 1 2 2]]]\n",
      "Direction:\n",
      " tf.Tensor([[False False  True  True]], shape=(1, 4), dtype=bool)\n",
      "No body blocks:\n",
      " tf.Tensor([[0.3478261  0.5217391  0.13043478 0.        ]], shape=(1, 4), dtype=float32)\n",
      "Action:  [1]\n",
      "Map:\n",
      " [[[0 2 2 2 2]\n",
      "  [0 2 0 0 2]\n",
      "  [0 0 3 0 2]\n",
      "  [0 0 1 0 2]\n",
      "  [0 0 2 2 2]]]\n",
      "Direction:\n",
      " tf.Tensor([[False False False  True]], shape=(1, 4), dtype=bool)\n",
      "No body blocks:\n",
      " tf.Tensor([[0.39130434 0.39130434 0.13043478 0.08695652]], shape=(1, 4), dtype=float32)\n",
      "Action:  [1]\n",
      "Map:\n",
      " [[[0 2 2 2 2]\n",
      "  [0 2 0 0 2]\n",
      "  [0 0 1 0 2]\n",
      "  [0 0 2 0 2]\n",
      "  [3 0 2 2 2]]]\n",
      "Direction:\n",
      " tf.Tensor([[False False False  True]], shape=(1, 4), dtype=bool)\n",
      "No body blocks:\n",
      " tf.Tensor([[0.4090909  0.22727273 0.13636364 0.22727273]], shape=(1, 4), dtype=float32)\n",
      "Action:  [0]\n",
      "Map:\n",
      " [[[0 2 2 2 2]\n",
      "  [0 0 0 0 2]\n",
      "  [0 1 2 0 2]\n",
      "  [0 0 2 0 2]\n",
      "  [3 0 2 2 2]]]\n",
      "Direction:\n",
      " tf.Tensor([[False False  True False]], shape=(1, 4), dtype=bool)\n",
      "No body blocks:\n",
      " tf.Tensor([[0.25 0.3  0.2  0.25]], shape=(1, 4), dtype=float32)\n",
      "Action:  [3]\n",
      "Map:\n",
      " [[[0 0 2 2 2]\n",
      "  [0 0 0 0 2]\n",
      "  [0 2 2 0 2]\n",
      "  [0 1 2 0 2]\n",
      "  [3 0 2 2 2]]]\n",
      "Direction:\n",
      " tf.Tensor([[False  True  True False]], shape=(1, 4), dtype=bool)\n",
      "No body blocks:\n",
      " tf.Tensor([[0.23809524 0.42857143 0.23809524 0.0952381 ]], shape=(1, 4), dtype=float32)\n",
      "Action:  [3]\n",
      "Map:\n",
      " [[[0 0 0 2 2]\n",
      "  [0 0 0 0 2]\n",
      "  [0 2 2 0 2]\n",
      "  [0 2 2 0 2]\n",
      "  [3 1 2 2 2]]]\n",
      "Direction:\n",
      " tf.Tensor([[False  True  True  True]], shape=(1, 4), dtype=bool)\n",
      "No body blocks:\n",
      " tf.Tensor([[0.2173913  0.5217391  0.26086956 0.        ]], shape=(1, 4), dtype=float32)\n",
      "Action:  [0]\n",
      "Map:\n",
      " [[[0 0 3 2 2]\n",
      "  [0 0 0 0 2]\n",
      "  [0 2 2 0 2]\n",
      "  [0 2 2 0 2]\n",
      "  [1 2 2 2 2]]]\n",
      "Direction:\n",
      " tf.Tensor([[ True False  True  True]], shape=(1, 4), dtype=bool)\n",
      "No body blocks:\n",
      " tf.Tensor([[0.  0.6 0.4 0. ]], shape=(1, 4), dtype=float32)\n",
      "Action:  [1]\n",
      "Map:\n",
      " [[[0 0 3 0 2]\n",
      "  [0 0 0 0 2]\n",
      "  [0 2 2 0 2]\n",
      "  [1 2 2 0 2]\n",
      "  [2 2 2 2 2]]]\n",
      "Direction:\n",
      " tf.Tensor([[ True False  True  True]], shape=(1, 4), dtype=bool)\n",
      "No body blocks:\n",
      " tf.Tensor([[0.   0.55 0.45 0.  ]], shape=(1, 4), dtype=float32)\n",
      "Action:  [1]\n",
      "Map:\n",
      " [[[0 0 3 0 0]\n",
      "  [0 0 0 0 2]\n",
      "  [1 2 2 0 2]\n",
      "  [2 2 2 0 2]\n",
      "  [2 2 2 2 2]]]\n",
      "Direction:\n",
      " tf.Tensor([[ True False  True  True]], shape=(1, 4), dtype=bool)\n",
      "No body blocks:\n",
      " tf.Tensor([[0.         0.47619048 0.47619048 0.04761905]], shape=(1, 4), dtype=float32)\n",
      "Action:  [1]\n",
      "Map:\n",
      " [[[0 0 3 0 0]\n",
      "  [1 0 0 0 0]\n",
      "  [2 2 2 0 2]\n",
      "  [2 2 2 0 2]\n",
      "  [2 2 2 2 2]]]\n",
      "Direction:\n",
      " tf.Tensor([[ True False False  True]], shape=(1, 4), dtype=bool)\n",
      "No body blocks:\n",
      " tf.Tensor([[0.         0.2631579  0.57894737 0.15789473]], shape=(1, 4), dtype=float32)\n",
      "Action:  [2]\n",
      "Map:\n",
      " [[[0 0 3 0 0]\n",
      "  [2 1 0 0 0]\n",
      "  [2 2 2 0 0]\n",
      "  [2 2 2 0 2]\n",
      "  [2 2 2 2 2]]]\n",
      "Direction:\n",
      " tf.Tensor([[ True False False  True]], shape=(1, 4), dtype=bool)\n",
      "No body blocks:\n",
      " tf.Tensor([[0.05 0.25 0.5  0.2 ]], shape=(1, 4), dtype=float32)\n",
      "Action:  [1]\n",
      "Map:\n",
      " [[[0 1 3 0 0]\n",
      "  [2 2 0 0 0]\n",
      "  [2 2 2 0 0]\n",
      "  [2 2 2 0 0]\n",
      "  [2 2 2 2 2]]]\n",
      "Direction:\n",
      " tf.Tensor([[False  True False  True]], shape=(1, 4), dtype=bool)\n",
      "No body blocks:\n",
      " tf.Tensor([[0.05 0.   0.55 0.4 ]], shape=(1, 4), dtype=float32)\n",
      "Action:  [2]\n",
      "Map:\n",
      " [[[0 2 1 0 0]\n",
      "  [2 2 0 0 3]\n",
      "  [2 2 2 0 0]\n",
      "  [2 2 2 0 0]\n",
      "  [2 2 2 2 2]]]\n",
      "Direction:\n",
      " tf.Tensor([[ True  True False False]], shape=(1, 4), dtype=bool)\n",
      "No body blocks:\n",
      " tf.Tensor([[0.05555556 0.         0.5        0.44444445]], shape=(1, 4), dtype=float32)\n",
      "Action:  [2]\n",
      "Map:\n",
      " [[[0 2 2 1 0]\n",
      "  [2 2 0 0 3]\n",
      "  [2 2 2 0 0]\n",
      "  [2 2 2 0 0]\n",
      "  [2 2 2 2 0]]]\n",
      "Direction:\n",
      " tf.Tensor([[ True  True False False]], shape=(1, 4), dtype=bool)\n",
      "No body blocks:\n",
      " tf.Tensor([[0.125  0.     0.3125 0.5625]], shape=(1, 4), dtype=float32)\n",
      "Action:  [2]\n",
      "Map:\n",
      " [[[0 2 2 2 1]\n",
      "  [2 2 0 0 3]\n",
      "  [2 2 2 0 0]\n",
      "  [2 2 2 0 0]\n",
      "  [2 2 2 0 0]]]\n",
      "Direction:\n",
      " tf.Tensor([[ True  True  True False]], shape=(1, 4), dtype=bool)\n",
      "No body blocks:\n",
      " tf.Tensor([[0.4117647 0.        0.        0.5882353]], shape=(1, 4), dtype=float32)\n",
      "Action:  [3]\n",
      "Map:\n",
      " [[[0 2 2 2 2]\n",
      "  [2 2 0 0 1]\n",
      "  [2 2 2 0 3]\n",
      "  [2 2 2 0 0]\n",
      "  [2 2 2 0 0]]]\n",
      "Direction:\n",
      " tf.Tensor([[False  True  True False]], shape=(1, 4), dtype=bool)\n",
      "No body blocks:\n",
      " tf.Tensor([[0.46666667 0.06666667 0.         0.46666667]], shape=(1, 4), dtype=float32)\n",
      "Action:  [3]\n",
      "Map:\n",
      " [[[0 2 2 2 2]\n",
      "  [2 2 0 3 2]\n",
      "  [2 2 2 0 1]\n",
      "  [2 2 2 0 0]\n",
      "  [2 2 2 0 0]]]\n",
      "Direction:\n",
      " tf.Tensor([[False  True  True False]], shape=(1, 4), dtype=bool)\n",
      "No body blocks:\n",
      " tf.Tensor([[0.46666667 0.2        0.         0.33333334]], shape=(1, 4), dtype=float32)\n",
      "Action:  [0]\n",
      "Map:\n",
      " [[[0 2 2 2 2]\n",
      "  [2 2 0 3 2]\n",
      "  [2 2 2 1 2]\n",
      "  [2 2 2 0 0]\n",
      "  [2 2 0 0 0]]]\n",
      "Direction:\n",
      " tf.Tensor([[ True False  True False]], shape=(1, 4), dtype=bool)\n",
      "No body blocks:\n",
      " tf.Tensor([[0.26666668 0.2        0.13333334 0.4       ]], shape=(1, 4), dtype=float32)\n",
      "Action:  [3]\n",
      "Map:\n",
      " [[[0 2 2 2 2]\n",
      "  [2 2 0 3 2]\n",
      "  [2 2 2 2 2]\n",
      "  [2 2 0 1 0]\n",
      "  [2 2 0 0 0]]]\n",
      "Direction:\n",
      " tf.Tensor([[False  True False False]], shape=(1, 4), dtype=bool)\n",
      "No body blocks:\n",
      " tf.Tensor([[0.35714287 0.2857143  0.14285715 0.21428572]], shape=(1, 4), dtype=float32)\n",
      "Action:  [2]\n",
      "Map:\n",
      " [[[0 2 2 2 2]\n",
      "  [2 2 0 3 2]\n",
      "  [2 2 0 2 2]\n",
      "  [2 2 0 2 1]\n",
      "  [2 2 0 0 0]]]\n",
      "Direction:\n",
      " tf.Tensor([[ True  True  True False]], shape=(1, 4), dtype=bool)\n",
      "No body blocks:\n",
      " tf.Tensor([[0.5    0.3125 0.     0.1875]], shape=(1, 4), dtype=float32)\n",
      "Action:  [3]\n",
      "Map:\n",
      " [[[0 2 2 2 2]\n",
      "  [2 2 0 3 2]\n",
      "  [2 0 0 2 2]\n",
      "  [2 2 0 2 2]\n",
      "  [2 2 0 0 1]]]\n",
      "Direction:\n",
      " tf.Tensor([[False  True  True  True]], shape=(1, 4), dtype=bool)\n",
      "No body blocks:\n",
      " tf.Tensor([[0.5625 0.4375 0.     0.    ]], shape=(1, 4), dtype=float32)\n",
      "Action:  [0]\n",
      "Map:\n",
      " [[[0 2 2 2 2]\n",
      "  [2 2 0 3 2]\n",
      "  [2 0 0 2 2]\n",
      "  [2 0 0 2 2]\n",
      "  [2 2 0 1 2]]]\n",
      "Direction:\n",
      " tf.Tensor([[False  True  True  True]], shape=(1, 4), dtype=bool)\n",
      "No body blocks:\n",
      " tf.Tensor([[0.53333336 0.46666667 0.         0.        ]], shape=(1, 4), dtype=float32)\n",
      "Action:  [0]\n",
      "Map:\n",
      " [[[0 2 2 2 2]\n",
      "  [2 2 0 3 2]\n",
      "  [2 0 0 2 2]\n",
      "  [2 0 0 2 2]\n",
      "  [2 0 1 2 2]]]\n",
      "Direction:\n",
      " tf.Tensor([[False False  True  True]], shape=(1, 4), dtype=bool)\n",
      "No body blocks:\n",
      " tf.Tensor([[0.3846154  0.53846157 0.07692308 0.        ]], shape=(1, 4), dtype=float32)\n",
      "Action:  [1]\n",
      "Map:\n",
      " [[[0 2 2 2 2]\n",
      "  [2 2 0 3 2]\n",
      "  [2 0 0 2 2]\n",
      "  [2 0 1 2 2]\n",
      "  [0 0 2 2 2]]]\n",
      "Direction:\n",
      " tf.Tensor([[False False  True  True]], shape=(1, 4), dtype=bool)\n",
      "No body blocks:\n",
      " tf.Tensor([[0.42857143 0.35714287 0.07142857 0.14285715]], shape=(1, 4), dtype=float32)\n",
      "Action:  [1]\n",
      "Map:\n",
      " [[[0 2 2 2 2]\n",
      "  [2 2 0 3 2]\n",
      "  [2 0 1 2 2]\n",
      "  [0 0 2 2 2]\n",
      "  [0 0 2 2 2]]]\n",
      "Direction:\n",
      " tf.Tensor([[False False  True  True]], shape=(1, 4), dtype=bool)\n",
      "No body blocks:\n",
      " tf.Tensor([[0.46666667 0.2        0.06666667 0.26666668]], shape=(1, 4), dtype=float32)\n",
      "Action:  [0]\n",
      "Map:\n",
      " [[[0 2 2 2 2]\n",
      "  [2 2 0 3 2]\n",
      "  [0 1 2 2 2]\n",
      "  [0 0 2 2 2]\n",
      "  [0 0 2 2 2]]]\n",
      "Direction:\n",
      " tf.Tensor([[False  True  True False]], shape=(1, 4), dtype=bool)\n",
      "No body blocks:\n",
      " tf.Tensor([[0.33333334 0.26666668 0.13333334 0.26666668]], shape=(1, 4), dtype=float32)\n",
      "Action:  [3]\n",
      "Map:\n",
      " [[[0 2 2 2 2]\n",
      "  [0 2 0 3 2]\n",
      "  [0 2 2 2 2]\n",
      "  [0 1 2 2 2]\n",
      "  [0 0 2 2 2]]]\n",
      "Direction:\n",
      " tf.Tensor([[False  True  True False]], shape=(1, 4), dtype=bool)\n",
      "No body blocks:\n",
      " tf.Tensor([[0.33333334 0.4        0.13333334 0.13333334]], shape=(1, 4), dtype=float32)\n",
      "Action:  [3]\n",
      "Map:\n",
      " [[[0 2 2 2 2]\n",
      "  [0 0 0 3 2]\n",
      "  [0 2 2 2 2]\n",
      "  [0 2 2 2 2]\n",
      "  [0 1 2 2 2]]]\n",
      "Direction:\n",
      " tf.Tensor([[False  True  True  True]], shape=(1, 4), dtype=bool)\n",
      "No body blocks:\n",
      " tf.Tensor([[0.33333334 0.53333336 0.13333334 0.        ]], shape=(1, 4), dtype=float32)\n",
      "Action:  [0]\n",
      "Map:\n",
      " [[[0 0 2 2 2]\n",
      "  [0 0 0 3 2]\n",
      "  [0 2 2 2 2]\n",
      "  [0 2 2 2 2]\n",
      "  [1 2 2 2 2]]]\n",
      "Direction:\n",
      " tf.Tensor([[ True False  True  True]], shape=(1, 4), dtype=bool)\n",
      "No body blocks:\n",
      " tf.Tensor([[0.         0.64285713 0.35714287 0.        ]], shape=(1, 4), dtype=float32)\n",
      "Action:  [1]\n",
      "Map:\n",
      " [[[0 0 0 2 2]\n",
      "  [0 0 0 3 2]\n",
      "  [0 2 2 2 2]\n",
      "  [1 2 2 2 2]\n",
      "  [2 2 2 2 2]]]\n",
      "Direction:\n",
      " tf.Tensor([[ True False  True  True]], shape=(1, 4), dtype=bool)\n",
      "No body blocks:\n",
      " tf.Tensor([[0.  0.6 0.4 0. ]], shape=(1, 4), dtype=float32)\n",
      "Action:  [1]\n",
      "Map:\n",
      " [[[0 0 0 0 2]\n",
      "  [0 0 0 3 2]\n",
      "  [1 2 2 2 2]\n",
      "  [2 2 2 2 2]\n",
      "  [2 2 2 2 2]]]\n",
      "Direction:\n",
      " tf.Tensor([[ True False  True  True]], shape=(1, 4), dtype=bool)\n",
      "No body blocks:\n",
      " tf.Tensor([[0.     0.5625 0.4375 0.    ]], shape=(1, 4), dtype=float32)\n",
      "Action:  [1]\n",
      "Map:\n",
      " [[[0 0 0 0 0]\n",
      "  [1 0 0 3 2]\n",
      "  [2 2 2 2 2]\n",
      "  [2 2 2 2 2]\n",
      "  [2 2 2 2 2]]]\n",
      "Direction:\n",
      " tf.Tensor([[ True False False  True]], shape=(1, 4), dtype=bool)\n",
      "No body blocks:\n",
      " tf.Tensor([[0.         0.3846154  0.61538464 0.        ]], shape=(1, 4), dtype=float32)\n",
      "Action:  [1]\n",
      "Map:\n",
      " [[[1 0 0 0 0]\n",
      "  [2 0 0 3 0]\n",
      "  [2 2 2 2 2]\n",
      "  [2 2 2 2 2]\n",
      "  [2 2 2 2 2]]]\n",
      "Direction:\n",
      " tf.Tensor([[ True  True False  True]], shape=(1, 4), dtype=bool)\n",
      "No body blocks:\n",
      " tf.Tensor([[0.         0.         0.64285713 0.35714287]], shape=(1, 4), dtype=float32)\n",
      "Action:  [2]\n",
      "Map:\n",
      " [[[2 1 0 0 0]\n",
      "  [2 0 0 3 0]\n",
      "  [2 2 2 2 0]\n",
      "  [2 2 2 2 2]\n",
      "  [2 2 2 2 2]]]\n",
      "Direction:\n",
      " tf.Tensor([[ True  True False False]], shape=(1, 4), dtype=bool)\n",
      "No body blocks:\n",
      " tf.Tensor([[0.         0.         0.5714286  0.42857143]], shape=(1, 4), dtype=float32)\n",
      "Action:  [2]\n",
      "Map:\n",
      " [[[2 2 1 0 0]\n",
      "  [2 0 0 3 0]\n",
      "  [2 2 2 0 0]\n",
      "  [2 2 2 2 2]\n",
      "  [2 2 2 2 2]]]\n",
      "Direction:\n",
      " tf.Tensor([[ True  True False False]], shape=(1, 4), dtype=bool)\n",
      "No body blocks:\n",
      " tf.Tensor([[0.06666667 0.         0.46666667 0.46666667]], shape=(1, 4), dtype=float32)\n",
      "Action:  [3]\n",
      "Map:\n",
      " [[[2 2 2 0 0]\n",
      "  [2 0 1 3 0]\n",
      "  [2 2 2 0 0]\n",
      "  [2 2 2 0 2]\n",
      "  [2 2 2 2 2]]]\n",
      "Direction:\n",
      " tf.Tensor([[False  True False  True]], shape=(1, 4), dtype=bool)\n",
      "No body blocks:\n",
      " tf.Tensor([[0.06666667 0.13333334 0.53333336 0.26666668]], shape=(1, 4), dtype=float32)\n",
      "Action:  [2]\n",
      "Map:\n",
      " [[[2 2 2 3 0]\n",
      "  [2 0 2 1 0]\n",
      "  [2 2 2 0 0]\n",
      "  [2 2 2 0 2]\n",
      "  [2 2 2 2 2]]]\n",
      "Direction:\n",
      " tf.Tensor([[ True False False False]], shape=(1, 4), dtype=bool)\n",
      "No body blocks:\n",
      " tf.Tensor([[0.09090909 0.18181819 0.36363637 0.36363637]], shape=(1, 4), dtype=float32)\n",
      "Action:  [1]\n",
      "Map:\n",
      " [[[2 2 2 1 0]\n",
      "  [2 0 2 2 0]\n",
      "  [2 2 2 3 0]\n",
      "  [2 2 2 0 2]\n",
      "  [2 2 2 2 2]]]\n",
      "Direction:\n",
      " tf.Tensor([[ True  True False  True]], shape=(1, 4), dtype=bool)\n",
      "No body blocks:\n",
      " tf.Tensor([[0.09090909 0.         0.36363637 0.54545456]], shape=(1, 4), dtype=float32)\n",
      "Action:  [2]\n",
      "Map:\n",
      " [[[2 2 2 2 1]\n",
      "  [2 0 2 2 0]\n",
      "  [2 2 2 3 0]\n",
      "  [2 2 2 0 0]\n",
      "  [2 2 2 2 2]]]\n",
      "Direction:\n",
      " tf.Tensor([[ True  True  True False]], shape=(1, 4), dtype=bool)\n",
      "No body blocks:\n",
      " tf.Tensor([[0.3 0.  0.  0.7]], shape=(1, 4), dtype=float32)\n",
      "Action:  [3]\n",
      "Map:\n",
      " [[[2 2 2 2 2]\n",
      "  [2 0 2 2 1]\n",
      "  [2 2 2 3 0]\n",
      "  [2 2 2 0 0]\n",
      "  [2 2 2 2 0]]]\n",
      "Direction:\n",
      " tf.Tensor([[ True  True  True False]], shape=(1, 4), dtype=bool)\n",
      "No body blocks:\n",
      " tf.Tensor([[0.4 0.  0.  0.6]], shape=(1, 4), dtype=float32)\n",
      "Action:  [3]\n",
      "Map:\n",
      " [[[2 2 2 2 2]\n",
      "  [2 0 2 2 2]\n",
      "  [2 2 2 3 1]\n",
      "  [2 2 2 0 0]\n",
      "  [2 2 2 0 0]]]\n",
      "Direction:\n",
      " tf.Tensor([[False  True  True False]], shape=(1, 4), dtype=bool)\n",
      "No body blocks:\n",
      " tf.Tensor([[0.45454547 0.09090909 0.         0.45454547]], shape=(1, 4), dtype=float32)\n",
      "Action:  [0]\n",
      "Map:\n",
      " [[[2 2 2 2 2]\n",
      "  [2 0 2 2 2]\n",
      "  [2 2 2 1 2]\n",
      "  [2 2 2 3 0]\n",
      "  [2 2 2 0 0]]]\n",
      "Direction:\n",
      " tf.Tensor([[ True  True  True False]], shape=(1, 4), dtype=bool)\n",
      "No body blocks:\n",
      " tf.Tensor([[0.2 0.1 0.2 0.5]], shape=(1, 4), dtype=float32)\n",
      "Action:  [3]\n",
      "Map:\n",
      " [[[2 2 2 2 2]\n",
      "  [2 0 2 2 2]\n",
      "  [2 2 2 2 2]\n",
      "  [2 2 2 1 0]\n",
      "  [2 2 2 0 3]]]\n",
      "Direction:\n",
      " tf.Tensor([[ True  True False False]], shape=(1, 4), dtype=bool)\n",
      "No body blocks:\n",
      " tf.Tensor([[0.25  0.125 0.25  0.375]], shape=(1, 4), dtype=float32)\n",
      "Action:  [3]\n",
      "Map:\n",
      " [[[2 2 2 2 2]\n",
      "  [2 0 2 2 2]\n",
      "  [2 2 2 2 2]\n",
      "  [2 2 2 2 0]\n",
      "  [2 2 0 1 3]]]\n",
      "Direction:\n",
      " tf.Tensor([[False  True False  True]], shape=(1, 4), dtype=bool)\n",
      "No body blocks:\n",
      " tf.Tensor([[0.375 0.375 0.25  0.   ]], shape=(1, 4), dtype=float32)\n",
      "Action:  [2]\n",
      "Map:\n",
      " [[[2 2 2 2 2]\n",
      "  [2 0 2 2 2]\n",
      "  [2 2 2 2 2]\n",
      "  [2 2 2 2 0]\n",
      "  [2 2 3 2 1]]]\n",
      "Direction:\n",
      " tf.Tensor([[ True False  True  True]], shape=(1, 4), dtype=bool)\n",
      "No body blocks:\n",
      " tf.Tensor([[0.5 0.5 0.  0. ]], shape=(1, 4), dtype=float32)\n",
      "Action:  [1]\n",
      "Map:\n",
      " [[[2 2 2 2 2]\n",
      "  [2 0 2 2 2]\n",
      "  [2 2 2 2 2]\n",
      "  [2 2 0 2 1]\n",
      "  [2 2 3 2 2]]]\n",
      "Direction:\n",
      " tf.Tensor([[ True  True  True  True]], shape=(1, 4), dtype=bool)\n",
      "No body blocks:\n",
      " tf.Tensor([[0.5714286  0.2857143  0.         0.14285715]], shape=(1, 4), dtype=float32)\n",
      "Action:  [3]\n",
      "Total reward:  60.0\n",
      "Total steps:  91\n"
     ]
    }
   ],
   "source": [
    "# Evaluate the agent\n",
    "\n",
    "test_scene = Scene(init_randomly=True)\n",
    "test_env = SnakeGame(test_scene)\n",
    "test_env = TFPyEnvironment(test_env)\n",
    "\n",
    "time_step = test_env.reset()\n",
    "rewards = []\n",
    "steps = 0\n",
    "\n",
    "while not time_step.is_last() and steps < 200:\n",
    "    steps += 1\n",
    "    print(\"Map:\\n\", np.argmax(time_step.observation[0], axis=3))\n",
    "    print(\"Direction:\\n\", time_step.observation[1])\n",
    "    print(\"No body blocks:\\n\", time_step.observation[2])\n",
    "    action_step = agent.policy.action(time_step)\n",
    "    print(\"Action: \", action_step.action.numpy())\n",
    "    time_step = test_env.step(action_step.action)\n",
    "    rewards.append(time_step.reward.numpy()[0])\n",
    "    \n",
    "print(\"Total reward: \", sum(rewards))\n",
    "print(\"Total steps: \", steps)\n"
   ]
  },
  {
   "cell_type": "code",
   "execution_count": 12,
   "metadata": {},
   "outputs": [
    {
     "name": "stdout",
     "output_type": "stream",
     "text": [
      "Episode:  10\n",
      "Avg reward:  49.54545454545455\n",
      "Episode:  20\n",
      "Avg reward:  43.57142857142857\n",
      "Episode:  30\n",
      "Avg reward:  45.645161290322584\n",
      "Episode:  40\n",
      "Avg reward:  48.78048780487805\n",
      "Episode:  50\n",
      "Avg reward:  49.411764705882355\n",
      "Episode:  60\n",
      "Avg reward:  49.59016393442623\n",
      "Episode:  70\n",
      "Avg reward:  47.46478873239437\n",
      "Episode:  80\n",
      "Avg reward:  46.72839506172839\n",
      "Episode:  90\n",
      "Avg reward:  47.637362637362635\n",
      "Episode:  100\n",
      "Avg reward:  49.7029702970297\n",
      "Episode:  110\n",
      "Avg reward:  48.153153153153156\n",
      "Episode:  120\n",
      "Avg reward:  48.264462809917354\n",
      "Episode:  130\n",
      "Avg reward:  47.70992366412214\n",
      "Episode:  140\n",
      "Avg reward:  47.02127659574468\n",
      "Episode:  150\n",
      "Avg reward:  47.913907284768214\n",
      "Episode:  160\n",
      "Avg reward:  47.2360248447205\n",
      "Episode:  170\n",
      "Avg reward:  47.046783625730995\n",
      "Episode:  180\n",
      "Avg reward:  47.70718232044199\n",
      "Episode:  190\n",
      "Avg reward:  47.40837696335078\n",
      "Episode:  200\n",
      "Avg reward:  47.43781094527363\n",
      "Episode:  210\n",
      "Avg reward:  47.48815165876777\n",
      "Episode:  220\n",
      "Avg reward:  46.90045248868778\n",
      "Episode:  230\n",
      "Avg reward:  46.70995670995671\n",
      "Episode:  240\n",
      "Avg reward:  46.78423236514523\n",
      "Episode:  250\n",
      "Avg reward:  47.15139442231076\n",
      "Episode:  260\n",
      "Avg reward:  46.877394636015325\n",
      "Episode:  270\n",
      "Avg reward:  47.06642066420664\n",
      "Episode:  280\n",
      "Avg reward:  46.60142348754449\n",
      "Episode:  290\n",
      "Avg reward:  46.28865979381443\n",
      "Episode:  300\n",
      "Avg reward:  45.91362126245847\n",
      "Episode:  310\n",
      "Avg reward:  46.39871382636656\n",
      "Episode:  320\n",
      "Avg reward:  45.87227414330218\n",
      "Episode:  330\n",
      "Avg reward:  46.012084592145015\n",
      "Episode:  340\n",
      "Avg reward:  45.98240469208211\n",
      "Episode:  350\n",
      "Avg reward:  45.95441595441596\n",
      "Episode:  360\n",
      "Avg reward:  45.94182825484764\n",
      "Episode:  370\n",
      "Avg reward:  45.64690026954178\n",
      "Episode:  380\n",
      "Avg reward:  45.76115485564304\n",
      "Episode:  390\n",
      "Avg reward:  45.42199488491048\n",
      "Episode:  400\n",
      "Avg reward:  45.399002493765586\n",
      "Episode:  410\n",
      "Avg reward:  45.413625304136254\n",
      "Episode:  420\n",
      "Avg reward:  45.33254156769596\n",
      "Episode:  430\n",
      "Avg reward:  45.185614849187935\n",
      "Episode:  440\n",
      "Avg reward:  45.17006802721088\n",
      "Episode:  450\n",
      "Avg reward:  45.02217294900222\n",
      "Episode:  460\n",
      "Avg reward:  44.98915401301518\n",
      "Episode:  470\n",
      "Avg reward:  45.095541401273884\n",
      "Episode:  480\n",
      "Avg reward:  45.25987525987526\n",
      "Episode:  490\n",
      "Avg reward:  45.234215885947044\n",
      "Average steps per episode:  73.62374245472837\n",
      "Average reward per episode:  45.24\n",
      "Total 500 episodes:  3\n",
      "Wins:  43\n"
     ]
    }
   ],
   "source": [
    "\n",
    "# Count the average steps per episode\n",
    "\n",
    "n = 500\n",
    "total_steps = 0\n",
    "total_reward = 0\n",
    "steps = 0\n",
    "total_500 = 0\n",
    "wins = 0\n",
    "\n",
    "for i in range(n):\n",
    "    if i % 10 == 0 and i != 0:\n",
    "        print(\"Episode: \", i)\n",
    "        \n",
    "    time_step = test_env.reset()\n",
    "    steps = 0\n",
    "    episode_reward = 0\n",
    "    while not time_step.is_last() and steps < 500:\n",
    "        steps += 1\n",
    "        action_step = agent.policy.action(time_step)\n",
    "        time_step = test_env.step(action_step.action)\n",
    "        reward = time_step.reward.numpy()[0]\n",
    "        total_reward += reward\n",
    "        episode_reward += reward\n",
    "        \n",
    "    if episode_reward == 115:\n",
    "        wins += 1\n",
    "    \n",
    "    if steps == 500:\n",
    "        total_500 += 1\n",
    "    else:\n",
    "        total_steps += steps\n",
    "        \n",
    "    if i % 10 == 0 and i != 0:\n",
    "        print(\"Avg reward: \", total_reward / (i + 1))\n",
    "        \n",
    "if steps == 500:\n",
    "    print(\"500 episodes reached\")\n",
    "    \n",
    "print(\"Average steps per episode: \", total_steps / (n - total_500))\n",
    "print(\"Average reward per episode: \", total_reward / n)\n",
    "print(\"Total 500 episodes: \", total_500)\n",
    "print(\"Wins: \", wins)\n"
   ]
  },
  {
   "cell_type": "code",
   "execution_count": 13,
   "metadata": {},
   "outputs": [
    {
     "name": "stdout",
     "output_type": "stream",
     "text": [
      "WARNING:tensorflow:Compiled the loaded model, but the compiled metrics have yet to be built. `model.compile_metrics` will be empty until you train or evaluate the model.\n"
     ]
    },
    {
     "name": "stderr",
     "output_type": "stream",
     "text": [
      "/var/folders/bw/_7s8wxw93cngpt5f7bg5s3hm0000gn/T/ipykernel_27361/3964146548.py:2: UserWarning: You are saving your model as an HDF5 file via `model.save()`. This file format is considered legacy. We recommend using instead the native Keras format, e.g. `model.save('my_model.keras')`.\n",
      "  tf.keras.models.save_model(q_net._model, \"q_network_5x5.h5\")\n",
      "WARNING:tensorflow:Compiled the loaded model, but the compiled metrics have yet to be built. `model.compile_metrics` will be empty until you train or evaluate the model.\n"
     ]
    }
   ],
   "source": [
    "# Save the q network weights\n",
    "tf.keras.models.save_model(q_net._model, \"q_network_5x5.h5\")"
   ]
  }
 ],
 "metadata": {
  "kernelspec": {
   "display_name": "base",
   "language": "python",
   "name": "python3"
  },
  "language_info": {
   "codemirror_mode": {
    "name": "ipython",
    "version": 3
   },
   "file_extension": ".py",
   "mimetype": "text/x-python",
   "name": "python",
   "nbconvert_exporter": "python",
   "pygments_lexer": "ipython3",
   "version": "3.11.4"
  },
  "orig_nbformat": 4
 },
 "nbformat": 4,
 "nbformat_minor": 2
}
