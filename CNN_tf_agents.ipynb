{
 "cells": [
  {
   "cell_type": "code",
   "execution_count": 1,
   "metadata": {},
   "outputs": [],
   "source": [
    "import numpy as np\n",
    "import tensorflow as tf\n",
    "from tf_agents.networks.q_network import QNetwork\n",
    "import tf_agents.networks.network as network\n",
    "from tf_agents.specs import tensor_spec\n",
    "from snake_game import SnakeGame\n",
    "from scene import Scene\n",
    "from tensorflow.keras import Sequential\n",
    "from tensorflow.keras.layers import Dense, Flatten, Conv2D\n",
    "\n",
    "scene = Scene(init_randomly=True)\n",
    "episodes_count = 5000\n"
   ]
  },
  {
   "cell_type": "code",
   "execution_count": 2,
   "metadata": {},
   "outputs": [],
   "source": [
    "from tf_agents.environments.tf_py_environment import TFPyEnvironment\n",
    "\n",
    "env = SnakeGame(scene)\n",
    "env = TFPyEnvironment(env)\n"
   ]
  },
  {
   "cell_type": "code",
   "execution_count": 3,
   "metadata": {},
   "outputs": [],
   "source": [
    "conv_layer_params = [(32, (2, 2), 1), (64, (2, 2), 1)]\n",
    "fc_layer_params = [128, 16]\n",
    "\n",
    "q_net = QNetwork(\n",
    "    env.observation_spec(),\n",
    "    env.action_spec(),\n",
    "    conv_layer_params=conv_layer_params,\n",
    "    fc_layer_params=fc_layer_params)\n"
   ]
  },
  {
   "cell_type": "code",
   "execution_count": 3,
   "metadata": {},
   "outputs": [
    {
     "ename": "ValueError",
     "evalue": "Attempt to convert a value (BoundedTensorSpec(shape=(5, 5, 4), dtype=tf.float32, name='observation', minimum=array([0., 0., 0., 0.], dtype=float32), maximum=array([1., 1., 1., 1.], dtype=float32))) with an unsupported type (<class 'tensorflow.python.framework.tensor.BoundedTensorSpec'>) to a Tensor.",
     "output_type": "error",
     "traceback": [
      "\u001b[0;31m---------------------------------------------------------------------------\u001b[0m",
      "\u001b[0;31mValueError\u001b[0m                                Traceback (most recent call last)",
      "\u001b[1;32m/Users/juanpablo/Desktop/Projects/Snake/CNN_tf_agents.ipynb Cell 4\u001b[0m line \u001b[0;36m3\n\u001b[1;32m     <a href='vscode-notebook-cell:/Users/juanpablo/Desktop/Projects/Snake/CNN_tf_agents.ipynb#X25sZmlsZQ%3D%3D?line=30'>31</a>\u001b[0m     \u001b[39mdef\u001b[39;00m \u001b[39mcopy\u001b[39m(\u001b[39mself\u001b[39m, name\u001b[39m=\u001b[39m\u001b[39m'\u001b[39m\u001b[39m'\u001b[39m):\n\u001b[1;32m     <a href='vscode-notebook-cell:/Users/juanpablo/Desktop/Projects/Snake/CNN_tf_agents.ipynb#X25sZmlsZQ%3D%3D?line=31'>32</a>\u001b[0m         \u001b[39mpass\u001b[39;00m\n\u001b[0;32m---> <a href='vscode-notebook-cell:/Users/juanpablo/Desktop/Projects/Snake/CNN_tf_agents.ipynb#X25sZmlsZQ%3D%3D?line=33'>34</a>\u001b[0m q_net \u001b[39m=\u001b[39m MyQNetwork(\n\u001b[1;32m     <a href='vscode-notebook-cell:/Users/juanpablo/Desktop/Projects/Snake/CNN_tf_agents.ipynb#X25sZmlsZQ%3D%3D?line=34'>35</a>\u001b[0m     env\u001b[39m.\u001b[39;49mobservation_spec(),\n\u001b[1;32m     <a href='vscode-notebook-cell:/Users/juanpablo/Desktop/Projects/Snake/CNN_tf_agents.ipynb#X25sZmlsZQ%3D%3D?line=35'>36</a>\u001b[0m     env\u001b[39m.\u001b[39;49maction_spec())\n",
      "File \u001b[0;32m~/miniconda3/lib/python3.11/site-packages/tf_agents/networks/network.py:99\u001b[0m, in \u001b[0;36m_NetworkMeta.__new__.<locals>._capture_init\u001b[0;34m(self, *args, **kwargs)\u001b[0m\n\u001b[1;32m     97\u001b[0m kwargs \u001b[39m=\u001b[39m tf_inspect\u001b[39m.\u001b[39mgetcallargs(init, \u001b[39mself\u001b[39m, \u001b[39m*\u001b[39margs, \u001b[39m*\u001b[39m\u001b[39m*\u001b[39mkwargs)\n\u001b[1;32m     98\u001b[0m kwargs\u001b[39m.\u001b[39mpop(\u001b[39m\"\u001b[39m\u001b[39mself\u001b[39m\u001b[39m\"\u001b[39m)\n\u001b[0;32m---> 99\u001b[0m init(\u001b[39mself\u001b[39;49m, \u001b[39m*\u001b[39;49m\u001b[39m*\u001b[39;49mkwargs)\n\u001b[1;32m    100\u001b[0m \u001b[39m# Avoid auto tracking which prevents keras from tracking layers that are\u001b[39;00m\n\u001b[1;32m    101\u001b[0m \u001b[39m# passed as kwargs to the Network.\u001b[39;00m\n\u001b[1;32m    102\u001b[0m \u001b[39mwith\u001b[39;00m base\u001b[39m.\u001b[39mno_automatic_dependency_tracking_scope(\u001b[39mself\u001b[39m):\n",
      "\u001b[1;32m/Users/juanpablo/Desktop/Projects/Snake/CNN_tf_agents.ipynb Cell 4\u001b[0m line \u001b[0;36m1\n\u001b[1;32m      <a href='vscode-notebook-cell:/Users/juanpablo/Desktop/Projects/Snake/CNN_tf_agents.ipynb#X25sZmlsZQ%3D%3D?line=5'>6</a>\u001b[0m \u001b[39msuper\u001b[39m(MyQNetwork, \u001b[39mself\u001b[39m)\u001b[39m.\u001b[39m\u001b[39m__init__\u001b[39m(\n\u001b[1;32m      <a href='vscode-notebook-cell:/Users/juanpablo/Desktop/Projects/Snake/CNN_tf_agents.ipynb#X25sZmlsZQ%3D%3D?line=6'>7</a>\u001b[0m     input_tensor_spec\u001b[39m=\u001b[39minput_tensor_spec,\n\u001b[1;32m      <a href='vscode-notebook-cell:/Users/juanpablo/Desktop/Projects/Snake/CNN_tf_agents.ipynb#X25sZmlsZQ%3D%3D?line=7'>8</a>\u001b[0m     state_spec\u001b[39m=\u001b[39m(),\n\u001b[1;32m      <a href='vscode-notebook-cell:/Users/juanpablo/Desktop/Projects/Snake/CNN_tf_agents.ipynb#X25sZmlsZQ%3D%3D?line=8'>9</a>\u001b[0m     name\u001b[39m=\u001b[39mname)\n\u001b[1;32m     <a href='vscode-notebook-cell:/Users/juanpablo/Desktop/Projects/Snake/CNN_tf_agents.ipynb#X25sZmlsZQ%3D%3D?line=10'>11</a>\u001b[0m \u001b[39mself\u001b[39m\u001b[39m.\u001b[39m_action_spec \u001b[39m=\u001b[39m action_spec\n\u001b[0;32m---> <a href='vscode-notebook-cell:/Users/juanpablo/Desktop/Projects/Snake/CNN_tf_agents.ipynb#X25sZmlsZQ%3D%3D?line=12'>13</a>\u001b[0m input_shape \u001b[39m=\u001b[39m tf\u001b[39m.\u001b[39;49mexpand_dims(input_tensor_spec, axis\u001b[39m=\u001b[39;49m\u001b[39m0\u001b[39;49m)\n\u001b[1;32m     <a href='vscode-notebook-cell:/Users/juanpablo/Desktop/Projects/Snake/CNN_tf_agents.ipynb#X25sZmlsZQ%3D%3D?line=13'>14</a>\u001b[0m \u001b[39m# Create your custom model\u001b[39;00m\n\u001b[1;32m     <a href='vscode-notebook-cell:/Users/juanpablo/Desktop/Projects/Snake/CNN_tf_agents.ipynb#X25sZmlsZQ%3D%3D?line=14'>15</a>\u001b[0m \u001b[39mself\u001b[39m\u001b[39m.\u001b[39m_model \u001b[39m=\u001b[39m Sequential([\n\u001b[1;32m     <a href='vscode-notebook-cell:/Users/juanpablo/Desktop/Projects/Snake/CNN_tf_agents.ipynb#X25sZmlsZQ%3D%3D?line=15'>16</a>\u001b[0m     Conv2D(\u001b[39m32\u001b[39m, (\u001b[39m2\u001b[39m, \u001b[39m2\u001b[39m), \u001b[39m1\u001b[39m, input_shape\u001b[39m=\u001b[39minput_shape, activation\u001b[39m=\u001b[39m\u001b[39m'\u001b[39m\u001b[39mrelu\u001b[39m\u001b[39m'\u001b[39m, kernel_initializer\u001b[39m=\u001b[39m\u001b[39m'\u001b[39m\u001b[39mhe_normal\u001b[39m\u001b[39m'\u001b[39m),\n\u001b[1;32m     <a href='vscode-notebook-cell:/Users/juanpablo/Desktop/Projects/Snake/CNN_tf_agents.ipynb#X25sZmlsZQ%3D%3D?line=16'>17</a>\u001b[0m     Conv2D(\u001b[39m64\u001b[39m, (\u001b[39m2\u001b[39m, \u001b[39m2\u001b[39m), \u001b[39m1\u001b[39m, activation\u001b[39m=\u001b[39m\u001b[39m'\u001b[39m\u001b[39mrelu\u001b[39m\u001b[39m'\u001b[39m, kernel_initializer\u001b[39m=\u001b[39m\u001b[39m'\u001b[39m\u001b[39mhe_normal\u001b[39m\u001b[39m'\u001b[39m),\n\u001b[0;32m   (...)\u001b[0m\n\u001b[1;32m     <a href='vscode-notebook-cell:/Users/juanpablo/Desktop/Projects/Snake/CNN_tf_agents.ipynb#X25sZmlsZQ%3D%3D?line=20'>21</a>\u001b[0m     Dense(\u001b[39m4\u001b[39m)\n\u001b[1;32m     <a href='vscode-notebook-cell:/Users/juanpablo/Desktop/Projects/Snake/CNN_tf_agents.ipynb#X25sZmlsZQ%3D%3D?line=21'>22</a>\u001b[0m ])\n",
      "File \u001b[0;32m~/miniconda3/lib/python3.11/site-packages/tensorflow/python/util/traceback_utils.py:153\u001b[0m, in \u001b[0;36mfilter_traceback.<locals>.error_handler\u001b[0;34m(*args, **kwargs)\u001b[0m\n\u001b[1;32m    151\u001b[0m \u001b[39mexcept\u001b[39;00m \u001b[39mException\u001b[39;00m \u001b[39mas\u001b[39;00m e:\n\u001b[1;32m    152\u001b[0m   filtered_tb \u001b[39m=\u001b[39m _process_traceback_frames(e\u001b[39m.\u001b[39m__traceback__)\n\u001b[0;32m--> 153\u001b[0m   \u001b[39mraise\u001b[39;00m e\u001b[39m.\u001b[39mwith_traceback(filtered_tb) \u001b[39mfrom\u001b[39;00m \u001b[39mNone\u001b[39;00m\n\u001b[1;32m    154\u001b[0m \u001b[39mfinally\u001b[39;00m:\n\u001b[1;32m    155\u001b[0m   \u001b[39mdel\u001b[39;00m filtered_tb\n",
      "File \u001b[0;32m~/miniconda3/lib/python3.11/site-packages/tensorflow/python/framework/constant_op.py:98\u001b[0m, in \u001b[0;36mconvert_to_eager_tensor\u001b[0;34m(value, ctx, dtype)\u001b[0m\n\u001b[1;32m     96\u001b[0m     dtype \u001b[39m=\u001b[39m dtypes\u001b[39m.\u001b[39mas_dtype(dtype)\u001b[39m.\u001b[39mas_datatype_enum\n\u001b[1;32m     97\u001b[0m ctx\u001b[39m.\u001b[39mensure_initialized()\n\u001b[0;32m---> 98\u001b[0m \u001b[39mreturn\u001b[39;00m ops\u001b[39m.\u001b[39;49mEagerTensor(value, ctx\u001b[39m.\u001b[39;49mdevice_name, dtype)\n",
      "\u001b[0;31mValueError\u001b[0m: Attempt to convert a value (BoundedTensorSpec(shape=(5, 5, 4), dtype=tf.float32, name='observation', minimum=array([0., 0., 0., 0.], dtype=float32), maximum=array([1., 1., 1., 1.], dtype=float32))) with an unsupported type (<class 'tensorflow.python.framework.tensor.BoundedTensorSpec'>) to a Tensor."
     ]
    }
   ],
   "source": [
    "class MyQNetwork(network.Network):\n",
    "    def __init__(self,\n",
    "                 input_tensor_spec,\n",
    "                 action_spec,\n",
    "                 name='MyQNetwork'):\n",
    "        super(MyQNetwork, self).__init__(\n",
    "            input_tensor_spec=input_tensor_spec,\n",
    "            state_spec=(),\n",
    "            name=name)\n",
    "        \n",
    "        self._action_spec = action_spec\n",
    "\n",
    "        input_shape = tf.expand_dims(input_tensor_spec, axis=0)\n",
    "        # Create your custom model\n",
    "        self._model = Sequential([\n",
    "            Conv2D(32, (2, 2), 1, input_shape=input_shape, activation='relu', kernel_initializer='he_normal'),\n",
    "            Conv2D(64, (2, 2), 1, activation='relu', kernel_initializer='he_normal'),\n",
    "            Flatten(),\n",
    "            Dense(128, activation='relu', kernel_initializer='he_normal'),\n",
    "            Dense(16, activation='relu', kernel_initializer='he_normal'),\n",
    "            Dense(4)\n",
    "        ])\n",
    "\n",
    "    def call(self, observations, step_type=None, network_state=(), training=False):\n",
    "        output = self._model(observations)\n",
    "        return output, network_state\n",
    "\n",
    "    def create_variables(self, input_tensor_spec, **kwargs):\n",
    "        self(tf.zeros(input_tensor_spec.shape, input_tensor_spec.dtype))\n",
    "\n",
    "    def copy(self, name=''):\n",
    "        pass\n",
    "\n",
    "q_net = MyQNetwork(\n",
    "    env.observation_spec(),\n",
    "    env.action_spec())\n"
   ]
  },
  {
   "cell_type": "code",
   "execution_count": 32,
   "metadata": {},
   "outputs": [
    {
     "ename": "ValueError",
     "evalue": "Exception encountered when calling layer 'MyQNetwork' (type MyQNetwork).\n\nInput 0 of layer \"sequential\" is incompatible with the layer: expected shape=(None, 5, 5, 4), found shape=(5, 5, 4)\n\nCall arguments received by layer 'MyQNetwork' (type MyQNetwork):\n  • observations=tf.Tensor(shape=(5, 5, 4), dtype=float32)\n  • step_type=None\n  • network_state=()\n  • training=False\n  In call to configurable 'DqnAgent' (<class 'tf_agents.agents.dqn.dqn_agent.DqnAgent'>)",
     "output_type": "error",
     "traceback": [
      "\u001b[0;31m---------------------------------------------------------------------------\u001b[0m",
      "\u001b[0;31mValueError\u001b[0m                                Traceback (most recent call last)",
      "\u001b[1;32m/Users/juanpablo/Desktop/Projects/Snake/CNN_tf_agents.ipynb Cell 5\u001b[0m line \u001b[0;36m1\n\u001b[1;32m     <a href='vscode-notebook-cell:/Users/juanpablo/Desktop/Projects/Snake/CNN_tf_agents.ipynb#W3sZmlsZQ%3D%3D?line=10'>11</a>\u001b[0m \u001b[39m# epsilon = lambda train_step: (1 / (tf.cast(tf.linspace(1, 8, episodes_count)**3, tf.float32)))[train_step]\u001b[39;00m\n\u001b[1;32m     <a href='vscode-notebook-cell:/Users/juanpablo/Desktop/Projects/Snake/CNN_tf_agents.ipynb#W3sZmlsZQ%3D%3D?line=11'>12</a>\u001b[0m epsilon \u001b[39m=\u001b[39m keras\u001b[39m.\u001b[39moptimizers\u001b[39m.\u001b[39mschedules\u001b[39m.\u001b[39mPolynomialDecay(\n\u001b[1;32m     <a href='vscode-notebook-cell:/Users/juanpablo/Desktop/Projects/Snake/CNN_tf_agents.ipynb#W3sZmlsZQ%3D%3D?line=12'>13</a>\u001b[0m     initial_learning_rate\u001b[39m=\u001b[39m\u001b[39m1.0\u001b[39m,\n\u001b[1;32m     <a href='vscode-notebook-cell:/Users/juanpablo/Desktop/Projects/Snake/CNN_tf_agents.ipynb#W3sZmlsZQ%3D%3D?line=13'>14</a>\u001b[0m     decay_steps\u001b[39m=\u001b[39mepisodes_count,\n\u001b[1;32m     <a href='vscode-notebook-cell:/Users/juanpablo/Desktop/Projects/Snake/CNN_tf_agents.ipynb#W3sZmlsZQ%3D%3D?line=14'>15</a>\u001b[0m     end_learning_rate\u001b[39m=\u001b[39m\u001b[39m0.01\u001b[39m\n\u001b[1;32m     <a href='vscode-notebook-cell:/Users/juanpablo/Desktop/Projects/Snake/CNN_tf_agents.ipynb#W3sZmlsZQ%3D%3D?line=15'>16</a>\u001b[0m )\n\u001b[0;32m---> <a href='vscode-notebook-cell:/Users/juanpablo/Desktop/Projects/Snake/CNN_tf_agents.ipynb#W3sZmlsZQ%3D%3D?line=17'>18</a>\u001b[0m agent \u001b[39m=\u001b[39m DqnAgent(\n\u001b[1;32m     <a href='vscode-notebook-cell:/Users/juanpablo/Desktop/Projects/Snake/CNN_tf_agents.ipynb#W3sZmlsZQ%3D%3D?line=18'>19</a>\u001b[0m     time_step_spec\u001b[39m=\u001b[39;49menv\u001b[39m.\u001b[39;49mtime_step_spec(),\n\u001b[1;32m     <a href='vscode-notebook-cell:/Users/juanpablo/Desktop/Projects/Snake/CNN_tf_agents.ipynb#W3sZmlsZQ%3D%3D?line=19'>20</a>\u001b[0m     action_spec\u001b[39m=\u001b[39;49menv\u001b[39m.\u001b[39;49maction_spec(),\n\u001b[1;32m     <a href='vscode-notebook-cell:/Users/juanpablo/Desktop/Projects/Snake/CNN_tf_agents.ipynb#W3sZmlsZQ%3D%3D?line=20'>21</a>\u001b[0m     q_network\u001b[39m=\u001b[39;49mq_net,\n\u001b[1;32m     <a href='vscode-notebook-cell:/Users/juanpablo/Desktop/Projects/Snake/CNN_tf_agents.ipynb#W3sZmlsZQ%3D%3D?line=21'>22</a>\u001b[0m     optimizer\u001b[39m=\u001b[39;49moptimizer,\n\u001b[1;32m     <a href='vscode-notebook-cell:/Users/juanpablo/Desktop/Projects/Snake/CNN_tf_agents.ipynb#W3sZmlsZQ%3D%3D?line=22'>23</a>\u001b[0m     td_errors_loss_fn\u001b[39m=\u001b[39;49mHuber(reduction\u001b[39m=\u001b[39;49m\u001b[39m\"\u001b[39;49m\u001b[39mnone\u001b[39;49m\u001b[39m\"\u001b[39;49m),\n\u001b[1;32m     <a href='vscode-notebook-cell:/Users/juanpablo/Desktop/Projects/Snake/CNN_tf_agents.ipynb#W3sZmlsZQ%3D%3D?line=23'>24</a>\u001b[0m     gamma\u001b[39m=\u001b[39;49mtf\u001b[39m.\u001b[39;49mconstant(\u001b[39m0.95\u001b[39;49m, dtype\u001b[39m=\u001b[39;49mtf\u001b[39m.\u001b[39;49mfloat32),\n\u001b[1;32m     <a href='vscode-notebook-cell:/Users/juanpablo/Desktop/Projects/Snake/CNN_tf_agents.ipynb#W3sZmlsZQ%3D%3D?line=24'>25</a>\u001b[0m     train_step_counter\u001b[39m=\u001b[39;49mtrain_step_counter,\n\u001b[1;32m     <a href='vscode-notebook-cell:/Users/juanpablo/Desktop/Projects/Snake/CNN_tf_agents.ipynb#W3sZmlsZQ%3D%3D?line=25'>26</a>\u001b[0m     epsilon_greedy\u001b[39m=\u001b[39;49m\u001b[39mlambda\u001b[39;49;00m: epsilon(train_step_counter)\n\u001b[1;32m     <a href='vscode-notebook-cell:/Users/juanpablo/Desktop/Projects/Snake/CNN_tf_agents.ipynb#W3sZmlsZQ%3D%3D?line=26'>27</a>\u001b[0m )\n",
      "File \u001b[0;32m~/miniconda3/lib/python3.11/site-packages/gin/config.py:1605\u001b[0m, in \u001b[0;36m_make_gin_wrapper.<locals>.gin_wrapper\u001b[0;34m(*args, **kwargs)\u001b[0m\n\u001b[1;32m   1603\u001b[0m scope_info \u001b[39m=\u001b[39m \u001b[39m\"\u001b[39m\u001b[39m in scope \u001b[39m\u001b[39m'\u001b[39m\u001b[39m{}\u001b[39;00m\u001b[39m'\u001b[39m\u001b[39m\"\u001b[39m\u001b[39m.\u001b[39mformat(scope_str) \u001b[39mif\u001b[39;00m scope_str \u001b[39melse\u001b[39;00m \u001b[39m'\u001b[39m\u001b[39m'\u001b[39m\n\u001b[1;32m   1604\u001b[0m err_str \u001b[39m=\u001b[39m err_str\u001b[39m.\u001b[39mformat(name, fn_or_cls, scope_info)\n\u001b[0;32m-> 1605\u001b[0m utils\u001b[39m.\u001b[39;49maugment_exception_message_and_reraise(e, err_str)\n",
      "File \u001b[0;32m~/miniconda3/lib/python3.11/site-packages/gin/utils.py:41\u001b[0m, in \u001b[0;36maugment_exception_message_and_reraise\u001b[0;34m(exception, message)\u001b[0m\n\u001b[1;32m     39\u001b[0m proxy \u001b[39m=\u001b[39m ExceptionProxy()\n\u001b[1;32m     40\u001b[0m ExceptionProxy\u001b[39m.\u001b[39m\u001b[39m__qualname__\u001b[39m \u001b[39m=\u001b[39m \u001b[39mtype\u001b[39m(exception)\u001b[39m.\u001b[39m\u001b[39m__qualname__\u001b[39m\n\u001b[0;32m---> 41\u001b[0m \u001b[39mraise\u001b[39;00m proxy\u001b[39m.\u001b[39mwith_traceback(exception\u001b[39m.\u001b[39m__traceback__) \u001b[39mfrom\u001b[39;00m \u001b[39mNone\u001b[39;00m\n",
      "File \u001b[0;32m~/miniconda3/lib/python3.11/site-packages/gin/config.py:1582\u001b[0m, in \u001b[0;36m_make_gin_wrapper.<locals>.gin_wrapper\u001b[0;34m(*args, **kwargs)\u001b[0m\n\u001b[1;32m   1579\u001b[0m new_kwargs\u001b[39m.\u001b[39mupdate(kwargs)\n\u001b[1;32m   1581\u001b[0m \u001b[39mtry\u001b[39;00m:\n\u001b[0;32m-> 1582\u001b[0m   \u001b[39mreturn\u001b[39;00m fn(\u001b[39m*\u001b[39;49mnew_args, \u001b[39m*\u001b[39;49m\u001b[39m*\u001b[39;49mnew_kwargs)\n\u001b[1;32m   1583\u001b[0m \u001b[39mexcept\u001b[39;00m \u001b[39mException\u001b[39;00m \u001b[39mas\u001b[39;00m e:  \u001b[39m# pylint: disable=broad-except\u001b[39;00m\n\u001b[1;32m   1584\u001b[0m   err_str \u001b[39m=\u001b[39m \u001b[39m'\u001b[39m\u001b[39m'\u001b[39m\n",
      "File \u001b[0;32m~/miniconda3/lib/python3.11/site-packages/tf_agents/agents/dqn/dqn_agent.py:239\u001b[0m, in \u001b[0;36mDqnAgent.__init__\u001b[0;34m(self, time_step_spec, action_spec, q_network, optimizer, observation_and_action_constraint_splitter, epsilon_greedy, n_step_update, boltzmann_temperature, emit_log_probability, target_q_network, target_update_tau, target_update_period, td_errors_loss_fn, gamma, reward_scale_factor, gradient_clipping, debug_summaries, summarize_grads_and_vars, train_step_counter, training_data_spec, name)\u001b[0m\n\u001b[1;32m    236\u001b[0m \u001b[39mif\u001b[39;00m observation_and_action_constraint_splitter:\n\u001b[1;32m    237\u001b[0m   net_observation_spec, _ \u001b[39m=\u001b[39m observation_and_action_constraint_splitter(\n\u001b[1;32m    238\u001b[0m       net_observation_spec)\n\u001b[0;32m--> 239\u001b[0m q_network\u001b[39m.\u001b[39;49mcreate_variables(net_observation_spec)\n\u001b[1;32m    240\u001b[0m \u001b[39mif\u001b[39;00m target_q_network:\n\u001b[1;32m    241\u001b[0m   target_q_network\u001b[39m.\u001b[39mcreate_variables(net_observation_spec)\n",
      "\u001b[1;32m/Users/juanpablo/Desktop/Projects/Snake/CNN_tf_agents.ipynb Cell 5\u001b[0m line \u001b[0;36m2\n\u001b[1;32m     <a href='vscode-notebook-cell:/Users/juanpablo/Desktop/Projects/Snake/CNN_tf_agents.ipynb#W3sZmlsZQ%3D%3D?line=26'>27</a>\u001b[0m \u001b[39mdef\u001b[39;00m \u001b[39mcreate_variables\u001b[39m(\u001b[39mself\u001b[39m, input_tensor_spec, \u001b[39m*\u001b[39m\u001b[39m*\u001b[39mkwargs):\n\u001b[0;32m---> <a href='vscode-notebook-cell:/Users/juanpablo/Desktop/Projects/Snake/CNN_tf_agents.ipynb#W3sZmlsZQ%3D%3D?line=27'>28</a>\u001b[0m     \u001b[39mself\u001b[39;49m(tf\u001b[39m.\u001b[39;49mzeros(input_tensor_spec\u001b[39m.\u001b[39;49mshape, input_tensor_spec\u001b[39m.\u001b[39;49mdtype))\n",
      "File \u001b[0;32m~/miniconda3/lib/python3.11/site-packages/tf_agents/networks/network.py:425\u001b[0m, in \u001b[0;36mNetwork.__call__\u001b[0;34m(self, inputs, *args, **kwargs)\u001b[0m\n\u001b[1;32m    419\u001b[0m \u001b[39mif\u001b[39;00m (\u001b[39mnot\u001b[39;00m tf\u001b[39m.\u001b[39mis_tensor(network_state)\n\u001b[1;32m    420\u001b[0m     \u001b[39mand\u001b[39;00m network_state \u001b[39min\u001b[39;00m (\u001b[39mNone\u001b[39;00m, ())\n\u001b[1;32m    421\u001b[0m     \u001b[39mand\u001b[39;00m \u001b[39m\"\u001b[39m\u001b[39mnetwork_state\u001b[39m\u001b[39m\"\u001b[39m \u001b[39mnot\u001b[39;00m \u001b[39min\u001b[39;00m call_argspec\u001b[39m.\u001b[39margs\n\u001b[1;32m    422\u001b[0m     \u001b[39mand\u001b[39;00m \u001b[39mnot\u001b[39;00m call_argspec\u001b[39m.\u001b[39mkeywords):\n\u001b[1;32m    423\u001b[0m   normalized_kwargs\u001b[39m.\u001b[39mpop(\u001b[39m\"\u001b[39m\u001b[39mnetwork_state\u001b[39m\u001b[39m\"\u001b[39m, \u001b[39mNone\u001b[39;00m)\n\u001b[0;32m--> 425\u001b[0m outputs, new_state \u001b[39m=\u001b[39m \u001b[39msuper\u001b[39;49m(Network, \u001b[39mself\u001b[39;49m)\u001b[39m.\u001b[39;49m\u001b[39m__call__\u001b[39;49m(\u001b[39m*\u001b[39;49m\u001b[39m*\u001b[39;49mnormalized_kwargs)  \u001b[39m# pytype: disable=attribute-error  # typed-keras\u001b[39;00m\n\u001b[1;32m    427\u001b[0m nest_utils\u001b[39m.\u001b[39massert_matching_dtypes_and_inner_shapes(\n\u001b[1;32m    428\u001b[0m     new_state,\n\u001b[1;32m    429\u001b[0m     \u001b[39mself\u001b[39m\u001b[39m.\u001b[39mstate_spec,\n\u001b[0;32m   (...)\u001b[0m\n\u001b[1;32m    432\u001b[0m     tensors_name\u001b[39m=\u001b[39m\u001b[39m\"\u001b[39m\u001b[39m`new_state`\u001b[39m\u001b[39m\"\u001b[39m,\n\u001b[1;32m    433\u001b[0m     specs_name\u001b[39m=\u001b[39m\u001b[39m\"\u001b[39m\u001b[39m`state_spec`\u001b[39m\u001b[39m\"\u001b[39m)\n\u001b[1;32m    435\u001b[0m \u001b[39mreturn\u001b[39;00m outputs, new_state\n",
      "File \u001b[0;32m~/miniconda3/lib/python3.11/site-packages/keras/src/utils/traceback_utils.py:70\u001b[0m, in \u001b[0;36mfilter_traceback.<locals>.error_handler\u001b[0;34m(*args, **kwargs)\u001b[0m\n\u001b[1;32m     67\u001b[0m     filtered_tb \u001b[39m=\u001b[39m _process_traceback_frames(e\u001b[39m.\u001b[39m__traceback__)\n\u001b[1;32m     68\u001b[0m     \u001b[39m# To get the full stack trace, call:\u001b[39;00m\n\u001b[1;32m     69\u001b[0m     \u001b[39m# `tf.debugging.disable_traceback_filtering()`\u001b[39;00m\n\u001b[0;32m---> 70\u001b[0m     \u001b[39mraise\u001b[39;00m e\u001b[39m.\u001b[39mwith_traceback(filtered_tb) \u001b[39mfrom\u001b[39;00m \u001b[39mNone\u001b[39;00m\n\u001b[1;32m     71\u001b[0m \u001b[39mfinally\u001b[39;00m:\n\u001b[1;32m     72\u001b[0m     \u001b[39mdel\u001b[39;00m filtered_tb\n",
      "\u001b[1;32m/Users/juanpablo/Desktop/Projects/Snake/CNN_tf_agents.ipynb Cell 5\u001b[0m line \u001b[0;36m2\n\u001b[1;32m     <a href='vscode-notebook-cell:/Users/juanpablo/Desktop/Projects/Snake/CNN_tf_agents.ipynb#W3sZmlsZQ%3D%3D?line=22'>23</a>\u001b[0m \u001b[39mdef\u001b[39;00m \u001b[39mcall\u001b[39m(\u001b[39mself\u001b[39m, observations, step_type\u001b[39m=\u001b[39m\u001b[39mNone\u001b[39;00m, network_state\u001b[39m=\u001b[39m(), training\u001b[39m=\u001b[39m\u001b[39mFalse\u001b[39;00m):\n\u001b[0;32m---> <a href='vscode-notebook-cell:/Users/juanpablo/Desktop/Projects/Snake/CNN_tf_agents.ipynb#W3sZmlsZQ%3D%3D?line=23'>24</a>\u001b[0m     output \u001b[39m=\u001b[39m \u001b[39mself\u001b[39;49m\u001b[39m.\u001b[39;49m_model(observations)\n\u001b[1;32m     <a href='vscode-notebook-cell:/Users/juanpablo/Desktop/Projects/Snake/CNN_tf_agents.ipynb#W3sZmlsZQ%3D%3D?line=24'>25</a>\u001b[0m     \u001b[39mreturn\u001b[39;00m output, network_state\n",
      "\u001b[0;31mValueError\u001b[0m: Exception encountered when calling layer 'MyQNetwork' (type MyQNetwork).\n\nInput 0 of layer \"sequential\" is incompatible with the layer: expected shape=(None, 5, 5, 4), found shape=(5, 5, 4)\n\nCall arguments received by layer 'MyQNetwork' (type MyQNetwork):\n  • observations=tf.Tensor(shape=(5, 5, 4), dtype=float32)\n  • step_type=None\n  • network_state=()\n  • training=False\n  In call to configurable 'DqnAgent' (<class 'tf_agents.agents.dqn.dqn_agent.DqnAgent'>)"
     ]
    }
   ],
   "source": [
    "# Create the agent\n",
    "from tf_agents.agents.dqn.dqn_agent import DqnAgent\n",
    "from tensorflow import keras\n",
    "from keras.optimizers.legacy import Adam\n",
    "from keras.losses import Huber\n",
    "from tf_agents.trajectories import TimeStep\n",
    "\n",
    "train_step_counter = tf.Variable(0)\n",
    "optimizer = Adam(learning_rate=0.003)\n",
    "\n",
    "# epsilon = lambda train_step: (1 / (tf.cast(tf.linspace(1, 8, episodes_count)**3, tf.float32)))[train_step]\n",
    "epsilon = keras.optimizers.schedules.PolynomialDecay(\n",
    "    initial_learning_rate=1.0,\n",
    "    decay_steps=episodes_count,\n",
    "    end_learning_rate=0.01\n",
    ")\n",
    "\n",
    "agent = DqnAgent(\n",
    "    time_step_spec=env.time_step_spec(),\n",
    "    action_spec=env.action_spec(),\n",
    "    q_network=q_net,\n",
    "    optimizer=optimizer,\n",
    "    td_errors_loss_fn=Huber(reduction=\"none\"),\n",
    "    gamma=tf.constant(0.95, dtype=tf.float32),\n",
    "    train_step_counter=train_step_counter,\n",
    "    epsilon_greedy=lambda: epsilon(train_step_counter)\n",
    ")\n"
   ]
  },
  {
   "cell_type": "code",
   "execution_count": 5,
   "metadata": {},
   "outputs": [],
   "source": [
    "# Create the replay buffer\n",
    "from tf_agents.replay_buffers import tf_uniform_replay_buffer\n",
    "\n",
    "replay_buffer = tf_uniform_replay_buffer.TFUniformReplayBuffer(\n",
    "    data_spec=agent.collect_data_spec,\n",
    "    batch_size=env.batch_size,\n",
    "    max_length=100000\n",
    ")\n"
   ]
  },
  {
   "cell_type": "code",
   "execution_count": 6,
   "metadata": {},
   "outputs": [],
   "source": [
    "# Create the training metrics\n",
    "from tf_agents.metrics import tf_metrics\n",
    "\n",
    "train_metrics = [\n",
    "    tf_metrics.NumberOfEpisodes(),\n",
    "    tf_metrics.EnvironmentSteps(),\n",
    "    tf_metrics.AverageReturnMetric(),\n",
    "    tf_metrics.AverageEpisodeLengthMetric()\n",
    "]\n"
   ]
  },
  {
   "cell_type": "code",
   "execution_count": 7,
   "metadata": {},
   "outputs": [],
   "source": [
    "# Create the driver\n",
    "from tf_agents.drivers import dynamic_step_driver\n",
    "\n",
    "collect_driver = dynamic_step_driver.DynamicStepDriver(\n",
    "    env,\n",
    "    policy=agent.collect_policy,\n",
    "    observers=[replay_buffer.add_batch] + train_metrics,\n",
    "    num_steps=4\n",
    ")\n",
    "\n",
    "# Run a random policy to fill the replay buffer\n",
    "from tf_agents.policies.random_tf_policy import RandomTFPolicy\n",
    "\n",
    "initial_collect_policy = RandomTFPolicy(env.time_step_spec(), env.action_spec())\n",
    "init_driver = dynamic_step_driver.DynamicStepDriver(\n",
    "    env,\n",
    "    policy=initial_collect_policy,\n",
    "    observers=[replay_buffer.add_batch],\n",
    "    num_steps=20000\n",
    ")\n",
    "\n",
    "final_time_step, final_policy_state = init_driver.run()\n"
   ]
  },
  {
   "cell_type": "code",
   "execution_count": 8,
   "metadata": {},
   "outputs": [
    {
     "name": "stdout",
     "output_type": "stream",
     "text": [
      "WARNING:tensorflow:From /Users/juanpablo/miniconda3/lib/python3.11/site-packages/tf_agents/replay_buffers/tf_uniform_replay_buffer.py:342: CounterV2 (from tensorflow.python.data.experimental.ops.counter) is deprecated and will be removed in a future version.\n",
      "Instructions for updating:\n",
      "Use `tf.data.Dataset.counter(...)` instead.\n",
      "WARNING:tensorflow:From /Users/juanpablo/miniconda3/lib/python3.11/site-packages/tensorflow/python/autograph/impl/api.py:377: ReplayBuffer.get_next (from tf_agents.replay_buffers.replay_buffer) is deprecated and will be removed in a future version.\n",
      "Instructions for updating:\n",
      "Use `as_dataset(..., single_deterministic_pass=False) instead.\n"
     ]
    }
   ],
   "source": [
    "# Create the dataset\n",
    "dataset = replay_buffer.as_dataset(\n",
    "    sample_batch_size=64,\n",
    "    num_steps=2, # Capaz cambiar esto\n",
    "    num_parallel_calls=3\n",
    ").prefetch(3)\n"
   ]
  },
  {
   "cell_type": "code",
   "execution_count": 9,
   "metadata": {},
   "outputs": [],
   "source": [
    "# Create the training loop\n",
    "\n",
    "from tf_agents.utils.common import function\n",
    "from tf_agents.trajectories import trajectory\n",
    "from tf_agents.eval.metric_utils import log_metrics\n",
    "import logging\n",
    "\n",
    "logging.getLogger().setLevel(logging.INFO)\n",
    "\n",
    "collect_driver.run = function(collect_driver.run)\n",
    "agent.train = function(agent.train)\n",
    "\n",
    "def train_agent(n_iterations):\n",
    "    time_step = None\n",
    "    policy_state = agent.collect_policy.get_initial_state(env.batch_size)\n",
    "    iterator = iter(dataset)\n",
    "    for iteration in range(n_iterations):\n",
    "        time_step, policy_state = collect_driver.run(time_step, policy_state)\n",
    "        trajectories, buffer_info = next(iterator)\n",
    "        train_loss = agent.train(trajectories)\n",
    "        if iteration % 1000 == 0:\n",
    "            print(\"Iteration: \", iteration)\n",
    "            log_metrics(train_metrics)\n"
   ]
  },
  {
   "cell_type": "code",
   "execution_count": 10,
   "metadata": {},
   "outputs": [
    {
     "name": "stdout",
     "output_type": "stream",
     "text": [
      "WARNING:tensorflow:From /Users/juanpablo/miniconda3/lib/python3.11/site-packages/tensorflow/python/util/dispatch.py:1176: calling foldr_v2 (from tensorflow.python.ops.functional_ops) with back_prop=False is deprecated and will be removed in a future version.\n",
      "Instructions for updating:\n",
      "back_prop=False is deprecated. Consider using tf.stop_gradient instead.\n",
      "Instead of:\n",
      "results = tf.foldr(fn, elems, back_prop=False)\n",
      "Use:\n",
      "results = tf.nest.map_structure(tf.stop_gradient, tf.foldr(fn, elems))\n"
     ]
    },
    {
     "name": "stderr",
     "output_type": "stream",
     "text": [
      "INFO:absl: \n",
      "\t\t NumberOfEpisodes = 0\n",
      "\t\t EnvironmentSteps = 4\n",
      "\t\t AverageReturn = 0.0\n",
      "\t\t AverageEpisodeLength = 0.0\n"
     ]
    },
    {
     "name": "stdout",
     "output_type": "stream",
     "text": [
      "Iteration:  0\n"
     ]
    },
    {
     "name": "stderr",
     "output_type": "stream",
     "text": [
      "INFO:absl: \n",
      "\t\t NumberOfEpisodes = 3037\n",
      "\t\t EnvironmentSteps = 4004\n",
      "\t\t AverageReturn = -44988.69921875\n",
      "\t\t AverageEpisodeLength = 0.699999988079071\n"
     ]
    },
    {
     "name": "stdout",
     "output_type": "stream",
     "text": [
      "Iteration:  1000\n"
     ]
    },
    {
     "name": "stderr",
     "output_type": "stream",
     "text": [
      "INFO:absl: \n",
      "\t\t NumberOfEpisodes = 5839\n",
      "\t\t EnvironmentSteps = 8004\n",
      "\t\t AverageReturn = -86282.5\n",
      "\t\t AverageEpisodeLength = 1.5\n"
     ]
    },
    {
     "name": "stdout",
     "output_type": "stream",
     "text": [
      "Iteration:  2000\n"
     ]
    },
    {
     "name": "stderr",
     "output_type": "stream",
     "text": [
      "INFO:absl: \n",
      "\t\t NumberOfEpisodes = 8616\n",
      "\t\t EnvironmentSteps = 12004\n",
      "\t\t AverageReturn = -127687.1015625\n",
      "\t\t AverageEpisodeLength = 1.399999976158142\n"
     ]
    },
    {
     "name": "stdout",
     "output_type": "stream",
     "text": [
      "Iteration:  3000\n"
     ]
    },
    {
     "name": "stderr",
     "output_type": "stream",
     "text": [
      "INFO:absl: \n",
      "\t\t NumberOfEpisodes = 11441\n",
      "\t\t EnvironmentSteps = 16004\n",
      "\t\t AverageReturn = -169235.59375\n",
      "\t\t AverageEpisodeLength = 2.200000047683716\n"
     ]
    },
    {
     "name": "stdout",
     "output_type": "stream",
     "text": [
      "Iteration:  4000\n"
     ]
    },
    {
     "name": "stderr",
     "output_type": "stream",
     "text": [
      "INFO:absl: \n",
      "\t\t NumberOfEpisodes = 14158\n",
      "\t\t EnvironmentSteps = 20004\n",
      "\t\t AverageReturn = -209288.203125\n",
      "\t\t AverageEpisodeLength = 0.800000011920929\n"
     ]
    },
    {
     "name": "stdout",
     "output_type": "stream",
     "text": [
      "Iteration:  5000\n"
     ]
    },
    {
     "name": "stderr",
     "output_type": "stream",
     "text": [
      "INFO:absl: \n",
      "\t\t NumberOfEpisodes = 16864\n",
      "\t\t EnvironmentSteps = 24004\n",
      "\t\t AverageReturn = -248414.59375\n",
      "\t\t AverageEpisodeLength = 1.899999976158142\n"
     ]
    },
    {
     "name": "stdout",
     "output_type": "stream",
     "text": [
      "Iteration:  6000\n"
     ]
    },
    {
     "name": "stderr",
     "output_type": "stream",
     "text": [
      "INFO:absl: \n",
      "\t\t NumberOfEpisodes = 19566\n",
      "\t\t EnvironmentSteps = 28004\n",
      "\t\t AverageReturn = -288202.40625\n",
      "\t\t AverageEpisodeLength = 1.600000023841858\n"
     ]
    },
    {
     "name": "stdout",
     "output_type": "stream",
     "text": [
      "Iteration:  7000\n"
     ]
    },
    {
     "name": "stderr",
     "output_type": "stream",
     "text": [
      "INFO:absl: \n",
      "\t\t NumberOfEpisodes = 22147\n",
      "\t\t EnvironmentSteps = 32004\n",
      "\t\t AverageReturn = -325780.5\n",
      "\t\t AverageEpisodeLength = 2.0\n"
     ]
    },
    {
     "name": "stdout",
     "output_type": "stream",
     "text": [
      "Iteration:  8000\n"
     ]
    },
    {
     "name": "stderr",
     "output_type": "stream",
     "text": [
      "INFO:absl: \n",
      "\t\t NumberOfEpisodes = 24923\n",
      "\t\t EnvironmentSteps = 36004\n",
      "\t\t AverageReturn = -367001.8125\n",
      "\t\t AverageEpisodeLength = 2.0\n"
     ]
    },
    {
     "name": "stdout",
     "output_type": "stream",
     "text": [
      "Iteration:  9000\n"
     ]
    },
    {
     "name": "stderr",
     "output_type": "stream",
     "text": [
      "INFO:absl: \n",
      "\t\t NumberOfEpisodes = 27579\n",
      "\t\t EnvironmentSteps = 40004\n",
      "\t\t AverageReturn = -404921.0\n",
      "\t\t AverageEpisodeLength = 1.100000023841858\n"
     ]
    },
    {
     "name": "stdout",
     "output_type": "stream",
     "text": [
      "Iteration:  10000\n"
     ]
    },
    {
     "name": "stderr",
     "output_type": "stream",
     "text": [
      "INFO:absl: \n",
      "\t\t NumberOfEpisodes = 30111\n",
      "\t\t EnvironmentSteps = 44004\n",
      "\t\t AverageReturn = -441529.09375\n",
      "\t\t AverageEpisodeLength = 2.299999952316284\n"
     ]
    },
    {
     "name": "stdout",
     "output_type": "stream",
     "text": [
      "Iteration:  11000\n"
     ]
    },
    {
     "name": "stderr",
     "output_type": "stream",
     "text": [
      "INFO:absl: \n",
      "\t\t NumberOfEpisodes = 32546\n",
      "\t\t EnvironmentSteps = 48004\n",
      "\t\t AverageReturn = -476605.59375\n",
      "\t\t AverageEpisodeLength = 2.9000000953674316\n"
     ]
    },
    {
     "name": "stdout",
     "output_type": "stream",
     "text": [
      "Iteration:  12000\n"
     ]
    },
    {
     "name": "stderr",
     "output_type": "stream",
     "text": [
      "INFO:absl: \n",
      "\t\t NumberOfEpisodes = 35101\n",
      "\t\t EnvironmentSteps = 52004\n",
      "\t\t AverageReturn = -512360.09375\n",
      "\t\t AverageEpisodeLength = 1.899999976158142\n"
     ]
    },
    {
     "name": "stdout",
     "output_type": "stream",
     "text": [
      "Iteration:  13000\n"
     ]
    },
    {
     "name": "stderr",
     "output_type": "stream",
     "text": [
      "INFO:absl: \n",
      "\t\t NumberOfEpisodes = 37502\n",
      "\t\t EnvironmentSteps = 56004\n",
      "\t\t AverageReturn = -546205.875\n",
      "\t\t AverageEpisodeLength = 1.2999999523162842\n"
     ]
    },
    {
     "name": "stdout",
     "output_type": "stream",
     "text": [
      "Iteration:  14000\n"
     ]
    },
    {
     "name": "stderr",
     "output_type": "stream",
     "text": [
      "INFO:absl: \n",
      "\t\t NumberOfEpisodes = 39831\n",
      "\t\t EnvironmentSteps = 60004\n",
      "\t\t AverageReturn = -579262.3125\n",
      "\t\t AverageEpisodeLength = 1.2999999523162842\n"
     ]
    },
    {
     "name": "stdout",
     "output_type": "stream",
     "text": [
      "Iteration:  15000\n"
     ]
    },
    {
     "name": "stderr",
     "output_type": "stream",
     "text": [
      "INFO:absl: \n",
      "\t\t NumberOfEpisodes = 42265\n",
      "\t\t EnvironmentSteps = 64004\n",
      "\t\t AverageReturn = -612963.625\n",
      "\t\t AverageEpisodeLength = 0.699999988079071\n"
     ]
    },
    {
     "name": "stdout",
     "output_type": "stream",
     "text": [
      "Iteration:  16000\n"
     ]
    },
    {
     "name": "stderr",
     "output_type": "stream",
     "text": [
      "INFO:absl: \n",
      "\t\t NumberOfEpisodes = 44591\n",
      "\t\t EnvironmentSteps = 68004\n",
      "\t\t AverageReturn = -645632.5\n",
      "\t\t AverageEpisodeLength = 2.299999952316284\n"
     ]
    },
    {
     "name": "stdout",
     "output_type": "stream",
     "text": [
      "Iteration:  17000\n"
     ]
    },
    {
     "name": "stderr",
     "output_type": "stream",
     "text": [
      "INFO:absl: \n",
      "\t\t NumberOfEpisodes = 46943\n",
      "\t\t EnvironmentSteps = 72004\n",
      "\t\t AverageReturn = -678299.125\n",
      "\t\t AverageEpisodeLength = 2.9000000953674316\n"
     ]
    },
    {
     "name": "stdout",
     "output_type": "stream",
     "text": [
      "Iteration:  18000\n"
     ]
    },
    {
     "name": "stderr",
     "output_type": "stream",
     "text": [
      "INFO:absl: \n",
      "\t\t NumberOfEpisodes = 49277\n",
      "\t\t EnvironmentSteps = 76004\n",
      "\t\t AverageReturn = -710666.0\n",
      "\t\t AverageEpisodeLength = 1.2999999523162842\n"
     ]
    },
    {
     "name": "stdout",
     "output_type": "stream",
     "text": [
      "Iteration:  19000\n"
     ]
    },
    {
     "name": "stderr",
     "output_type": "stream",
     "text": [
      "INFO:absl: \n",
      "\t\t NumberOfEpisodes = 51669\n",
      "\t\t EnvironmentSteps = 80004\n",
      "\t\t AverageReturn = -743722.875\n",
      "\t\t AverageEpisodeLength = 1.600000023841858\n"
     ]
    },
    {
     "name": "stdout",
     "output_type": "stream",
     "text": [
      "Iteration:  20000\n"
     ]
    },
    {
     "name": "stderr",
     "output_type": "stream",
     "text": [
      "INFO:absl: \n",
      "\t\t NumberOfEpisodes = 53912\n",
      "\t\t EnvironmentSteps = 84004\n",
      "\t\t AverageReturn = -774612.6875\n",
      "\t\t AverageEpisodeLength = 3.5\n"
     ]
    },
    {
     "name": "stdout",
     "output_type": "stream",
     "text": [
      "Iteration:  21000\n"
     ]
    },
    {
     "name": "stderr",
     "output_type": "stream",
     "text": [
      "INFO:absl: \n",
      "\t\t NumberOfEpisodes = 56063\n",
      "\t\t EnvironmentSteps = 88004\n",
      "\t\t AverageReturn = -804175.875\n",
      "\t\t AverageEpisodeLength = 1.2000000476837158\n"
     ]
    },
    {
     "name": "stdout",
     "output_type": "stream",
     "text": [
      "Iteration:  22000\n"
     ]
    },
    {
     "name": "stderr",
     "output_type": "stream",
     "text": [
      "INFO:absl: \n",
      "\t\t NumberOfEpisodes = 58262\n",
      "\t\t EnvironmentSteps = 92004\n",
      "\t\t AverageReturn = -833970.875\n",
      "\t\t AverageEpisodeLength = 2.9000000953674316\n"
     ]
    },
    {
     "name": "stdout",
     "output_type": "stream",
     "text": [
      "Iteration:  23000\n"
     ]
    },
    {
     "name": "stderr",
     "output_type": "stream",
     "text": [
      "INFO:absl: \n",
      "\t\t NumberOfEpisodes = 60392\n",
      "\t\t EnvironmentSteps = 96004\n",
      "\t\t AverageReturn = -862628.5\n",
      "\t\t AverageEpisodeLength = 2.200000047683716\n"
     ]
    },
    {
     "name": "stdout",
     "output_type": "stream",
     "text": [
      "Iteration:  24000\n"
     ]
    },
    {
     "name": "stderr",
     "output_type": "stream",
     "text": [
      "INFO:absl: \n",
      "\t\t NumberOfEpisodes = 62469\n",
      "\t\t EnvironmentSteps = 100004\n",
      "\t\t AverageReturn = -889886.5\n",
      "\t\t AverageEpisodeLength = 2.5\n"
     ]
    },
    {
     "name": "stdout",
     "output_type": "stream",
     "text": [
      "Iteration:  25000\n"
     ]
    },
    {
     "name": "stderr",
     "output_type": "stream",
     "text": [
      "INFO:absl: \n",
      "\t\t NumberOfEpisodes = 64514\n",
      "\t\t EnvironmentSteps = 104004\n",
      "\t\t AverageReturn = -917420.8125\n",
      "\t\t AverageEpisodeLength = 2.9000000953674316\n"
     ]
    },
    {
     "name": "stdout",
     "output_type": "stream",
     "text": [
      "Iteration:  26000\n"
     ]
    },
    {
     "name": "stderr",
     "output_type": "stream",
     "text": [
      "INFO:absl: \n",
      "\t\t NumberOfEpisodes = 66622\n",
      "\t\t EnvironmentSteps = 108004\n",
      "\t\t AverageReturn = -946087.5\n",
      "\t\t AverageEpisodeLength = 2.799999952316284\n"
     ]
    },
    {
     "name": "stdout",
     "output_type": "stream",
     "text": [
      "Iteration:  27000\n"
     ]
    },
    {
     "name": "stderr",
     "output_type": "stream",
     "text": [
      "INFO:absl: \n",
      "\t\t NumberOfEpisodes = 68707\n",
      "\t\t EnvironmentSteps = 112004\n",
      "\t\t AverageReturn = -973576.625\n",
      "\t\t AverageEpisodeLength = 1.5\n"
     ]
    },
    {
     "name": "stdout",
     "output_type": "stream",
     "text": [
      "Iteration:  28000\n"
     ]
    },
    {
     "name": "stderr",
     "output_type": "stream",
     "text": [
      "INFO:absl: \n",
      "\t\t NumberOfEpisodes = 70794\n",
      "\t\t EnvironmentSteps = 116004\n",
      "\t\t AverageReturn = -1000757.125\n",
      "\t\t AverageEpisodeLength = 1.399999976158142\n"
     ]
    },
    {
     "name": "stdout",
     "output_type": "stream",
     "text": [
      "Iteration:  29000\n"
     ]
    },
    {
     "name": "stderr",
     "output_type": "stream",
     "text": [
      "INFO:absl: \n",
      "\t\t NumberOfEpisodes = 72787\n",
      "\t\t EnvironmentSteps = 120004\n",
      "\t\t AverageReturn = -1026820.8125\n",
      "\t\t AverageEpisodeLength = 0.699999988079071\n"
     ]
    },
    {
     "name": "stdout",
     "output_type": "stream",
     "text": [
      "Iteration:  30000\n"
     ]
    },
    {
     "name": "stderr",
     "output_type": "stream",
     "text": [
      "INFO:absl: \n",
      "\t\t NumberOfEpisodes = 74791\n",
      "\t\t EnvironmentSteps = 124004\n",
      "\t\t AverageReturn = -1052687.25\n",
      "\t\t AverageEpisodeLength = 1.7999999523162842\n"
     ]
    },
    {
     "name": "stdout",
     "output_type": "stream",
     "text": [
      "Iteration:  31000\n"
     ]
    },
    {
     "name": "stderr",
     "output_type": "stream",
     "text": [
      "INFO:absl: \n",
      "\t\t NumberOfEpisodes = 76742\n",
      "\t\t EnvironmentSteps = 128004\n",
      "\t\t AverageReturn = -1077964.375\n",
      "\t\t AverageEpisodeLength = 4.0\n"
     ]
    },
    {
     "name": "stdout",
     "output_type": "stream",
     "text": [
      "Iteration:  32000\n"
     ]
    },
    {
     "name": "stderr",
     "output_type": "stream",
     "text": [
      "INFO:absl: \n",
      "\t\t NumberOfEpisodes = 78661\n",
      "\t\t EnvironmentSteps = 132004\n",
      "\t\t AverageReturn = -1102964.875\n",
      "\t\t AverageEpisodeLength = 2.299999952316284\n"
     ]
    },
    {
     "name": "stdout",
     "output_type": "stream",
     "text": [
      "Iteration:  33000\n"
     ]
    },
    {
     "name": "stderr",
     "output_type": "stream",
     "text": [
      "INFO:absl: \n",
      "\t\t NumberOfEpisodes = 80564\n",
      "\t\t EnvironmentSteps = 136004\n",
      "\t\t AverageReturn = -1126286.0\n",
      "\t\t AverageEpisodeLength = 2.5999999046325684\n"
     ]
    },
    {
     "name": "stdout",
     "output_type": "stream",
     "text": [
      "Iteration:  34000\n"
     ]
    },
    {
     "name": "stderr",
     "output_type": "stream",
     "text": [
      "INFO:absl: \n",
      "\t\t NumberOfEpisodes = 82479\n",
      "\t\t EnvironmentSteps = 140004\n",
      "\t\t AverageReturn = -1150202.625\n",
      "\t\t AverageEpisodeLength = 2.5\n"
     ]
    },
    {
     "name": "stdout",
     "output_type": "stream",
     "text": [
      "Iteration:  35000\n"
     ]
    },
    {
     "name": "stderr",
     "output_type": "stream",
     "text": [
      "INFO:absl: \n",
      "\t\t NumberOfEpisodes = 84321\n",
      "\t\t EnvironmentSteps = 144004\n",
      "\t\t AverageReturn = -1172522.125\n",
      "\t\t AverageEpisodeLength = 1.7999999523162842\n"
     ]
    },
    {
     "name": "stdout",
     "output_type": "stream",
     "text": [
      "Iteration:  36000\n"
     ]
    },
    {
     "name": "stderr",
     "output_type": "stream",
     "text": [
      "INFO:absl: \n",
      "\t\t NumberOfEpisodes = 86170\n",
      "\t\t EnvironmentSteps = 148004\n",
      "\t\t AverageReturn = -1194815.25\n",
      "\t\t AverageEpisodeLength = 2.4000000953674316\n"
     ]
    },
    {
     "name": "stdout",
     "output_type": "stream",
     "text": [
      "Iteration:  37000\n"
     ]
    },
    {
     "name": "stderr",
     "output_type": "stream",
     "text": [
      "INFO:absl: \n",
      "\t\t NumberOfEpisodes = 87871\n",
      "\t\t EnvironmentSteps = 152004\n",
      "\t\t AverageReturn = -1215441.375\n",
      "\t\t AverageEpisodeLength = 1.2999999523162842\n"
     ]
    },
    {
     "name": "stdout",
     "output_type": "stream",
     "text": [
      "Iteration:  38000\n"
     ]
    },
    {
     "name": "stderr",
     "output_type": "stream",
     "text": [
      "INFO:absl: \n",
      "\t\t NumberOfEpisodes = 89706\n",
      "\t\t EnvironmentSteps = 156004\n",
      "\t\t AverageReturn = -1237552.25\n",
      "\t\t AverageEpisodeLength = 1.899999976158142\n"
     ]
    },
    {
     "name": "stdout",
     "output_type": "stream",
     "text": [
      "Iteration:  39000\n"
     ]
    },
    {
     "name": "stderr",
     "output_type": "stream",
     "text": [
      "INFO:absl: \n",
      "\t\t NumberOfEpisodes = 91352\n",
      "\t\t EnvironmentSteps = 160004\n",
      "\t\t AverageReturn = -1256838.625\n",
      "\t\t AverageEpisodeLength = 4.5\n"
     ]
    },
    {
     "name": "stdout",
     "output_type": "stream",
     "text": [
      "Iteration:  40000\n"
     ]
    },
    {
     "name": "stderr",
     "output_type": "stream",
     "text": [
      "INFO:absl: \n",
      "\t\t NumberOfEpisodes = 93076\n",
      "\t\t EnvironmentSteps = 164004\n",
      "\t\t AverageReturn = -1276237.75\n",
      "\t\t AverageEpisodeLength = 2.299999952316284\n"
     ]
    },
    {
     "name": "stdout",
     "output_type": "stream",
     "text": [
      "Iteration:  41000\n"
     ]
    },
    {
     "name": "stderr",
     "output_type": "stream",
     "text": [
      "INFO:absl: \n",
      "\t\t NumberOfEpisodes = 94772\n",
      "\t\t EnvironmentSteps = 168004\n",
      "\t\t AverageReturn = -1295487.875\n",
      "\t\t AverageEpisodeLength = 3.5999999046325684\n"
     ]
    },
    {
     "name": "stdout",
     "output_type": "stream",
     "text": [
      "Iteration:  42000\n"
     ]
    },
    {
     "name": "stderr",
     "output_type": "stream",
     "text": [
      "INFO:absl: \n",
      "\t\t NumberOfEpisodes = 96412\n",
      "\t\t EnvironmentSteps = 172004\n",
      "\t\t AverageReturn = -1314830.625\n",
      "\t\t AverageEpisodeLength = 2.200000047683716\n"
     ]
    },
    {
     "name": "stdout",
     "output_type": "stream",
     "text": [
      "Iteration:  43000\n"
     ]
    },
    {
     "name": "stderr",
     "output_type": "stream",
     "text": [
      "INFO:absl: \n",
      "\t\t NumberOfEpisodes = 98069\n",
      "\t\t EnvironmentSteps = 176004\n",
      "\t\t AverageReturn = -1333590.0\n",
      "\t\t AverageEpisodeLength = 2.4000000953674316\n"
     ]
    },
    {
     "name": "stdout",
     "output_type": "stream",
     "text": [
      "Iteration:  44000\n"
     ]
    },
    {
     "name": "stderr",
     "output_type": "stream",
     "text": [
      "INFO:absl: \n",
      "\t\t NumberOfEpisodes = 99720\n",
      "\t\t EnvironmentSteps = 180004\n",
      "\t\t AverageReturn = -1352698.875\n",
      "\t\t AverageEpisodeLength = 2.799999952316284\n"
     ]
    },
    {
     "name": "stdout",
     "output_type": "stream",
     "text": [
      "Iteration:  45000\n"
     ]
    },
    {
     "name": "stderr",
     "output_type": "stream",
     "text": [
      "INFO:absl: \n",
      "\t\t NumberOfEpisodes = 101444\n",
      "\t\t EnvironmentSteps = 184004\n",
      "\t\t AverageReturn = -1373294.125\n",
      "\t\t AverageEpisodeLength = 3.4000000953674316\n"
     ]
    },
    {
     "name": "stdout",
     "output_type": "stream",
     "text": [
      "Iteration:  46000\n"
     ]
    },
    {
     "name": "stderr",
     "output_type": "stream",
     "text": [
      "INFO:absl: \n",
      "\t\t NumberOfEpisodes = 103050\n",
      "\t\t EnvironmentSteps = 188004\n",
      "\t\t AverageReturn = -1390870.625\n",
      "\t\t AverageEpisodeLength = 2.799999952316284\n"
     ]
    },
    {
     "name": "stdout",
     "output_type": "stream",
     "text": [
      "Iteration:  47000\n"
     ]
    },
    {
     "name": "stderr",
     "output_type": "stream",
     "text": [
      "INFO:absl: \n",
      "\t\t NumberOfEpisodes = 104615\n",
      "\t\t EnvironmentSteps = 192004\n",
      "\t\t AverageReturn = -1407203.875\n",
      "\t\t AverageEpisodeLength = 2.200000047683716\n"
     ]
    },
    {
     "name": "stdout",
     "output_type": "stream",
     "text": [
      "Iteration:  48000\n"
     ]
    },
    {
     "name": "stderr",
     "output_type": "stream",
     "text": [
      "INFO:absl: \n",
      "\t\t NumberOfEpisodes = 106251\n",
      "\t\t EnvironmentSteps = 196004\n",
      "\t\t AverageReturn = -1425923.0\n",
      "\t\t AverageEpisodeLength = 4.599999904632568\n"
     ]
    },
    {
     "name": "stdout",
     "output_type": "stream",
     "text": [
      "Iteration:  49000\n"
     ]
    },
    {
     "name": "stderr",
     "output_type": "stream",
     "text": [
      "INFO:absl: \n",
      "\t\t NumberOfEpisodes = 107855\n",
      "\t\t EnvironmentSteps = 200004\n",
      "\t\t AverageReturn = -1443390.125\n",
      "\t\t AverageEpisodeLength = 2.4000000953674316\n"
     ]
    },
    {
     "name": "stdout",
     "output_type": "stream",
     "text": [
      "Iteration:  50000\n"
     ]
    },
    {
     "name": "stderr",
     "output_type": "stream",
     "text": [
      "INFO:absl: \n",
      "\t\t NumberOfEpisodes = 109418\n",
      "\t\t EnvironmentSteps = 204004\n",
      "\t\t AverageReturn = -1460138.625\n",
      "\t\t AverageEpisodeLength = 2.0\n"
     ]
    },
    {
     "name": "stdout",
     "output_type": "stream",
     "text": [
      "Iteration:  51000\n"
     ]
    },
    {
     "name": "stderr",
     "output_type": "stream",
     "text": [
      "INFO:absl: \n",
      "\t\t NumberOfEpisodes = 110864\n",
      "\t\t EnvironmentSteps = 208004\n",
      "\t\t AverageReturn = -1473475.5\n",
      "\t\t AverageEpisodeLength = 2.4000000953674316\n"
     ]
    },
    {
     "name": "stdout",
     "output_type": "stream",
     "text": [
      "Iteration:  52000\n"
     ]
    },
    {
     "name": "stderr",
     "output_type": "stream",
     "text": [
      "INFO:absl: \n",
      "\t\t NumberOfEpisodes = 112312\n",
      "\t\t EnvironmentSteps = 212004\n",
      "\t\t AverageReturn = -1487683.625\n",
      "\t\t AverageEpisodeLength = 3.799999952316284\n"
     ]
    },
    {
     "name": "stdout",
     "output_type": "stream",
     "text": [
      "Iteration:  53000\n"
     ]
    },
    {
     "name": "stderr",
     "output_type": "stream",
     "text": [
      "INFO:absl: \n",
      "\t\t NumberOfEpisodes = 113746\n",
      "\t\t EnvironmentSteps = 216004\n",
      "\t\t AverageReturn = -1502065.875\n",
      "\t\t AverageEpisodeLength = 3.9000000953674316\n"
     ]
    },
    {
     "name": "stdout",
     "output_type": "stream",
     "text": [
      "Iteration:  54000\n"
     ]
    },
    {
     "name": "stderr",
     "output_type": "stream",
     "text": [
      "INFO:absl: \n",
      "\t\t NumberOfEpisodes = 115112\n",
      "\t\t EnvironmentSteps = 220004\n",
      "\t\t AverageReturn = -1514533.5\n",
      "\t\t AverageEpisodeLength = 2.0999999046325684\n"
     ]
    },
    {
     "name": "stdout",
     "output_type": "stream",
     "text": [
      "Iteration:  55000\n"
     ]
    },
    {
     "name": "stderr",
     "output_type": "stream",
     "text": [
      "INFO:absl: \n",
      "\t\t NumberOfEpisodes = 116609\n",
      "\t\t EnvironmentSteps = 224004\n",
      "\t\t AverageReturn = -1528838.25\n",
      "\t\t AverageEpisodeLength = 3.0\n"
     ]
    },
    {
     "name": "stdout",
     "output_type": "stream",
     "text": [
      "Iteration:  56000\n"
     ]
    },
    {
     "name": "stderr",
     "output_type": "stream",
     "text": [
      "INFO:absl: \n",
      "\t\t NumberOfEpisodes = 117879\n",
      "\t\t EnvironmentSteps = 228004\n",
      "\t\t AverageReturn = -1539139.625\n",
      "\t\t AverageEpisodeLength = 3.0\n"
     ]
    },
    {
     "name": "stdout",
     "output_type": "stream",
     "text": [
      "Iteration:  57000\n"
     ]
    },
    {
     "name": "stderr",
     "output_type": "stream",
     "text": [
      "INFO:absl: \n",
      "\t\t NumberOfEpisodes = 119184\n",
      "\t\t EnvironmentSteps = 232004\n",
      "\t\t AverageReturn = -1550377.125\n",
      "\t\t AverageEpisodeLength = 3.200000047683716\n"
     ]
    },
    {
     "name": "stdout",
     "output_type": "stream",
     "text": [
      "Iteration:  58000\n"
     ]
    },
    {
     "name": "stderr",
     "output_type": "stream",
     "text": [
      "INFO:absl: \n",
      "\t\t NumberOfEpisodes = 120566\n",
      "\t\t EnvironmentSteps = 236004\n",
      "\t\t AverageReturn = -1562471.875\n",
      "\t\t AverageEpisodeLength = 3.0999999046325684\n"
     ]
    },
    {
     "name": "stdout",
     "output_type": "stream",
     "text": [
      "Iteration:  59000\n"
     ]
    },
    {
     "name": "stderr",
     "output_type": "stream",
     "text": [
      "INFO:absl: \n",
      "\t\t NumberOfEpisodes = 121903\n",
      "\t\t EnvironmentSteps = 240004\n",
      "\t\t AverageReturn = -1574319.0\n",
      "\t\t AverageEpisodeLength = 2.5\n"
     ]
    },
    {
     "name": "stdout",
     "output_type": "stream",
     "text": [
      "Iteration:  60000\n"
     ]
    },
    {
     "name": "stderr",
     "output_type": "stream",
     "text": [
      "INFO:absl: \n",
      "\t\t NumberOfEpisodes = 123219\n",
      "\t\t EnvironmentSteps = 244004\n",
      "\t\t AverageReturn = -1585471.25\n",
      "\t\t AverageEpisodeLength = 1.2999999523162842\n"
     ]
    },
    {
     "name": "stdout",
     "output_type": "stream",
     "text": [
      "Iteration:  61000\n"
     ]
    },
    {
     "name": "stderr",
     "output_type": "stream",
     "text": [
      "INFO:absl: \n",
      "\t\t NumberOfEpisodes = 124498\n",
      "\t\t EnvironmentSteps = 248004\n",
      "\t\t AverageReturn = -1595160.0\n",
      "\t\t AverageEpisodeLength = 4.400000095367432\n"
     ]
    },
    {
     "name": "stdout",
     "output_type": "stream",
     "text": [
      "Iteration:  62000\n"
     ]
    },
    {
     "name": "stderr",
     "output_type": "stream",
     "text": [
      "INFO:absl: \n",
      "\t\t NumberOfEpisodes = 125762\n",
      "\t\t EnvironmentSteps = 252004\n",
      "\t\t AverageReturn = -1604482.0\n",
      "\t\t AverageEpisodeLength = 2.0999999046325684\n"
     ]
    },
    {
     "name": "stdout",
     "output_type": "stream",
     "text": [
      "Iteration:  63000\n"
     ]
    },
    {
     "name": "stderr",
     "output_type": "stream",
     "text": [
      "INFO:absl: \n",
      "\t\t NumberOfEpisodes = 126997\n",
      "\t\t EnvironmentSteps = 256004\n",
      "\t\t AverageReturn = -1613894.125\n",
      "\t\t AverageEpisodeLength = 3.5999999046325684\n"
     ]
    },
    {
     "name": "stdout",
     "output_type": "stream",
     "text": [
      "Iteration:  64000\n"
     ]
    },
    {
     "name": "stderr",
     "output_type": "stream",
     "text": [
      "INFO:absl: \n",
      "\t\t NumberOfEpisodes = 128164\n",
      "\t\t EnvironmentSteps = 260004\n",
      "\t\t AverageReturn = -1621898.875\n",
      "\t\t AverageEpisodeLength = 3.299999952316284\n"
     ]
    },
    {
     "name": "stdout",
     "output_type": "stream",
     "text": [
      "Iteration:  65000\n"
     ]
    },
    {
     "name": "stderr",
     "output_type": "stream",
     "text": [
      "INFO:absl: \n",
      "\t\t NumberOfEpisodes = 129354\n",
      "\t\t EnvironmentSteps = 264004\n",
      "\t\t AverageReturn = -1630125.75\n",
      "\t\t AverageEpisodeLength = 3.700000047683716\n"
     ]
    },
    {
     "name": "stdout",
     "output_type": "stream",
     "text": [
      "Iteration:  66000\n"
     ]
    },
    {
     "name": "stderr",
     "output_type": "stream",
     "text": [
      "INFO:absl: \n",
      "\t\t NumberOfEpisodes = 130518\n",
      "\t\t EnvironmentSteps = 268004\n",
      "\t\t AverageReturn = -1637001.375\n",
      "\t\t AverageEpisodeLength = 3.700000047683716\n"
     ]
    },
    {
     "name": "stdout",
     "output_type": "stream",
     "text": [
      "Iteration:  67000\n"
     ]
    },
    {
     "name": "stderr",
     "output_type": "stream",
     "text": [
      "INFO:absl: \n",
      "\t\t NumberOfEpisodes = 131718\n",
      "\t\t EnvironmentSteps = 272004\n",
      "\t\t AverageReturn = -1644326.375\n",
      "\t\t AverageEpisodeLength = 2.799999952316284\n"
     ]
    },
    {
     "name": "stdout",
     "output_type": "stream",
     "text": [
      "Iteration:  68000\n"
     ]
    },
    {
     "name": "stderr",
     "output_type": "stream",
     "text": [
      "INFO:absl: \n",
      "\t\t NumberOfEpisodes = 132932\n",
      "\t\t EnvironmentSteps = 276004\n",
      "\t\t AverageReturn = -1652353.75\n",
      "\t\t AverageEpisodeLength = 3.799999952316284\n"
     ]
    },
    {
     "name": "stdout",
     "output_type": "stream",
     "text": [
      "Iteration:  69000\n"
     ]
    },
    {
     "name": "stderr",
     "output_type": "stream",
     "text": [
      "INFO:absl: \n",
      "\t\t NumberOfEpisodes = 134143\n",
      "\t\t EnvironmentSteps = 280004\n",
      "\t\t AverageReturn = -1660930.75\n",
      "\t\t AverageEpisodeLength = 1.899999976158142\n"
     ]
    },
    {
     "name": "stdout",
     "output_type": "stream",
     "text": [
      "Iteration:  70000\n"
     ]
    },
    {
     "name": "stderr",
     "output_type": "stream",
     "text": [
      "INFO:absl: \n",
      "\t\t NumberOfEpisodes = 135319\n",
      "\t\t EnvironmentSteps = 284004\n",
      "\t\t AverageReturn = -1667831.5\n",
      "\t\t AverageEpisodeLength = 0.699999988079071\n"
     ]
    },
    {
     "name": "stdout",
     "output_type": "stream",
     "text": [
      "Iteration:  71000\n"
     ]
    },
    {
     "name": "stderr",
     "output_type": "stream",
     "text": [
      "INFO:absl: \n",
      "\t\t NumberOfEpisodes = 136456\n",
      "\t\t EnvironmentSteps = 288004\n",
      "\t\t AverageReturn = -1674437.375\n",
      "\t\t AverageEpisodeLength = 4.699999809265137\n"
     ]
    },
    {
     "name": "stdout",
     "output_type": "stream",
     "text": [
      "Iteration:  72000\n"
     ]
    },
    {
     "name": "stderr",
     "output_type": "stream",
     "text": [
      "INFO:absl: \n",
      "\t\t NumberOfEpisodes = 137520\n",
      "\t\t EnvironmentSteps = 292004\n",
      "\t\t AverageReturn = -1678238.0\n",
      "\t\t AverageEpisodeLength = 2.200000047683716\n"
     ]
    },
    {
     "name": "stdout",
     "output_type": "stream",
     "text": [
      "Iteration:  73000\n"
     ]
    },
    {
     "name": "stderr",
     "output_type": "stream",
     "text": [
      "INFO:absl: \n",
      "\t\t NumberOfEpisodes = 138652\n",
      "\t\t EnvironmentSteps = 296004\n",
      "\t\t AverageReturn = -1683921.625\n",
      "\t\t AverageEpisodeLength = 1.899999976158142\n"
     ]
    },
    {
     "name": "stdout",
     "output_type": "stream",
     "text": [
      "Iteration:  74000\n"
     ]
    },
    {
     "name": "stderr",
     "output_type": "stream",
     "text": [
      "INFO:absl: \n",
      "\t\t NumberOfEpisodes = 139757\n",
      "\t\t EnvironmentSteps = 300004\n",
      "\t\t AverageReturn = -1689264.625\n",
      "\t\t AverageEpisodeLength = 6.099999904632568\n"
     ]
    },
    {
     "name": "stdout",
     "output_type": "stream",
     "text": [
      "Iteration:  75000\n"
     ]
    },
    {
     "name": "stderr",
     "output_type": "stream",
     "text": [
      "INFO:absl: \n",
      "\t\t NumberOfEpisodes = 140815\n",
      "\t\t EnvironmentSteps = 304004\n",
      "\t\t AverageReturn = -1693901.375\n",
      "\t\t AverageEpisodeLength = 2.9000000953674316\n"
     ]
    },
    {
     "name": "stdout",
     "output_type": "stream",
     "text": [
      "Iteration:  76000\n"
     ]
    },
    {
     "name": "stderr",
     "output_type": "stream",
     "text": [
      "INFO:absl: \n",
      "\t\t NumberOfEpisodes = 141904\n",
      "\t\t EnvironmentSteps = 308004\n",
      "\t\t AverageReturn = -1698926.25\n",
      "\t\t AverageEpisodeLength = 3.0\n"
     ]
    },
    {
     "name": "stdout",
     "output_type": "stream",
     "text": [
      "Iteration:  77000\n"
     ]
    },
    {
     "name": "stderr",
     "output_type": "stream",
     "text": [
      "INFO:absl: \n",
      "\t\t NumberOfEpisodes = 142903\n",
      "\t\t EnvironmentSteps = 312004\n",
      "\t\t AverageReturn = -1702033.375\n",
      "\t\t AverageEpisodeLength = 3.5\n"
     ]
    },
    {
     "name": "stdout",
     "output_type": "stream",
     "text": [
      "Iteration:  78000\n"
     ]
    },
    {
     "name": "stderr",
     "output_type": "stream",
     "text": [
      "INFO:absl: \n",
      "\t\t NumberOfEpisodes = 143990\n",
      "\t\t EnvironmentSteps = 316004\n",
      "\t\t AverageReturn = -1705870.375\n",
      "\t\t AverageEpisodeLength = 3.200000047683716\n"
     ]
    },
    {
     "name": "stdout",
     "output_type": "stream",
     "text": [
      "Iteration:  79000\n"
     ]
    },
    {
     "name": "stderr",
     "output_type": "stream",
     "text": [
      "INFO:absl: \n",
      "\t\t NumberOfEpisodes = 144943\n",
      "\t\t EnvironmentSteps = 320004\n",
      "\t\t AverageReturn = -1707876.75\n",
      "\t\t AverageEpisodeLength = 6.699999809265137\n"
     ]
    },
    {
     "name": "stdout",
     "output_type": "stream",
     "text": [
      "Iteration:  80000\n"
     ]
    },
    {
     "name": "stderr",
     "output_type": "stream",
     "text": [
      "INFO:absl: \n",
      "\t\t NumberOfEpisodes = 145929\n",
      "\t\t EnvironmentSteps = 324004\n",
      "\t\t AverageReturn = -1710443.625\n",
      "\t\t AverageEpisodeLength = 5.800000190734863\n"
     ]
    },
    {
     "name": "stdout",
     "output_type": "stream",
     "text": [
      "Iteration:  81000\n"
     ]
    },
    {
     "name": "stderr",
     "output_type": "stream",
     "text": [
      "INFO:absl: \n",
      "\t\t NumberOfEpisodes = 146882\n",
      "\t\t EnvironmentSteps = 328004\n",
      "\t\t AverageReturn = -1711753.25\n",
      "\t\t AverageEpisodeLength = 5.0\n"
     ]
    },
    {
     "name": "stdout",
     "output_type": "stream",
     "text": [
      "Iteration:  82000\n"
     ]
    },
    {
     "name": "stderr",
     "output_type": "stream",
     "text": [
      "INFO:absl: \n",
      "\t\t NumberOfEpisodes = 147783\n",
      "\t\t EnvironmentSteps = 332004\n",
      "\t\t AverageReturn = -1712159.25\n",
      "\t\t AverageEpisodeLength = 4.0\n"
     ]
    },
    {
     "name": "stdout",
     "output_type": "stream",
     "text": [
      "Iteration:  83000\n"
     ]
    },
    {
     "name": "stderr",
     "output_type": "stream",
     "text": [
      "INFO:absl: \n",
      "\t\t NumberOfEpisodes = 148749\n",
      "\t\t EnvironmentSteps = 336004\n",
      "\t\t AverageReturn = -1714451.0\n",
      "\t\t AverageEpisodeLength = 1.7999999523162842\n"
     ]
    },
    {
     "name": "stdout",
     "output_type": "stream",
     "text": [
      "Iteration:  84000\n"
     ]
    },
    {
     "name": "stderr",
     "output_type": "stream",
     "text": [
      "INFO:absl: \n",
      "\t\t NumberOfEpisodes = 149685\n",
      "\t\t EnvironmentSteps = 340004\n",
      "\t\t AverageReturn = -1714158.75\n",
      "\t\t AverageEpisodeLength = 3.200000047683716\n"
     ]
    },
    {
     "name": "stdout",
     "output_type": "stream",
     "text": [
      "Iteration:  85000\n"
     ]
    },
    {
     "name": "stderr",
     "output_type": "stream",
     "text": [
      "INFO:absl: \n",
      "\t\t NumberOfEpisodes = 150571\n",
      "\t\t EnvironmentSteps = 344004\n",
      "\t\t AverageReturn = -1713880.0\n",
      "\t\t AverageEpisodeLength = 2.700000047683716\n"
     ]
    },
    {
     "name": "stdout",
     "output_type": "stream",
     "text": [
      "Iteration:  86000\n"
     ]
    },
    {
     "name": "stderr",
     "output_type": "stream",
     "text": [
      "INFO:absl: \n",
      "\t\t NumberOfEpisodes = 151455\n",
      "\t\t EnvironmentSteps = 348004\n",
      "\t\t AverageReturn = -1713812.375\n",
      "\t\t AverageEpisodeLength = 5.099999904632568\n"
     ]
    },
    {
     "name": "stdout",
     "output_type": "stream",
     "text": [
      "Iteration:  87000\n"
     ]
    },
    {
     "name": "stderr",
     "output_type": "stream",
     "text": [
      "INFO:absl: \n",
      "\t\t NumberOfEpisodes = 152319\n",
      "\t\t EnvironmentSteps = 352004\n",
      "\t\t AverageReturn = -1712930.0\n",
      "\t\t AverageEpisodeLength = 4.300000190734863\n"
     ]
    },
    {
     "name": "stdout",
     "output_type": "stream",
     "text": [
      "Iteration:  88000\n"
     ]
    },
    {
     "name": "stderr",
     "output_type": "stream",
     "text": [
      "INFO:absl: \n",
      "\t\t NumberOfEpisodes = 153149\n",
      "\t\t EnvironmentSteps = 356004\n",
      "\t\t AverageReturn = -1711618.75\n",
      "\t\t AverageEpisodeLength = 3.9000000953674316\n"
     ]
    },
    {
     "name": "stdout",
     "output_type": "stream",
     "text": [
      "Iteration:  89000\n"
     ]
    },
    {
     "name": "stderr",
     "output_type": "stream",
     "text": [
      "INFO:absl: \n",
      "\t\t NumberOfEpisodes = 154031\n",
      "\t\t EnvironmentSteps = 360004\n",
      "\t\t AverageReturn = -1711307.625\n",
      "\t\t AverageEpisodeLength = 4.0\n"
     ]
    },
    {
     "name": "stdout",
     "output_type": "stream",
     "text": [
      "Iteration:  90000\n"
     ]
    },
    {
     "name": "stderr",
     "output_type": "stream",
     "text": [
      "INFO:absl: \n",
      "\t\t NumberOfEpisodes = 154868\n",
      "\t\t EnvironmentSteps = 364004\n",
      "\t\t AverageReturn = -1710002.75\n",
      "\t\t AverageEpisodeLength = 3.0999999046325684\n"
     ]
    },
    {
     "name": "stdout",
     "output_type": "stream",
     "text": [
      "Iteration:  91000\n"
     ]
    },
    {
     "name": "stderr",
     "output_type": "stream",
     "text": [
      "INFO:absl: \n",
      "\t\t NumberOfEpisodes = 155716\n",
      "\t\t EnvironmentSteps = 368004\n",
      "\t\t AverageReturn = -1708198.375\n",
      "\t\t AverageEpisodeLength = 4.599999904632568\n"
     ]
    },
    {
     "name": "stdout",
     "output_type": "stream",
     "text": [
      "Iteration:  92000\n"
     ]
    },
    {
     "name": "stderr",
     "output_type": "stream",
     "text": [
      "INFO:absl: \n",
      "\t\t NumberOfEpisodes = 156475\n",
      "\t\t EnvironmentSteps = 372004\n",
      "\t\t AverageReturn = -1705163.75\n",
      "\t\t AverageEpisodeLength = 5.099999904632568\n"
     ]
    },
    {
     "name": "stdout",
     "output_type": "stream",
     "text": [
      "Iteration:  93000\n"
     ]
    },
    {
     "name": "stderr",
     "output_type": "stream",
     "text": [
      "INFO:absl: \n",
      "\t\t NumberOfEpisodes = 157282\n",
      "\t\t EnvironmentSteps = 376004\n",
      "\t\t AverageReturn = -1701850.25\n",
      "\t\t AverageEpisodeLength = 2.9000000953674316\n"
     ]
    },
    {
     "name": "stdout",
     "output_type": "stream",
     "text": [
      "Iteration:  94000\n"
     ]
    },
    {
     "name": "stderr",
     "output_type": "stream",
     "text": [
      "INFO:absl: \n",
      "\t\t NumberOfEpisodes = 158045\n",
      "\t\t EnvironmentSteps = 380004\n",
      "\t\t AverageReturn = -1698748.0\n",
      "\t\t AverageEpisodeLength = 3.200000047683716\n"
     ]
    },
    {
     "name": "stdout",
     "output_type": "stream",
     "text": [
      "Iteration:  95000\n"
     ]
    },
    {
     "name": "stderr",
     "output_type": "stream",
     "text": [
      "INFO:absl: \n",
      "\t\t NumberOfEpisodes = 158788\n",
      "\t\t EnvironmentSteps = 384004\n",
      "\t\t AverageReturn = -1694690.25\n",
      "\t\t AverageEpisodeLength = 5.199999809265137\n"
     ]
    },
    {
     "name": "stdout",
     "output_type": "stream",
     "text": [
      "Iteration:  96000\n"
     ]
    },
    {
     "name": "stderr",
     "output_type": "stream",
     "text": [
      "INFO:absl: \n",
      "\t\t NumberOfEpisodes = 159568\n",
      "\t\t EnvironmentSteps = 388004\n",
      "\t\t AverageReturn = -1690518.625\n",
      "\t\t AverageEpisodeLength = 4.599999904632568\n"
     ]
    },
    {
     "name": "stdout",
     "output_type": "stream",
     "text": [
      "Iteration:  97000\n"
     ]
    },
    {
     "name": "stderr",
     "output_type": "stream",
     "text": [
      "INFO:absl: \n",
      "\t\t NumberOfEpisodes = 160346\n",
      "\t\t EnvironmentSteps = 392004\n",
      "\t\t AverageReturn = -1685576.375\n",
      "\t\t AverageEpisodeLength = 5.300000190734863\n"
     ]
    },
    {
     "name": "stdout",
     "output_type": "stream",
     "text": [
      "Iteration:  98000\n"
     ]
    },
    {
     "name": "stderr",
     "output_type": "stream",
     "text": [
      "INFO:absl: \n",
      "\t\t NumberOfEpisodes = 161036\n",
      "\t\t EnvironmentSteps = 396004\n",
      "\t\t AverageReturn = -1680241.25\n",
      "\t\t AverageEpisodeLength = 8.699999809265137\n"
     ]
    },
    {
     "name": "stdout",
     "output_type": "stream",
     "text": [
      "Iteration:  99000\n"
     ]
    },
    {
     "name": "stderr",
     "output_type": "stream",
     "text": [
      "INFO:absl: \n",
      "\t\t NumberOfEpisodes = 161680\n",
      "\t\t EnvironmentSteps = 400004\n",
      "\t\t AverageReturn = -1673990.5\n",
      "\t\t AverageEpisodeLength = 3.200000047683716\n"
     ]
    },
    {
     "name": "stdout",
     "output_type": "stream",
     "text": [
      "Iteration:  100000\n"
     ]
    },
    {
     "name": "stderr",
     "output_type": "stream",
     "text": [
      "INFO:absl: \n",
      "\t\t NumberOfEpisodes = 162382\n",
      "\t\t EnvironmentSteps = 404004\n",
      "\t\t AverageReturn = -1668822.75\n",
      "\t\t AverageEpisodeLength = 5.5\n"
     ]
    },
    {
     "name": "stdout",
     "output_type": "stream",
     "text": [
      "Iteration:  101000\n"
     ]
    },
    {
     "name": "stderr",
     "output_type": "stream",
     "text": [
      "INFO:absl: \n",
      "\t\t NumberOfEpisodes = 163074\n",
      "\t\t EnvironmentSteps = 408004\n",
      "\t\t AverageReturn = -1663724.25\n",
      "\t\t AverageEpisodeLength = 8.5\n"
     ]
    },
    {
     "name": "stdout",
     "output_type": "stream",
     "text": [
      "Iteration:  102000\n"
     ]
    },
    {
     "name": "stderr",
     "output_type": "stream",
     "text": [
      "INFO:absl: \n",
      "\t\t NumberOfEpisodes = 163748\n",
      "\t\t EnvironmentSteps = 412004\n",
      "\t\t AverageReturn = -1657042.0\n",
      "\t\t AverageEpisodeLength = 4.099999904632568\n"
     ]
    },
    {
     "name": "stdout",
     "output_type": "stream",
     "text": [
      "Iteration:  103000\n"
     ]
    },
    {
     "name": "stderr",
     "output_type": "stream",
     "text": [
      "INFO:absl: \n",
      "\t\t NumberOfEpisodes = 164411\n",
      "\t\t EnvironmentSteps = 416004\n",
      "\t\t AverageReturn = -1650671.625\n",
      "\t\t AverageEpisodeLength = 8.5\n"
     ]
    },
    {
     "name": "stdout",
     "output_type": "stream",
     "text": [
      "Iteration:  104000\n"
     ]
    },
    {
     "name": "stderr",
     "output_type": "stream",
     "text": [
      "INFO:absl: \n",
      "\t\t NumberOfEpisodes = 165066\n",
      "\t\t EnvironmentSteps = 420004\n",
      "\t\t AverageReturn = -1643545.25\n",
      "\t\t AverageEpisodeLength = 6.0\n"
     ]
    },
    {
     "name": "stdout",
     "output_type": "stream",
     "text": [
      "Iteration:  105000\n"
     ]
    },
    {
     "name": "stderr",
     "output_type": "stream",
     "text": [
      "INFO:absl: \n",
      "\t\t NumberOfEpisodes = 165679\n",
      "\t\t EnvironmentSteps = 424004\n",
      "\t\t AverageReturn = -1636097.875\n",
      "\t\t AverageEpisodeLength = 5.400000095367432\n"
     ]
    },
    {
     "name": "stdout",
     "output_type": "stream",
     "text": [
      "Iteration:  106000\n"
     ]
    },
    {
     "name": "stderr",
     "output_type": "stream",
     "text": [
      "INFO:absl: \n",
      "\t\t NumberOfEpisodes = 166329\n",
      "\t\t EnvironmentSteps = 428004\n",
      "\t\t AverageReturn = -1628713.375\n",
      "\t\t AverageEpisodeLength = 5.099999904632568\n"
     ]
    },
    {
     "name": "stdout",
     "output_type": "stream",
     "text": [
      "Iteration:  107000\n"
     ]
    },
    {
     "name": "stderr",
     "output_type": "stream",
     "text": [
      "INFO:absl: \n",
      "\t\t NumberOfEpisodes = 166896\n",
      "\t\t EnvironmentSteps = 432004\n",
      "\t\t AverageReturn = -1620088.75\n",
      "\t\t AverageEpisodeLength = 7.900000095367432\n"
     ]
    },
    {
     "name": "stdout",
     "output_type": "stream",
     "text": [
      "Iteration:  108000\n"
     ]
    },
    {
     "name": "stderr",
     "output_type": "stream",
     "text": [
      "INFO:absl: \n",
      "\t\t NumberOfEpisodes = 167492\n",
      "\t\t EnvironmentSteps = 436004\n",
      "\t\t AverageReturn = -1611151.375\n",
      "\t\t AverageEpisodeLength = 7.400000095367432\n"
     ]
    },
    {
     "name": "stdout",
     "output_type": "stream",
     "text": [
      "Iteration:  109000\n"
     ]
    },
    {
     "name": "stderr",
     "output_type": "stream",
     "text": [
      "INFO:absl: \n",
      "\t\t NumberOfEpisodes = 168056\n",
      "\t\t EnvironmentSteps = 440004\n",
      "\t\t AverageReturn = -1601086.5\n",
      "\t\t AverageEpisodeLength = 3.9000000953674316\n"
     ]
    },
    {
     "name": "stdout",
     "output_type": "stream",
     "text": [
      "Iteration:  110000\n"
     ]
    },
    {
     "name": "stderr",
     "output_type": "stream",
     "text": [
      "INFO:absl: \n",
      "\t\t NumberOfEpisodes = 168595\n",
      "\t\t EnvironmentSteps = 444004\n",
      "\t\t AverageReturn = -1592347.25\n",
      "\t\t AverageEpisodeLength = 10.699999809265137\n"
     ]
    },
    {
     "name": "stdout",
     "output_type": "stream",
     "text": [
      "Iteration:  111000\n"
     ]
    },
    {
     "name": "stderr",
     "output_type": "stream",
     "text": [
      "INFO:absl: \n",
      "\t\t NumberOfEpisodes = 169125\n",
      "\t\t EnvironmentSteps = 448004\n",
      "\t\t AverageReturn = -1582666.25\n",
      "\t\t AverageEpisodeLength = 7.599999904632568\n"
     ]
    },
    {
     "name": "stdout",
     "output_type": "stream",
     "text": [
      "Iteration:  112000\n"
     ]
    },
    {
     "name": "stderr",
     "output_type": "stream",
     "text": [
      "INFO:absl: \n",
      "\t\t NumberOfEpisodes = 169655\n",
      "\t\t EnvironmentSteps = 452004\n",
      "\t\t AverageReturn = -1572401.75\n",
      "\t\t AverageEpisodeLength = 3.4000000953674316\n"
     ]
    },
    {
     "name": "stdout",
     "output_type": "stream",
     "text": [
      "Iteration:  113000\n"
     ]
    },
    {
     "name": "stderr",
     "output_type": "stream",
     "text": [
      "INFO:absl: \n",
      "\t\t NumberOfEpisodes = 170167\n",
      "\t\t EnvironmentSteps = 456004\n",
      "\t\t AverageReturn = -1561965.125\n",
      "\t\t AverageEpisodeLength = 10.600000381469727\n"
     ]
    },
    {
     "name": "stdout",
     "output_type": "stream",
     "text": [
      "Iteration:  114000\n"
     ]
    },
    {
     "name": "stderr",
     "output_type": "stream",
     "text": [
      "INFO:absl: \n",
      "\t\t NumberOfEpisodes = 170666\n",
      "\t\t EnvironmentSteps = 460004\n",
      "\t\t AverageReturn = -1550092.125\n",
      "\t\t AverageEpisodeLength = 7.800000190734863\n"
     ]
    },
    {
     "name": "stdout",
     "output_type": "stream",
     "text": [
      "Iteration:  115000\n"
     ]
    },
    {
     "name": "stderr",
     "output_type": "stream",
     "text": [
      "INFO:absl: \n",
      "\t\t NumberOfEpisodes = 171174\n",
      "\t\t EnvironmentSteps = 464004\n",
      "\t\t AverageReturn = -1539083.5\n",
      "\t\t AverageEpisodeLength = 7.0\n"
     ]
    },
    {
     "name": "stdout",
     "output_type": "stream",
     "text": [
      "Iteration:  116000\n"
     ]
    },
    {
     "name": "stderr",
     "output_type": "stream",
     "text": [
      "INFO:absl: \n",
      "\t\t NumberOfEpisodes = 171676\n",
      "\t\t EnvironmentSteps = 468004\n",
      "\t\t AverageReturn = -1527729.625\n",
      "\t\t AverageEpisodeLength = 7.900000095367432\n"
     ]
    },
    {
     "name": "stdout",
     "output_type": "stream",
     "text": [
      "Iteration:  117000\n"
     ]
    },
    {
     "name": "stderr",
     "output_type": "stream",
     "text": [
      "INFO:absl: \n",
      "\t\t NumberOfEpisodes = 172184\n",
      "\t\t EnvironmentSteps = 472004\n",
      "\t\t AverageReturn = -1516035.625\n",
      "\t\t AverageEpisodeLength = 7.400000095367432\n"
     ]
    },
    {
     "name": "stdout",
     "output_type": "stream",
     "text": [
      "Iteration:  118000\n"
     ]
    },
    {
     "name": "stderr",
     "output_type": "stream",
     "text": [
      "INFO:absl: \n",
      "\t\t NumberOfEpisodes = 172617\n",
      "\t\t EnvironmentSteps = 476004\n",
      "\t\t AverageReturn = -1503827.75\n",
      "\t\t AverageEpisodeLength = 13.100000381469727\n"
     ]
    },
    {
     "name": "stdout",
     "output_type": "stream",
     "text": [
      "Iteration:  119000\n"
     ]
    },
    {
     "name": "stderr",
     "output_type": "stream",
     "text": [
      "INFO:absl: \n",
      "\t\t NumberOfEpisodes = 173086\n",
      "\t\t EnvironmentSteps = 480004\n",
      "\t\t AverageReturn = -1491523.625\n",
      "\t\t AverageEpisodeLength = 10.300000190734863\n"
     ]
    },
    {
     "name": "stdout",
     "output_type": "stream",
     "text": [
      "Iteration:  120000\n"
     ]
    },
    {
     "name": "stderr",
     "output_type": "stream",
     "text": [
      "INFO:absl: \n",
      "\t\t NumberOfEpisodes = 173535\n",
      "\t\t EnvironmentSteps = 484004\n",
      "\t\t AverageReturn = -1478417.25\n",
      "\t\t AverageEpisodeLength = 3.5999999046325684\n"
     ]
    },
    {
     "name": "stdout",
     "output_type": "stream",
     "text": [
      "Iteration:  121000\n"
     ]
    },
    {
     "name": "stderr",
     "output_type": "stream",
     "text": [
      "INFO:absl: \n",
      "\t\t NumberOfEpisodes = 173944\n",
      "\t\t EnvironmentSteps = 488004\n",
      "\t\t AverageReturn = -1464421.0\n",
      "\t\t AverageEpisodeLength = 10.399999618530273\n"
     ]
    },
    {
     "name": "stdout",
     "output_type": "stream",
     "text": [
      "Iteration:  122000\n"
     ]
    },
    {
     "name": "stderr",
     "output_type": "stream",
     "text": [
      "INFO:absl: \n",
      "\t\t NumberOfEpisodes = 174394\n",
      "\t\t EnvironmentSteps = 492004\n",
      "\t\t AverageReturn = -1451302.875\n",
      "\t\t AverageEpisodeLength = 6.5\n"
     ]
    },
    {
     "name": "stdout",
     "output_type": "stream",
     "text": [
      "Iteration:  123000\n"
     ]
    },
    {
     "name": "stderr",
     "output_type": "stream",
     "text": [
      "INFO:absl: \n",
      "\t\t NumberOfEpisodes = 174819\n",
      "\t\t EnvironmentSteps = 496004\n",
      "\t\t AverageReturn = -1437237.75\n",
      "\t\t AverageEpisodeLength = 10.600000381469727\n"
     ]
    },
    {
     "name": "stdout",
     "output_type": "stream",
     "text": [
      "Iteration:  124000\n"
     ]
    },
    {
     "name": "stderr",
     "output_type": "stream",
     "text": [
      "INFO:absl: \n",
      "\t\t NumberOfEpisodes = 175241\n",
      "\t\t EnvironmentSteps = 500004\n",
      "\t\t AverageReturn = -1423088.5\n",
      "\t\t AverageEpisodeLength = 10.300000190734863\n"
     ]
    },
    {
     "name": "stdout",
     "output_type": "stream",
     "text": [
      "Iteration:  125000\n"
     ]
    },
    {
     "name": "stderr",
     "output_type": "stream",
     "text": [
      "INFO:absl: \n",
      "\t\t NumberOfEpisodes = 175642\n",
      "\t\t EnvironmentSteps = 504004\n",
      "\t\t AverageReturn = -1408773.625\n",
      "\t\t AverageEpisodeLength = 7.5\n"
     ]
    },
    {
     "name": "stdout",
     "output_type": "stream",
     "text": [
      "Iteration:  126000\n"
     ]
    },
    {
     "name": "stderr",
     "output_type": "stream",
     "text": [
      "INFO:absl: \n",
      "\t\t NumberOfEpisodes = 176021\n",
      "\t\t EnvironmentSteps = 508004\n",
      "\t\t AverageReturn = -1393307.75\n",
      "\t\t AverageEpisodeLength = 14.100000381469727\n"
     ]
    },
    {
     "name": "stdout",
     "output_type": "stream",
     "text": [
      "Iteration:  127000\n"
     ]
    },
    {
     "name": "stderr",
     "output_type": "stream",
     "text": [
      "INFO:absl: \n",
      "\t\t NumberOfEpisodes = 176399\n",
      "\t\t EnvironmentSteps = 512004\n",
      "\t\t AverageReturn = -1378383.5\n",
      "\t\t AverageEpisodeLength = 12.800000190734863\n"
     ]
    },
    {
     "name": "stdout",
     "output_type": "stream",
     "text": [
      "Iteration:  128000\n"
     ]
    },
    {
     "name": "stderr",
     "output_type": "stream",
     "text": [
      "INFO:absl: \n",
      "\t\t NumberOfEpisodes = 176780\n",
      "\t\t EnvironmentSteps = 516004\n",
      "\t\t AverageReturn = -1363275.75\n",
      "\t\t AverageEpisodeLength = 12.300000190734863\n"
     ]
    },
    {
     "name": "stdout",
     "output_type": "stream",
     "text": [
      "Iteration:  129000\n"
     ]
    },
    {
     "name": "stderr",
     "output_type": "stream",
     "text": [
      "INFO:absl: \n",
      "\t\t NumberOfEpisodes = 177146\n",
      "\t\t EnvironmentSteps = 520004\n",
      "\t\t AverageReturn = -1347462.0\n",
      "\t\t AverageEpisodeLength = 11.5\n"
     ]
    },
    {
     "name": "stdout",
     "output_type": "stream",
     "text": [
      "Iteration:  130000\n"
     ]
    },
    {
     "name": "stderr",
     "output_type": "stream",
     "text": [
      "INFO:absl: \n",
      "\t\t NumberOfEpisodes = 177526\n",
      "\t\t EnvironmentSteps = 524004\n",
      "\t\t AverageReturn = -1331898.25\n",
      "\t\t AverageEpisodeLength = 11.100000381469727\n"
     ]
    },
    {
     "name": "stdout",
     "output_type": "stream",
     "text": [
      "Iteration:  131000\n"
     ]
    },
    {
     "name": "stderr",
     "output_type": "stream",
     "text": [
      "INFO:absl: \n",
      "\t\t NumberOfEpisodes = 177858\n",
      "\t\t EnvironmentSteps = 528004\n",
      "\t\t AverageReturn = -1314383.5\n",
      "\t\t AverageEpisodeLength = 9.0\n"
     ]
    },
    {
     "name": "stdout",
     "output_type": "stream",
     "text": [
      "Iteration:  132000\n"
     ]
    },
    {
     "name": "stderr",
     "output_type": "stream",
     "text": [
      "INFO:absl: \n",
      "\t\t NumberOfEpisodes = 178195\n",
      "\t\t EnvironmentSteps = 532004\n",
      "\t\t AverageReturn = -1296662.375\n",
      "\t\t AverageEpisodeLength = 10.399999618530273\n"
     ]
    },
    {
     "name": "stdout",
     "output_type": "stream",
     "text": [
      "Iteration:  133000\n"
     ]
    },
    {
     "name": "stderr",
     "output_type": "stream",
     "text": [
      "INFO:absl: \n",
      "\t\t NumberOfEpisodes = 178526\n",
      "\t\t EnvironmentSteps = 536004\n",
      "\t\t AverageReturn = -1279974.75\n",
      "\t\t AverageEpisodeLength = 9.699999809265137\n"
     ]
    },
    {
     "name": "stdout",
     "output_type": "stream",
     "text": [
      "Iteration:  134000\n"
     ]
    },
    {
     "name": "stderr",
     "output_type": "stream",
     "text": [
      "INFO:absl: \n",
      "\t\t NumberOfEpisodes = 178819\n",
      "\t\t EnvironmentSteps = 540004\n",
      "\t\t AverageReturn = -1262129.5\n",
      "\t\t AverageEpisodeLength = 12.800000190734863\n"
     ]
    },
    {
     "name": "stdout",
     "output_type": "stream",
     "text": [
      "Iteration:  135000\n"
     ]
    },
    {
     "name": "stderr",
     "output_type": "stream",
     "text": [
      "INFO:absl: \n",
      "\t\t NumberOfEpisodes = 179105\n",
      "\t\t EnvironmentSteps = 544004\n",
      "\t\t AverageReturn = -1243828.875\n",
      "\t\t AverageEpisodeLength = 10.600000381469727\n"
     ]
    },
    {
     "name": "stdout",
     "output_type": "stream",
     "text": [
      "Iteration:  136000\n"
     ]
    },
    {
     "name": "stderr",
     "output_type": "stream",
     "text": [
      "INFO:absl: \n",
      "\t\t NumberOfEpisodes = 179400\n",
      "\t\t EnvironmentSteps = 548004\n",
      "\t\t AverageReturn = -1225585.375\n",
      "\t\t AverageEpisodeLength = 11.0\n"
     ]
    },
    {
     "name": "stdout",
     "output_type": "stream",
     "text": [
      "Iteration:  137000\n"
     ]
    },
    {
     "name": "stderr",
     "output_type": "stream",
     "text": [
      "INFO:absl: \n",
      "\t\t NumberOfEpisodes = 179665\n",
      "\t\t EnvironmentSteps = 552004\n",
      "\t\t AverageReturn = -1206392.0\n",
      "\t\t AverageEpisodeLength = 13.100000381469727\n"
     ]
    },
    {
     "name": "stdout",
     "output_type": "stream",
     "text": [
      "Iteration:  138000\n"
     ]
    },
    {
     "name": "stderr",
     "output_type": "stream",
     "text": [
      "INFO:absl: \n",
      "\t\t NumberOfEpisodes = 179943\n",
      "\t\t EnvironmentSteps = 556004\n",
      "\t\t AverageReturn = -1187348.875\n",
      "\t\t AverageEpisodeLength = 11.5\n"
     ]
    },
    {
     "name": "stdout",
     "output_type": "stream",
     "text": [
      "Iteration:  139000\n"
     ]
    },
    {
     "name": "stderr",
     "output_type": "stream",
     "text": [
      "INFO:absl: \n",
      "\t\t NumberOfEpisodes = 180214\n",
      "\t\t EnvironmentSteps = 560004\n",
      "\t\t AverageReturn = -1168566.0\n",
      "\t\t AverageEpisodeLength = 17.600000381469727\n"
     ]
    },
    {
     "name": "stdout",
     "output_type": "stream",
     "text": [
      "Iteration:  140000\n"
     ]
    },
    {
     "name": "stderr",
     "output_type": "stream",
     "text": [
      "INFO:absl: \n",
      "\t\t NumberOfEpisodes = 180487\n",
      "\t\t EnvironmentSteps = 564004\n",
      "\t\t AverageReturn = -1148358.875\n",
      "\t\t AverageEpisodeLength = 13.699999809265137\n"
     ]
    },
    {
     "name": "stdout",
     "output_type": "stream",
     "text": [
      "Iteration:  141000\n"
     ]
    },
    {
     "name": "stderr",
     "output_type": "stream",
     "text": [
      "INFO:absl: \n",
      "\t\t NumberOfEpisodes = 180719\n",
      "\t\t EnvironmentSteps = 568004\n",
      "\t\t AverageReturn = -1128867.75\n",
      "\t\t AverageEpisodeLength = 16.200000762939453\n"
     ]
    },
    {
     "name": "stdout",
     "output_type": "stream",
     "text": [
      "Iteration:  142000\n"
     ]
    },
    {
     "name": "stderr",
     "output_type": "stream",
     "text": [
      "INFO:absl: \n",
      "\t\t NumberOfEpisodes = 180931\n",
      "\t\t EnvironmentSteps = 572004\n",
      "\t\t AverageReturn = -1108257.75\n",
      "\t\t AverageEpisodeLength = 17.700000762939453\n"
     ]
    },
    {
     "name": "stdout",
     "output_type": "stream",
     "text": [
      "Iteration:  143000\n"
     ]
    },
    {
     "name": "stderr",
     "output_type": "stream",
     "text": [
      "INFO:absl: \n",
      "\t\t NumberOfEpisodes = 181157\n",
      "\t\t EnvironmentSteps = 576004\n",
      "\t\t AverageReturn = -1086800.25\n",
      "\t\t AverageEpisodeLength = 18.899999618530273\n"
     ]
    },
    {
     "name": "stdout",
     "output_type": "stream",
     "text": [
      "Iteration:  144000\n"
     ]
    },
    {
     "name": "stderr",
     "output_type": "stream",
     "text": [
      "INFO:absl: \n",
      "\t\t NumberOfEpisodes = 181386\n",
      "\t\t EnvironmentSteps = 580004\n",
      "\t\t AverageReturn = -1066007.5\n",
      "\t\t AverageEpisodeLength = 16.899999618530273\n"
     ]
    },
    {
     "name": "stdout",
     "output_type": "stream",
     "text": [
      "Iteration:  145000\n"
     ]
    },
    {
     "name": "stderr",
     "output_type": "stream",
     "text": [
      "INFO:absl: \n",
      "\t\t NumberOfEpisodes = 181607\n",
      "\t\t EnvironmentSteps = 584004\n",
      "\t\t AverageReturn = -1044900.125\n",
      "\t\t AverageEpisodeLength = 16.5\n"
     ]
    },
    {
     "name": "stdout",
     "output_type": "stream",
     "text": [
      "Iteration:  146000\n"
     ]
    },
    {
     "name": "stderr",
     "output_type": "stream",
     "text": [
      "INFO:absl: \n",
      "\t\t NumberOfEpisodes = 181797\n",
      "\t\t EnvironmentSteps = 588004\n",
      "\t\t AverageReturn = -1023086.0\n",
      "\t\t AverageEpisodeLength = 23.799999237060547\n"
     ]
    },
    {
     "name": "stdout",
     "output_type": "stream",
     "text": [
      "Iteration:  147000\n"
     ]
    },
    {
     "name": "stderr",
     "output_type": "stream",
     "text": [
      "INFO:absl: \n",
      "\t\t NumberOfEpisodes = 181980\n",
      "\t\t EnvironmentSteps = 592004\n",
      "\t\t AverageReturn = -1001019.875\n",
      "\t\t AverageEpisodeLength = 25.5\n"
     ]
    },
    {
     "name": "stdout",
     "output_type": "stream",
     "text": [
      "Iteration:  148000\n"
     ]
    },
    {
     "name": "stderr",
     "output_type": "stream",
     "text": [
      "INFO:absl: \n",
      "\t\t NumberOfEpisodes = 182163\n",
      "\t\t EnvironmentSteps = 596004\n",
      "\t\t AverageReturn = -978691.1875\n",
      "\t\t AverageEpisodeLength = 29.399999618530273\n"
     ]
    },
    {
     "name": "stdout",
     "output_type": "stream",
     "text": [
      "Iteration:  149000\n"
     ]
    }
   ],
   "source": [
    "train_agent(episodes_count)\n"
   ]
  },
  {
   "cell_type": "code",
   "execution_count": 11,
   "metadata": {},
   "outputs": [
    {
     "name": "stdout",
     "output_type": "stream",
     "text": [
      "Map:\n",
      " [[[0 0 0 0 0]\n",
      "  [0 1 0 0 0]\n",
      "  [0 2 0 0 0]\n",
      "  [0 0 0 3 0]\n",
      "  [0 0 0 0 0]]]\n",
      "Action:  [2]\n",
      "Map:\n",
      " [[[0 0 0 0 0]\n",
      "  [0 2 1 0 0]\n",
      "  [0 0 0 0 0]\n",
      "  [0 0 0 3 0]\n",
      "  [0 0 0 0 0]]]\n",
      "Action:  [2]\n",
      "Map:\n",
      " [[[0 0 0 0 0]\n",
      "  [0 0 2 1 0]\n",
      "  [0 0 0 0 0]\n",
      "  [0 0 0 3 0]\n",
      "  [0 0 0 0 0]]]\n",
      "Action:  [3]\n",
      "Map:\n",
      " [[[0 0 0 0 0]\n",
      "  [0 0 0 2 0]\n",
      "  [0 0 0 1 0]\n",
      "  [0 0 0 3 0]\n",
      "  [0 0 0 0 0]]]\n",
      "Action:  [3]\n",
      "Map:\n",
      " [[[0 0 0 0 0]\n",
      "  [0 0 0 2 3]\n",
      "  [0 0 0 2 0]\n",
      "  [0 0 0 1 0]\n",
      "  [0 0 0 0 0]]]\n",
      "Action:  [2]\n",
      "Map:\n",
      " [[[0 0 0 0 0]\n",
      "  [0 0 0 0 3]\n",
      "  [0 0 0 2 0]\n",
      "  [0 0 0 2 1]\n",
      "  [0 0 0 0 0]]]\n",
      "Action:  [1]\n",
      "Map:\n",
      " [[[0 0 0 0 0]\n",
      "  [0 0 0 0 3]\n",
      "  [0 0 0 0 1]\n",
      "  [0 0 0 2 2]\n",
      "  [0 0 0 0 0]]]\n",
      "Action:  [1]\n",
      "Map:\n",
      " [[[0 0 0 0 0]\n",
      "  [0 0 0 0 1]\n",
      "  [0 0 0 0 2]\n",
      "  [0 0 0 2 2]\n",
      "  [0 0 0 0 3]]]\n",
      "Action:  [0]\n",
      "Map:\n",
      " [[[0 0 0 0 0]\n",
      "  [0 0 0 1 2]\n",
      "  [0 0 0 0 2]\n",
      "  [0 0 0 0 2]\n",
      "  [0 0 0 0 3]]]\n",
      "Action:  [3]\n",
      "Map:\n",
      " [[[0 0 0 0 0]\n",
      "  [0 0 0 2 2]\n",
      "  [0 0 0 1 2]\n",
      "  [0 0 0 0 0]\n",
      "  [0 0 0 0 3]]]\n",
      "Action:  [3]\n",
      "Map:\n",
      " [[[0 0 0 0 0]\n",
      "  [0 0 0 2 2]\n",
      "  [0 0 0 2 0]\n",
      "  [0 0 0 1 0]\n",
      "  [0 0 0 0 3]]]\n",
      "Action:  [2]\n",
      "Map:\n",
      " [[[0 0 0 0 0]\n",
      "  [0 0 0 2 0]\n",
      "  [0 0 0 2 0]\n",
      "  [0 0 0 2 1]\n",
      "  [0 0 0 0 3]]]\n",
      "Action:  [3]\n",
      "Map:\n",
      " [[[0 0 0 0 0]\n",
      "  [0 0 3 2 0]\n",
      "  [0 0 0 2 0]\n",
      "  [0 0 0 2 2]\n",
      "  [0 0 0 0 1]]]\n",
      "Action:  [0]\n",
      "Map:\n",
      " [[[0 0 0 0 0]\n",
      "  [0 0 3 0 0]\n",
      "  [0 0 0 2 0]\n",
      "  [0 0 0 2 2]\n",
      "  [0 0 0 1 2]]]\n",
      "Action:  [0]\n",
      "Map:\n",
      " [[[0 0 0 0 0]\n",
      "  [0 0 3 0 0]\n",
      "  [0 0 0 0 0]\n",
      "  [0 0 0 2 2]\n",
      "  [0 0 1 2 2]]]\n",
      "Action:  [1]\n",
      "Map:\n",
      " [[[0 0 0 0 0]\n",
      "  [0 0 3 0 0]\n",
      "  [0 0 0 0 0]\n",
      "  [0 0 1 0 2]\n",
      "  [0 0 2 2 2]]]\n",
      "Action:  [1]\n",
      "Map:\n",
      " [[[0 0 0 0 0]\n",
      "  [0 0 3 0 0]\n",
      "  [0 0 1 0 0]\n",
      "  [0 0 2 0 0]\n",
      "  [0 0 2 2 2]]]\n",
      "Action:  [1]\n",
      "Map:\n",
      " [[[0 0 3 0 0]\n",
      "  [0 0 1 0 0]\n",
      "  [0 0 2 0 0]\n",
      "  [0 0 2 0 0]\n",
      "  [0 0 2 2 2]]]\n",
      "Action:  [1]\n",
      "Map:\n",
      " [[[3 0 1 0 0]\n",
      "  [0 0 2 0 0]\n",
      "  [0 0 2 0 0]\n",
      "  [0 0 2 0 0]\n",
      "  [0 0 2 2 2]]]\n",
      "Action:  [0]\n",
      "Map:\n",
      " [[[3 1 2 0 0]\n",
      "  [0 0 2 0 0]\n",
      "  [0 0 2 0 0]\n",
      "  [0 0 2 0 0]\n",
      "  [0 0 2 2 0]]]\n",
      "Action:  [0]\n",
      "Map:\n",
      " [[[1 2 2 0 0]\n",
      "  [0 0 2 0 3]\n",
      "  [0 0 2 0 0]\n",
      "  [0 0 2 0 0]\n",
      "  [0 0 2 2 0]]]\n",
      "Action:  [3]\n",
      "Map:\n",
      " [[[2 2 2 0 0]\n",
      "  [1 0 2 0 3]\n",
      "  [0 0 2 0 0]\n",
      "  [0 0 2 0 0]\n",
      "  [0 0 2 0 0]]]\n",
      "Action:  [2]\n",
      "Map:\n",
      " [[[2 2 2 0 0]\n",
      "  [2 1 2 0 3]\n",
      "  [0 0 2 0 0]\n",
      "  [0 0 2 0 0]\n",
      "  [0 0 0 0 0]]]\n",
      "Action:  [3]\n",
      "Map:\n",
      " [[[2 2 2 0 0]\n",
      "  [2 2 2 0 3]\n",
      "  [0 1 2 0 0]\n",
      "  [0 0 0 0 0]\n",
      "  [0 0 0 0 0]]]\n",
      "Action:  [2]\n",
      "Map:\n",
      " [[[2 2 2 0 0]\n",
      "  [2 2 2 0 3]\n",
      "  [0 2 1 0 0]\n",
      "  [0 0 0 0 0]\n",
      "  [0 0 0 0 0]]]\n",
      "Action:  [2]\n",
      "Map:\n",
      " [[[2 2 2 0 0]\n",
      "  [2 2 0 0 3]\n",
      "  [0 2 2 1 0]\n",
      "  [0 0 0 0 0]\n",
      "  [0 0 0 0 0]]]\n",
      "Action:  [2]\n",
      "Map:\n",
      " [[[2 2 0 0 0]\n",
      "  [2 2 0 0 3]\n",
      "  [0 2 2 2 1]\n",
      "  [0 0 0 0 0]\n",
      "  [0 0 0 0 0]]]\n",
      "Action:  [1]\n",
      "Map:\n",
      " [[[2 2 0 0 0]\n",
      "  [2 2 0 0 1]\n",
      "  [0 2 2 2 2]\n",
      "  [0 0 0 0 0]\n",
      "  [0 0 3 0 0]]]\n",
      "Action:  [0]\n",
      "Map:\n",
      " [[[2 0 0 0 0]\n",
      "  [2 2 0 1 2]\n",
      "  [0 2 2 2 2]\n",
      "  [0 0 0 0 0]\n",
      "  [0 0 3 0 0]]]\n",
      "Action:  [0]\n",
      "Map:\n",
      " [[[0 0 0 0 0]\n",
      "  [2 2 1 2 2]\n",
      "  [0 2 2 2 2]\n",
      "  [0 0 0 0 0]\n",
      "  [0 0 3 0 0]]]\n",
      "Action:  [3]\n",
      "Total reward:  138.0\n",
      "Total steps:  30\n"
     ]
    }
   ],
   "source": [
    "# Evaluate the agent\n",
    "\n",
    "time_step = env.reset()\n",
    "rewards = []\n",
    "steps = 0\n",
    "\n",
    "while not time_step.is_last() and steps < 200:\n",
    "    steps += 1\n",
    "    print(\"Map:\\n\", np.argmax(time_step.observation.numpy(), axis=3))\n",
    "    action_step = agent.policy.action(time_step)\n",
    "    print(\"Action: \", action_step.action.numpy())\n",
    "    time_step = env.step(action_step.action)\n",
    "    rewards.append(time_step.reward.numpy()[0])\n",
    "    \n",
    "print(\"Total reward: \", sum(rewards))\n",
    "print(\"Total steps: \", steps)\n"
   ]
  },
  {
   "cell_type": "code",
   "execution_count": 12,
   "metadata": {},
   "outputs": [
    {
     "name": "stdout",
     "output_type": "stream",
     "text": [
      "Episode:  0\n",
      "Episode:  1\n",
      "Episode:  2\n",
      "Episode:  3\n",
      "Episode:  4\n",
      "Episode:  5\n",
      "Episode:  6\n",
      "Episode:  7\n",
      "Episode:  8\n",
      "Episode:  9\n",
      "Episode:  10\n",
      "Episode:  11\n",
      "Episode:  12\n",
      "Episode:  13\n",
      "Episode:  14\n",
      "Episode:  15\n",
      "Episode:  16\n",
      "Episode:  17\n",
      "Episode:  18\n",
      "Episode:  19\n",
      "Episode:  20\n",
      "Episode:  21\n",
      "Episode:  22\n",
      "Episode:  23\n",
      "Episode:  24\n",
      "Episode:  25\n",
      "Episode:  26\n",
      "Episode:  27\n",
      "Episode:  28\n",
      "Episode:  29\n",
      "Episode:  30\n",
      "Episode:  31\n",
      "Episode:  32\n",
      "Episode:  33\n",
      "Episode:  34\n",
      "Episode:  35\n",
      "Episode:  36\n",
      "Episode:  37\n",
      "Episode:  38\n",
      "Episode:  39\n",
      "Episode:  40\n",
      "Episode:  41\n",
      "Episode:  42\n",
      "Episode:  43\n",
      "Episode:  44\n",
      "Episode:  45\n",
      "Episode:  46\n",
      "Episode:  47\n",
      "Episode:  48\n",
      "Episode:  49\n",
      "Episode:  50\n",
      "Episode:  51\n",
      "Episode:  52\n",
      "Episode:  53\n",
      "Episode:  54\n",
      "Episode:  55\n",
      "Episode:  56\n",
      "Episode:  57\n",
      "Episode:  58\n",
      "Episode:  59\n",
      "Episode:  60\n",
      "Episode:  61\n",
      "Episode:  62\n",
      "Episode:  63\n",
      "Episode:  64\n",
      "Episode:  65\n",
      "Episode:  66\n",
      "Episode:  67\n",
      "Episode:  68\n",
      "Episode:  69\n",
      "Episode:  70\n",
      "Episode:  71\n",
      "Episode:  72\n",
      "Episode:  73\n",
      "Episode:  74\n",
      "Episode:  75\n",
      "Episode:  76\n",
      "Episode:  77\n",
      "Episode:  78\n",
      "Episode:  79\n",
      "Episode:  80\n",
      "Episode:  81\n",
      "Episode:  82\n",
      "Episode:  83\n",
      "Episode:  84\n",
      "Episode:  85\n",
      "Episode:  86\n",
      "Episode:  87\n",
      "Episode:  88\n",
      "Episode:  89\n",
      "Episode:  90\n",
      "Episode:  91\n",
      "Episode:  92\n",
      "Episode:  93\n",
      "Episode:  94\n",
      "Episode:  95\n",
      "Episode:  96\n",
      "Episode:  97\n",
      "Episode:  98\n",
      "Episode:  99\n",
      "Episode:  100\n",
      "Episode:  101\n",
      "Episode:  102\n",
      "Episode:  103\n",
      "Episode:  104\n",
      "Episode:  105\n",
      "Episode:  106\n",
      "Episode:  107\n",
      "Episode:  108\n",
      "Episode:  109\n",
      "Episode:  110\n",
      "Episode:  111\n",
      "Episode:  112\n",
      "Episode:  113\n",
      "Episode:  114\n",
      "Episode:  115\n",
      "Episode:  116\n",
      "Episode:  117\n",
      "Episode:  118\n",
      "Episode:  119\n",
      "Episode:  120\n",
      "Episode:  121\n",
      "Episode:  122\n",
      "Episode:  123\n",
      "Episode:  124\n",
      "Episode:  125\n",
      "Episode:  126\n",
      "Episode:  127\n",
      "Episode:  128\n",
      "Episode:  129\n",
      "Episode:  130\n",
      "Episode:  131\n",
      "Episode:  132\n",
      "Episode:  133\n",
      "Episode:  134\n",
      "Episode:  135\n",
      "Episode:  136\n",
      "Episode:  137\n",
      "Episode:  138\n",
      "Episode:  139\n",
      "Episode:  140\n",
      "Episode:  141\n",
      "Episode:  142\n",
      "Episode:  143\n",
      "Episode:  144\n",
      "Episode:  145\n",
      "Episode:  146\n",
      "Episode:  147\n",
      "Episode:  148\n",
      "Episode:  149\n",
      "Episode:  150\n",
      "Episode:  151\n",
      "Episode:  152\n",
      "Episode:  153\n",
      "Episode:  154\n",
      "Episode:  155\n",
      "Episode:  156\n",
      "Episode:  157\n",
      "Episode:  158\n",
      "Episode:  159\n",
      "Episode:  160\n",
      "Episode:  161\n",
      "Episode:  162\n",
      "Episode:  163\n",
      "Episode:  164\n",
      "Episode:  165\n",
      "Episode:  166\n",
      "Episode:  167\n",
      "Episode:  168\n",
      "Episode:  169\n",
      "Episode:  170\n",
      "Episode:  171\n",
      "Episode:  172\n",
      "Episode:  173\n",
      "Episode:  174\n",
      "Episode:  175\n",
      "Episode:  176\n",
      "Episode:  177\n",
      "Episode:  178\n",
      "Episode:  179\n",
      "Episode:  180\n",
      "Episode:  181\n",
      "Episode:  182\n",
      "Episode:  183\n",
      "Episode:  184\n",
      "Episode:  185\n",
      "Episode:  186\n",
      "Episode:  187\n",
      "Episode:  188\n",
      "Episode:  189\n",
      "Episode:  190\n",
      "Episode:  191\n",
      "Episode:  192\n",
      "Episode:  193\n",
      "Episode:  194\n",
      "Episode:  195\n",
      "Episode:  196\n",
      "Episode:  197\n",
      "Episode:  198\n",
      "Episode:  199\n",
      "Average steps per episode:  26.06\n",
      "Average reward per episode:  145.84\n",
      "Total 500 episodes:  0\n"
     ]
    }
   ],
   "source": [
    "# Count the average steps per episode\n",
    "\n",
    "n = 200\n",
    "total_steps = 0\n",
    "total_reward = 0\n",
    "steps = 0\n",
    "total_500 = 0\n",
    "\n",
    "for i in range(n):\n",
    "    print(\"Episode: \", i)\n",
    "    time_step = env.reset()\n",
    "    steps = 0\n",
    "    while not time_step.is_last() and steps < 500:\n",
    "        steps += 1\n",
    "        action_step = agent.policy.action(time_step)\n",
    "        time_step = env.step(action_step.action)\n",
    "        reward = time_step.reward.numpy()[0]\n",
    "        total_reward += reward\n",
    "    \n",
    "    if steps == 500:\n",
    "        total_500 += 1\n",
    "    else:\n",
    "        total_steps += steps\n",
    "        \n",
    "if steps == 500:\n",
    "    print(\"500 episodes reached\")\n",
    "    \n",
    "print(\"Average steps per episode: \", total_steps / (n - total_500))\n",
    "print(\"Average reward per episode: \", total_reward / n)\n",
    "print(\"Total 500 episodes: \", total_500)\n"
   ]
  },
  {
   "cell_type": "code",
   "execution_count": 13,
   "metadata": {},
   "outputs": [
    {
     "name": "stdout",
     "output_type": "stream",
     "text": [
      "Map:\n",
      " [[[0 0 0 0 0]\n",
      "  [0 0 0 0 0]\n",
      "  [0 0 0 0 0]\n",
      "  [3 0 0 0 0]\n",
      "  [1 2 0 0 0]]]\n"
     ]
    }
   ],
   "source": [
    "print(\"Map:\\n\", np.argmax(time_step.observation.numpy(), axis=3))\n"
   ]
  },
  {
   "cell_type": "code",
   "execution_count": 14,
   "metadata": {},
   "outputs": [
    {
     "name": "stdout",
     "output_type": "stream",
     "text": [
      "Map:\n",
      " [[[0 0 0 0 0]\n",
      "  [0 0 0 0 0]\n",
      "  [0 0 0 0 3]\n",
      "  [1 0 0 0 0]\n",
      "  [2 2 0 0 0]]]\n"
     ]
    }
   ],
   "source": [
    "action_step = agent.policy.action(time_step)\n",
    "time_step = env.step(action_step.action)\n",
    "print(\"Map:\\n\", np.argmax(time_step.observation.numpy(), axis=3))\n"
   ]
  },
  {
   "cell_type": "code",
   "execution_count": 15,
   "metadata": {},
   "outputs": [
    {
     "name": "stderr",
     "output_type": "stream",
     "text": [
      "INFO:absl:Function `function_with_signature` contains input name(s) 0/step_type, 0/reward, 0/discount, 0/observation, 10066885, 10066887, 10066889, 10066891, 10066893, 10066895, 10066897, 10066899, 10066901, 10066903 with unsupported characters which will be renamed to step_type, reward, discount, observation, unknown, unknown_0, unknown_1, unknown_2, unknown_3, unknown_4, unknown_5, unknown_6, unknown_7, unknown_8 in the SavedModel.\n",
      "WARNING:absl:`0/step_type` is not a valid tf.function parameter name. Sanitizing to `arg_0_step_type`.\n",
      "WARNING:absl:`0/reward` is not a valid tf.function parameter name. Sanitizing to `arg_0_reward`.\n",
      "WARNING:absl:`0/discount` is not a valid tf.function parameter name. Sanitizing to `arg_0_discount`.\n",
      "WARNING:absl:`0/observation` is not a valid tf.function parameter name. Sanitizing to `arg_0_observation`.\n",
      "WARNING:absl:`0/step_type` is not a valid tf.function parameter name. Sanitizing to `arg_0_step_type`.\n",
      "INFO:absl:Function `function_with_signature` contains input name(s) 10066948 with unsupported characters which will be renamed to unknown in the SavedModel.\n"
     ]
    },
    {
     "name": "stdout",
     "output_type": "stream",
     "text": [
      "INFO:tensorflow:Assets written to: policy/assets\n"
     ]
    },
    {
     "name": "stderr",
     "output_type": "stream",
     "text": [
      "/Users/juanpablo/miniconda3/lib/python3.11/site-packages/tensorflow/python/saved_model/nested_structure_coder.py:475: UserWarning: Encoding a StructuredValue with type tfp.distributions.Deterministic_ACTTypeSpec; loading this StructuredValue will require that this type be imported and registered.\n",
      "  warnings.warn(\"Encoding a StructuredValue with type %s; loading this \"\n",
      "INFO:tensorflow:Assets written to: policy/assets\n"
     ]
    }
   ],
   "source": [
    "# Save the agent\n",
    "import os\n",
    "from tf_agents.policies.policy_saver import PolicySaver\n",
    "\n",
    "saver = PolicySaver(agent.policy, batch_size=None)\n",
    "saver.save(\"policy\")\n"
   ]
  },
  {
   "cell_type": "code",
   "execution_count": null,
   "metadata": {},
   "outputs": [],
   "source": []
  }
 ],
 "metadata": {
  "kernelspec": {
   "display_name": "base",
   "language": "python",
   "name": "python3"
  },
  "language_info": {
   "codemirror_mode": {
    "name": "ipython",
    "version": 3
   },
   "file_extension": ".py",
   "mimetype": "text/x-python",
   "name": "python",
   "nbconvert_exporter": "python",
   "pygments_lexer": "ipython3",
   "version": "3.11.4"
  },
  "orig_nbformat": 4
 },
 "nbformat": 4,
 "nbformat_minor": 2
}
