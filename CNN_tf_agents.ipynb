{
 "cells": [
  {
   "cell_type": "code",
   "execution_count": 30,
   "metadata": {},
   "outputs": [],
   "source": [
    "import numpy as np\n",
    "import tensorflow as tf\n",
    "from tf_agents.networks.q_network import QNetwork\n",
    "import tf_agents.networks.network as network\n",
    "from tf_agents.specs import tensor_spec\n",
    "from snake_game import SnakeGame\n",
    "from scene import Scene\n",
    "from scene_longer_snake import SceneLongerSnake\n",
    "from tensorflow.keras import Sequential\n",
    "from tensorflow.keras.layers import Dense, Flatten, Conv2D, Input\n",
    "\n",
    "scene = SceneLongerSnake(init_randomly=True, snake_longer_prob=0.95, length_mean=10, length_std=2)\n",
    "episodes_count = 80000\n",
    "random_episodes = 20000\n"
   ]
  },
  {
   "cell_type": "code",
   "execution_count": 31,
   "metadata": {},
   "outputs": [],
   "source": [
    "from tf_agents.environments.tf_py_environment import TFPyEnvironment\n",
    "\n",
    "env = SnakeGame(scene)\n",
    "env = TFPyEnvironment(env)\n"
   ]
  },
  {
   "cell_type": "code",
   "execution_count": 32,
   "metadata": {},
   "outputs": [
    {
     "name": "stdout",
     "output_type": "stream",
     "text": [
      "Model: \"model_4\"\n",
      "__________________________________________________________________________________________________\n",
      " Layer (type)                Output Shape                 Param #   Connected to                  \n",
      "==================================================================================================\n",
      " input_20 (InputLayer)       [(None, 5, 5, 4)]            0         []                            \n",
      "                                                                                                  \n",
      " conv2d_5 (Conv2D)           (None, 4, 4, 32)             544       ['input_20[0][0]']            \n",
      "                                                                                                  \n",
      " flatten_5 (Flatten)         (None, 512)                  0         ['conv2d_5[0][0]']            \n"
     ]
    },
    {
     "name": "stdout",
     "output_type": "stream",
     "text": [
      "                                                                                                  \n",
      " dense_15 (Dense)            (None, 128)                  65664     ['flatten_5[0][0]']           \n",
      "                                                                                                  \n",
      " dense_16 (Dense)            (None, 32)                   4128      ['dense_15[0][0]']            \n",
      "                                                                                                  \n",
      " input_21 (InputLayer)       [(None, 4)]                  0         []                            \n",
      "                                                                                                  \n",
      " input_22 (InputLayer)       [(None, 4)]                  0         []                            \n",
      "                                                                                                  \n",
      " concatenate_5 (Concatenate  (None, 40)                   0         ['dense_16[0][0]',            \n",
      " )                                                                   'input_21[0][0]',            \n",
      "                                                                     'input_22[0][0]']            \n",
      "                                                                                                  \n",
      " dense_17 (Dense)            (None, 4)                    164       ['concatenate_5[0][0]']       \n",
      "                                                                                                  \n",
      "==================================================================================================\n",
      "Total params: 70500 (275.39 KB)\n",
      "Trainable params: 70500 (275.39 KB)\n",
      "Non-trainable params: 0 (0.00 Byte)\n",
      "__________________________________________________________________________________________________\n"
     ]
    }
   ],
   "source": [
    "class MyQNetwork(network.Network):\n",
    "    def __init__(self,\n",
    "                 input_tensor_spec,\n",
    "                 action_spec,\n",
    "                 name='MyQNetwork'):\n",
    "        super(MyQNetwork, self).__init__(\n",
    "            input_tensor_spec=input_tensor_spec,\n",
    "            state_spec=(),\n",
    "            name=name)\n",
    "        \n",
    "        self._action_spec = action_spec\n",
    "        matrix_shape = input_tensor_spec[0].shape\n",
    "        obstacles_shape = input_tensor_spec[1].shape\n",
    "        no_body_blocks_shape = input_tensor_spec[2].shape\n",
    "        \n",
    "        input0 = Input(shape=matrix_shape)\n",
    "        input1 = Input(shape=obstacles_shape) # Each value represents if there is a wall or the snake body in the direction, 0 - no wall, 1 - wall\n",
    "        input2 = Input(shape=no_body_blocks_shape) # Each value represents how many no body blocks are in the direction\n",
    "        \n",
    "        conv = Conv2D(32, (2, 2), 1, activation='relu', kernel_initializer='he_normal')(input0)\n",
    "        flat = Flatten()(conv)\n",
    "        dense1 = Dense(128, activation='relu', kernel_initializer='he_normal')(flat)\n",
    "        dense2 = Dense(32, activation='relu', kernel_initializer='he_normal')(dense1)\n",
    "        \n",
    "        concat = tf.keras.layers.concatenate([dense2, input1, input2])\n",
    "        output = Dense(4, activation='linear')(concat)\n",
    "        \n",
    "        self._model = tf.keras.Model(inputs=[input0, input1, input2], outputs=output)\n",
    "        \n",
    "        self._model.summary()\n",
    "\n",
    "    def call(self, observations, step_type=None, network_state=(), training=False):\n",
    "        output = self._model([observations[0], observations[1], observations[2]])\n",
    "        return output, network_state\n",
    "\n",
    "q_net = MyQNetwork(\n",
    "    env.observation_spec(),\n",
    "    env.action_spec())\n"
   ]
  },
  {
   "cell_type": "code",
   "execution_count": 33,
   "metadata": {},
   "outputs": [
    {
     "name": "stdout",
     "output_type": "stream",
     "text": [
      "Model: \"model_5\"\n",
      "__________________________________________________________________________________________________\n",
      " Layer (type)                Output Shape                 Param #   Connected to                  \n",
      "==================================================================================================\n",
      " input_23 (InputLayer)       [(None, 5, 5, 4)]            0         []                            \n",
      "                                                                                                  \n",
      " conv2d_6 (Conv2D)           (None, 4, 4, 32)             544       ['input_23[0][0]']            \n",
      "                                                                                                  \n",
      " flatten_6 (Flatten)         (None, 512)                  0         ['conv2d_6[0][0]']            \n",
      "                                                                                                  \n",
      " dense_18 (Dense)            (None, 128)                  65664     ['flatten_6[0][0]']           \n",
      "                                                                                                  \n",
      " dense_19 (Dense)            (None, 32)                   4128      ['dense_18[0][0]']            \n",
      "                                                                                                  \n",
      " input_24 (InputLayer)       [(None, 4)]                  0         []                            \n",
      "                                                                                                  \n",
      " input_25 (InputLayer)       [(None, 4)]                  0         []                            \n",
      "                                                                                                  \n",
      " concatenate_6 (Concatenate  (None, 40)                   0         ['dense_19[0][0]',            \n",
      " )                                                                   'input_24[0][0]',            \n",
      "                                                                     'input_25[0][0]']            \n",
      "                                                                                                  \n",
      " dense_20 (Dense)            (None, 4)                    164       ['concatenate_6[0][0]']       \n",
      "                                                                                                  \n",
      "==================================================================================================\n",
      "Total params: 70500 (275.39 KB)\n",
      "Trainable params: 70500 (275.39 KB)\n",
      "Non-trainable params: 0 (0.00 Byte)\n",
      "__________________________________________________________________________________________________\n"
     ]
    }
   ],
   "source": [
    "# Create the agent\n",
    "from tf_agents.agents.dqn.dqn_agent import DdqnAgent\n",
    "from tensorflow import keras\n",
    "from keras.optimizers.legacy import Adam\n",
    "from keras.losses import Huber\n",
    "from tf_agents.trajectories import TimeStep\n",
    "\n",
    "train_step_counter = tf.Variable(0)\n",
    "optimizer = Adam(learning_rate=0.003)\n",
    "\n",
    "epsilon = keras.optimizers.schedules.PolynomialDecay(\n",
    "    initial_learning_rate=0.1,\n",
    "    decay_steps=episodes_count,\n",
    "    end_learning_rate=0.01\n",
    ")\n",
    "\n",
    "agent = DdqnAgent(\n",
    "    time_step_spec=env.time_step_spec(),\n",
    "    action_spec=env.action_spec(),\n",
    "    q_network=q_net,\n",
    "    optimizer=optimizer,\n",
    "    td_errors_loss_fn=Huber(reduction=\"none\"),\n",
    "    gamma=tf.constant(0.95, dtype=tf.float32),\n",
    "    train_step_counter=train_step_counter,\n",
    "    epsilon_greedy=lambda: epsilon(train_step_counter)\n",
    ")\n"
   ]
  },
  {
   "cell_type": "code",
   "execution_count": 34,
   "metadata": {},
   "outputs": [],
   "source": [
    "# Create the replay buffer\n",
    "from tf_agents.replay_buffers import tf_uniform_replay_buffer\n",
    "\n",
    "replay_buffer = tf_uniform_replay_buffer.TFUniformReplayBuffer(\n",
    "    data_spec=agent.collect_data_spec,\n",
    "    batch_size=env.batch_size,\n",
    "    max_length=100000\n",
    ")\n"
   ]
  },
  {
   "cell_type": "code",
   "execution_count": 35,
   "metadata": {},
   "outputs": [],
   "source": [
    "# Create the training metrics\n",
    "from tf_agents.metrics import tf_metrics\n",
    "\n",
    "train_metrics = [\n",
    "    tf_metrics.NumberOfEpisodes(),\n",
    "    tf_metrics.EnvironmentSteps(),\n",
    "    tf_metrics.AverageReturnMetric(),\n",
    "    tf_metrics.AverageEpisodeLengthMetric()\n",
    "]\n"
   ]
  },
  {
   "cell_type": "code",
   "execution_count": 36,
   "metadata": {},
   "outputs": [],
   "source": [
    "# Create the driver\n",
    "from tf_agents.drivers import dynamic_step_driver\n",
    "\n",
    "collect_driver = dynamic_step_driver.DynamicStepDriver(\n",
    "    env,\n",
    "    policy=agent.collect_policy,\n",
    "    observers=[replay_buffer.add_batch] + train_metrics,\n",
    "    num_steps=2\n",
    ")\n",
    "\n",
    "# Run a random policy to fill the replay buffer\n",
    "from tf_agents.policies.random_tf_policy import RandomTFPolicy\n",
    "\n",
    "initial_collect_policy = RandomTFPolicy(env.time_step_spec(), env.action_spec())\n",
    "init_driver = dynamic_step_driver.DynamicStepDriver(\n",
    "    env,\n",
    "    policy=initial_collect_policy,\n",
    "    observers=[replay_buffer.add_batch],\n",
    "    num_steps=random_episodes\n",
    ")\n",
    "\n",
    "final_time_step, final_policy_state = init_driver.run()\n"
   ]
  },
  {
   "cell_type": "code",
   "execution_count": 37,
   "metadata": {},
   "outputs": [],
   "source": [
    "# Create the dataset\n",
    "dataset = replay_buffer.as_dataset(\n",
    "    sample_batch_size=64,\n",
    "    num_steps=2, # Capaz cambiar esto\n",
    "    num_parallel_calls=5\n",
    ").prefetch(5)\n"
   ]
  },
  {
   "cell_type": "code",
   "execution_count": 38,
   "metadata": {},
   "outputs": [],
   "source": [
    "\n",
    "# Create the training loop\n",
    "\n",
    "from tf_agents.utils.common import function\n",
    "from tf_agents.trajectories import trajectory\n",
    "from tf_agents.eval.metric_utils import log_metrics\n",
    "import logging\n",
    "\n",
    "logging.getLogger().setLevel(logging.INFO)\n",
    "\n",
    "collect_driver.run = function(collect_driver.run)\n",
    "agent.train = function(agent.train)\n",
    "\n",
    "def train_agent(n_iterations):\n",
    "    time_step = None\n",
    "    policy_state = agent.collect_policy.get_initial_state(env.batch_size)\n",
    "    iterator = iter(dataset)\n",
    "    for iteration in range(n_iterations):\n",
    "        time_step, policy_state = collect_driver.run(time_step, policy_state)\n",
    "        trajectories, buffer_info = next(iterator)\n",
    "        train_loss = agent.train(trajectories)\n",
    "        if iteration % 1000 == 0:\n",
    "            print(\"Iteration: \", iteration)\n",
    "            print(\"Replay buffer len: \" + str(replay_buffer.num_frames().numpy()))\n",
    "            log_metrics(train_metrics)\n"
   ]
  },
  {
   "cell_type": "code",
   "execution_count": 39,
   "metadata": {},
   "outputs": [
    {
     "name": "stderr",
     "output_type": "stream",
     "text": [
      "INFO:absl: \n",
      "\t\t NumberOfEpisodes = 0\n",
      "\t\t EnvironmentSteps = 2\n",
      "\t\t AverageReturn = 0.0\n",
      "\t\t AverageEpisodeLength = 0.0\n"
     ]
    },
    {
     "name": "stdout",
     "output_type": "stream",
     "text": [
      "Iteration:  0\n",
      "Replay buffer len: 43583\n"
     ]
    },
    {
     "name": "stderr",
     "output_type": "stream",
     "text": [
      "INFO:absl: \n",
      "\t\t NumberOfEpisodes = 255\n",
      "\t\t EnvironmentSteps = 2002\n",
      "\t\t AverageReturn = -9579.0\n",
      "\t\t AverageEpisodeLength = 18.600000381469727\n"
     ]
    },
    {
     "name": "stdout",
     "output_type": "stream",
     "text": [
      "Iteration:  1000\n",
      "Replay buffer len: 45838\n"
     ]
    },
    {
     "name": "stderr",
     "output_type": "stream",
     "text": [
      "INFO:absl: \n",
      "\t\t NumberOfEpisodes = 408\n",
      "\t\t EnvironmentSteps = 4002\n",
      "\t\t AverageReturn = -14873.5\n",
      "\t\t AverageEpisodeLength = 15.899999618530273\n"
     ]
    },
    {
     "name": "stdout",
     "output_type": "stream",
     "text": [
      "Iteration:  2000\n",
      "Replay buffer len: 47991\n"
     ]
    },
    {
     "name": "stderr",
     "output_type": "stream",
     "text": [
      "INFO:absl: \n",
      "\t\t NumberOfEpisodes = 560\n",
      "\t\t EnvironmentSteps = 6002\n",
      "\t\t AverageReturn = -19894.5\n",
      "\t\t AverageEpisodeLength = 18.100000381469727\n"
     ]
    },
    {
     "name": "stdout",
     "output_type": "stream",
     "text": [
      "Iteration:  3000\n",
      "Replay buffer len: 50143\n"
     ]
    },
    {
     "name": "stderr",
     "output_type": "stream",
     "text": [
      "INFO:absl: \n",
      "\t\t NumberOfEpisodes = 677\n",
      "\t\t EnvironmentSteps = 8002\n",
      "\t\t AverageReturn = -23271.5\n",
      "\t\t AverageEpisodeLength = 13.600000381469727\n"
     ]
    },
    {
     "name": "stdout",
     "output_type": "stream",
     "text": [
      "Iteration:  4000\n",
      "Replay buffer len: 52260\n"
     ]
    },
    {
     "name": "stderr",
     "output_type": "stream",
     "text": [
      "INFO:absl: \n",
      "\t\t NumberOfEpisodes = 803\n",
      "\t\t EnvironmentSteps = 10002\n",
      "\t\t AverageReturn = -27122.0\n",
      "\t\t AverageEpisodeLength = 16.600000381469727\n"
     ]
    },
    {
     "name": "stdout",
     "output_type": "stream",
     "text": [
      "Iteration:  5000\n",
      "Replay buffer len: 54386\n"
     ]
    },
    {
     "name": "stderr",
     "output_type": "stream",
     "text": [
      "INFO:absl: \n",
      "\t\t NumberOfEpisodes = 926\n",
      "\t\t EnvironmentSteps = 12002\n",
      "\t\t AverageReturn = -30649.5\n",
      "\t\t AverageEpisodeLength = 17.799999237060547\n"
     ]
    },
    {
     "name": "stdout",
     "output_type": "stream",
     "text": [
      "Iteration:  6000\n",
      "Replay buffer len: 56509\n"
     ]
    },
    {
     "name": "stderr",
     "output_type": "stream",
     "text": [
      "INFO:absl: \n",
      "\t\t NumberOfEpisodes = 1074\n",
      "\t\t EnvironmentSteps = 14002\n",
      "\t\t AverageReturn = -35117.5\n",
      "\t\t AverageEpisodeLength = 17.5\n"
     ]
    },
    {
     "name": "stdout",
     "output_type": "stream",
     "text": [
      "Iteration:  7000\n",
      "Replay buffer len: 58657\n"
     ]
    },
    {
     "name": "stderr",
     "output_type": "stream",
     "text": [
      "INFO:absl: \n",
      "\t\t NumberOfEpisodes = 1195\n",
      "\t\t EnvironmentSteps = 16002\n",
      "\t\t AverageReturn = -38372.0\n",
      "\t\t AverageEpisodeLength = 14.899999618530273\n"
     ]
    },
    {
     "name": "stdout",
     "output_type": "stream",
     "text": [
      "Iteration:  8000\n",
      "Replay buffer len: 60778\n"
     ]
    },
    {
     "name": "stderr",
     "output_type": "stream",
     "text": [
      "INFO:absl: \n",
      "\t\t NumberOfEpisodes = 1341\n",
      "\t\t EnvironmentSteps = 18002\n",
      "\t\t AverageReturn = -42714.0\n",
      "\t\t AverageEpisodeLength = 11.199999809265137\n"
     ]
    },
    {
     "name": "stdout",
     "output_type": "stream",
     "text": [
      "Iteration:  9000\n",
      "Replay buffer len: 62924\n"
     ]
    },
    {
     "name": "stderr",
     "output_type": "stream",
     "text": [
      "INFO:absl: \n",
      "\t\t NumberOfEpisodes = 1466\n",
      "\t\t EnvironmentSteps = 20002\n",
      "\t\t AverageReturn = -46130.0\n",
      "\t\t AverageEpisodeLength = 5.900000095367432\n"
     ]
    },
    {
     "name": "stdout",
     "output_type": "stream",
     "text": [
      "Iteration:  10000\n",
      "Replay buffer len: 65049\n"
     ]
    },
    {
     "name": "stderr",
     "output_type": "stream",
     "text": [
      "INFO:absl: \n",
      "\t\t NumberOfEpisodes = 1593\n",
      "\t\t EnvironmentSteps = 22002\n",
      "\t\t AverageReturn = -49639.0\n",
      "\t\t AverageEpisodeLength = 18.299999237060547\n"
     ]
    },
    {
     "name": "stdout",
     "output_type": "stream",
     "text": [
      "Iteration:  11000\n",
      "Replay buffer len: 67176\n"
     ]
    },
    {
     "name": "stderr",
     "output_type": "stream",
     "text": [
      "INFO:absl: \n",
      "\t\t NumberOfEpisodes = 1709\n",
      "\t\t EnvironmentSteps = 24002\n",
      "\t\t AverageReturn = -52639.0\n",
      "\t\t AverageEpisodeLength = 20.299999237060547\n"
     ]
    },
    {
     "name": "stdout",
     "output_type": "stream",
     "text": [
      "Iteration:  12000\n",
      "Replay buffer len: 69292\n"
     ]
    },
    {
     "name": "stderr",
     "output_type": "stream",
     "text": [
      "INFO:absl: \n",
      "\t\t NumberOfEpisodes = 1829\n",
      "\t\t EnvironmentSteps = 26002\n",
      "\t\t AverageReturn = -55677.0\n",
      "\t\t AverageEpisodeLength = 20.399999618530273\n"
     ]
    },
    {
     "name": "stdout",
     "output_type": "stream",
     "text": [
      "Iteration:  13000\n",
      "Replay buffer len: 71412\n"
     ]
    },
    {
     "name": "stderr",
     "output_type": "stream",
     "text": [
      "INFO:absl: \n",
      "\t\t NumberOfEpisodes = 1946\n",
      "\t\t EnvironmentSteps = 28002\n",
      "\t\t AverageReturn = -58520.0\n",
      "\t\t AverageEpisodeLength = 10.800000190734863\n"
     ]
    },
    {
     "name": "stdout",
     "output_type": "stream",
     "text": [
      "Iteration:  14000\n",
      "Replay buffer len: 73529\n"
     ]
    },
    {
     "name": "stderr",
     "output_type": "stream",
     "text": [
      "INFO:absl: \n",
      "\t\t NumberOfEpisodes = 2078\n",
      "\t\t EnvironmentSteps = 30002\n",
      "\t\t AverageReturn = -62175.0\n",
      "\t\t AverageEpisodeLength = 14.0\n"
     ]
    },
    {
     "name": "stdout",
     "output_type": "stream",
     "text": [
      "Iteration:  15000\n",
      "Replay buffer len: 75661\n"
     ]
    },
    {
     "name": "stderr",
     "output_type": "stream",
     "text": [
      "INFO:absl: \n",
      "\t\t NumberOfEpisodes = 2211\n",
      "\t\t EnvironmentSteps = 32002\n",
      "\t\t AverageReturn = -65717.0\n",
      "\t\t AverageEpisodeLength = 19.5\n"
     ]
    },
    {
     "name": "stdout",
     "output_type": "stream",
     "text": [
      "Iteration:  16000\n",
      "Replay buffer len: 77794\n"
     ]
    },
    {
     "name": "stderr",
     "output_type": "stream",
     "text": [
      "INFO:absl: \n",
      "\t\t NumberOfEpisodes = 2331\n",
      "\t\t EnvironmentSteps = 34002\n",
      "\t\t AverageReturn = -68824.5\n",
      "\t\t AverageEpisodeLength = 16.899999618530273\n"
     ]
    },
    {
     "name": "stdout",
     "output_type": "stream",
     "text": [
      "Iteration:  17000\n",
      "Replay buffer len: 79914\n"
     ]
    },
    {
     "name": "stderr",
     "output_type": "stream",
     "text": [
      "INFO:absl: \n",
      "\t\t NumberOfEpisodes = 2449\n",
      "\t\t EnvironmentSteps = 36002\n",
      "\t\t AverageReturn = -71625.5\n",
      "\t\t AverageEpisodeLength = 23.299999237060547\n"
     ]
    },
    {
     "name": "stdout",
     "output_type": "stream",
     "text": [
      "Iteration:  18000\n",
      "Replay buffer len: 82032\n"
     ]
    },
    {
     "name": "stderr",
     "output_type": "stream",
     "text": [
      "INFO:absl: \n",
      "\t\t NumberOfEpisodes = 2560\n",
      "\t\t EnvironmentSteps = 38002\n",
      "\t\t AverageReturn = -74187.5\n",
      "\t\t AverageEpisodeLength = 17.600000381469727\n"
     ]
    },
    {
     "name": "stdout",
     "output_type": "stream",
     "text": [
      "Iteration:  19000\n",
      "Replay buffer len: 84143\n"
     ]
    },
    {
     "name": "stderr",
     "output_type": "stream",
     "text": [
      "INFO:absl: \n",
      "\t\t NumberOfEpisodes = 2657\n",
      "\t\t EnvironmentSteps = 40002\n",
      "\t\t AverageReturn = -76421.0\n",
      "\t\t AverageEpisodeLength = 15.800000190734863\n"
     ]
    },
    {
     "name": "stdout",
     "output_type": "stream",
     "text": [
      "Iteration:  20000\n",
      "Replay buffer len: 86240\n"
     ]
    },
    {
     "name": "stderr",
     "output_type": "stream",
     "text": [
      "INFO:absl: \n",
      "\t\t NumberOfEpisodes = 2786\n",
      "\t\t EnvironmentSteps = 42002\n",
      "\t\t AverageReturn = -79731.0\n",
      "\t\t AverageEpisodeLength = 13.0\n"
     ]
    },
    {
     "name": "stdout",
     "output_type": "stream",
     "text": [
      "Iteration:  21000\n",
      "Replay buffer len: 88369\n"
     ]
    },
    {
     "name": "stderr",
     "output_type": "stream",
     "text": [
      "INFO:absl: \n",
      "\t\t NumberOfEpisodes = 2903\n",
      "\t\t EnvironmentSteps = 44002\n",
      "\t\t AverageReturn = -82609.5\n",
      "\t\t AverageEpisodeLength = 19.399999618530273\n"
     ]
    },
    {
     "name": "stdout",
     "output_type": "stream",
     "text": [
      "Iteration:  22000\n",
      "Replay buffer len: 90486\n"
     ]
    },
    {
     "name": "stderr",
     "output_type": "stream",
     "text": [
      "INFO:absl: \n",
      "\t\t NumberOfEpisodes = 3012\n",
      "\t\t EnvironmentSteps = 46002\n",
      "\t\t AverageReturn = -85265.5\n",
      "\t\t AverageEpisodeLength = 14.899999618530273\n"
     ]
    },
    {
     "name": "stdout",
     "output_type": "stream",
     "text": [
      "Iteration:  23000\n",
      "Replay buffer len: 92595\n"
     ]
    },
    {
     "name": "stderr",
     "output_type": "stream",
     "text": [
      "INFO:absl: \n",
      "\t\t NumberOfEpisodes = 3118\n",
      "\t\t EnvironmentSteps = 48002\n",
      "\t\t AverageReturn = -87621.0\n",
      "\t\t AverageEpisodeLength = 19.0\n"
     ]
    },
    {
     "name": "stdout",
     "output_type": "stream",
     "text": [
      "Iteration:  24000\n",
      "Replay buffer len: 94701\n"
     ]
    },
    {
     "name": "stderr",
     "output_type": "stream",
     "text": [
      "INFO:absl: \n",
      "\t\t NumberOfEpisodes = 3237\n",
      "\t\t EnvironmentSteps = 50002\n",
      "\t\t AverageReturn = -90420.0\n",
      "\t\t AverageEpisodeLength = 7.099999904632568\n"
     ]
    },
    {
     "name": "stdout",
     "output_type": "stream",
     "text": [
      "Iteration:  25000\n",
      "Replay buffer len: 96820\n"
     ]
    },
    {
     "name": "stderr",
     "output_type": "stream",
     "text": [
      "INFO:absl: \n",
      "\t\t NumberOfEpisodes = 3349\n",
      "\t\t EnvironmentSteps = 52002\n",
      "\t\t AverageReturn = -93040.5\n",
      "\t\t AverageEpisodeLength = 25.700000762939453\n"
     ]
    },
    {
     "name": "stdout",
     "output_type": "stream",
     "text": [
      "Iteration:  26000\n",
      "Replay buffer len: 98932\n"
     ]
    },
    {
     "name": "stderr",
     "output_type": "stream",
     "text": [
      "INFO:absl: \n",
      "\t\t NumberOfEpisodes = 3453\n",
      "\t\t EnvironmentSteps = 54002\n",
      "\t\t AverageReturn = -95169.5\n",
      "\t\t AverageEpisodeLength = 25.700000762939453\n"
     ]
    },
    {
     "name": "stdout",
     "output_type": "stream",
     "text": [
      "Iteration:  27000\n",
      "Replay buffer len: 100000\n"
     ]
    },
    {
     "name": "stderr",
     "output_type": "stream",
     "text": [
      "INFO:absl: \n",
      "\t\t NumberOfEpisodes = 3565\n",
      "\t\t EnvironmentSteps = 56002\n",
      "\t\t AverageReturn = -97739.0\n",
      "\t\t AverageEpisodeLength = 15.199999809265137\n"
     ]
    },
    {
     "name": "stdout",
     "output_type": "stream",
     "text": [
      "Iteration:  28000\n",
      "Replay buffer len: 100000\n"
     ]
    },
    {
     "name": "stderr",
     "output_type": "stream",
     "text": [
      "INFO:absl: \n",
      "\t\t NumberOfEpisodes = 3670\n",
      "\t\t EnvironmentSteps = 58002\n",
      "\t\t AverageReturn = -100173.0\n",
      "\t\t AverageEpisodeLength = 19.299999237060547\n"
     ]
    },
    {
     "name": "stdout",
     "output_type": "stream",
     "text": [
      "Iteration:  29000\n",
      "Replay buffer len: 100000\n"
     ]
    },
    {
     "name": "stderr",
     "output_type": "stream",
     "text": [
      "INFO:absl: \n",
      "\t\t NumberOfEpisodes = 3771\n",
      "\t\t EnvironmentSteps = 60002\n",
      "\t\t AverageReturn = -102412.5\n",
      "\t\t AverageEpisodeLength = 25.100000381469727\n"
     ]
    },
    {
     "name": "stdout",
     "output_type": "stream",
     "text": [
      "Iteration:  30000\n",
      "Replay buffer len: 100000\n"
     ]
    },
    {
     "name": "stderr",
     "output_type": "stream",
     "text": [
      "INFO:absl: \n",
      "\t\t NumberOfEpisodes = 3873\n",
      "\t\t EnvironmentSteps = 62002\n",
      "\t\t AverageReturn = -104793.0\n",
      "\t\t AverageEpisodeLength = 24.899999618530273\n"
     ]
    },
    {
     "name": "stdout",
     "output_type": "stream",
     "text": [
      "Iteration:  31000\n",
      "Replay buffer len: 100000\n"
     ]
    },
    {
     "name": "stderr",
     "output_type": "stream",
     "text": [
      "INFO:absl: \n",
      "\t\t NumberOfEpisodes = 3960\n",
      "\t\t EnvironmentSteps = 64002\n",
      "\t\t AverageReturn = -106428.0\n",
      "\t\t AverageEpisodeLength = 17.700000762939453\n"
     ]
    },
    {
     "name": "stdout",
     "output_type": "stream",
     "text": [
      "Iteration:  32000\n",
      "Replay buffer len: 100000\n"
     ]
    },
    {
     "name": "stderr",
     "output_type": "stream",
     "text": [
      "INFO:absl: \n",
      "\t\t NumberOfEpisodes = 4059\n",
      "\t\t EnvironmentSteps = 66002\n",
      "\t\t AverageReturn = -108533.0\n",
      "\t\t AverageEpisodeLength = 18.100000381469727\n"
     ]
    },
    {
     "name": "stdout",
     "output_type": "stream",
     "text": [
      "Iteration:  33000\n",
      "Replay buffer len: 100000\n"
     ]
    },
    {
     "name": "stderr",
     "output_type": "stream",
     "text": [
      "INFO:absl: \n",
      "\t\t NumberOfEpisodes = 4171\n",
      "\t\t EnvironmentSteps = 68002\n",
      "\t\t AverageReturn = -111291.0\n",
      "\t\t AverageEpisodeLength = 15.800000190734863\n"
     ]
    },
    {
     "name": "stdout",
     "output_type": "stream",
     "text": [
      "Iteration:  34000\n",
      "Replay buffer len: 100000\n"
     ]
    },
    {
     "name": "stderr",
     "output_type": "stream",
     "text": [
      "INFO:absl: \n",
      "\t\t NumberOfEpisodes = 4268\n",
      "\t\t EnvironmentSteps = 70002\n",
      "\t\t AverageReturn = -113454.5\n",
      "\t\t AverageEpisodeLength = 29.799999237060547\n"
     ]
    },
    {
     "name": "stdout",
     "output_type": "stream",
     "text": [
      "Iteration:  35000\n",
      "Replay buffer len: 100000\n"
     ]
    },
    {
     "name": "stderr",
     "output_type": "stream",
     "text": [
      "INFO:absl: \n",
      "\t\t NumberOfEpisodes = 4363\n",
      "\t\t EnvironmentSteps = 72002\n",
      "\t\t AverageReturn = -115388.5\n",
      "\t\t AverageEpisodeLength = 19.299999237060547\n"
     ]
    },
    {
     "name": "stdout",
     "output_type": "stream",
     "text": [
      "Iteration:  36000\n",
      "Replay buffer len: 100000\n"
     ]
    },
    {
     "name": "stderr",
     "output_type": "stream",
     "text": [
      "INFO:absl: \n",
      "\t\t NumberOfEpisodes = 4468\n",
      "\t\t EnvironmentSteps = 74002\n",
      "\t\t AverageReturn = -117813.5\n",
      "\t\t AverageEpisodeLength = 14.300000190734863\n"
     ]
    },
    {
     "name": "stdout",
     "output_type": "stream",
     "text": [
      "Iteration:  37000\n",
      "Replay buffer len: 100000\n"
     ]
    },
    {
     "name": "stderr",
     "output_type": "stream",
     "text": [
      "INFO:absl: \n",
      "\t\t NumberOfEpisodes = 4570\n",
      "\t\t EnvironmentSteps = 76002\n",
      "\t\t AverageReturn = -119977.5\n",
      "\t\t AverageEpisodeLength = 18.5\n"
     ]
    },
    {
     "name": "stdout",
     "output_type": "stream",
     "text": [
      "Iteration:  38000\n",
      "Replay buffer len: 100000\n"
     ]
    },
    {
     "name": "stderr",
     "output_type": "stream",
     "text": [
      "INFO:absl: \n",
      "\t\t NumberOfEpisodes = 4662\n",
      "\t\t EnvironmentSteps = 78002\n",
      "\t\t AverageReturn = -121998.5\n",
      "\t\t AverageEpisodeLength = 33.20000076293945\n"
     ]
    },
    {
     "name": "stdout",
     "output_type": "stream",
     "text": [
      "Iteration:  39000\n",
      "Replay buffer len: 100000\n"
     ]
    },
    {
     "name": "stderr",
     "output_type": "stream",
     "text": [
      "INFO:absl: \n",
      "\t\t NumberOfEpisodes = 4752\n",
      "\t\t EnvironmentSteps = 80002\n",
      "\t\t AverageReturn = -123714.5\n",
      "\t\t AverageEpisodeLength = 22.200000762939453\n"
     ]
    },
    {
     "name": "stdout",
     "output_type": "stream",
     "text": [
      "Iteration:  40000\n",
      "Replay buffer len: 100000\n"
     ]
    },
    {
     "name": "stderr",
     "output_type": "stream",
     "text": [
      "INFO:absl: \n",
      "\t\t NumberOfEpisodes = 4830\n",
      "\t\t EnvironmentSteps = 82002\n",
      "\t\t AverageReturn = -124978.5\n",
      "\t\t AverageEpisodeLength = 26.200000762939453\n"
     ]
    },
    {
     "name": "stdout",
     "output_type": "stream",
     "text": [
      "Iteration:  41000\n",
      "Replay buffer len: 100000\n"
     ]
    },
    {
     "name": "stderr",
     "output_type": "stream",
     "text": [
      "INFO:absl: \n",
      "\t\t NumberOfEpisodes = 4915\n",
      "\t\t EnvironmentSteps = 84002\n",
      "\t\t AverageReturn = -126599.0\n",
      "\t\t AverageEpisodeLength = 19.299999237060547\n"
     ]
    },
    {
     "name": "stdout",
     "output_type": "stream",
     "text": [
      "Iteration:  42000\n",
      "Replay buffer len: 100000\n"
     ]
    },
    {
     "name": "stderr",
     "output_type": "stream",
     "text": [
      "INFO:absl: \n",
      "\t\t NumberOfEpisodes = 5004\n",
      "\t\t EnvironmentSteps = 86002\n",
      "\t\t AverageReturn = -128208.5\n",
      "\t\t AverageEpisodeLength = 22.799999237060547\n"
     ]
    },
    {
     "name": "stdout",
     "output_type": "stream",
     "text": [
      "Iteration:  43000\n",
      "Replay buffer len: 100000\n"
     ]
    },
    {
     "name": "stderr",
     "output_type": "stream",
     "text": [
      "INFO:absl: \n",
      "\t\t NumberOfEpisodes = 5077\n",
      "\t\t EnvironmentSteps = 88002\n",
      "\t\t AverageReturn = -129385.5\n",
      "\t\t AverageEpisodeLength = 32.79999923706055\n"
     ]
    },
    {
     "name": "stdout",
     "output_type": "stream",
     "text": [
      "Iteration:  44000\n",
      "Replay buffer len: 100000\n"
     ]
    },
    {
     "name": "stderr",
     "output_type": "stream",
     "text": [
      "INFO:absl: \n",
      "\t\t NumberOfEpisodes = 5166\n",
      "\t\t EnvironmentSteps = 90002\n",
      "\t\t AverageReturn = -130914.0\n",
      "\t\t AverageEpisodeLength = 14.399999618530273\n"
     ]
    },
    {
     "name": "stdout",
     "output_type": "stream",
     "text": [
      "Iteration:  45000\n",
      "Replay buffer len: 100000\n"
     ]
    },
    {
     "name": "stderr",
     "output_type": "stream",
     "text": [
      "INFO:absl: \n",
      "\t\t NumberOfEpisodes = 5245\n",
      "\t\t EnvironmentSteps = 92002\n",
      "\t\t AverageReturn = -132261.0\n",
      "\t\t AverageEpisodeLength = 24.799999237060547\n"
     ]
    },
    {
     "name": "stdout",
     "output_type": "stream",
     "text": [
      "Iteration:  46000\n",
      "Replay buffer len: 100000\n"
     ]
    },
    {
     "name": "stderr",
     "output_type": "stream",
     "text": [
      "INFO:absl: \n",
      "\t\t NumberOfEpisodes = 5338\n",
      "\t\t EnvironmentSteps = 94002\n",
      "\t\t AverageReturn = -134085.0\n",
      "\t\t AverageEpisodeLength = 20.700000762939453\n"
     ]
    },
    {
     "name": "stdout",
     "output_type": "stream",
     "text": [
      "Iteration:  47000\n",
      "Replay buffer len: 100000\n"
     ]
    },
    {
     "name": "stderr",
     "output_type": "stream",
     "text": [
      "INFO:absl: \n",
      "\t\t NumberOfEpisodes = 5429\n",
      "\t\t EnvironmentSteps = 96002\n",
      "\t\t AverageReturn = -135812.0\n",
      "\t\t AverageEpisodeLength = 23.799999237060547\n"
     ]
    },
    {
     "name": "stdout",
     "output_type": "stream",
     "text": [
      "Iteration:  48000\n",
      "Replay buffer len: 100000\n"
     ]
    },
    {
     "name": "stderr",
     "output_type": "stream",
     "text": [
      "INFO:absl: \n",
      "\t\t NumberOfEpisodes = 5502\n",
      "\t\t EnvironmentSteps = 98002\n",
      "\t\t AverageReturn = -136828.0\n",
      "\t\t AverageEpisodeLength = 20.399999618530273\n"
     ]
    },
    {
     "name": "stdout",
     "output_type": "stream",
     "text": [
      "Iteration:  49000\n",
      "Replay buffer len: 100000\n"
     ]
    },
    {
     "name": "stderr",
     "output_type": "stream",
     "text": [
      "INFO:absl: \n",
      "\t\t NumberOfEpisodes = 5591\n",
      "\t\t EnvironmentSteps = 100002\n",
      "\t\t AverageReturn = -138438.5\n",
      "\t\t AverageEpisodeLength = 29.200000762939453\n"
     ]
    },
    {
     "name": "stdout",
     "output_type": "stream",
     "text": [
      "Iteration:  50000\n",
      "Replay buffer len: 100000\n"
     ]
    },
    {
     "name": "stderr",
     "output_type": "stream",
     "text": [
      "INFO:absl: \n",
      "\t\t NumberOfEpisodes = 5674\n",
      "\t\t EnvironmentSteps = 102002\n",
      "\t\t AverageReturn = -139940.5\n",
      "\t\t AverageEpisodeLength = 33.0\n"
     ]
    },
    {
     "name": "stdout",
     "output_type": "stream",
     "text": [
      "Iteration:  51000\n",
      "Replay buffer len: 100000\n"
     ]
    },
    {
     "name": "stderr",
     "output_type": "stream",
     "text": [
      "INFO:absl: \n",
      "\t\t NumberOfEpisodes = 5755\n",
      "\t\t EnvironmentSteps = 104002\n",
      "\t\t AverageReturn = -141241.0\n",
      "\t\t AverageEpisodeLength = 26.299999237060547\n"
     ]
    },
    {
     "name": "stdout",
     "output_type": "stream",
     "text": [
      "Iteration:  52000\n",
      "Replay buffer len: 100000\n"
     ]
    },
    {
     "name": "stderr",
     "output_type": "stream",
     "text": [
      "INFO:absl: \n",
      "\t\t NumberOfEpisodes = 5840\n",
      "\t\t EnvironmentSteps = 106002\n",
      "\t\t AverageReturn = -142713.5\n",
      "\t\t AverageEpisodeLength = 20.100000381469727\n"
     ]
    },
    {
     "name": "stdout",
     "output_type": "stream",
     "text": [
      "Iteration:  53000\n",
      "Replay buffer len: 100000\n"
     ]
    },
    {
     "name": "stderr",
     "output_type": "stream",
     "text": [
      "INFO:absl: \n",
      "\t\t NumberOfEpisodes = 5933\n",
      "\t\t EnvironmentSteps = 108002\n",
      "\t\t AverageReturn = -144418.5\n",
      "\t\t AverageEpisodeLength = 32.79999923706055\n"
     ]
    },
    {
     "name": "stdout",
     "output_type": "stream",
     "text": [
      "Iteration:  54000\n",
      "Replay buffer len: 100000\n"
     ]
    },
    {
     "name": "stderr",
     "output_type": "stream",
     "text": [
      "INFO:absl: \n",
      "\t\t NumberOfEpisodes = 6013\n",
      "\t\t EnvironmentSteps = 110002\n",
      "\t\t AverageReturn = -145575.5\n",
      "\t\t AverageEpisodeLength = 35.099998474121094\n"
     ]
    },
    {
     "name": "stdout",
     "output_type": "stream",
     "text": [
      "Iteration:  55000\n",
      "Replay buffer len: 100000\n"
     ]
    },
    {
     "name": "stderr",
     "output_type": "stream",
     "text": [
      "INFO:absl: \n",
      "\t\t NumberOfEpisodes = 6080\n",
      "\t\t EnvironmentSteps = 112002\n",
      "\t\t AverageReturn = -146148.0\n",
      "\t\t AverageEpisodeLength = 13.699999809265137\n"
     ]
    },
    {
     "name": "stdout",
     "output_type": "stream",
     "text": [
      "Iteration:  56000\n",
      "Replay buffer len: 100000\n"
     ]
    },
    {
     "name": "stderr",
     "output_type": "stream",
     "text": [
      "INFO:absl: \n",
      "\t\t NumberOfEpisodes = 6156\n",
      "\t\t EnvironmentSteps = 114002\n",
      "\t\t AverageReturn = -147188.0\n",
      "\t\t AverageEpisodeLength = 23.200000762939453\n"
     ]
    },
    {
     "name": "stdout",
     "output_type": "stream",
     "text": [
      "Iteration:  57000\n",
      "Replay buffer len: 100000\n"
     ]
    },
    {
     "name": "stderr",
     "output_type": "stream",
     "text": [
      "INFO:absl: \n",
      "\t\t NumberOfEpisodes = 6221\n",
      "\t\t EnvironmentSteps = 116002\n",
      "\t\t AverageReturn = -147746.5\n",
      "\t\t AverageEpisodeLength = 34.20000076293945\n"
     ]
    },
    {
     "name": "stdout",
     "output_type": "stream",
     "text": [
      "Iteration:  58000\n",
      "Replay buffer len: 100000\n"
     ]
    },
    {
     "name": "stderr",
     "output_type": "stream",
     "text": [
      "INFO:absl: \n",
      "\t\t NumberOfEpisodes = 6307\n",
      "\t\t EnvironmentSteps = 118002\n",
      "\t\t AverageReturn = -149132.5\n",
      "\t\t AverageEpisodeLength = 29.200000762939453\n"
     ]
    },
    {
     "name": "stdout",
     "output_type": "stream",
     "text": [
      "Iteration:  59000\n",
      "Replay buffer len: 100000\n"
     ]
    },
    {
     "name": "stderr",
     "output_type": "stream",
     "text": [
      "INFO:absl: \n",
      "\t\t NumberOfEpisodes = 6388\n",
      "\t\t EnvironmentSteps = 120002\n",
      "\t\t AverageReturn = -150397.5\n",
      "\t\t AverageEpisodeLength = 18.0\n"
     ]
    },
    {
     "name": "stdout",
     "output_type": "stream",
     "text": [
      "Iteration:  60000\n",
      "Replay buffer len: 100000\n"
     ]
    },
    {
     "name": "stderr",
     "output_type": "stream",
     "text": [
      "INFO:absl: \n",
      "\t\t NumberOfEpisodes = 6453\n",
      "\t\t EnvironmentSteps = 122002\n",
      "\t\t AverageReturn = -151061.0\n",
      "\t\t AverageEpisodeLength = 36.599998474121094\n"
     ]
    },
    {
     "name": "stdout",
     "output_type": "stream",
     "text": [
      "Iteration:  61000\n",
      "Replay buffer len: 100000\n"
     ]
    },
    {
     "name": "stderr",
     "output_type": "stream",
     "text": [
      "INFO:absl: \n",
      "\t\t NumberOfEpisodes = 6518\n",
      "\t\t EnvironmentSteps = 124002\n",
      "\t\t AverageReturn = -151641.5\n",
      "\t\t AverageEpisodeLength = 27.799999237060547\n"
     ]
    },
    {
     "name": "stdout",
     "output_type": "stream",
     "text": [
      "Iteration:  62000\n",
      "Replay buffer len: 100000\n"
     ]
    },
    {
     "name": "stderr",
     "output_type": "stream",
     "text": [
      "INFO:absl: \n",
      "\t\t NumberOfEpisodes = 6577\n",
      "\t\t EnvironmentSteps = 126002\n",
      "\t\t AverageReturn = -152020.0\n",
      "\t\t AverageEpisodeLength = 31.399999618530273\n"
     ]
    },
    {
     "name": "stdout",
     "output_type": "stream",
     "text": [
      "Iteration:  63000\n",
      "Replay buffer len: 100000\n"
     ]
    },
    {
     "name": "stderr",
     "output_type": "stream",
     "text": [
      "INFO:absl: \n",
      "\t\t NumberOfEpisodes = 6635\n",
      "\t\t EnvironmentSteps = 128002\n",
      "\t\t AverageReturn = -152377.0\n",
      "\t\t AverageEpisodeLength = 33.70000076293945\n"
     ]
    },
    {
     "name": "stdout",
     "output_type": "stream",
     "text": [
      "Iteration:  64000\n",
      "Replay buffer len: 100000\n"
     ]
    },
    {
     "name": "stderr",
     "output_type": "stream",
     "text": [
      "INFO:absl: \n",
      "\t\t NumberOfEpisodes = 6710\n",
      "\t\t EnvironmentSteps = 130002\n",
      "\t\t AverageReturn = -153478.0\n",
      "\t\t AverageEpisodeLength = 27.600000381469727\n"
     ]
    },
    {
     "name": "stdout",
     "output_type": "stream",
     "text": [
      "Iteration:  65000\n",
      "Replay buffer len: 100000\n"
     ]
    },
    {
     "name": "stderr",
     "output_type": "stream",
     "text": [
      "INFO:absl: \n",
      "\t\t NumberOfEpisodes = 6787\n",
      "\t\t EnvironmentSteps = 132002\n",
      "\t\t AverageReturn = -154588.0\n",
      "\t\t AverageEpisodeLength = 17.600000381469727\n"
     ]
    },
    {
     "name": "stdout",
     "output_type": "stream",
     "text": [
      "Iteration:  66000\n",
      "Replay buffer len: 100000\n"
     ]
    },
    {
     "name": "stderr",
     "output_type": "stream",
     "text": [
      "INFO:absl: \n",
      "\t\t NumberOfEpisodes = 6858\n",
      "\t\t EnvironmentSteps = 134002\n",
      "\t\t AverageReturn = -155292.0\n",
      "\t\t AverageEpisodeLength = 28.200000762939453\n"
     ]
    },
    {
     "name": "stdout",
     "output_type": "stream",
     "text": [
      "Iteration:  67000\n",
      "Replay buffer len: 100000\n"
     ]
    },
    {
     "name": "stderr",
     "output_type": "stream",
     "text": [
      "INFO:absl: \n",
      "\t\t NumberOfEpisodes = 6932\n",
      "\t\t EnvironmentSteps = 136002\n",
      "\t\t AverageReturn = -156194.0\n",
      "\t\t AverageEpisodeLength = 31.799999237060547\n"
     ]
    },
    {
     "name": "stdout",
     "output_type": "stream",
     "text": [
      "Iteration:  68000\n",
      "Replay buffer len: 100000\n"
     ]
    },
    {
     "name": "stderr",
     "output_type": "stream",
     "text": [
      "INFO:absl: \n",
      "\t\t NumberOfEpisodes = 6993\n",
      "\t\t EnvironmentSteps = 138002\n",
      "\t\t AverageReturn = -156626.0\n",
      "\t\t AverageEpisodeLength = 30.5\n"
     ]
    },
    {
     "name": "stdout",
     "output_type": "stream",
     "text": [
      "Iteration:  69000\n",
      "Replay buffer len: 100000\n"
     ]
    },
    {
     "name": "stderr",
     "output_type": "stream",
     "text": [
      "INFO:absl: \n",
      "\t\t NumberOfEpisodes = 7058\n",
      "\t\t EnvironmentSteps = 140002\n",
      "\t\t AverageReturn = -157199.5\n",
      "\t\t AverageEpisodeLength = 28.5\n"
     ]
    },
    {
     "name": "stdout",
     "output_type": "stream",
     "text": [
      "Iteration:  70000\n",
      "Replay buffer len: 100000\n"
     ]
    },
    {
     "name": "stderr",
     "output_type": "stream",
     "text": [
      "INFO:absl: \n",
      "\t\t NumberOfEpisodes = 7119\n",
      "\t\t EnvironmentSteps = 142002\n",
      "\t\t AverageReturn = -157674.5\n",
      "\t\t AverageEpisodeLength = 33.20000076293945\n"
     ]
    },
    {
     "name": "stdout",
     "output_type": "stream",
     "text": [
      "Iteration:  71000\n",
      "Replay buffer len: 100000\n"
     ]
    },
    {
     "name": "stderr",
     "output_type": "stream",
     "text": [
      "INFO:absl: \n",
      "\t\t NumberOfEpisodes = 7179\n",
      "\t\t EnvironmentSteps = 144002\n",
      "\t\t AverageReturn = -157931.5\n",
      "\t\t AverageEpisodeLength = 36.599998474121094\n"
     ]
    },
    {
     "name": "stdout",
     "output_type": "stream",
     "text": [
      "Iteration:  72000\n",
      "Replay buffer len: 100000\n"
     ]
    },
    {
     "name": "stderr",
     "output_type": "stream",
     "text": [
      "INFO:absl: \n",
      "\t\t NumberOfEpisodes = 7250\n",
      "\t\t EnvironmentSteps = 146002\n",
      "\t\t AverageReturn = -158619.5\n",
      "\t\t AverageEpisodeLength = 26.299999237060547\n"
     ]
    },
    {
     "name": "stdout",
     "output_type": "stream",
     "text": [
      "Iteration:  73000\n",
      "Replay buffer len: 100000\n"
     ]
    },
    {
     "name": "stderr",
     "output_type": "stream",
     "text": [
      "INFO:absl: \n",
      "\t\t NumberOfEpisodes = 7311\n",
      "\t\t EnvironmentSteps = 148002\n",
      "\t\t AverageReturn = -159017.5\n",
      "\t\t AverageEpisodeLength = 33.599998474121094\n"
     ]
    },
    {
     "name": "stdout",
     "output_type": "stream",
     "text": [
      "Iteration:  74000\n",
      "Replay buffer len: 100000\n"
     ]
    },
    {
     "name": "stderr",
     "output_type": "stream",
     "text": [
      "INFO:absl: \n",
      "\t\t NumberOfEpisodes = 7359\n",
      "\t\t EnvironmentSteps = 150002\n",
      "\t\t AverageReturn = -158996.5\n",
      "\t\t AverageEpisodeLength = 41.099998474121094\n"
     ]
    },
    {
     "name": "stdout",
     "output_type": "stream",
     "text": [
      "Iteration:  75000\n",
      "Replay buffer len: 100000\n"
     ]
    },
    {
     "name": "stderr",
     "output_type": "stream",
     "text": [
      "INFO:absl: \n",
      "\t\t NumberOfEpisodes = 7424\n",
      "\t\t EnvironmentSteps = 152002\n",
      "\t\t AverageReturn = -159598.5\n",
      "\t\t AverageEpisodeLength = 34.79999923706055\n"
     ]
    },
    {
     "name": "stdout",
     "output_type": "stream",
     "text": [
      "Iteration:  76000\n",
      "Replay buffer len: 100000\n"
     ]
    },
    {
     "name": "stderr",
     "output_type": "stream",
     "text": [
      "INFO:absl: \n",
      "\t\t NumberOfEpisodes = 7480\n",
      "\t\t EnvironmentSteps = 154002\n",
      "\t\t AverageReturn = -159830.5\n",
      "\t\t AverageEpisodeLength = 26.5\n"
     ]
    },
    {
     "name": "stdout",
     "output_type": "stream",
     "text": [
      "Iteration:  77000\n",
      "Replay buffer len: 100000\n"
     ]
    },
    {
     "name": "stderr",
     "output_type": "stream",
     "text": [
      "INFO:absl: \n",
      "\t\t NumberOfEpisodes = 7530\n",
      "\t\t EnvironmentSteps = 156002\n",
      "\t\t AverageReturn = -159941.5\n",
      "\t\t AverageEpisodeLength = 37.70000076293945\n"
     ]
    },
    {
     "name": "stdout",
     "output_type": "stream",
     "text": [
      "Iteration:  78000\n",
      "Replay buffer len: 100000\n"
     ]
    },
    {
     "name": "stderr",
     "output_type": "stream",
     "text": [
      "INFO:absl: \n",
      "\t\t NumberOfEpisodes = 7577\n",
      "\t\t EnvironmentSteps = 158002\n",
      "\t\t AverageReturn = -159753.5\n",
      "\t\t AverageEpisodeLength = 30.399999618530273\n"
     ]
    },
    {
     "name": "stdout",
     "output_type": "stream",
     "text": [
      "Iteration:  79000\n",
      "Replay buffer len: 100000\n"
     ]
    }
   ],
   "source": [
    "train_agent(episodes_count)\n"
   ]
  },
  {
   "cell_type": "code",
   "execution_count": 40,
   "metadata": {},
   "outputs": [
    {
     "name": "stdout",
     "output_type": "stream",
     "text": [
      "Map:\n",
      " [[[3 0 0 0 0]\n",
      "  [0 0 0 0 0]\n",
      "  [0 0 0 0 0]\n",
      "  [0 0 0 0 1]\n",
      "  [0 0 0 0 2]]]\n",
      "Direction:\n",
      " tf.Tensor([[False False  True  True]], shape=(1, 4), dtype=bool)\n",
      "No body blocks:\n",
      " tf.Tensor([[20 15  0  4]], shape=(1, 4), dtype=uint8)\n",
      "Action:  [0]\n",
      "Map:\n",
      " [[[3 0 0 0 0]\n",
      "  [0 0 0 0 0]\n",
      "  [0 0 0 0 0]\n",
      "  [0 0 0 1 2]\n",
      "  [0 0 0 0 0]]]\n",
      "Direction:\n",
      " tf.Tensor([[False False  True False]], shape=(1, 4), dtype=bool)\n",
      "No body blocks:\n",
      " tf.Tensor([[15 15  4  5]], shape=(1, 4), dtype=uint8)\n",
      "Action:  [1]\n",
      "Map:\n",
      " [[[3 0 0 0 0]\n",
      "  [0 0 0 0 0]\n",
      "  [0 0 0 1 0]\n",
      "  [0 0 0 2 0]\n",
      "  [0 0 0 0 0]]]\n",
      "Direction:\n",
      " tf.Tensor([[False False False  True]], shape=(1, 4), dtype=bool)\n",
      "No body blocks:\n",
      " tf.Tensor([[15 10  5  9]], shape=(1, 4), dtype=uint8)\n",
      "Action:  [1]\n",
      "Map:\n",
      " [[[3 0 0 0 0]\n",
      "  [0 0 0 1 0]\n",
      "  [0 0 0 2 0]\n",
      "  [0 0 0 0 0]\n",
      "  [0 0 0 0 0]]]\n",
      "Direction:\n",
      " tf.Tensor([[False False False  True]], shape=(1, 4), dtype=bool)\n",
      "No body blocks:\n",
      " tf.Tensor([[15  5  5 14]], shape=(1, 4), dtype=uint8)\n",
      "Action:  [0]\n",
      "Map:\n",
      " [[[3 0 0 0 0]\n",
      "  [0 0 1 2 0]\n",
      "  [0 0 0 0 0]\n",
      "  [0 0 0 0 0]\n",
      "  [0 0 0 0 0]]]\n",
      "Direction:\n",
      " tf.Tensor([[False False  True False]], shape=(1, 4), dtype=bool)\n",
      "No body blocks:\n",
      " tf.Tensor([[10  5  9 15]], shape=(1, 4), dtype=uint8)\n",
      "Action:  [0]\n",
      "Map:\n",
      " [[[3 0 0 0 0]\n",
      "  [0 1 2 0 0]\n",
      "  [0 0 0 0 0]\n",
      "  [0 0 0 0 0]\n",
      "  [0 0 0 0 0]]]\n",
      "Direction:\n",
      " tf.Tensor([[False False  True False]], shape=(1, 4), dtype=bool)\n",
      "No body blocks:\n",
      " tf.Tensor([[ 5  5 14 15]], shape=(1, 4), dtype=uint8)\n",
      "Action:  [0]\n",
      "Map:\n",
      " [[[3 0 0 0 0]\n",
      "  [1 2 0 0 0]\n",
      "  [0 0 0 0 0]\n",
      "  [0 0 0 0 0]\n",
      "  [0 0 0 0 0]]]\n",
      "Direction:\n",
      " tf.Tensor([[ True False  True False]], shape=(1, 4), dtype=bool)\n",
      "No body blocks:\n",
      " tf.Tensor([[ 0  5 19 15]], shape=(1, 4), dtype=uint8)\n",
      "Action:  [1]\n",
      "Map:\n",
      " [[[1 0 0 3 0]\n",
      "  [2 2 0 0 0]\n",
      "  [0 0 0 0 0]\n",
      "  [0 0 0 0 0]\n",
      "  [0 0 0 0 0]]]\n",
      "Direction:\n",
      " tf.Tensor([[ True  True False  True]], shape=(1, 4), dtype=bool)\n",
      "No body blocks:\n",
      " tf.Tensor([[ 0  0 19 18]], shape=(1, 4), dtype=uint8)\n",
      "Action:  [2]\n",
      "Map:\n",
      " [[[2 1 0 3 0]\n",
      "  [2 0 0 0 0]\n",
      "  [0 0 0 0 0]\n",
      "  [0 0 0 0 0]\n",
      "  [0 0 0 0 0]]]\n",
      "Direction:\n",
      " tf.Tensor([[ True  True False False]], shape=(1, 4), dtype=bool)\n",
      "No body blocks:\n",
      " tf.Tensor([[ 3  0 15 19]], shape=(1, 4), dtype=uint8)\n",
      "Action:  [2]\n",
      "Map:\n",
      " [[[2 2 1 3 0]\n",
      "  [0 0 0 0 0]\n",
      "  [0 0 0 0 0]\n",
      "  [0 0 0 0 0]\n",
      "  [0 0 0 0 0]]]\n",
      "Direction:\n",
      " tf.Tensor([[ True  True False False]], shape=(1, 4), dtype=bool)\n",
      "No body blocks:\n",
      " tf.Tensor([[ 8  0 10 20]], shape=(1, 4), dtype=uint8)\n",
      "Action:  [2]\n",
      "Map:\n",
      " [[[2 2 2 1 3]\n",
      "  [0 0 0 0 0]\n",
      "  [0 0 0 0 0]\n",
      "  [0 0 0 0 0]\n",
      "  [0 0 0 0 0]]]\n",
      "Direction:\n",
      " tf.Tensor([[ True  True False False]], shape=(1, 4), dtype=bool)\n",
      "No body blocks:\n",
      " tf.Tensor([[12  0  5 20]], shape=(1, 4), dtype=uint8)\n",
      "Action:  [2]\n",
      "Map:\n",
      " [[[2 2 2 2 1]\n",
      "  [0 0 0 0 0]\n",
      "  [0 0 0 0 0]\n",
      "  [0 3 0 0 0]\n",
      "  [0 0 0 0 0]]]\n",
      "Direction:\n",
      " tf.Tensor([[ True  True  True False]], shape=(1, 4), dtype=bool)\n",
      "No body blocks:\n",
      " tf.Tensor([[16  0  0 20]], shape=(1, 4), dtype=uint8)\n",
      "Action:  [3]\n",
      "Map:\n",
      " [[[0 2 2 2 2]\n",
      "  [0 0 0 0 1]\n",
      "  [0 0 0 0 0]\n",
      "  [0 3 0 0 0]\n",
      "  [0 0 0 0 0]]]\n",
      "Direction:\n",
      " tf.Tensor([[False  True  True False]], shape=(1, 4), dtype=bool)\n",
      "No body blocks:\n",
      " tf.Tensor([[17  1  0 15]], shape=(1, 4), dtype=uint8)\n",
      "Action:  [0]\n",
      "Map:\n",
      " [[[0 0 2 2 2]\n",
      "  [0 0 0 1 2]\n",
      "  [0 0 0 0 0]\n",
      "  [0 3 0 0 0]\n",
      "  [0 0 0 0 0]]]\n",
      "Direction:\n",
      " tf.Tensor([[False  True  True False]], shape=(1, 4), dtype=bool)\n",
      "No body blocks:\n",
      " tf.Tensor([[14  2  3 15]], shape=(1, 4), dtype=uint8)\n",
      "Action:  [0]\n",
      "Map:\n",
      " [[[0 0 0 2 2]\n",
      "  [0 0 1 2 2]\n",
      "  [0 0 0 0 0]\n",
      "  [0 3 0 0 0]\n",
      "  [0 0 0 0 0]]]\n",
      "Direction:\n",
      " tf.Tensor([[False False  True False]], shape=(1, 4), dtype=bool)\n",
      "No body blocks:\n",
      " tf.Tensor([[10  3  6 15]], shape=(1, 4), dtype=uint8)\n",
      "Action:  [3]\n",
      "Map:\n",
      " [[[0 0 0 0 2]\n",
      "  [0 0 2 2 2]\n",
      "  [0 0 1 0 0]\n",
      "  [0 3 0 0 0]\n",
      "  [0 0 0 0 0]]]\n",
      "Direction:\n",
      " tf.Tensor([[False  True False False]], shape=(1, 4), dtype=bool)\n",
      "No body blocks:\n",
      " tf.Tensor([[10  6  7 10]], shape=(1, 4), dtype=uint8)\n",
      "Action:  [0]\n",
      "Map:\n",
      " [[[0 0 0 0 0]\n",
      "  [0 0 2 2 2]\n",
      "  [0 1 2 0 0]\n",
      "  [0 3 0 0 0]\n",
      "  [0 0 0 0 0]]]\n",
      "Direction:\n",
      " tf.Tensor([[False False  True False]], shape=(1, 4), dtype=bool)\n",
      "No body blocks:\n",
      " tf.Tensor([[ 5  7 11 10]], shape=(1, 4), dtype=uint8)\n",
      "Action:  [3]\n",
      "Map:\n",
      " [[[0 0 0 0 0]\n",
      "  [0 0 2 2 2]\n",
      "  [0 2 2 0 0]\n",
      "  [0 1 3 0 0]\n",
      "  [0 0 0 0 0]]]\n",
      "Direction:\n",
      " tf.Tensor([[False  True False False]], shape=(1, 4), dtype=bool)\n",
      "No body blocks:\n",
      " tf.Tensor([[ 5 10 11  5]], shape=(1, 4), dtype=uint8)\n",
      "Action:  [2]\n",
      "Map:\n",
      " [[[0 0 0 0 0]\n",
      "  [0 3 2 2 2]\n",
      "  [0 2 2 0 0]\n",
      "  [0 2 1 0 0]\n",
      "  [0 0 0 0 0]]]\n",
      "Direction:\n",
      " tf.Tensor([[ True  True False False]], shape=(1, 4), dtype=bool)\n",
      "No body blocks:\n",
      " tf.Tensor([[ 8 10  8  5]], shape=(1, 4), dtype=uint8)\n",
      "Action:  [3]\n",
      "Map:\n",
      " [[[0 0 0 0 0]\n",
      "  [0 3 2 2 0]\n",
      "  [0 2 2 0 0]\n",
      "  [0 2 2 0 0]\n",
      "  [0 0 1 0 0]]]\n",
      "Direction:\n",
      " tf.Tensor([[False  True False  True]], shape=(1, 4), dtype=bool)\n",
      "No body blocks:\n",
      " tf.Tensor([[ 8 14  9  0]], shape=(1, 4), dtype=uint8)\n",
      "Action:  [0]\n",
      "Map:\n",
      " [[[0 0 0 0 0]\n",
      "  [0 3 2 0 0]\n",
      "  [0 2 2 0 0]\n",
      "  [0 2 2 0 0]\n",
      "  [0 1 2 0 0]]]\n",
      "Direction:\n",
      " tf.Tensor([[False  True  True  True]], shape=(1, 4), dtype=bool)\n",
      "No body blocks:\n",
      " tf.Tensor([[ 5 15 11  0]], shape=(1, 4), dtype=uint8)\n",
      "Action:  [0]\n",
      "Map:\n",
      " [[[0 0 0 0 0]\n",
      "  [0 3 0 0 0]\n",
      "  [0 2 2 0 0]\n",
      "  [0 2 2 0 0]\n",
      "  [1 2 2 0 0]]]\n",
      "Direction:\n",
      " tf.Tensor([[ True False  True  True]], shape=(1, 4), dtype=bool)\n",
      "No body blocks:\n",
      " tf.Tensor([[ 0 16 14  0]], shape=(1, 4), dtype=uint8)\n",
      "Action:  [1]\n",
      "Map:\n",
      " [[[0 0 0 0 0]\n",
      "  [0 3 0 0 0]\n",
      "  [0 2 0 0 0]\n",
      "  [1 2 2 0 0]\n",
      "  [2 2 2 0 0]]]\n",
      "Direction:\n",
      " tf.Tensor([[ True False  True  True]], shape=(1, 4), dtype=bool)\n",
      "No body blocks:\n",
      " tf.Tensor([[ 0 14 15  2]], shape=(1, 4), dtype=uint8)\n",
      "Action:  [1]\n",
      "Map:\n",
      " [[[0 0 0 0 0]\n",
      "  [0 3 0 0 0]\n",
      "  [1 0 0 0 0]\n",
      "  [2 2 2 0 0]\n",
      "  [2 2 2 0 0]]]\n",
      "Direction:\n",
      " tf.Tensor([[ True False False  True]], shape=(1, 4), dtype=bool)\n",
      "No body blocks:\n",
      " tf.Tensor([[ 0 10 16  4]], shape=(1, 4), dtype=uint8)\n",
      "Action:  [1]\n",
      "Map:\n",
      " [[[0 0 0 0 0]\n",
      "  [1 3 0 0 0]\n",
      "  [2 0 0 0 0]\n",
      "  [2 0 2 0 0]\n",
      "  [2 2 2 0 0]]]\n",
      "Direction:\n",
      " tf.Tensor([[ True False False  True]], shape=(1, 4), dtype=bool)\n",
      "No body blocks:\n",
      " tf.Tensor([[ 0  5 17  9]], shape=(1, 4), dtype=uint8)\n",
      "Action:  [2]\n",
      "Map:\n",
      " [[[0 0 0 0 0]\n",
      "  [2 1 0 0 0]\n",
      "  [2 0 0 0 0]\n",
      "  [2 0 2 0 0]\n",
      "  [2 2 2 3 0]]]\n",
      "Direction:\n",
      " tf.Tensor([[ True False False False]], shape=(1, 4), dtype=bool)\n",
      "No body blocks:\n",
      " tf.Tensor([[ 1  5 13  9]], shape=(1, 4), dtype=uint8)\n",
      "Action:  [3]\n",
      "Map:\n",
      " [[[0 0 0 0 0]\n",
      "  [2 2 0 0 0]\n",
      "  [2 1 0 0 0]\n",
      "  [2 0 0 0 0]\n",
      "  [2 2 2 3 0]]]\n",
      "Direction:\n",
      " tf.Tensor([[ True  True False False]], shape=(1, 4), dtype=bool)\n",
      "No body blocks:\n",
      " tf.Tensor([[ 1  8 14  6]], shape=(1, 4), dtype=uint8)\n",
      "Action:  [3]\n",
      "Map:\n",
      " [[[0 0 0 0 0]\n",
      "  [2 2 0 0 0]\n",
      "  [2 2 0 0 0]\n",
      "  [2 1 0 0 0]\n",
      "  [2 2 0 3 0]]]\n",
      "Direction:\n",
      " tf.Tensor([[ True  True False False]], shape=(1, 4), dtype=bool)\n",
      "No body blocks:\n",
      " tf.Tensor([[ 1 11 15  3]], shape=(1, 4), dtype=uint8)\n",
      "Action:  [2]\n",
      "Map:\n",
      " [[[0 0 0 0 0]\n",
      "  [2 2 0 0 0]\n",
      "  [2 2 0 0 0]\n",
      "  [2 2 1 0 0]\n",
      "  [2 0 0 3 0]]]\n",
      "Direction:\n",
      " tf.Tensor([[ True False False False]], shape=(1, 4), dtype=bool)\n",
      "No body blocks:\n",
      " tf.Tensor([[ 3 11 10  4]], shape=(1, 4), dtype=uint8)\n",
      "Action:  [3]\n",
      "Map:\n",
      " [[[0 0 0 0 0]\n",
      "  [2 2 0 0 0]\n",
      "  [2 2 0 0 0]\n",
      "  [2 2 2 0 0]\n",
      "  [0 0 1 3 0]]]\n",
      "Direction:\n",
      " tf.Tensor([[False  True False  True]], shape=(1, 4), dtype=bool)\n",
      "No body blocks:\n",
      " tf.Tensor([[ 4 13 10  0]], shape=(1, 4), dtype=uint8)\n",
      "Action:  [2]\n",
      "Map:\n",
      " [[[3 0 0 0 0]\n",
      "  [2 2 0 0 0]\n",
      "  [2 2 0 0 0]\n",
      "  [2 2 2 0 0]\n",
      "  [0 0 2 1 0]]]\n",
      "Direction:\n",
      " tf.Tensor([[ True False False  True]], shape=(1, 4), dtype=bool)\n",
      "No body blocks:\n",
      " tf.Tensor([[ 7 13  5  0]], shape=(1, 4), dtype=uint8)\n",
      "Action:  [1]\n",
      "Map:\n",
      " [[[3 0 0 0 0]\n",
      "  [2 2 0 0 0]\n",
      "  [2 2 0 0 0]\n",
      "  [0 2 2 1 0]\n",
      "  [0 0 2 2 0]]]\n",
      "Direction:\n",
      " tf.Tensor([[ True False False  True]], shape=(1, 4), dtype=bool)\n",
      "No body blocks:\n",
      " tf.Tensor([[ 8 11  5  3]], shape=(1, 4), dtype=uint8)\n",
      "Action:  [1]\n",
      "Map:\n",
      " [[[3 0 0 0 0]\n",
      "  [2 2 0 0 0]\n",
      "  [0 2 0 1 0]\n",
      "  [0 2 2 2 0]\n",
      "  [0 0 2 2 0]]]\n",
      "Direction:\n",
      " tf.Tensor([[False False False  True]], shape=(1, 4), dtype=bool)\n",
      "No body blocks:\n",
      " tf.Tensor([[9 8 5 5]], shape=(1, 4), dtype=uint8)\n",
      "Action:  [0]\n",
      "Map:\n",
      " [[[3 0 0 0 0]\n",
      "  [0 2 0 0 0]\n",
      "  [0 2 1 2 0]\n",
      "  [0 2 2 2 0]\n",
      "  [0 0 2 2 0]]]\n",
      "Direction:\n",
      " tf.Tensor([[ True False  True  True]], shape=(1, 4), dtype=bool)\n",
      "No body blocks:\n",
      " tf.Tensor([[7 9 7 5]], shape=(1, 4), dtype=uint8)\n",
      "Action:  [1]\n",
      "Map:\n",
      " [[[3 0 0 0 0]\n",
      "  [0 0 1 0 0]\n",
      "  [0 2 2 2 0]\n",
      "  [0 2 2 2 0]\n",
      "  [0 0 2 2 0]]]\n",
      "Direction:\n",
      " tf.Tensor([[False False False  True]], shape=(1, 4), dtype=bool)\n",
      "No body blocks:\n",
      " tf.Tensor([[8 5 7 7]], shape=(1, 4), dtype=uint8)\n",
      "Action:  [0]\n",
      "Map:\n",
      " [[[3 0 0 0 0]\n",
      "  [0 1 2 0 0]\n",
      "  [0 0 2 2 0]\n",
      "  [0 2 2 2 0]\n",
      "  [0 0 2 2 0]]]\n",
      "Direction:\n",
      " tf.Tensor([[False False  True False]], shape=(1, 4), dtype=bool)\n",
      "No body blocks:\n",
      " tf.Tensor([[5 5 8 8]], shape=(1, 4), dtype=uint8)\n",
      "Action:  [0]\n",
      "Map:\n",
      " [[[3 0 0 0 0]\n",
      "  [1 2 2 0 0]\n",
      "  [0 0 2 2 0]\n",
      "  [0 0 2 2 0]\n",
      "  [0 0 2 2 0]]]\n",
      "Direction:\n",
      " tf.Tensor([[ True False  True False]], shape=(1, 4), dtype=bool)\n",
      "No body blocks:\n",
      " tf.Tensor([[ 0  5 12  9]], shape=(1, 4), dtype=uint8)\n",
      "Action:  [1]\n",
      "Map:\n",
      " [[[1 0 0 0 3]\n",
      "  [2 2 2 0 0]\n",
      "  [0 0 2 2 0]\n",
      "  [0 0 2 2 0]\n",
      "  [0 0 2 2 0]]]\n",
      "Direction:\n",
      " tf.Tensor([[ True  True False  True]], shape=(1, 4), dtype=bool)\n",
      "No body blocks:\n",
      " tf.Tensor([[ 0  0 12 11]], shape=(1, 4), dtype=uint8)\n",
      "Action:  [2]\n",
      "Map:\n",
      " [[[2 1 0 0 3]\n",
      "  [2 2 2 0 0]\n",
      "  [0 0 2 2 0]\n",
      "  [0 0 0 2 0]\n",
      "  [0 0 2 2 0]]]\n",
      "Direction:\n",
      " tf.Tensor([[ True  True False  True]], shape=(1, 4), dtype=bool)\n",
      "No body blocks:\n",
      " tf.Tensor([[ 3  0  9 12]], shape=(1, 4), dtype=uint8)\n",
      "Action:  [2]\n",
      "Map:\n",
      " [[[2 2 1 0 3]\n",
      "  [2 2 2 0 0]\n",
      "  [0 0 2 2 0]\n",
      "  [0 0 0 2 0]\n",
      "  [0 0 0 2 0]]]\n",
      "Direction:\n",
      " tf.Tensor([[ True  True False  True]], shape=(1, 4), dtype=bool)\n",
      "No body blocks:\n",
      " tf.Tensor([[ 6  0  7 13]], shape=(1, 4), dtype=uint8)\n",
      "Action:  [2]\n",
      "Map:\n",
      " [[[2 2 2 1 3]\n",
      "  [2 2 2 0 0]\n",
      "  [0 0 2 2 0]\n",
      "  [0 0 0 2 0]\n",
      "  [0 0 0 0 0]]]\n",
      "Direction:\n",
      " tf.Tensor([[ True  True False False]], shape=(1, 4), dtype=bool)\n",
      "No body blocks:\n",
      " tf.Tensor([[ 8  0  5 14]], shape=(1, 4), dtype=uint8)\n",
      "Action:  [2]\n",
      "Map:\n",
      " [[[2 2 2 2 1]\n",
      "  [2 2 2 0 0]\n",
      "  [0 0 2 2 0]\n",
      "  [0 0 0 2 3]\n",
      "  [0 0 0 0 0]]]\n",
      "Direction:\n",
      " tf.Tensor([[ True  True  True False]], shape=(1, 4), dtype=bool)\n",
      "No body blocks:\n",
      " tf.Tensor([[10  0  0 14]], shape=(1, 4), dtype=uint8)\n",
      "Action:  [3]\n",
      "Map:\n",
      " [[[2 2 2 2 2]\n",
      "  [2 2 2 0 1]\n",
      "  [0 0 2 2 0]\n",
      "  [0 0 0 0 3]\n",
      "  [0 0 0 0 0]]]\n",
      "Direction:\n",
      " tf.Tensor([[False  True  True False]], shape=(1, 4), dtype=bool)\n",
      "No body blocks:\n",
      " tf.Tensor([[11  0  0 13]], shape=(1, 4), dtype=uint8)\n",
      "Action:  [3]\n",
      "Map:\n",
      " [[[2 2 2 2 2]\n",
      "  [2 2 2 0 2]\n",
      "  [0 0 2 0 1]\n",
      "  [0 0 0 0 3]\n",
      "  [0 0 0 0 0]]]\n",
      "Direction:\n",
      " tf.Tensor([[False  True  True False]], shape=(1, 4), dtype=bool)\n",
      "No body blocks:\n",
      " tf.Tensor([[12  1  0 10]], shape=(1, 4), dtype=uint8)\n",
      "Action:  [3]\n",
      "Map:\n",
      " [[[2 2 2 2 2]\n",
      "  [2 2 2 0 2]\n",
      "  [0 0 2 3 2]\n",
      "  [0 0 0 0 1]\n",
      "  [0 0 0 0 0]]]\n",
      "Direction:\n",
      " tf.Tensor([[False  True  True False]], shape=(1, 4), dtype=bool)\n",
      "No body blocks:\n",
      " tf.Tensor([[12  4  0  5]], shape=(1, 4), dtype=uint8)\n",
      "Action:  [0]\n",
      "Map:\n",
      " [[[2 2 2 2 2]\n",
      "  [2 2 2 0 2]\n",
      "  [0 0 0 3 2]\n",
      "  [0 0 0 1 2]\n",
      "  [0 0 0 0 0]]]\n",
      "Direction:\n",
      " tf.Tensor([[False False  True False]], shape=(1, 4), dtype=bool)\n",
      "No body blocks:\n",
      " tf.Tensor([[9 5 1 5]], shape=(1, 4), dtype=uint8)\n",
      "Action:  [1]\n",
      "Map:\n",
      " [[[2 2 2 2 2]\n",
      "  [2 2 2 0 2]\n",
      "  [0 0 0 1 2]\n",
      "  [0 0 3 2 2]\n",
      "  [0 0 0 0 0]]]\n",
      "Direction:\n",
      " tf.Tensor([[False False  True  True]], shape=(1, 4), dtype=bool)\n",
      "No body blocks:\n",
      " tf.Tensor([[9 1 1 8]], shape=(1, 4), dtype=uint8)\n",
      "Action:  [0]\n",
      "Map:\n",
      " [[[2 2 2 2 2]\n",
      "  [2 2 0 0 2]\n",
      "  [0 0 1 2 2]\n",
      "  [0 0 3 2 2]\n",
      "  [0 0 0 0 0]]]\n",
      "Direction:\n",
      " tf.Tensor([[False False  True False]], shape=(1, 4), dtype=bool)\n",
      "No body blocks:\n",
      " tf.Tensor([[6 2 3 8]], shape=(1, 4), dtype=uint8)\n",
      "Action:  [3]\n",
      "Map:\n",
      " [[[2 2 2 2 2]\n",
      "  [2 2 0 0 2]\n",
      "  [0 0 2 2 2]\n",
      "  [0 0 1 2 2]\n",
      "  [0 0 3 0 0]]]\n",
      "Direction:\n",
      " tf.Tensor([[False  True  True False]], shape=(1, 4), dtype=bool)\n",
      "No body blocks:\n",
      " tf.Tensor([[6 4 3 5]], shape=(1, 4), dtype=uint8)\n",
      "Action:  [3]\n",
      "Map:\n",
      " [[[2 2 2 2 2]\n",
      "  [2 2 0 0 2]\n",
      "  [0 0 2 2 2]\n",
      "  [3 0 2 2 2]\n",
      "  [0 0 1 0 0]]]\n",
      "Direction:\n",
      " tf.Tensor([[False  True False  True]], shape=(1, 4), dtype=bool)\n",
      "No body blocks:\n",
      " tf.Tensor([[6 6 3 0]], shape=(1, 4), dtype=uint8)\n",
      "Action:  [0]\n",
      "Map:\n",
      " [[[2 2 2 2 2]\n",
      "  [2 0 0 0 2]\n",
      "  [0 0 2 2 2]\n",
      "  [3 0 2 2 2]\n",
      "  [0 1 2 0 0]]]\n",
      "Direction:\n",
      " tf.Tensor([[False False  True  True]], shape=(1, 4), dtype=bool)\n",
      "No body blocks:\n",
      " tf.Tensor([[3 7 4 0]], shape=(1, 4), dtype=uint8)\n",
      "Action:  [0]\n",
      "Map:\n",
      " [[[2 2 2 2 2]\n",
      "  [0 0 0 0 2]\n",
      "  [0 0 2 2 2]\n",
      "  [3 0 2 2 2]\n",
      "  [1 2 2 0 0]]]\n",
      "Direction:\n",
      " tf.Tensor([[ True False  True  True]], shape=(1, 4), dtype=bool)\n",
      "No body blocks:\n",
      " tf.Tensor([[0 8 7 0]], shape=(1, 4), dtype=uint8)\n",
      "Action:  [1]\n",
      "Map:\n",
      " [[[2 2 2 2 2]\n",
      "  [0 0 0 3 2]\n",
      "  [0 0 2 2 2]\n",
      "  [1 0 2 2 2]\n",
      "  [2 2 2 0 0]]]\n",
      "Direction:\n",
      " tf.Tensor([[ True False False  True]], shape=(1, 4), dtype=bool)\n",
      "No body blocks:\n",
      " tf.Tensor([[0 6 7 2]], shape=(1, 4), dtype=uint8)\n",
      "Action:  [1]\n",
      "Map:\n",
      " [[[0 2 2 2 2]\n",
      "  [0 0 0 3 2]\n",
      "  [1 0 2 2 2]\n",
      "  [2 0 2 2 2]\n",
      "  [2 2 2 0 0]]]\n",
      "Direction:\n",
      " tf.Tensor([[ True False False  True]], shape=(1, 4), dtype=bool)\n",
      "No body blocks:\n",
      " tf.Tensor([[0 5 7 3]], shape=(1, 4), dtype=uint8)\n",
      "Action:  [1]\n",
      "Map:\n",
      " [[[0 0 2 2 2]\n",
      "  [1 0 0 3 2]\n",
      "  [2 0 2 2 2]\n",
      "  [2 0 2 2 2]\n",
      "  [2 2 2 0 0]]]\n",
      "Direction:\n",
      " tf.Tensor([[ True False False  True]], shape=(1, 4), dtype=bool)\n",
      "No body blocks:\n",
      " tf.Tensor([[0 2 8 4]], shape=(1, 4), dtype=uint8)\n",
      "Action:  [1]\n",
      "Map:\n",
      " [[[1 0 0 2 2]\n",
      "  [2 0 0 3 2]\n",
      "  [2 0 2 2 2]\n",
      "  [2 0 2 2 2]\n",
      "  [2 2 2 0 0]]]\n",
      "Direction:\n",
      " tf.Tensor([[ True  True False  True]], shape=(1, 4), dtype=bool)\n",
      "No body blocks:\n",
      " tf.Tensor([[0 0 9 7]], shape=(1, 4), dtype=uint8)\n",
      "Action:  [2]\n",
      "Map:\n",
      " [[[2 1 0 0 2]\n",
      "  [2 0 0 3 2]\n",
      "  [2 0 2 2 2]\n",
      "  [2 0 2 2 2]\n",
      "  [2 2 2 0 0]]]\n",
      "Direction:\n",
      " tf.Tensor([[ True  True False False]], shape=(1, 4), dtype=bool)\n",
      "No body blocks:\n",
      " tf.Tensor([[0 0 6 7]], shape=(1, 4), dtype=uint8)\n",
      "Action:  [2]\n",
      "Map:\n",
      " [[[2 2 1 0 0]\n",
      "  [2 0 0 3 2]\n",
      "  [2 0 2 2 2]\n",
      "  [2 0 2 2 2]\n",
      "  [2 2 2 0 0]]]\n",
      "Direction:\n",
      " tf.Tensor([[ True  True False False]], shape=(1, 4), dtype=bool)\n",
      "No body blocks:\n",
      " tf.Tensor([[3 0 5 7]], shape=(1, 4), dtype=uint8)\n",
      "Action:  [2]\n",
      "Map:\n",
      " [[[2 2 2 1 0]\n",
      "  [2 0 0 3 0]\n",
      "  [2 0 2 2 2]\n",
      "  [2 0 2 2 2]\n",
      "  [2 2 2 0 0]]]\n",
      "Direction:\n",
      " tf.Tensor([[ True  True False False]], shape=(1, 4), dtype=bool)\n",
      "No body blocks:\n",
      " tf.Tensor([[4 0 3 8]], shape=(1, 4), dtype=uint8)\n",
      "Action:  [3]\n",
      "Map:\n",
      " [[[2 2 2 2 0]\n",
      "  [2 0 0 1 0]\n",
      "  [2 0 2 2 2]\n",
      "  [2 0 2 2 2]\n",
      "  [2 2 2 0 3]]]\n",
      "Direction:\n",
      " tf.Tensor([[False  True False  True]], shape=(1, 4), dtype=bool)\n",
      "No body blocks:\n",
      " tf.Tensor([[4 1 3 4]], shape=(1, 4), dtype=uint8)\n",
      "Action:  [2]\n",
      "Map:\n",
      " [[[2 2 2 2 0]\n",
      "  [2 0 0 2 1]\n",
      "  [2 0 2 2 0]\n",
      "  [2 0 2 2 2]\n",
      "  [2 2 2 0 3]]]\n",
      "Direction:\n",
      " tf.Tensor([[ True False  True False]], shape=(1, 4), dtype=bool)\n",
      "No body blocks:\n",
      " tf.Tensor([[5 1 0 5]], shape=(1, 4), dtype=uint8)\n",
      "Action:  [3]\n",
      "Map:\n",
      " [[[2 2 2 2 0]\n",
      "  [2 0 0 2 2]\n",
      "  [2 0 2 2 1]\n",
      "  [2 0 2 2 0]\n",
      "  [2 2 2 0 3]]]\n",
      "Direction:\n",
      " tf.Tensor([[ True  True  True False]], shape=(1, 4), dtype=bool)\n",
      "No body blocks:\n",
      " tf.Tensor([[5 3 0 4]], shape=(1, 4), dtype=uint8)\n",
      "Action:  [3]\n",
      "Map:\n",
      " [[[2 2 2 2 0]\n",
      "  [2 0 0 2 2]\n",
      "  [2 0 2 2 2]\n",
      "  [2 0 2 0 1]\n",
      "  [2 2 2 0 3]]]\n",
      "Direction:\n",
      " tf.Tensor([[False  True  True False]], shape=(1, 4), dtype=bool)\n",
      "No body blocks:\n",
      " tf.Tensor([[6 4 0 2]], shape=(1, 4), dtype=uint8)\n",
      "Action:  [3]\n",
      "Map:\n",
      " [[[2 2 2 2 0]\n",
      "  [2 0 0 2 2]\n",
      "  [2 0 2 2 2]\n",
      "  [2 3 2 0 2]\n",
      "  [2 2 2 0 1]]]\n",
      "Direction:\n",
      " tf.Tensor([[False  True  True  True]], shape=(1, 4), dtype=bool)\n",
      "No body blocks:\n",
      " tf.Tensor([[6 6 0 0]], shape=(1, 4), dtype=uint8)\n",
      "Action:  [0]\n",
      "Map:\n",
      " [[[2 2 2 2 0]\n",
      "  [2 0 0 2 2]\n",
      "  [2 0 2 0 2]\n",
      "  [2 3 2 0 2]\n",
      "  [2 2 2 1 2]]]\n",
      "Direction:\n",
      " tf.Tensor([[ True False  True  True]], shape=(1, 4), dtype=bool)\n",
      "No body blocks:\n",
      " tf.Tensor([[4 7 1 0]], shape=(1, 4), dtype=uint8)\n",
      "Action:  [1]\n",
      "Map:\n",
      " [[[2 2 2 2 0]\n",
      "  [2 0 0 2 2]\n",
      "  [2 0 0 0 2]\n",
      "  [2 3 2 1 2]\n",
      "  [2 2 2 2 2]]]\n",
      "Direction:\n",
      " tf.Tensor([[False False  True  True]], shape=(1, 4), dtype=bool)\n",
      "No body blocks:\n",
      " tf.Tensor([[5 6 1 0]], shape=(1, 4), dtype=uint8)\n",
      "Action:  [1]\n",
      "Map:\n",
      " [[[2 2 2 2 0]\n",
      "  [2 0 0 2 2]\n",
      "  [2 0 0 1 2]\n",
      "  [2 3 0 2 2]\n",
      "  [2 2 2 2 2]]]\n",
      "Direction:\n",
      " tf.Tensor([[False  True  True  True]], shape=(1, 4), dtype=bool)\n",
      "No body blocks:\n",
      " tf.Tensor([[6 3 1 2]], shape=(1, 4), dtype=uint8)\n",
      "Action:  [0]\n",
      "Map:\n",
      " [[[2 2 2 2 0]\n",
      "  [2 0 0 2 2]\n",
      "  [2 0 1 2 2]\n",
      "  [2 3 0 2 2]\n",
      "  [2 2 0 2 2]]]\n",
      "Direction:\n",
      " tf.Tensor([[False False  True False]], shape=(1, 4), dtype=bool)\n",
      "No body blocks:\n",
      " tf.Tensor([[3 3 1 3]], shape=(1, 4), dtype=uint8)\n",
      "Action:  [0]\n",
      "Map:\n",
      " [[[2 2 2 2 0]\n",
      "  [2 0 0 2 2]\n",
      "  [2 1 2 2 2]\n",
      "  [2 3 0 2 2]\n",
      "  [2 0 0 2 2]]]\n",
      "Direction:\n",
      " tf.Tensor([[ True False  True False]], shape=(1, 4), dtype=bool)\n",
      "No body blocks:\n",
      " tf.Tensor([[0 3 4 4]], shape=(1, 4), dtype=uint8)\n",
      "Action:  [3]\n",
      "Map:\n",
      " [[[2 2 2 2 0]\n",
      "  [2 0 0 2 2]\n",
      "  [2 2 2 2 2]\n",
      "  [2 1 0 2 2]\n",
      "  [2 0 3 2 2]]]\n",
      "Direction:\n",
      " tf.Tensor([[ True  True False False]], shape=(1, 4), dtype=bool)\n",
      "No body blocks:\n",
      " tf.Tensor([[0 3 4 2]], shape=(1, 4), dtype=uint8)\n",
      "Action:  [3]\n",
      "Map:\n",
      " [[[2 2 2 2 0]\n",
      "  [2 0 0 2 2]\n",
      "  [2 2 2 2 2]\n",
      "  [2 2 0 2 2]\n",
      "  [0 1 3 2 2]]]\n",
      "Direction:\n",
      " tf.Tensor([[False  True False  True]], shape=(1, 4), dtype=bool)\n",
      "No body blocks:\n",
      " tf.Tensor([[1 4 4 0]], shape=(1, 4), dtype=uint8)\n",
      "Action:  [2]\n",
      "Map:\n",
      " [[[2 2 2 2 0]\n",
      "  [2 3 0 2 2]\n",
      "  [2 2 2 2 2]\n",
      "  [2 2 0 2 2]\n",
      "  [0 2 1 2 2]]]\n",
      "Direction:\n",
      " tf.Tensor([[ True False  True  True]], shape=(1, 4), dtype=bool)\n",
      "No body blocks:\n",
      " tf.Tensor([[2 4 1 0]], shape=(1, 4), dtype=uint8)\n",
      "Action:  [1]\n",
      "Map:\n",
      " [[[2 2 2 2 0]\n",
      "  [2 3 0 2 2]\n",
      "  [2 2 2 2 2]\n",
      "  [0 2 1 2 2]\n",
      "  [0 2 2 2 2]]]\n",
      "Direction:\n",
      " tf.Tensor([[ True  True  True  True]], shape=(1, 4), dtype=bool)\n",
      "No body blocks:\n",
      " tf.Tensor([[3 3 1 1]], shape=(1, 4), dtype=uint8)\n",
      "Action:  [2]\n",
      "Total reward:  50.0\n",
      "Total steps:  73\n"
     ]
    }
   ],
   "source": [
    "# Evaluate the agent\n",
    "\n",
    "test_scene = Scene(init_randomly=True)\n",
    "test_env = SnakeGame(test_scene)\n",
    "test_env = TFPyEnvironment(test_env)\n",
    "\n",
    "time_step = test_env.reset()\n",
    "rewards = []\n",
    "steps = 0\n",
    "\n",
    "while not time_step.is_last() and steps < 200:\n",
    "    steps += 1\n",
    "    print(\"Map:\\n\", np.argmax(time_step.observation[0], axis=3))\n",
    "    print(\"Direction:\\n\", time_step.observation[1])\n",
    "    print(\"No body blocks:\\n\", time_step.observation[4])\n",
    "    action_step = agent.policy.action(time_step)\n",
    "    print(\"Action: \", action_step.action.numpy())\n",
    "    time_step = test_env.step(action_step.action)\n",
    "    rewards.append(time_step.reward.numpy()[0])\n",
    "    \n",
    "print(\"Total reward: \", sum(rewards))\n",
    "print(\"Total steps: \", steps)\n"
   ]
  },
  {
   "cell_type": "code",
   "execution_count": 41,
   "metadata": {},
   "outputs": [
    {
     "name": "stdout",
     "output_type": "stream",
     "text": [
      "Episode:  10\n",
      "Avg reward:  54.54545454545455\n",
      "Episode:  20\n",
      "Avg reward:  53.80952380952381\n",
      "Episode:  30\n",
      "Avg reward:  44.193548387096776\n",
      "Episode:  40\n",
      "Avg reward:  41.34146341463415\n",
      "Episode:  50\n",
      "Avg reward:  42.05882352941177\n",
      "Episode:  60\n",
      "Avg reward:  43.032786885245905\n",
      "Episode:  70\n",
      "Avg reward:  42.11267605633803\n",
      "Episode:  80\n",
      "Avg reward:  41.97530864197531\n",
      "Episode:  90\n",
      "Avg reward:  43.79120879120879\n",
      "Episode:  100\n",
      "Avg reward:  44.10891089108911\n",
      "Episode:  110\n",
      "Avg reward:  43.42342342342342\n",
      "Episode:  120\n",
      "Avg reward:  42.93388429752066\n",
      "Episode:  130\n",
      "Avg reward:  43.93129770992366\n",
      "Episode:  140\n",
      "Avg reward:  45.283687943262414\n",
      "Episode:  150\n",
      "Avg reward:  44.70198675496689\n",
      "Episode:  160\n",
      "Avg reward:  44.78260869565217\n",
      "Episode:  170\n",
      "Avg reward:  44.35672514619883\n",
      "Episode:  180\n",
      "Avg reward:  43.97790055248619\n",
      "Episode:  190\n",
      "Avg reward:  43.7434554973822\n",
      "Episode:  200\n",
      "Avg reward:  43.85572139303483\n",
      "Episode:  210\n",
      "Avg reward:  43.62559241706161\n",
      "Episode:  220\n",
      "Avg reward:  43.665158371040725\n",
      "Episode:  230\n",
      "Avg reward:  42.96536796536797\n",
      "Episode:  240\n",
      "Avg reward:  43.27800829875519\n",
      "Episode:  250\n",
      "Avg reward:  43.20717131474104\n",
      "Episode:  260\n",
      "Avg reward:  42.662835249042146\n",
      "Episode:  270\n",
      "Avg reward:  42.5830258302583\n",
      "Episode:  280\n",
      "Avg reward:  42.686832740213525\n",
      "Episode:  290\n",
      "Avg reward:  43.09278350515464\n",
      "Episode:  300\n",
      "Avg reward:  43.222591362126245\n",
      "Episode:  310\n",
      "Avg reward:  43.054662379421224\n",
      "Episode:  320\n",
      "Avg reward:  42.72585669781932\n",
      "Episode:  330\n",
      "Avg reward:  42.43202416918429\n",
      "Episode:  340\n",
      "Avg reward:  42.316715542522\n",
      "Episode:  350\n",
      "Avg reward:  42.30769230769231\n",
      "Episode:  360\n",
      "Avg reward:  41.7590027700831\n",
      "Episode:  370\n",
      "Avg reward:  42.06199460916442\n",
      "Episode:  380\n",
      "Avg reward:  41.92913385826772\n",
      "Episode:  390\n",
      "Avg reward:  41.95652173913044\n",
      "Episode:  400\n",
      "Avg reward:  41.745635910224436\n",
      "Episode:  410\n",
      "Avg reward:  41.6301703163017\n",
      "Episode:  420\n",
      "Avg reward:  41.81710213776722\n",
      "Episode:  430\n",
      "Avg reward:  42.38979118329466\n",
      "Episode:  440\n",
      "Avg reward:  42.50566893424036\n",
      "Episode:  450\n",
      "Avg reward:  42.62749445676275\n",
      "Episode:  460\n",
      "Avg reward:  42.84164859002169\n",
      "Episode:  470\n",
      "Avg reward:  42.62208067940552\n",
      "Episode:  480\n",
      "Avg reward:  42.55717255717256\n",
      "Episode:  490\n",
      "Avg reward:  42.35234215885947\n",
      "Average steps per episode:  74.48275862068965\n",
      "Average reward per episode:  42.31\n",
      "Total 500 episodes:  7\n",
      "Wins:  31\n"
     ]
    }
   ],
   "source": [
    "\n",
    "# Count the average steps per episode\n",
    "\n",
    "n = 500\n",
    "total_steps = 0\n",
    "total_reward = 0\n",
    "steps = 0\n",
    "total_500 = 0\n",
    "wins = 0\n",
    "\n",
    "for i in range(n):\n",
    "    if i % 10 == 0 and i != 0:\n",
    "        print(\"Episode: \", i)\n",
    "        \n",
    "    time_step = test_env.reset()\n",
    "    steps = 0\n",
    "    episode_reward = 0\n",
    "    while not time_step.is_last() and steps < 500:\n",
    "        steps += 1\n",
    "        action_step = agent.policy.action(time_step)\n",
    "        time_step = test_env.step(action_step.action)\n",
    "        reward = time_step.reward.numpy()[0]\n",
    "        total_reward += reward\n",
    "        episode_reward += reward\n",
    "        \n",
    "    if episode_reward == 115:\n",
    "        wins += 1\n",
    "    \n",
    "    if steps == 500:\n",
    "        total_500 += 1\n",
    "    else:\n",
    "        total_steps += steps\n",
    "        \n",
    "    if i % 10 == 0 and i != 0:\n",
    "        print(\"Avg reward: \", total_reward / (i + 1))\n",
    "        \n",
    "if steps == 500:\n",
    "    print(\"500 episodes reached\")\n",
    "    \n",
    "print(\"Average steps per episode: \", total_steps / (n - total_500))\n",
    "print(\"Average reward per episode: \", total_reward / n)\n",
    "print(\"Total 500 episodes: \", total_500)\n",
    "print(\"Wins: \", wins)\n"
   ]
  },
  {
   "cell_type": "code",
   "execution_count": 42,
   "metadata": {},
   "outputs": [
    {
     "name": "stdout",
     "output_type": "stream",
     "text": [
      "WARNING:tensorflow:Compiled the loaded model, but the compiled metrics have yet to be built. `model.compile_metrics` will be empty until you train or evaluate the model.\n"
     ]
    },
    {
     "name": "stderr",
     "output_type": "stream",
     "text": [
      "/var/folders/bw/_7s8wxw93cngpt5f7bg5s3hm0000gn/T/ipykernel_26610/1164216016.py:2: UserWarning: You are saving your model as an HDF5 file via `model.save()`. This file format is considered legacy. We recommend using instead the native Keras format, e.g. `model.save('my_model.keras')`.\n",
      "  tf.keras.models.save_model(q_net._model, \"q_network.h5\")\n",
      "WARNING:tensorflow:Compiled the loaded model, but the compiled metrics have yet to be built. `model.compile_metrics` will be empty until you train or evaluate the model.\n"
     ]
    }
   ],
   "source": [
    "# Save the q network weights\n",
    "tf.keras.models.save_model(q_net._model, \"q_network.h5\")"
   ]
  }
 ],
 "metadata": {
  "kernelspec": {
   "display_name": "base",
   "language": "python",
   "name": "python3"
  },
  "language_info": {
   "codemirror_mode": {
    "name": "ipython",
    "version": 3
   },
   "file_extension": ".py",
   "mimetype": "text/x-python",
   "name": "python",
   "nbconvert_exporter": "python",
   "pygments_lexer": "ipython3",
   "version": "3.11.4"
  },
  "orig_nbformat": 4
 },
 "nbformat": 4,
 "nbformat_minor": 2
}
