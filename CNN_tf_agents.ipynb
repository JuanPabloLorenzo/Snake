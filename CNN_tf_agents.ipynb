{
 "cells": [
  {
   "cell_type": "code",
   "execution_count": 1,
   "metadata": {},
   "outputs": [],
   "source": [
    "import numpy as np\n",
    "import tensorflow as tf\n",
    "from tf_agents.networks.q_network import QNetwork\n",
    "import tf_agents.networks.network as network\n",
    "from tf_agents.specs import tensor_spec\n",
    "from snake_game import SnakeGame\n",
    "from scene import Scene\n",
    "from scene_longer_snake import SceneLongerSnake\n",
    "from tensorflow.keras import Sequential\n",
    "from tensorflow.keras.layers import Dense, Flatten, Conv2D, Input\n",
    "\n",
    "scene = SceneLongerSnake(init_randomly=True, snake_longer_prob=0.92, initial_length=10)\n",
    "episodes_count = 80000\n",
    "random_episodes = 20000\n"
   ]
  },
  {
   "cell_type": "code",
   "execution_count": 2,
   "metadata": {},
   "outputs": [],
   "source": [
    "from tf_agents.environments.tf_py_environment import TFPyEnvironment\n",
    "\n",
    "env = SnakeGame(scene)\n",
    "env = TFPyEnvironment(env)\n"
   ]
  },
  {
   "cell_type": "code",
   "execution_count": 3,
   "metadata": {},
   "outputs": [
    {
     "name": "stdout",
     "output_type": "stream",
     "text": [
      "Model: \"model\"\n",
      "__________________________________________________________________________________________________\n",
      " Layer (type)                Output Shape                 Param #   Connected to                  \n",
      "==================================================================================================\n",
      " input_1 (InputLayer)        [(None, 5, 5, 4)]            0         []                            \n",
      "                                                                                                  \n",
      " conv2d (Conv2D)             (None, 4, 4, 32)             544       ['input_1[0][0]']             \n",
      "                                                                                                  \n",
      " flatten (Flatten)           (None, 512)                  0         ['conv2d[0][0]']              \n",
      "                                                                                                  \n",
      " dense (Dense)               (None, 128)                  65664     ['flatten[0][0]']             \n",
      "                                                                                                  \n",
      " dense_1 (Dense)             (None, 32)                   4128      ['dense[0][0]']               \n",
      "                                                                                                  \n",
      " input_2 (InputLayer)        [(None, 4)]                  0         []                            \n",
      "                                                                                                  \n",
      " concatenate (Concatenate)   (None, 36)                   0         ['dense_1[0][0]',             \n",
      "                                                                     'input_2[0][0]']             \n",
      "                                                                                                  \n",
      " dense_2 (Dense)             (None, 4)                    148       ['concatenate[0][0]']         \n",
      "                                                                                                  \n",
      "==================================================================================================\n",
      "Total params: 70484 (275.33 KB)\n",
      "Trainable params: 70484 (275.33 KB)\n",
      "Non-trainable params: 0 (0.00 Byte)\n",
      "__________________________________________________________________________________________________\n"
     ]
    }
   ],
   "source": [
    "class MyQNetwork(network.Network):\n",
    "    def __init__(self,\n",
    "                 input_tensor_spec,\n",
    "                 action_spec,\n",
    "                 name='MyQNetwork'):\n",
    "        super(MyQNetwork, self).__init__(\n",
    "            input_tensor_spec=input_tensor_spec,\n",
    "            state_spec=(),\n",
    "            name=name)\n",
    "        \n",
    "        self._action_spec = action_spec\n",
    "        matrix_shape = input_tensor_spec[0].shape\n",
    "        array_shape = input_tensor_spec[1].shape\n",
    "        \n",
    "        input1 = Input(shape=matrix_shape)\n",
    "        input2 = Input(shape=array_shape) # Each value represents if there is a wall or the snake body in the direction, 0 - no wall, 1 - wall\n",
    "        \n",
    "        conv = Conv2D(32, (2, 2), 1, activation='relu', kernel_initializer='he_normal')(input1)\n",
    "        flat = Flatten()(conv)\n",
    "        dense1 = Dense(128, activation='relu', kernel_initializer='he_normal')(flat)\n",
    "        dense2 = Dense(32, activation='relu', kernel_initializer='he_normal')(dense1)\n",
    "        \n",
    "        concat = tf.keras.layers.concatenate([dense2, input2])\n",
    "        output = Dense(4, activation='linear')(concat)\n",
    "        \n",
    "        self._model = tf.keras.Model(inputs=[input1, input2], outputs=output)\n",
    "        \n",
    "        self._model.summary()\n",
    "\n",
    "    def call(self, observations, step_type=None, network_state=(), training=False):\n",
    "        output = self._model([observations[0], observations[1]])\n",
    "        return output, network_state\n",
    "\n",
    "q_net = MyQNetwork(\n",
    "    env.observation_spec(),\n",
    "    env.action_spec())\n"
   ]
  },
  {
   "cell_type": "code",
   "execution_count": 4,
   "metadata": {},
   "outputs": [
    {
     "name": "stdout",
     "output_type": "stream",
     "text": [
      "Model: \"model_1\"\n",
      "__________________________________________________________________________________________________\n",
      " Layer (type)                Output Shape                 Param #   Connected to                  \n",
      "==================================================================================================\n",
      " input_3 (InputLayer)        [(None, 5, 5, 4)]            0         []                            \n",
      "                                                                                                  \n",
      " conv2d_1 (Conv2D)           (None, 4, 4, 32)             544       ['input_3[0][0]']             \n",
      "                                                                                                  \n",
      " flatten_1 (Flatten)         (None, 512)                  0         ['conv2d_1[0][0]']            \n",
      "                                                                                                  \n",
      " dense_3 (Dense)             (None, 128)                  65664     ['flatten_1[0][0]']           \n",
      "                                                                                                  \n",
      " dense_4 (Dense)             (None, 32)                   4128      ['dense_3[0][0]']             \n",
      "                                                                                                  \n",
      " input_4 (InputLayer)        [(None, 4)]                  0         []                            \n",
      "                                                                                                  \n",
      " concatenate_1 (Concatenate  (None, 36)                   0         ['dense_4[0][0]',             \n",
      " )                                                                   'input_4[0][0]']             \n",
      "                                                                                                  \n",
      " dense_5 (Dense)             (None, 4)                    148       ['concatenate_1[0][0]']       \n",
      "                                                                                                  \n",
      "==================================================================================================\n",
      "Total params: 70484 (275.33 KB)\n",
      "Trainable params: 70484 (275.33 KB)\n",
      "Non-trainable params: 0 (0.00 Byte)\n",
      "__________________________________________________________________________________________________\n"
     ]
    }
   ],
   "source": [
    "# Create the agent\n",
    "from tf_agents.agents.dqn.dqn_agent import DdqnAgent\n",
    "from tensorflow import keras\n",
    "from keras.optimizers.legacy import Adam\n",
    "from keras.losses import Huber\n",
    "from tf_agents.trajectories import TimeStep\n",
    "\n",
    "train_step_counter = tf.Variable(0)\n",
    "optimizer = Adam(learning_rate=0.003)\n",
    "\n",
    "epsilon = keras.optimizers.schedules.PolynomialDecay(\n",
    "    initial_learning_rate=0.1,\n",
    "    decay_steps=episodes_count,\n",
    "    end_learning_rate=0.01\n",
    ")\n",
    "\n",
    "agent = DdqnAgent(\n",
    "    time_step_spec=env.time_step_spec(),\n",
    "    action_spec=env.action_spec(),\n",
    "    q_network=q_net,\n",
    "    optimizer=optimizer,\n",
    "    td_errors_loss_fn=Huber(reduction=\"none\"),\n",
    "    gamma=tf.constant(0.95, dtype=tf.float32),\n",
    "    train_step_counter=train_step_counter,\n",
    "    epsilon_greedy=lambda: epsilon(train_step_counter)\n",
    ")\n"
   ]
  },
  {
   "cell_type": "code",
   "execution_count": 5,
   "metadata": {},
   "outputs": [],
   "source": [
    "# Create the replay buffer\n",
    "from tf_agents.replay_buffers import tf_uniform_replay_buffer\n",
    "\n",
    "replay_buffer = tf_uniform_replay_buffer.TFUniformReplayBuffer(\n",
    "    data_spec=agent.collect_data_spec,\n",
    "    batch_size=env.batch_size,\n",
    "    max_length=100000\n",
    ")\n"
   ]
  },
  {
   "cell_type": "code",
   "execution_count": 6,
   "metadata": {},
   "outputs": [],
   "source": [
    "# Create the training metrics\n",
    "from tf_agents.metrics import tf_metrics\n",
    "\n",
    "train_metrics = [\n",
    "    tf_metrics.NumberOfEpisodes(),\n",
    "    tf_metrics.EnvironmentSteps(),\n",
    "    tf_metrics.AverageReturnMetric(),\n",
    "    tf_metrics.AverageEpisodeLengthMetric()\n",
    "]\n"
   ]
  },
  {
   "cell_type": "code",
   "execution_count": 7,
   "metadata": {},
   "outputs": [],
   "source": [
    "# Create the driver\n",
    "from tf_agents.drivers import dynamic_step_driver\n",
    "\n",
    "collect_driver = dynamic_step_driver.DynamicStepDriver(\n",
    "    env,\n",
    "    policy=agent.collect_policy,\n",
    "    observers=[replay_buffer.add_batch] + train_metrics,\n",
    "    num_steps=4\n",
    ")\n",
    "\n",
    "# Run a random policy to fill the replay buffer\n",
    "from tf_agents.policies.random_tf_policy import RandomTFPolicy\n",
    "\n",
    "initial_collect_policy = RandomTFPolicy(env.time_step_spec(), env.action_spec())\n",
    "init_driver = dynamic_step_driver.DynamicStepDriver(\n",
    "    env,\n",
    "    policy=initial_collect_policy,\n",
    "    observers=[replay_buffer.add_batch],\n",
    "    num_steps=random_episodes\n",
    ")\n",
    "\n",
    "final_time_step, final_policy_state = init_driver.run()\n"
   ]
  },
  {
   "cell_type": "code",
   "execution_count": 8,
   "metadata": {},
   "outputs": [
    {
     "name": "stdout",
     "output_type": "stream",
     "text": [
      "WARNING:tensorflow:From /Users/juanpablo/miniconda3/lib/python3.11/site-packages/tensorflow/python/autograph/impl/api.py:377: ReplayBuffer.get_next (from tf_agents.replay_buffers.replay_buffer) is deprecated and will be removed in a future version.\n",
      "Instructions for updating:\n",
      "Use `as_dataset(..., single_deterministic_pass=False) instead.\n"
     ]
    }
   ],
   "source": [
    "# Create the dataset\n",
    "dataset = replay_buffer.as_dataset(\n",
    "    sample_batch_size=64,\n",
    "    num_steps=2, # Capaz cambiar esto\n",
    "    num_parallel_calls=3\n",
    ").prefetch(3)\n"
   ]
  },
  {
   "cell_type": "code",
   "execution_count": 9,
   "metadata": {},
   "outputs": [],
   "source": [
    "# Create the training loop\n",
    "\n",
    "from tf_agents.utils.common import function\n",
    "from tf_agents.trajectories import trajectory\n",
    "from tf_agents.eval.metric_utils import log_metrics\n",
    "import logging\n",
    "\n",
    "logging.getLogger().setLevel(logging.INFO)\n",
    "\n",
    "collect_driver.run = function(collect_driver.run)\n",
    "agent.train = function(agent.train)\n",
    "\n",
    "def train_agent(n_iterations):\n",
    "    time_step = None\n",
    "    policy_state = agent.collect_policy.get_initial_state(env.batch_size)\n",
    "    iterator = iter(dataset)\n",
    "    for iteration in range(n_iterations):\n",
    "        time_step, policy_state = collect_driver.run(time_step, policy_state)\n",
    "        trajectories, buffer_info = next(iterator)\n",
    "        train_loss = agent.train(trajectories)\n",
    "        if iteration % 1000 == 0:\n",
    "            print(\"Iteration: \", iteration)\n",
    "            log_metrics(train_metrics)\n"
   ]
  },
  {
   "cell_type": "code",
   "execution_count": 10,
   "metadata": {},
   "outputs": [
    {
     "name": "stdout",
     "output_type": "stream",
     "text": [
      "WARNING:tensorflow:From /Users/juanpablo/miniconda3/lib/python3.11/site-packages/tensorflow/python/util/dispatch.py:1260: calling foldr_v2 (from tensorflow.python.ops.functional_ops) with back_prop=False is deprecated and will be removed in a future version.\n",
      "Instructions for updating:\n",
      "back_prop=False is deprecated. Consider using tf.stop_gradient instead.\n",
      "Instead of:\n",
      "results = tf.foldr(fn, elems, back_prop=False)\n",
      "Use:\n",
      "results = tf.nest.map_structure(tf.stop_gradient, tf.foldr(fn, elems))\n"
     ]
    },
    {
     "name": "stderr",
     "output_type": "stream",
     "text": [
      "INFO:absl: \n",
      "\t\t NumberOfEpisodes = 4\n",
      "\t\t EnvironmentSteps = 4\n",
      "\t\t AverageReturn = -50.0\n",
      "\t\t AverageEpisodeLength = 1.0\n"
     ]
    },
    {
     "name": "stdout",
     "output_type": "stream",
     "text": [
      "Iteration:  0\n"
     ]
    },
    {
     "name": "stderr",
     "output_type": "stream",
     "text": [
      "INFO:absl: \n",
      "\t\t NumberOfEpisodes = 557\n",
      "\t\t EnvironmentSteps = 4004\n",
      "\t\t AverageReturn = -10085.5\n",
      "\t\t AverageEpisodeLength = 12.600000381469727\n"
     ]
    },
    {
     "name": "stdout",
     "output_type": "stream",
     "text": [
      "Iteration:  1000\n"
     ]
    },
    {
     "name": "stderr",
     "output_type": "stream",
     "text": [
      "INFO:absl: \n",
      "\t\t NumberOfEpisodes = 850\n",
      "\t\t EnvironmentSteps = 8004\n",
      "\t\t AverageReturn = -14390.0\n",
      "\t\t AverageEpisodeLength = 15.699999809265137\n"
     ]
    },
    {
     "name": "stdout",
     "output_type": "stream",
     "text": [
      "Iteration:  2000\n"
     ]
    },
    {
     "name": "stderr",
     "output_type": "stream",
     "text": [
      "INFO:absl: \n",
      "\t\t NumberOfEpisodes = 1111\n",
      "\t\t EnvironmentSteps = 12004\n",
      "\t\t AverageReturn = -17475.5\n",
      "\t\t AverageEpisodeLength = 17.600000381469727\n"
     ]
    },
    {
     "name": "stdout",
     "output_type": "stream",
     "text": [
      "Iteration:  3000\n"
     ]
    },
    {
     "name": "stderr",
     "output_type": "stream",
     "text": [
      "INFO:absl: \n",
      "\t\t NumberOfEpisodes = 1384\n",
      "\t\t EnvironmentSteps = 16004\n",
      "\t\t AverageReturn = -19942.5\n",
      "\t\t AverageEpisodeLength = 15.899999618530273\n"
     ]
    },
    {
     "name": "stdout",
     "output_type": "stream",
     "text": [
      "Iteration:  4000\n"
     ]
    },
    {
     "name": "stderr",
     "output_type": "stream",
     "text": [
      "INFO:absl: \n",
      "\t\t NumberOfEpisodes = 1668\n",
      "\t\t EnvironmentSteps = 20004\n",
      "\t\t AverageReturn = -22070.0\n",
      "\t\t AverageEpisodeLength = 12.5\n"
     ]
    },
    {
     "name": "stdout",
     "output_type": "stream",
     "text": [
      "Iteration:  5000\n"
     ]
    },
    {
     "name": "stderr",
     "output_type": "stream",
     "text": [
      "INFO:absl: \n",
      "\t\t NumberOfEpisodes = 1982\n",
      "\t\t EnvironmentSteps = 24004\n",
      "\t\t AverageReturn = -24521.5\n",
      "\t\t AverageEpisodeLength = 8.600000381469727\n"
     ]
    },
    {
     "name": "stdout",
     "output_type": "stream",
     "text": [
      "Iteration:  6000\n"
     ]
    },
    {
     "name": "stderr",
     "output_type": "stream",
     "text": [
      "INFO:absl: \n",
      "\t\t NumberOfEpisodes = 2279\n",
      "\t\t EnvironmentSteps = 28004\n",
      "\t\t AverageReturn = -26881.0\n",
      "\t\t AverageEpisodeLength = 14.699999809265137\n"
     ]
    },
    {
     "name": "stdout",
     "output_type": "stream",
     "text": [
      "Iteration:  7000\n"
     ]
    },
    {
     "name": "stderr",
     "output_type": "stream",
     "text": [
      "INFO:absl: \n",
      "\t\t NumberOfEpisodes = 2559\n",
      "\t\t EnvironmentSteps = 32004\n",
      "\t\t AverageReturn = -28803.5\n",
      "\t\t AverageEpisodeLength = 14.100000381469727\n"
     ]
    },
    {
     "name": "stdout",
     "output_type": "stream",
     "text": [
      "Iteration:  8000\n"
     ]
    },
    {
     "name": "stderr",
     "output_type": "stream",
     "text": [
      "INFO:absl: \n",
      "\t\t NumberOfEpisodes = 2834\n",
      "\t\t EnvironmentSteps = 36004\n",
      "\t\t AverageReturn = -30537.5\n",
      "\t\t AverageEpisodeLength = 14.399999618530273\n"
     ]
    },
    {
     "name": "stdout",
     "output_type": "stream",
     "text": [
      "Iteration:  9000\n"
     ]
    },
    {
     "name": "stderr",
     "output_type": "stream",
     "text": [
      "INFO:absl: \n",
      "\t\t NumberOfEpisodes = 3104\n",
      "\t\t EnvironmentSteps = 40004\n",
      "\t\t AverageReturn = -32125.5\n",
      "\t\t AverageEpisodeLength = 18.399999618530273\n"
     ]
    },
    {
     "name": "stdout",
     "output_type": "stream",
     "text": [
      "Iteration:  10000\n"
     ]
    },
    {
     "name": "stderr",
     "output_type": "stream",
     "text": [
      "INFO:absl: \n",
      "\t\t NumberOfEpisodes = 3361\n",
      "\t\t EnvironmentSteps = 44004\n",
      "\t\t AverageReturn = -33600.0\n",
      "\t\t AverageEpisodeLength = 11.0\n"
     ]
    },
    {
     "name": "stdout",
     "output_type": "stream",
     "text": [
      "Iteration:  11000\n"
     ]
    },
    {
     "name": "stderr",
     "output_type": "stream",
     "text": [
      "INFO:absl: \n",
      "\t\t NumberOfEpisodes = 3602\n",
      "\t\t EnvironmentSteps = 48004\n",
      "\t\t AverageReturn = -34643.0\n",
      "\t\t AverageEpisodeLength = 20.200000762939453\n"
     ]
    },
    {
     "name": "stdout",
     "output_type": "stream",
     "text": [
      "Iteration:  12000\n"
     ]
    },
    {
     "name": "stderr",
     "output_type": "stream",
     "text": [
      "INFO:absl: \n",
      "\t\t NumberOfEpisodes = 3868\n",
      "\t\t EnvironmentSteps = 52004\n",
      "\t\t AverageReturn = -36238.0\n",
      "\t\t AverageEpisodeLength = 16.0\n"
     ]
    },
    {
     "name": "stdout",
     "output_type": "stream",
     "text": [
      "Iteration:  13000\n"
     ]
    },
    {
     "name": "stderr",
     "output_type": "stream",
     "text": [
      "INFO:absl: \n",
      "\t\t NumberOfEpisodes = 4122\n",
      "\t\t EnvironmentSteps = 56004\n",
      "\t\t AverageReturn = -37651.0\n",
      "\t\t AverageEpisodeLength = 14.899999618530273\n"
     ]
    },
    {
     "name": "stdout",
     "output_type": "stream",
     "text": [
      "Iteration:  14000\n"
     ]
    },
    {
     "name": "stderr",
     "output_type": "stream",
     "text": [
      "INFO:absl: \n",
      "\t\t NumberOfEpisodes = 4379\n",
      "\t\t EnvironmentSteps = 60004\n",
      "\t\t AverageReturn = -38942.5\n",
      "\t\t AverageEpisodeLength = 16.5\n"
     ]
    },
    {
     "name": "stdout",
     "output_type": "stream",
     "text": [
      "Iteration:  15000\n"
     ]
    },
    {
     "name": "stderr",
     "output_type": "stream",
     "text": [
      "INFO:absl: \n",
      "\t\t NumberOfEpisodes = 4652\n",
      "\t\t EnvironmentSteps = 64004\n",
      "\t\t AverageReturn = -40761.5\n",
      "\t\t AverageEpisodeLength = 6.900000095367432\n"
     ]
    },
    {
     "name": "stdout",
     "output_type": "stream",
     "text": [
      "Iteration:  16000\n"
     ]
    },
    {
     "name": "stderr",
     "output_type": "stream",
     "text": [
      "INFO:absl: \n",
      "\t\t NumberOfEpisodes = 4892\n",
      "\t\t EnvironmentSteps = 68004\n",
      "\t\t AverageReturn = -41780.0\n",
      "\t\t AverageEpisodeLength = 16.700000762939453\n"
     ]
    },
    {
     "name": "stdout",
     "output_type": "stream",
     "text": [
      "Iteration:  17000\n"
     ]
    },
    {
     "name": "stderr",
     "output_type": "stream",
     "text": [
      "INFO:absl: \n",
      "\t\t NumberOfEpisodes = 5151\n",
      "\t\t EnvironmentSteps = 72004\n",
      "\t\t AverageReturn = -43156.0\n",
      "\t\t AverageEpisodeLength = 13.600000381469727\n"
     ]
    },
    {
     "name": "stdout",
     "output_type": "stream",
     "text": [
      "Iteration:  18000\n"
     ]
    },
    {
     "name": "stderr",
     "output_type": "stream",
     "text": [
      "INFO:absl: \n",
      "\t\t NumberOfEpisodes = 5414\n",
      "\t\t EnvironmentSteps = 76004\n",
      "\t\t AverageReturn = -44396.0\n",
      "\t\t AverageEpisodeLength = 22.600000381469727\n"
     ]
    },
    {
     "name": "stdout",
     "output_type": "stream",
     "text": [
      "Iteration:  19000\n"
     ]
    },
    {
     "name": "stderr",
     "output_type": "stream",
     "text": [
      "INFO:absl: \n",
      "\t\t NumberOfEpisodes = 5642\n",
      "\t\t EnvironmentSteps = 80004\n",
      "\t\t AverageReturn = -45070.0\n",
      "\t\t AverageEpisodeLength = 19.5\n"
     ]
    },
    {
     "name": "stdout",
     "output_type": "stream",
     "text": [
      "Iteration:  20000\n"
     ]
    },
    {
     "name": "stderr",
     "output_type": "stream",
     "text": [
      "INFO:absl: \n",
      "\t\t NumberOfEpisodes = 5887\n",
      "\t\t EnvironmentSteps = 84004\n",
      "\t\t AverageReturn = -46021.0\n",
      "\t\t AverageEpisodeLength = 19.899999618530273\n"
     ]
    },
    {
     "name": "stdout",
     "output_type": "stream",
     "text": [
      "Iteration:  21000\n"
     ]
    },
    {
     "name": "stderr",
     "output_type": "stream",
     "text": [
      "INFO:absl: \n",
      "\t\t NumberOfEpisodes = 6119\n",
      "\t\t EnvironmentSteps = 88004\n",
      "\t\t AverageReturn = -46576.5\n",
      "\t\t AverageEpisodeLength = 17.799999237060547\n"
     ]
    },
    {
     "name": "stdout",
     "output_type": "stream",
     "text": [
      "Iteration:  22000\n"
     ]
    },
    {
     "name": "stderr",
     "output_type": "stream",
     "text": [
      "INFO:absl: \n",
      "\t\t NumberOfEpisodes = 6366\n",
      "\t\t EnvironmentSteps = 92004\n",
      "\t\t AverageReturn = -47547.5\n",
      "\t\t AverageEpisodeLength = 11.399999618530273\n"
     ]
    },
    {
     "name": "stdout",
     "output_type": "stream",
     "text": [
      "Iteration:  23000\n"
     ]
    },
    {
     "name": "stderr",
     "output_type": "stream",
     "text": [
      "INFO:absl: \n",
      "\t\t NumberOfEpisodes = 6599\n",
      "\t\t EnvironmentSteps = 96004\n",
      "\t\t AverageReturn = -48128.5\n",
      "\t\t AverageEpisodeLength = 14.199999809265137\n"
     ]
    },
    {
     "name": "stdout",
     "output_type": "stream",
     "text": [
      "Iteration:  24000\n"
     ]
    },
    {
     "name": "stderr",
     "output_type": "stream",
     "text": [
      "INFO:absl: \n",
      "\t\t NumberOfEpisodes = 6802\n",
      "\t\t EnvironmentSteps = 100004\n",
      "\t\t AverageReturn = -48178.5\n",
      "\t\t AverageEpisodeLength = 20.5\n"
     ]
    },
    {
     "name": "stdout",
     "output_type": "stream",
     "text": [
      "Iteration:  25000\n"
     ]
    },
    {
     "name": "stderr",
     "output_type": "stream",
     "text": [
      "INFO:absl: \n",
      "\t\t NumberOfEpisodes = 7014\n",
      "\t\t EnvironmentSteps = 104004\n",
      "\t\t AverageReturn = -48408.0\n",
      "\t\t AverageEpisodeLength = 22.600000381469727\n"
     ]
    },
    {
     "name": "stdout",
     "output_type": "stream",
     "text": [
      "Iteration:  26000\n"
     ]
    },
    {
     "name": "stderr",
     "output_type": "stream",
     "text": [
      "INFO:absl: \n",
      "\t\t NumberOfEpisodes = 7237\n",
      "\t\t EnvironmentSteps = 108004\n",
      "\t\t AverageReturn = -48853.5\n",
      "\t\t AverageEpisodeLength = 21.200000762939453\n"
     ]
    },
    {
     "name": "stdout",
     "output_type": "stream",
     "text": [
      "Iteration:  27000\n"
     ]
    },
    {
     "name": "stderr",
     "output_type": "stream",
     "text": [
      "INFO:absl: \n",
      "\t\t NumberOfEpisodes = 7463\n",
      "\t\t EnvironmentSteps = 112004\n",
      "\t\t AverageReturn = -49179.5\n",
      "\t\t AverageEpisodeLength = 8.800000190734863\n"
     ]
    },
    {
     "name": "stdout",
     "output_type": "stream",
     "text": [
      "Iteration:  28000\n"
     ]
    },
    {
     "name": "stderr",
     "output_type": "stream",
     "text": [
      "INFO:absl: \n",
      "\t\t NumberOfEpisodes = 7708\n",
      "\t\t EnvironmentSteps = 116004\n",
      "\t\t AverageReturn = -49969.5\n",
      "\t\t AverageEpisodeLength = 15.100000381469727\n"
     ]
    },
    {
     "name": "stdout",
     "output_type": "stream",
     "text": [
      "Iteration:  29000\n"
     ]
    },
    {
     "name": "stderr",
     "output_type": "stream",
     "text": [
      "INFO:absl: \n",
      "\t\t NumberOfEpisodes = 7911\n",
      "\t\t EnvironmentSteps = 120004\n",
      "\t\t AverageReturn = -49968.5\n",
      "\t\t AverageEpisodeLength = 20.700000762939453\n"
     ]
    },
    {
     "name": "stdout",
     "output_type": "stream",
     "text": [
      "Iteration:  30000\n"
     ]
    },
    {
     "name": "stderr",
     "output_type": "stream",
     "text": [
      "INFO:absl: \n",
      "\t\t NumberOfEpisodes = 8122\n",
      "\t\t EnvironmentSteps = 124004\n",
      "\t\t AverageReturn = -50168.0\n",
      "\t\t AverageEpisodeLength = 20.5\n"
     ]
    },
    {
     "name": "stdout",
     "output_type": "stream",
     "text": [
      "Iteration:  31000\n"
     ]
    },
    {
     "name": "stderr",
     "output_type": "stream",
     "text": [
      "INFO:absl: \n",
      "\t\t NumberOfEpisodes = 8316\n",
      "\t\t EnvironmentSteps = 128004\n",
      "\t\t AverageReturn = -50005.5\n",
      "\t\t AverageEpisodeLength = 24.700000762939453\n"
     ]
    },
    {
     "name": "stdout",
     "output_type": "stream",
     "text": [
      "Iteration:  32000\n"
     ]
    },
    {
     "name": "stderr",
     "output_type": "stream",
     "text": [
      "INFO:absl: \n",
      "\t\t NumberOfEpisodes = 8506\n",
      "\t\t EnvironmentSteps = 132004\n",
      "\t\t AverageReturn = -49697.5\n",
      "\t\t AverageEpisodeLength = 31.200000762939453\n"
     ]
    },
    {
     "name": "stdout",
     "output_type": "stream",
     "text": [
      "Iteration:  33000\n"
     ]
    },
    {
     "name": "stderr",
     "output_type": "stream",
     "text": [
      "INFO:absl: \n",
      "\t\t NumberOfEpisodes = 8738\n",
      "\t\t EnvironmentSteps = 136004\n",
      "\t\t AverageReturn = -50110.0\n",
      "\t\t AverageEpisodeLength = 25.0\n"
     ]
    },
    {
     "name": "stdout",
     "output_type": "stream",
     "text": [
      "Iteration:  34000\n"
     ]
    },
    {
     "name": "stderr",
     "output_type": "stream",
     "text": [
      "INFO:absl: \n",
      "\t\t NumberOfEpisodes = 8950\n",
      "\t\t EnvironmentSteps = 140004\n",
      "\t\t AverageReturn = -50021.0\n",
      "\t\t AverageEpisodeLength = 22.799999237060547\n"
     ]
    },
    {
     "name": "stdout",
     "output_type": "stream",
     "text": [
      "Iteration:  35000\n"
     ]
    },
    {
     "name": "stderr",
     "output_type": "stream",
     "text": [
      "INFO:absl: \n",
      "\t\t NumberOfEpisodes = 9154\n",
      "\t\t EnvironmentSteps = 144004\n",
      "\t\t AverageReturn = -49863.0\n",
      "\t\t AverageEpisodeLength = 8.399999618530273\n"
     ]
    },
    {
     "name": "stdout",
     "output_type": "stream",
     "text": [
      "Iteration:  36000\n"
     ]
    },
    {
     "name": "stderr",
     "output_type": "stream",
     "text": [
      "INFO:absl: \n",
      "\t\t NumberOfEpisodes = 9376\n",
      "\t\t EnvironmentSteps = 148004\n",
      "\t\t AverageReturn = -49827.5\n",
      "\t\t AverageEpisodeLength = 25.200000762939453\n"
     ]
    },
    {
     "name": "stdout",
     "output_type": "stream",
     "text": [
      "Iteration:  37000\n"
     ]
    },
    {
     "name": "stderr",
     "output_type": "stream",
     "text": [
      "INFO:absl: \n",
      "\t\t NumberOfEpisodes = 9571\n",
      "\t\t EnvironmentSteps = 152004\n",
      "\t\t AverageReturn = -49660.5\n",
      "\t\t AverageEpisodeLength = 22.100000381469727\n"
     ]
    },
    {
     "name": "stdout",
     "output_type": "stream",
     "text": [
      "Iteration:  38000\n"
     ]
    },
    {
     "name": "stderr",
     "output_type": "stream",
     "text": [
      "INFO:absl: \n",
      "\t\t NumberOfEpisodes = 9775\n",
      "\t\t EnvironmentSteps = 156004\n",
      "\t\t AverageReturn = -49651.0\n",
      "\t\t AverageEpisodeLength = 22.299999237060547\n"
     ]
    },
    {
     "name": "stdout",
     "output_type": "stream",
     "text": [
      "Iteration:  39000\n"
     ]
    },
    {
     "name": "stderr",
     "output_type": "stream",
     "text": [
      "INFO:absl: \n",
      "\t\t NumberOfEpisodes = 9974\n",
      "\t\t EnvironmentSteps = 160004\n",
      "\t\t AverageReturn = -49537.5\n",
      "\t\t AverageEpisodeLength = 15.5\n"
     ]
    },
    {
     "name": "stdout",
     "output_type": "stream",
     "text": [
      "Iteration:  40000\n"
     ]
    },
    {
     "name": "stderr",
     "output_type": "stream",
     "text": [
      "INFO:absl: \n",
      "\t\t NumberOfEpisodes = 10180\n",
      "\t\t EnvironmentSteps = 164004\n",
      "\t\t AverageReturn = -49328.5\n",
      "\t\t AverageEpisodeLength = 25.200000762939453\n"
     ]
    },
    {
     "name": "stdout",
     "output_type": "stream",
     "text": [
      "Iteration:  41000\n"
     ]
    },
    {
     "name": "stderr",
     "output_type": "stream",
     "text": [
      "INFO:absl: \n",
      "\t\t NumberOfEpisodes = 10387\n",
      "\t\t EnvironmentSteps = 168004\n",
      "\t\t AverageReturn = -49252.5\n",
      "\t\t AverageEpisodeLength = 32.29999923706055\n"
     ]
    },
    {
     "name": "stdout",
     "output_type": "stream",
     "text": [
      "Iteration:  42000\n"
     ]
    },
    {
     "name": "stderr",
     "output_type": "stream",
     "text": [
      "INFO:absl: \n",
      "\t\t NumberOfEpisodes = 10594\n",
      "\t\t EnvironmentSteps = 172004\n",
      "\t\t AverageReturn = -49350.0\n",
      "\t\t AverageEpisodeLength = 14.100000381469727\n"
     ]
    },
    {
     "name": "stdout",
     "output_type": "stream",
     "text": [
      "Iteration:  43000\n"
     ]
    },
    {
     "name": "stderr",
     "output_type": "stream",
     "text": [
      "INFO:absl: \n",
      "\t\t NumberOfEpisodes = 10786\n",
      "\t\t EnvironmentSteps = 176004\n",
      "\t\t AverageReturn = -48794.0\n",
      "\t\t AverageEpisodeLength = 20.600000381469727\n"
     ]
    },
    {
     "name": "stdout",
     "output_type": "stream",
     "text": [
      "Iteration:  44000\n"
     ]
    },
    {
     "name": "stderr",
     "output_type": "stream",
     "text": [
      "INFO:absl: \n",
      "\t\t NumberOfEpisodes = 10963\n",
      "\t\t EnvironmentSteps = 180004\n",
      "\t\t AverageReturn = -48199.0\n",
      "\t\t AverageEpisodeLength = 16.200000762939453\n"
     ]
    },
    {
     "name": "stdout",
     "output_type": "stream",
     "text": [
      "Iteration:  45000\n"
     ]
    },
    {
     "name": "stderr",
     "output_type": "stream",
     "text": [
      "INFO:absl: \n",
      "\t\t NumberOfEpisodes = 11161\n",
      "\t\t EnvironmentSteps = 184004\n",
      "\t\t AverageReturn = -48006.5\n",
      "\t\t AverageEpisodeLength = 8.800000190734863\n"
     ]
    },
    {
     "name": "stdout",
     "output_type": "stream",
     "text": [
      "Iteration:  46000\n"
     ]
    },
    {
     "name": "stderr",
     "output_type": "stream",
     "text": [
      "INFO:absl: \n",
      "\t\t NumberOfEpisodes = 11332\n",
      "\t\t EnvironmentSteps = 188004\n",
      "\t\t AverageReturn = -47311.0\n",
      "\t\t AverageEpisodeLength = 14.600000381469727\n"
     ]
    },
    {
     "name": "stdout",
     "output_type": "stream",
     "text": [
      "Iteration:  47000\n"
     ]
    },
    {
     "name": "stderr",
     "output_type": "stream",
     "text": [
      "INFO:absl: \n",
      "\t\t NumberOfEpisodes = 11524\n",
      "\t\t EnvironmentSteps = 192004\n",
      "\t\t AverageReturn = -46992.0\n",
      "\t\t AverageEpisodeLength = 19.100000381469727\n"
     ]
    },
    {
     "name": "stdout",
     "output_type": "stream",
     "text": [
      "Iteration:  48000\n"
     ]
    },
    {
     "name": "stderr",
     "output_type": "stream",
     "text": [
      "INFO:absl: \n",
      "\t\t NumberOfEpisodes = 11716\n",
      "\t\t EnvironmentSteps = 196004\n",
      "\t\t AverageReturn = -46766.0\n",
      "\t\t AverageEpisodeLength = 13.899999618530273\n"
     ]
    },
    {
     "name": "stdout",
     "output_type": "stream",
     "text": [
      "Iteration:  49000\n"
     ]
    },
    {
     "name": "stderr",
     "output_type": "stream",
     "text": [
      "INFO:absl: \n",
      "\t\t NumberOfEpisodes = 11879\n",
      "\t\t EnvironmentSteps = 200004\n",
      "\t\t AverageReturn = -45710.5\n",
      "\t\t AverageEpisodeLength = 26.299999237060547\n"
     ]
    },
    {
     "name": "stdout",
     "output_type": "stream",
     "text": [
      "Iteration:  50000\n"
     ]
    },
    {
     "name": "stderr",
     "output_type": "stream",
     "text": [
      "INFO:absl: \n",
      "\t\t NumberOfEpisodes = 12059\n",
      "\t\t EnvironmentSteps = 204004\n",
      "\t\t AverageReturn = -44859.0\n",
      "\t\t AverageEpisodeLength = 28.0\n"
     ]
    },
    {
     "name": "stdout",
     "output_type": "stream",
     "text": [
      "Iteration:  51000\n"
     ]
    },
    {
     "name": "stderr",
     "output_type": "stream",
     "text": [
      "INFO:absl: \n",
      "\t\t NumberOfEpisodes = 12218\n",
      "\t\t EnvironmentSteps = 208004\n",
      "\t\t AverageReturn = -43849.0\n",
      "\t\t AverageEpisodeLength = 24.799999237060547\n"
     ]
    },
    {
     "name": "stdout",
     "output_type": "stream",
     "text": [
      "Iteration:  52000\n"
     ]
    },
    {
     "name": "stderr",
     "output_type": "stream",
     "text": [
      "INFO:absl: \n",
      "\t\t NumberOfEpisodes = 12389\n",
      "\t\t EnvironmentSteps = 212004\n",
      "\t\t AverageReturn = -42824.0\n",
      "\t\t AverageEpisodeLength = 33.79999923706055\n"
     ]
    },
    {
     "name": "stdout",
     "output_type": "stream",
     "text": [
      "Iteration:  53000\n"
     ]
    },
    {
     "name": "stderr",
     "output_type": "stream",
     "text": [
      "INFO:absl: \n",
      "\t\t NumberOfEpisodes = 12540\n",
      "\t\t EnvironmentSteps = 216004\n",
      "\t\t AverageReturn = -41538.5\n",
      "\t\t AverageEpisodeLength = 31.700000762939453\n"
     ]
    },
    {
     "name": "stdout",
     "output_type": "stream",
     "text": [
      "Iteration:  54000\n"
     ]
    },
    {
     "name": "stderr",
     "output_type": "stream",
     "text": [
      "INFO:absl: \n",
      "\t\t NumberOfEpisodes = 12698\n",
      "\t\t EnvironmentSteps = 220004\n",
      "\t\t AverageReturn = -40140.5\n",
      "\t\t AverageEpisodeLength = 22.600000381469727\n"
     ]
    },
    {
     "name": "stdout",
     "output_type": "stream",
     "text": [
      "Iteration:  55000\n"
     ]
    },
    {
     "name": "stderr",
     "output_type": "stream",
     "text": [
      "INFO:absl: \n",
      "\t\t NumberOfEpisodes = 12860\n",
      "\t\t EnvironmentSteps = 224004\n",
      "\t\t AverageReturn = -38972.0\n",
      "\t\t AverageEpisodeLength = 37.400001525878906\n"
     ]
    },
    {
     "name": "stdout",
     "output_type": "stream",
     "text": [
      "Iteration:  56000\n"
     ]
    },
    {
     "name": "stderr",
     "output_type": "stream",
     "text": [
      "INFO:absl: \n",
      "\t\t NumberOfEpisodes = 13010\n",
      "\t\t EnvironmentSteps = 228004\n",
      "\t\t AverageReturn = -37684.5\n",
      "\t\t AverageEpisodeLength = 29.799999237060547\n"
     ]
    },
    {
     "name": "stdout",
     "output_type": "stream",
     "text": [
      "Iteration:  57000\n"
     ]
    },
    {
     "name": "stderr",
     "output_type": "stream",
     "text": [
      "INFO:absl: \n",
      "\t\t NumberOfEpisodes = 13158\n",
      "\t\t EnvironmentSteps = 232004\n",
      "\t\t AverageReturn = -36017.0\n",
      "\t\t AverageEpisodeLength = 16.700000762939453\n"
     ]
    },
    {
     "name": "stdout",
     "output_type": "stream",
     "text": [
      "Iteration:  58000\n"
     ]
    },
    {
     "name": "stderr",
     "output_type": "stream",
     "text": [
      "INFO:absl: \n",
      "\t\t NumberOfEpisodes = 13314\n",
      "\t\t EnvironmentSteps = 236004\n",
      "\t\t AverageReturn = -34913.0\n",
      "\t\t AverageEpisodeLength = 32.900001525878906\n"
     ]
    },
    {
     "name": "stdout",
     "output_type": "stream",
     "text": [
      "Iteration:  59000\n"
     ]
    },
    {
     "name": "stderr",
     "output_type": "stream",
     "text": [
      "INFO:absl: \n",
      "\t\t NumberOfEpisodes = 13443\n",
      "\t\t EnvironmentSteps = 240004\n",
      "\t\t AverageReturn = -33237.0\n",
      "\t\t AverageEpisodeLength = 17.5\n"
     ]
    },
    {
     "name": "stdout",
     "output_type": "stream",
     "text": [
      "Iteration:  60000\n"
     ]
    },
    {
     "name": "stderr",
     "output_type": "stream",
     "text": [
      "INFO:absl: \n",
      "\t\t NumberOfEpisodes = 13614\n",
      "\t\t EnvironmentSteps = 244004\n",
      "\t\t AverageReturn = -32205.0\n",
      "\t\t AverageEpisodeLength = 25.299999237060547\n"
     ]
    },
    {
     "name": "stdout",
     "output_type": "stream",
     "text": [
      "Iteration:  61000\n"
     ]
    },
    {
     "name": "stderr",
     "output_type": "stream",
     "text": [
      "INFO:absl: \n",
      "\t\t NumberOfEpisodes = 13759\n",
      "\t\t EnvironmentSteps = 248004\n",
      "\t\t AverageReturn = -30882.0\n",
      "\t\t AverageEpisodeLength = 25.0\n"
     ]
    },
    {
     "name": "stdout",
     "output_type": "stream",
     "text": [
      "Iteration:  62000\n"
     ]
    },
    {
     "name": "stderr",
     "output_type": "stream",
     "text": [
      "INFO:absl: \n",
      "\t\t NumberOfEpisodes = 13916\n",
      "\t\t EnvironmentSteps = 252004\n",
      "\t\t AverageReturn = -29482.5\n",
      "\t\t AverageEpisodeLength = 15.0\n"
     ]
    },
    {
     "name": "stdout",
     "output_type": "stream",
     "text": [
      "Iteration:  63000\n"
     ]
    },
    {
     "name": "stderr",
     "output_type": "stream",
     "text": [
      "INFO:absl: \n",
      "\t\t NumberOfEpisodes = 14078\n",
      "\t\t EnvironmentSteps = 256004\n",
      "\t\t AverageReturn = -28567.0\n",
      "\t\t AverageEpisodeLength = 16.200000762939453\n"
     ]
    },
    {
     "name": "stdout",
     "output_type": "stream",
     "text": [
      "Iteration:  64000\n"
     ]
    },
    {
     "name": "stderr",
     "output_type": "stream",
     "text": [
      "INFO:absl: \n",
      "\t\t NumberOfEpisodes = 14236\n",
      "\t\t EnvironmentSteps = 260004\n",
      "\t\t AverageReturn = -27366.0\n",
      "\t\t AverageEpisodeLength = 24.399999618530273\n"
     ]
    },
    {
     "name": "stdout",
     "output_type": "stream",
     "text": [
      "Iteration:  65000\n"
     ]
    },
    {
     "name": "stderr",
     "output_type": "stream",
     "text": [
      "INFO:absl: \n",
      "\t\t NumberOfEpisodes = 14390\n",
      "\t\t EnvironmentSteps = 264004\n",
      "\t\t AverageReturn = -26085.5\n",
      "\t\t AverageEpisodeLength = 13.800000190734863\n"
     ]
    },
    {
     "name": "stdout",
     "output_type": "stream",
     "text": [
      "Iteration:  66000\n"
     ]
    },
    {
     "name": "stderr",
     "output_type": "stream",
     "text": [
      "INFO:absl: \n",
      "\t\t NumberOfEpisodes = 14518\n",
      "\t\t EnvironmentSteps = 268004\n",
      "\t\t AverageReturn = -24277.5\n",
      "\t\t AverageEpisodeLength = 33.29999923706055\n"
     ]
    },
    {
     "name": "stdout",
     "output_type": "stream",
     "text": [
      "Iteration:  67000\n"
     ]
    },
    {
     "name": "stderr",
     "output_type": "stream",
     "text": [
      "INFO:absl: \n",
      "\t\t NumberOfEpisodes = 14644\n",
      "\t\t EnvironmentSteps = 272004\n",
      "\t\t AverageReturn = -22253.5\n",
      "\t\t AverageEpisodeLength = 30.899999618530273\n"
     ]
    },
    {
     "name": "stdout",
     "output_type": "stream",
     "text": [
      "Iteration:  68000\n"
     ]
    },
    {
     "name": "stderr",
     "output_type": "stream",
     "text": [
      "INFO:absl: \n",
      "\t\t NumberOfEpisodes = 14781\n",
      "\t\t EnvironmentSteps = 276004\n",
      "\t\t AverageReturn = -20411.0\n",
      "\t\t AverageEpisodeLength = 34.20000076293945\n"
     ]
    },
    {
     "name": "stdout",
     "output_type": "stream",
     "text": [
      "Iteration:  69000\n"
     ]
    },
    {
     "name": "stderr",
     "output_type": "stream",
     "text": [
      "INFO:absl: \n",
      "\t\t NumberOfEpisodes = 14921\n",
      "\t\t EnvironmentSteps = 280004\n",
      "\t\t AverageReturn = -18524.0\n",
      "\t\t AverageEpisodeLength = 25.299999237060547\n"
     ]
    },
    {
     "name": "stdout",
     "output_type": "stream",
     "text": [
      "Iteration:  70000\n"
     ]
    },
    {
     "name": "stderr",
     "output_type": "stream",
     "text": [
      "INFO:absl: \n",
      "\t\t NumberOfEpisodes = 15069\n",
      "\t\t EnvironmentSteps = 284004\n",
      "\t\t AverageReturn = -17149.5\n",
      "\t\t AverageEpisodeLength = 26.299999237060547\n"
     ]
    },
    {
     "name": "stdout",
     "output_type": "stream",
     "text": [
      "Iteration:  71000\n"
     ]
    },
    {
     "name": "stderr",
     "output_type": "stream",
     "text": [
      "INFO:absl: \n",
      "\t\t NumberOfEpisodes = 15198\n",
      "\t\t EnvironmentSteps = 288004\n",
      "\t\t AverageReturn = -15171.0\n",
      "\t\t AverageEpisodeLength = 33.400001525878906\n"
     ]
    },
    {
     "name": "stdout",
     "output_type": "stream",
     "text": [
      "Iteration:  72000\n"
     ]
    },
    {
     "name": "stderr",
     "output_type": "stream",
     "text": [
      "INFO:absl: \n",
      "\t\t NumberOfEpisodes = 15326\n",
      "\t\t EnvironmentSteps = 292004\n",
      "\t\t AverageReturn = -13044.0\n",
      "\t\t AverageEpisodeLength = 34.900001525878906\n"
     ]
    },
    {
     "name": "stdout",
     "output_type": "stream",
     "text": [
      "Iteration:  73000\n"
     ]
    },
    {
     "name": "stderr",
     "output_type": "stream",
     "text": [
      "INFO:absl: \n",
      "\t\t NumberOfEpisodes = 15457\n",
      "\t\t EnvironmentSteps = 296004\n",
      "\t\t AverageReturn = -10743.5\n",
      "\t\t AverageEpisodeLength = 32.400001525878906\n"
     ]
    },
    {
     "name": "stdout",
     "output_type": "stream",
     "text": [
      "Iteration:  74000\n"
     ]
    },
    {
     "name": "stderr",
     "output_type": "stream",
     "text": [
      "INFO:absl: \n",
      "\t\t NumberOfEpisodes = 15578\n",
      "\t\t EnvironmentSteps = 300004\n",
      "\t\t AverageReturn = -8229.0\n",
      "\t\t AverageEpisodeLength = 29.899999618530273\n"
     ]
    },
    {
     "name": "stdout",
     "output_type": "stream",
     "text": [
      "Iteration:  75000\n"
     ]
    },
    {
     "name": "stderr",
     "output_type": "stream",
     "text": [
      "INFO:absl: \n",
      "\t\t NumberOfEpisodes = 15704\n",
      "\t\t EnvironmentSteps = 304004\n",
      "\t\t AverageReturn = -5992.0\n",
      "\t\t AverageEpisodeLength = 43.29999923706055\n"
     ]
    },
    {
     "name": "stdout",
     "output_type": "stream",
     "text": [
      "Iteration:  76000\n"
     ]
    },
    {
     "name": "stderr",
     "output_type": "stream",
     "text": [
      "INFO:absl: \n",
      "\t\t NumberOfEpisodes = 15822\n",
      "\t\t EnvironmentSteps = 308004\n",
      "\t\t AverageReturn = -3403.0\n",
      "\t\t AverageEpisodeLength = 27.5\n"
     ]
    },
    {
     "name": "stdout",
     "output_type": "stream",
     "text": [
      "Iteration:  77000\n"
     ]
    },
    {
     "name": "stderr",
     "output_type": "stream",
     "text": [
      "INFO:absl: \n",
      "\t\t NumberOfEpisodes = 15939\n",
      "\t\t EnvironmentSteps = 312004\n",
      "\t\t AverageReturn = -970.5\n",
      "\t\t AverageEpisodeLength = 28.700000762939453\n"
     ]
    },
    {
     "name": "stdout",
     "output_type": "stream",
     "text": [
      "Iteration:  78000\n"
     ]
    },
    {
     "name": "stderr",
     "output_type": "stream",
     "text": [
      "INFO:absl: \n",
      "\t\t NumberOfEpisodes = 16053\n",
      "\t\t EnvironmentSteps = 316004\n",
      "\t\t AverageReturn = 1274.5\n",
      "\t\t AverageEpisodeLength = 41.400001525878906\n"
     ]
    },
    {
     "name": "stdout",
     "output_type": "stream",
     "text": [
      "Iteration:  79000\n"
     ]
    }
   ],
   "source": [
    "train_agent(episodes_count)\n"
   ]
  },
  {
   "cell_type": "code",
   "execution_count": 11,
   "metadata": {},
   "outputs": [
    {
     "name": "stdout",
     "output_type": "stream",
     "text": [
      "Map:\n",
      " [[[0 0 0 0 0]\n",
      "  [0 0 0 0 0]\n",
      "  [0 0 0 0 0]\n",
      "  [0 0 0 0 3]\n",
      "  [1 2 0 0 0]]]\n",
      "Direction:\n",
      " tf.Tensor([[ True False  True  True]], shape=(1, 4), dtype=bool)\n",
      "Action:  [1]\n",
      "Map:\n",
      " [[[0 0 0 0 0]\n",
      "  [0 0 0 0 0]\n",
      "  [0 0 0 0 0]\n",
      "  [1 0 0 0 3]\n",
      "  [2 0 0 0 0]]]\n",
      "Direction:\n",
      " tf.Tensor([[ True False False  True]], shape=(1, 4), dtype=bool)\n",
      "Action:  [2]\n",
      "Map:\n",
      " [[[0 0 0 0 0]\n",
      "  [0 0 0 0 0]\n",
      "  [0 0 0 0 0]\n",
      "  [2 1 0 0 3]\n",
      "  [0 0 0 0 0]]]\n",
      "Direction:\n",
      " tf.Tensor([[ True False False False]], shape=(1, 4), dtype=bool)\n",
      "Action:  [2]\n",
      "Map:\n",
      " [[[0 0 0 0 0]\n",
      "  [0 0 0 0 0]\n",
      "  [0 0 0 0 0]\n",
      "  [0 2 1 0 3]\n",
      "  [0 0 0 0 0]]]\n",
      "Direction:\n",
      " tf.Tensor([[ True False False False]], shape=(1, 4), dtype=bool)\n",
      "Action:  [2]\n",
      "Map:\n",
      " [[[0 0 0 0 0]\n",
      "  [0 0 0 0 0]\n",
      "  [0 0 0 0 0]\n",
      "  [0 0 2 1 3]\n",
      "  [0 0 0 0 0]]]\n",
      "Direction:\n",
      " tf.Tensor([[ True False False False]], shape=(1, 4), dtype=bool)\n",
      "Action:  [2]\n",
      "Map:\n",
      " [[[0 0 0 0 0]\n",
      "  [0 0 0 0 0]\n",
      "  [3 0 0 0 0]\n",
      "  [0 0 2 2 1]\n",
      "  [0 0 0 0 0]]]\n",
      "Direction:\n",
      " tf.Tensor([[ True False  True False]], shape=(1, 4), dtype=bool)\n",
      "Action:  [3]\n",
      "Map:\n",
      " [[[0 0 0 0 0]\n",
      "  [0 0 0 0 0]\n",
      "  [3 0 0 0 0]\n",
      "  [0 0 0 2 2]\n",
      "  [0 0 0 0 1]]]\n",
      "Direction:\n",
      " tf.Tensor([[False  True  True  True]], shape=(1, 4), dtype=bool)\n",
      "Action:  [0]\n",
      "Map:\n",
      " [[[0 0 0 0 0]\n",
      "  [0 0 0 0 0]\n",
      "  [3 0 0 0 0]\n",
      "  [0 0 0 0 2]\n",
      "  [0 0 0 1 2]]]\n",
      "Direction:\n",
      " tf.Tensor([[False False  True  True]], shape=(1, 4), dtype=bool)\n",
      "Action:  [0]\n",
      "Map:\n",
      " [[[0 0 0 0 0]\n",
      "  [0 0 0 0 0]\n",
      "  [3 0 0 0 0]\n",
      "  [0 0 0 0 0]\n",
      "  [0 0 1 2 2]]]\n",
      "Direction:\n",
      " tf.Tensor([[False False  True  True]], shape=(1, 4), dtype=bool)\n",
      "Action:  [0]\n",
      "Map:\n",
      " [[[0 0 0 0 0]\n",
      "  [0 0 0 0 0]\n",
      "  [3 0 0 0 0]\n",
      "  [0 0 0 0 0]\n",
      "  [0 1 2 2 0]]]\n",
      "Direction:\n",
      " tf.Tensor([[False False  True  True]], shape=(1, 4), dtype=bool)\n",
      "Action:  [0]\n",
      "Map:\n",
      " [[[0 0 0 0 0]\n",
      "  [0 0 0 0 0]\n",
      "  [3 0 0 0 0]\n",
      "  [0 0 0 0 0]\n",
      "  [1 2 2 0 0]]]\n",
      "Direction:\n",
      " tf.Tensor([[ True False  True  True]], shape=(1, 4), dtype=bool)\n",
      "Action:  [1]\n",
      "Map:\n",
      " [[[0 0 0 0 0]\n",
      "  [0 0 0 0 0]\n",
      "  [3 0 0 0 0]\n",
      "  [1 0 0 0 0]\n",
      "  [2 2 0 0 0]]]\n",
      "Direction:\n",
      " tf.Tensor([[ True False False  True]], shape=(1, 4), dtype=bool)\n",
      "Action:  [1]\n",
      "Map:\n",
      " [[[0 0 3 0 0]\n",
      "  [0 0 0 0 0]\n",
      "  [1 0 0 0 0]\n",
      "  [2 0 0 0 0]\n",
      "  [2 2 0 0 0]]]\n",
      "Direction:\n",
      " tf.Tensor([[ True False False  True]], shape=(1, 4), dtype=bool)\n",
      "Action:  [1]\n",
      "Map:\n",
      " [[[0 0 3 0 0]\n",
      "  [1 0 0 0 0]\n",
      "  [2 0 0 0 0]\n",
      "  [2 0 0 0 0]\n",
      "  [2 0 0 0 0]]]\n",
      "Direction:\n",
      " tf.Tensor([[ True False False  True]], shape=(1, 4), dtype=bool)\n",
      "Action:  [1]\n",
      "Map:\n",
      " [[[1 0 3 0 0]\n",
      "  [2 0 0 0 0]\n",
      "  [2 0 0 0 0]\n",
      "  [2 0 0 0 0]\n",
      "  [0 0 0 0 0]]]\n",
      "Direction:\n",
      " tf.Tensor([[ True  True False  True]], shape=(1, 4), dtype=bool)\n",
      "Action:  [2]\n",
      "Map:\n",
      " [[[2 1 3 0 0]\n",
      "  [2 0 0 0 0]\n",
      "  [2 0 0 0 0]\n",
      "  [0 0 0 0 0]\n",
      "  [0 0 0 0 0]]]\n",
      "Direction:\n",
      " tf.Tensor([[ True  True False False]], shape=(1, 4), dtype=bool)\n",
      "Action:  [2]\n",
      "Map:\n",
      " [[[2 2 1 0 0]\n",
      "  [2 0 0 0 3]\n",
      "  [2 0 0 0 0]\n",
      "  [0 0 0 0 0]\n",
      "  [0 0 0 0 0]]]\n",
      "Direction:\n",
      " tf.Tensor([[ True  True False False]], shape=(1, 4), dtype=bool)\n",
      "Action:  [2]\n",
      "Map:\n",
      " [[[2 2 2 1 0]\n",
      "  [2 0 0 0 3]\n",
      "  [0 0 0 0 0]\n",
      "  [0 0 0 0 0]\n",
      "  [0 0 0 0 0]]]\n",
      "Direction:\n",
      " tf.Tensor([[ True  True False False]], shape=(1, 4), dtype=bool)\n",
      "Action:  [2]\n",
      "Map:\n",
      " [[[2 2 2 2 1]\n",
      "  [0 0 0 0 3]\n",
      "  [0 0 0 0 0]\n",
      "  [0 0 0 0 0]\n",
      "  [0 0 0 0 0]]]\n",
      "Direction:\n",
      " tf.Tensor([[ True  True  True False]], shape=(1, 4), dtype=bool)\n",
      "Action:  [3]\n",
      "Map:\n",
      " [[[2 2 2 2 2]\n",
      "  [3 0 0 0 1]\n",
      "  [0 0 0 0 0]\n",
      "  [0 0 0 0 0]\n",
      "  [0 0 0 0 0]]]\n",
      "Direction:\n",
      " tf.Tensor([[False  True  True False]], shape=(1, 4), dtype=bool)\n",
      "Action:  [3]\n",
      "Map:\n",
      " [[[0 2 2 2 2]\n",
      "  [3 0 0 0 2]\n",
      "  [0 0 0 0 1]\n",
      "  [0 0 0 0 0]\n",
      "  [0 0 0 0 0]]]\n",
      "Direction:\n",
      " tf.Tensor([[False  True  True False]], shape=(1, 4), dtype=bool)\n",
      "Action:  [0]\n",
      "Map:\n",
      " [[[0 0 2 2 2]\n",
      "  [3 0 0 0 2]\n",
      "  [0 0 0 1 2]\n",
      "  [0 0 0 0 0]\n",
      "  [0 0 0 0 0]]]\n",
      "Direction:\n",
      " tf.Tensor([[False False  True False]], shape=(1, 4), dtype=bool)\n",
      "Action:  [0]\n",
      "Map:\n",
      " [[[0 0 0 2 2]\n",
      "  [3 0 0 0 2]\n",
      "  [0 0 1 2 2]\n",
      "  [0 0 0 0 0]\n",
      "  [0 0 0 0 0]]]\n",
      "Direction:\n",
      " tf.Tensor([[False False  True False]], shape=(1, 4), dtype=bool)\n",
      "Action:  [0]\n",
      "Map:\n",
      " [[[0 0 0 0 2]\n",
      "  [3 0 0 0 2]\n",
      "  [0 1 2 2 2]\n",
      "  [0 0 0 0 0]\n",
      "  [0 0 0 0 0]]]\n",
      "Direction:\n",
      " tf.Tensor([[False False  True False]], shape=(1, 4), dtype=bool)\n",
      "Action:  [0]\n",
      "Map:\n",
      " [[[0 0 0 0 0]\n",
      "  [3 0 0 0 2]\n",
      "  [1 2 2 2 2]\n",
      "  [0 0 0 0 0]\n",
      "  [0 0 0 0 0]]]\n",
      "Direction:\n",
      " tf.Tensor([[ True False  True False]], shape=(1, 4), dtype=bool)\n",
      "Action:  [1]\n",
      "Map:\n",
      " [[[0 0 0 0 0]\n",
      "  [1 0 0 0 2]\n",
      "  [2 2 2 2 2]\n",
      "  [0 0 0 3 0]\n",
      "  [0 0 0 0 0]]]\n",
      "Direction:\n",
      " tf.Tensor([[ True False False  True]], shape=(1, 4), dtype=bool)\n",
      "Action:  [2]\n",
      "Map:\n",
      " [[[0 0 0 0 0]\n",
      "  [2 1 0 0 0]\n",
      "  [2 2 2 2 2]\n",
      "  [0 0 0 3 0]\n",
      "  [0 0 0 0 0]]]\n",
      "Direction:\n",
      " tf.Tensor([[ True False False  True]], shape=(1, 4), dtype=bool)\n",
      "Action:  [2]\n",
      "Map:\n",
      " [[[0 0 0 0 0]\n",
      "  [2 2 1 0 0]\n",
      "  [2 2 2 2 0]\n",
      "  [0 0 0 3 0]\n",
      "  [0 0 0 0 0]]]\n",
      "Direction:\n",
      " tf.Tensor([[ True False False  True]], shape=(1, 4), dtype=bool)\n",
      "Action:  [2]\n",
      "Map:\n",
      " [[[0 0 0 0 0]\n",
      "  [2 2 2 1 0]\n",
      "  [2 2 2 0 0]\n",
      "  [0 0 0 3 0]\n",
      "  [0 0 0 0 0]]]\n",
      "Direction:\n",
      " tf.Tensor([[ True False False False]], shape=(1, 4), dtype=bool)\n",
      "Action:  [3]\n",
      "Map:\n",
      " [[[0 0 0 0 0]\n",
      "  [2 2 2 2 0]\n",
      "  [2 2 0 1 0]\n",
      "  [0 0 0 3 0]\n",
      "  [0 0 0 0 0]]]\n",
      "Direction:\n",
      " tf.Tensor([[False  True False False]], shape=(1, 4), dtype=bool)\n",
      "Action:  [3]\n",
      "Map:\n",
      " [[[0 0 0 3 0]\n",
      "  [2 2 2 2 0]\n",
      "  [2 2 0 2 0]\n",
      "  [0 0 0 1 0]\n",
      "  [0 0 0 0 0]]]\n",
      "Direction:\n",
      " tf.Tensor([[False  True False False]], shape=(1, 4), dtype=bool)\n",
      "Action:  [2]\n",
      "Map:\n",
      " [[[0 0 0 3 0]\n",
      "  [2 2 2 2 0]\n",
      "  [2 0 0 2 0]\n",
      "  [0 0 0 2 1]\n",
      "  [0 0 0 0 0]]]\n",
      "Direction:\n",
      " tf.Tensor([[ True False  True False]], shape=(1, 4), dtype=bool)\n",
      "Action:  [1]\n",
      "Map:\n",
      " [[[0 0 0 3 0]\n",
      "  [2 2 2 2 0]\n",
      "  [0 0 0 2 1]\n",
      "  [0 0 0 2 2]\n",
      "  [0 0 0 0 0]]]\n",
      "Direction:\n",
      " tf.Tensor([[ True False  True  True]], shape=(1, 4), dtype=bool)\n",
      "Action:  [1]\n",
      "Map:\n",
      " [[[0 0 0 3 0]\n",
      "  [0 2 2 2 1]\n",
      "  [0 0 0 2 2]\n",
      "  [0 0 0 2 2]\n",
      "  [0 0 0 0 0]]]\n",
      "Direction:\n",
      " tf.Tensor([[ True False  True  True]], shape=(1, 4), dtype=bool)\n",
      "Action:  [1]\n",
      "Map:\n",
      " [[[0 0 0 3 1]\n",
      "  [0 0 2 2 2]\n",
      "  [0 0 0 2 2]\n",
      "  [0 0 0 2 2]\n",
      "  [0 0 0 0 0]]]\n",
      "Direction:\n",
      " tf.Tensor([[False  True  True  True]], shape=(1, 4), dtype=bool)\n",
      "Action:  [0]\n",
      "Map:\n",
      " [[[0 0 0 1 2]\n",
      "  [0 0 2 2 2]\n",
      "  [0 0 0 2 2]\n",
      "  [0 0 0 2 2]\n",
      "  [3 0 0 0 0]]]\n",
      "Direction:\n",
      " tf.Tensor([[False  True  True  True]], shape=(1, 4), dtype=bool)\n",
      "Action:  [0]\n",
      "Map:\n",
      " [[[0 0 1 2 2]\n",
      "  [0 0 0 2 2]\n",
      "  [0 0 0 2 2]\n",
      "  [0 0 0 2 2]\n",
      "  [3 0 0 0 0]]]\n",
      "Direction:\n",
      " tf.Tensor([[False  True  True False]], shape=(1, 4), dtype=bool)\n",
      "Action:  [0]\n",
      "Map:\n",
      " [[[0 1 2 2 2]\n",
      "  [0 0 0 0 2]\n",
      "  [0 0 0 2 2]\n",
      "  [0 0 0 2 2]\n",
      "  [3 0 0 0 0]]]\n",
      "Direction:\n",
      " tf.Tensor([[False  True  True False]], shape=(1, 4), dtype=bool)\n",
      "Action:  [0]\n",
      "Map:\n",
      " [[[1 2 2 2 2]\n",
      "  [0 0 0 0 2]\n",
      "  [0 0 0 0 2]\n",
      "  [0 0 0 2 2]\n",
      "  [3 0 0 0 0]]]\n",
      "Direction:\n",
      " tf.Tensor([[ True  True  True False]], shape=(1, 4), dtype=bool)\n",
      "Action:  [3]\n",
      "Map:\n",
      " [[[2 2 2 2 2]\n",
      "  [1 0 0 0 2]\n",
      "  [0 0 0 0 2]\n",
      "  [0 0 0 0 2]\n",
      "  [3 0 0 0 0]]]\n",
      "Direction:\n",
      " tf.Tensor([[ True  True False False]], shape=(1, 4), dtype=bool)\n",
      "Action:  [3]\n",
      "Map:\n",
      " [[[2 2 2 2 2]\n",
      "  [2 0 0 0 2]\n",
      "  [1 0 0 0 2]\n",
      "  [0 0 0 0 0]\n",
      "  [3 0 0 0 0]]]\n",
      "Direction:\n",
      " tf.Tensor([[ True  True False False]], shape=(1, 4), dtype=bool)\n",
      "Action:  [3]\n",
      "Map:\n",
      " [[[2 2 2 2 2]\n",
      "  [2 0 0 0 2]\n",
      "  [2 0 0 0 0]\n",
      "  [1 0 0 0 0]\n",
      "  [3 0 0 0 0]]]\n",
      "Direction:\n",
      " tf.Tensor([[ True  True False False]], shape=(1, 4), dtype=bool)\n",
      "Action:  [3]\n",
      "Map:\n",
      " [[[2 2 2 2 2]\n",
      "  [2 0 0 0 2]\n",
      "  [2 0 0 0 0]\n",
      "  [2 0 0 0 0]\n",
      "  [1 0 0 0 3]]]\n",
      "Direction:\n",
      " tf.Tensor([[ True  True False  True]], shape=(1, 4), dtype=bool)\n",
      "Action:  [2]\n",
      "Map:\n",
      " [[[2 2 2 2 2]\n",
      "  [2 0 0 0 0]\n",
      "  [2 0 0 0 0]\n",
      "  [2 0 0 0 0]\n",
      "  [2 1 0 0 3]]]\n",
      "Direction:\n",
      " tf.Tensor([[ True False False  True]], shape=(1, 4), dtype=bool)\n",
      "Action:  [2]\n",
      "Map:\n",
      " [[[2 2 2 2 0]\n",
      "  [2 0 0 0 0]\n",
      "  [2 0 0 0 0]\n",
      "  [2 0 0 0 0]\n",
      "  [2 2 1 0 3]]]\n",
      "Direction:\n",
      " tf.Tensor([[ True False False  True]], shape=(1, 4), dtype=bool)\n",
      "Action:  [2]\n",
      "Map:\n",
      " [[[2 2 2 0 0]\n",
      "  [2 0 0 0 0]\n",
      "  [2 0 0 0 0]\n",
      "  [2 0 0 0 0]\n",
      "  [2 2 2 1 3]]]\n",
      "Direction:\n",
      " tf.Tensor([[ True False False  True]], shape=(1, 4), dtype=bool)\n",
      "Action:  [2]\n",
      "Map:\n",
      " [[[2 2 2 0 0]\n",
      "  [2 0 0 0 0]\n",
      "  [2 0 0 0 0]\n",
      "  [2 0 3 0 0]\n",
      "  [2 2 2 2 1]]]\n",
      "Direction:\n",
      " tf.Tensor([[ True False  True  True]], shape=(1, 4), dtype=bool)\n",
      "Action:  [1]\n",
      "Map:\n",
      " [[[2 2 0 0 0]\n",
      "  [2 0 0 0 0]\n",
      "  [2 0 0 0 0]\n",
      "  [2 0 3 0 1]\n",
      "  [2 2 2 2 2]]]\n",
      "Direction:\n",
      " tf.Tensor([[False False  True  True]], shape=(1, 4), dtype=bool)\n",
      "Action:  [0]\n",
      "Map:\n",
      " [[[2 0 0 0 0]\n",
      "  [2 0 0 0 0]\n",
      "  [2 0 0 0 0]\n",
      "  [2 0 3 1 2]\n",
      "  [2 2 2 2 2]]]\n",
      "Direction:\n",
      " tf.Tensor([[False False  True  True]], shape=(1, 4), dtype=bool)\n",
      "Action:  [0]\n",
      "Map:\n",
      " [[[2 0 0 0 0]\n",
      "  [2 0 3 0 0]\n",
      "  [2 0 0 0 0]\n",
      "  [2 0 1 2 2]\n",
      "  [2 2 2 2 2]]]\n",
      "Direction:\n",
      " tf.Tensor([[False False  True  True]], shape=(1, 4), dtype=bool)\n",
      "Action:  [1]\n",
      "Map:\n",
      " [[[0 0 0 0 0]\n",
      "  [2 0 3 0 0]\n",
      "  [2 0 1 0 0]\n",
      "  [2 0 2 2 2]\n",
      "  [2 2 2 2 2]]]\n",
      "Direction:\n",
      " tf.Tensor([[False False False  True]], shape=(1, 4), dtype=bool)\n",
      "Action:  [1]\n",
      "Map:\n",
      " [[[3 0 0 0 0]\n",
      "  [2 0 1 0 0]\n",
      "  [2 0 2 0 0]\n",
      "  [2 0 2 2 2]\n",
      "  [2 2 2 2 2]]]\n",
      "Direction:\n",
      " tf.Tensor([[False False False  True]], shape=(1, 4), dtype=bool)\n",
      "Action:  [0]\n",
      "Map:\n",
      " [[[3 0 0 0 0]\n",
      "  [0 1 2 0 0]\n",
      "  [2 0 2 0 0]\n",
      "  [2 0 2 2 2]\n",
      "  [2 2 2 2 2]]]\n",
      "Direction:\n",
      " tf.Tensor([[False False  True False]], shape=(1, 4), dtype=bool)\n",
      "Action:  [0]\n",
      "Map:\n",
      " [[[3 0 0 0 0]\n",
      "  [1 2 2 0 0]\n",
      "  [0 0 2 0 0]\n",
      "  [2 0 2 2 2]\n",
      "  [2 2 2 2 2]]]\n",
      "Direction:\n",
      " tf.Tensor([[ True False  True False]], shape=(1, 4), dtype=bool)\n",
      "Action:  [1]\n",
      "Map:\n",
      " [[[1 0 0 0 0]\n",
      "  [2 2 2 3 0]\n",
      "  [0 0 2 0 0]\n",
      "  [2 0 2 2 2]\n",
      "  [2 2 2 2 2]]]\n",
      "Direction:\n",
      " tf.Tensor([[ True  True False  True]], shape=(1, 4), dtype=bool)\n",
      "Action:  [2]\n",
      "Map:\n",
      " [[[2 1 0 0 0]\n",
      "  [2 2 2 3 0]\n",
      "  [0 0 2 0 0]\n",
      "  [0 0 2 2 2]\n",
      "  [2 2 2 2 2]]]\n",
      "Direction:\n",
      " tf.Tensor([[ True  True False  True]], shape=(1, 4), dtype=bool)\n",
      "Action:  [2]\n",
      "Map:\n",
      " [[[2 2 1 0 0]\n",
      "  [2 2 2 3 0]\n",
      "  [0 0 2 0 0]\n",
      "  [0 0 2 2 2]\n",
      "  [0 2 2 2 2]]]\n",
      "Direction:\n",
      " tf.Tensor([[ True  True False  True]], shape=(1, 4), dtype=bool)\n",
      "Action:  [2]\n",
      "Map:\n",
      " [[[2 2 2 1 0]\n",
      "  [2 2 2 3 0]\n",
      "  [0 0 2 0 0]\n",
      "  [0 0 2 2 2]\n",
      "  [0 0 2 2 2]]]\n",
      "Direction:\n",
      " tf.Tensor([[ True  True False False]], shape=(1, 4), dtype=bool)\n",
      "Action:  [3]\n",
      "Map:\n",
      " [[[2 2 2 2 0]\n",
      "  [2 2 2 1 0]\n",
      "  [3 0 2 0 0]\n",
      "  [0 0 2 2 2]\n",
      "  [0 0 2 2 2]]]\n",
      "Direction:\n",
      " tf.Tensor([[ True  True False False]], shape=(1, 4), dtype=bool)\n",
      "Action:  [2]\n",
      "Map:\n",
      " [[[2 2 2 2 0]\n",
      "  [2 2 2 2 1]\n",
      "  [3 0 2 0 0]\n",
      "  [0 0 2 2 2]\n",
      "  [0 0 0 2 2]]]\n",
      "Direction:\n",
      " tf.Tensor([[ True False  True False]], shape=(1, 4), dtype=bool)\n",
      "Action:  [3]\n",
      "Map:\n",
      " [[[2 2 2 2 0]\n",
      "  [2 2 2 2 2]\n",
      "  [3 0 2 0 1]\n",
      "  [0 0 2 2 2]\n",
      "  [0 0 0 0 2]]]\n",
      "Direction:\n",
      " tf.Tensor([[False  True  True  True]], shape=(1, 4), dtype=bool)\n",
      "Action:  [0]\n",
      "Map:\n",
      " [[[2 2 2 2 0]\n",
      "  [2 2 2 2 2]\n",
      "  [3 0 2 1 2]\n",
      "  [0 0 2 2 2]\n",
      "  [0 0 0 0 0]]]\n",
      "Direction:\n",
      " tf.Tensor([[ True  True  True  True]], shape=(1, 4), dtype=bool)\n",
      "Action:  [0]\n",
      "Total reward:  45.0\n",
      "Total steps:  62\n"
     ]
    }
   ],
   "source": [
    "# Evaluate the agent\n",
    "\n",
    "test_scene = Scene(init_randomly=True)\n",
    "test_env = SnakeGame(test_scene)\n",
    "test_env = TFPyEnvironment(test_env)\n",
    "\n",
    "time_step = test_env.reset()\n",
    "rewards = []\n",
    "steps = 0\n",
    "\n",
    "while not time_step.is_last() and steps < 200:\n",
    "    steps += 1\n",
    "    print(\"Map:\\n\", np.argmax(time_step.observation[0], axis=3))\n",
    "    print(\"Direction:\\n\", time_step.observation[1])\n",
    "    action_step = agent.policy.action(time_step)\n",
    "    print(\"Action: \", action_step.action.numpy())\n",
    "    time_step = test_env.step(action_step.action)\n",
    "    rewards.append(time_step.reward.numpy()[0])\n",
    "    \n",
    "print(\"Total reward: \", sum(rewards))\n",
    "print(\"Total steps: \", steps)\n"
   ]
  },
  {
   "cell_type": "code",
   "execution_count": 12,
   "metadata": {},
   "outputs": [
    {
     "name": "stdout",
     "output_type": "stream",
     "text": [
      "Episode:  10\n",
      "Avg reward:  50.0\n",
      "Episode:  20\n",
      "Avg reward:  51.666666666666664\n",
      "Episode:  30\n",
      "Avg reward:  61.12903225806452\n",
      "Episode:  40\n",
      "Avg reward:  60.24390243902439\n",
      "Episode:  50\n",
      "Avg reward:  63.13725490196079\n",
      "Episode:  60\n",
      "Avg reward:  65.08196721311475\n",
      "Episode:  70\n",
      "Avg reward:  63.87323943661972\n",
      "Episode:  80\n",
      "Avg reward:  63.333333333333336\n",
      "Episode:  90\n",
      "Avg reward:  62.582417582417584\n",
      "Episode:  100\n",
      "Avg reward:  61.48514851485149\n",
      "Episode:  110\n",
      "Avg reward:  60.67567567567568\n",
      "Episode:  120\n",
      "Avg reward:  61.611570247933884\n",
      "Episode:  130\n",
      "Avg reward:  61.412213740458014\n",
      "Episode:  140\n",
      "Avg reward:  63.40425531914894\n",
      "Episode:  150\n",
      "Avg reward:  63.311258278145694\n",
      "Episode:  160\n",
      "Avg reward:  62.91925465838509\n",
      "Episode:  170\n",
      "Avg reward:  63.421052631578945\n",
      "Episode:  180\n",
      "Avg reward:  63.20441988950276\n",
      "Episode:  190\n",
      "Avg reward:  62.853403141361255\n",
      "Episode:  200\n",
      "Avg reward:  63.00995024875622\n",
      "Episode:  210\n",
      "Avg reward:  63.056872037914694\n",
      "Episode:  220\n",
      "Avg reward:  62.828054298642535\n",
      "Episode:  230\n",
      "Avg reward:  62.57575757575758\n",
      "Episode:  240\n",
      "Avg reward:  62.427385892116185\n",
      "Episode:  250\n",
      "Avg reward:  63.645418326693225\n",
      "Episode:  260\n",
      "Avg reward:  63.946360153256705\n",
      "Episode:  270\n",
      "Avg reward:  64.18819188191883\n",
      "Episode:  280\n",
      "Avg reward:  64.57295373665481\n",
      "Episode:  290\n",
      "Avg reward:  64.5360824742268\n",
      "Episode:  300\n",
      "Avg reward:  64.18604651162791\n",
      "Episode:  310\n",
      "Avg reward:  63.89067524115756\n",
      "Episode:  320\n",
      "Avg reward:  63.8006230529595\n",
      "Episode:  330\n",
      "Avg reward:  63.82175226586103\n",
      "Episode:  340\n",
      "Avg reward:  63.56304985337243\n",
      "Episode:  350\n",
      "Avg reward:  64.04558404558405\n",
      "Episode:  360\n",
      "Avg reward:  63.97506925207756\n",
      "Episode:  370\n",
      "Avg reward:  63.706199460916444\n",
      "Episode:  380\n",
      "Avg reward:  63.56955380577428\n",
      "Episode:  390\n",
      "Avg reward:  63.350383631713555\n",
      "Episode:  400\n",
      "Avg reward:  63.39152119700748\n",
      "Episode:  410\n",
      "Avg reward:  63.941605839416056\n",
      "Episode:  420\n",
      "Avg reward:  64.18052256532067\n",
      "Episode:  430\n",
      "Avg reward:  63.95591647331786\n",
      "Episode:  440\n",
      "Avg reward:  64.08163265306122\n",
      "Episode:  450\n",
      "Avg reward:  63.83592017738359\n",
      "Episode:  460\n",
      "Avg reward:  63.893709327548805\n",
      "Episode:  470\n",
      "Avg reward:  63.84288747346072\n",
      "Episode:  480\n",
      "Avg reward:  64.60498960498961\n",
      "Episode:  490\n",
      "Avg reward:  64.4602851323829\n",
      "Average steps per episode:  70.05443548387096\n",
      "Average reward per episode:  65.02\n",
      "Total 500 episodes:  4\n"
     ]
    }
   ],
   "source": [
    "# Count the average steps per episode\n",
    "\n",
    "n = 500\n",
    "total_steps = 0\n",
    "total_reward = 0\n",
    "steps = 0\n",
    "total_500 = 0\n",
    "\n",
    "for i in range(n):\n",
    "    if i % 10 == 0 and i != 0:\n",
    "        print(\"Episode: \", i)\n",
    "        print(\"Avg reward: \", total_reward / (i + 1))\n",
    "        \n",
    "    time_step = test_env.reset()\n",
    "    steps = 0\n",
    "    while not time_step.is_last() and steps < 500:\n",
    "        steps += 1\n",
    "        action_step = agent.policy.action(time_step)\n",
    "        time_step = test_env.step(action_step.action)\n",
    "        reward = time_step.reward.numpy()[0]\n",
    "        total_reward += reward\n",
    "    \n",
    "    if steps == 500:\n",
    "        total_500 += 1\n",
    "    else:\n",
    "        total_steps += steps\n",
    "        \n",
    "if steps == 500:\n",
    "    print(\"500 episodes reached\")\n",
    "    \n",
    "print(\"Average steps per episode: \", total_steps / (n - total_500))\n",
    "print(\"Average reward per episode: \", total_reward / n)\n",
    "print(\"Total 500 episodes: \", total_500)\n"
   ]
  },
  {
   "cell_type": "code",
   "execution_count": 13,
   "metadata": {},
   "outputs": [
    {
     "name": "stdout",
     "output_type": "stream",
     "text": [
      "WARNING:tensorflow:Compiled the loaded model, but the compiled metrics have yet to be built. `model.compile_metrics` will be empty until you train or evaluate the model.\n"
     ]
    },
    {
     "name": "stderr",
     "output_type": "stream",
     "text": [
      "/var/folders/bw/_7s8wxw93cngpt5f7bg5s3hm0000gn/T/ipykernel_18233/1164216016.py:2: UserWarning: You are saving your model as an HDF5 file via `model.save()`. This file format is considered legacy. We recommend using instead the native Keras format, e.g. `model.save('my_model.keras')`.\n",
      "  tf.keras.models.save_model(q_net._model, \"q_network.h5\")\n",
      "WARNING:tensorflow:Compiled the loaded model, but the compiled metrics have yet to be built. `model.compile_metrics` will be empty until you train or evaluate the model.\n"
     ]
    }
   ],
   "source": [
    "# Save the q network weights\n",
    "tf.keras.models.save_model(q_net._model, \"q_network.h5\")"
   ]
  }
 ],
 "metadata": {
  "kernelspec": {
   "display_name": "base",
   "language": "python",
   "name": "python3"
  },
  "language_info": {
   "codemirror_mode": {
    "name": "ipython",
    "version": 3
   },
   "file_extension": ".py",
   "mimetype": "text/x-python",
   "name": "python",
   "nbconvert_exporter": "python",
   "pygments_lexer": "ipython3",
   "version": "3.11.4"
  },
  "orig_nbformat": 4
 },
 "nbformat": 4,
 "nbformat_minor": 2
}
