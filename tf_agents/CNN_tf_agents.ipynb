{
 "cells": [
  {
   "cell_type": "code",
   "execution_count": 1,
   "metadata": {},
   "outputs": [
    {
     "name": "stdout",
     "output_type": "stream",
     "text": [
      "pygame 2.1.3 (SDL 2.0.22, Python 3.11.4)\n",
      "Hello from the pygame community. https://www.pygame.org/contribute.html\n"
     ]
    }
   ],
   "source": [
    "import numpy as np\n",
    "from scene import Scene\n",
    "import tensorflow as tf\n",
    "from tf_agents.networks.q_network import QNetwork\n",
    "from tf_agents.specs import tensor_spec\n",
    "from snake_game import SnakeGame\n",
    "\n",
    "scene = Scene(using_cnn=True, init_randomly=True)\n",
    "episodes_count = 100000"
   ]
  },
  {
   "cell_type": "code",
   "execution_count": 2,
   "metadata": {},
   "outputs": [],
   "source": [
    "from tf_agents.environments.tf_py_environment import TFPyEnvironment\n",
    "\n",
    "env = SnakeGame(scene)\n",
    "env = TFPyEnvironment(env)"
   ]
  },
  {
   "cell_type": "code",
   "execution_count": 3,
   "metadata": {},
   "outputs": [],
   "source": [
    "conv_layer_params = [(32, (2, 2), 1), (32, (2, 2), 1)]\n",
    "fc_layer_params = [64]\n",
    "\n",
    "q_net = QNetwork(\n",
    "    env.observation_spec(),\n",
    "    env.action_spec(),\n",
    "    conv_layer_params=conv_layer_params,\n",
    "    fc_layer_params=fc_layer_params)"
   ]
  },
  {
   "cell_type": "code",
   "execution_count": 4,
   "metadata": {},
   "outputs": [],
   "source": [
    "# Create the agent\n",
    "from tf_agents.agents.dqn.dqn_agent import DqnAgent\n",
    "from tensorflow import keras\n",
    "from keras.optimizers.legacy import Adam\n",
    "from keras.losses import Huber\n",
    "from tf_agents.trajectories import TimeStep\n",
    "\n",
    "train_step_counter = tf.Variable(0)\n",
    "optimizer = Adam(learning_rate=0.001)\n",
    "\n",
    "epsilon = lambda train_step: (1 / (tf.cast(tf.linspace(1, 8, episodes_count)**3, tf.float32)))[train_step]\n",
    "# epsilon = keras.optimizers.schedules.PolynomialDecay(\n",
    "#     initial_learning_rate=1.0,\n",
    "#     decay_steps=episodes_count,\n",
    "#     end_learning_rate=0.01\n",
    "# )\n",
    "\n",
    "agent = DqnAgent(\n",
    "    time_step_spec=env.time_step_spec(),\n",
    "    action_spec=env.action_spec(),\n",
    "    q_network=q_net,\n",
    "    optimizer=optimizer,\n",
    "    td_errors_loss_fn=Huber(reduction=\"none\"),\n",
    "    gamma=tf.constant(0.95, dtype=tf.float32),\n",
    "    train_step_counter=train_step_counter,\n",
    "    epsilon_greedy=lambda: epsilon(train_step_counter)\n",
    ")"
   ]
  },
  {
   "cell_type": "code",
   "execution_count": 5,
   "metadata": {},
   "outputs": [],
   "source": [
    "# Create the replay buffer\n",
    "from tf_agents.replay_buffers import tf_uniform_replay_buffer\n",
    "\n",
    "replay_buffer = tf_uniform_replay_buffer.TFUniformReplayBuffer(\n",
    "    data_spec=agent.collect_data_spec,\n",
    "    batch_size=env.batch_size,\n",
    "    max_length=100000\n",
    ")"
   ]
  },
  {
   "cell_type": "code",
   "execution_count": 6,
   "metadata": {},
   "outputs": [],
   "source": [
    "# Create the training metrics\n",
    "from tf_agents.metrics import tf_metrics\n",
    "\n",
    "train_metrics = [\n",
    "    tf_metrics.NumberOfEpisodes(),\n",
    "    tf_metrics.EnvironmentSteps(),\n",
    "    tf_metrics.AverageReturnMetric(),\n",
    "    tf_metrics.AverageEpisodeLengthMetric()\n",
    "]"
   ]
  },
  {
   "cell_type": "code",
   "execution_count": 7,
   "metadata": {},
   "outputs": [],
   "source": [
    "# Create the driver\n",
    "from tf_agents.drivers import dynamic_step_driver\n",
    "\n",
    "collect_driver = dynamic_step_driver.DynamicStepDriver(\n",
    "    env,\n",
    "    policy=agent.collect_policy,\n",
    "    observers=[replay_buffer.add_batch] + train_metrics,\n",
    "    num_steps=1\n",
    ")\n",
    "\n",
    "# Run a random policy to fill the replay buffer\n",
    "from tf_agents.policies.random_tf_policy import RandomTFPolicy\n",
    "\n",
    "initial_collect_policy = RandomTFPolicy(env.time_step_spec(), env.action_spec())\n",
    "init_driver = dynamic_step_driver.DynamicStepDriver(\n",
    "    env,\n",
    "    policy=initial_collect_policy,\n",
    "    observers=[replay_buffer.add_batch] + train_metrics,\n",
    "    num_steps=1\n",
    ")\n",
    "\n",
    "final_time_step, final_policy_state = init_driver.run()"
   ]
  },
  {
   "cell_type": "code",
   "execution_count": 8,
   "metadata": {},
   "outputs": [
    {
     "name": "stdout",
     "output_type": "stream",
     "text": [
      "WARNING:tensorflow:From /Users/juanpablo/miniconda3/lib/python3.11/site-packages/tf_agents/replay_buffers/tf_uniform_replay_buffer.py:342: CounterV2 (from tensorflow.python.data.experimental.ops.counter) is deprecated and will be removed in a future version.\n",
      "Instructions for updating:\n",
      "Use `tf.data.Dataset.counter(...)` instead.\n",
      "WARNING:tensorflow:From /Users/juanpablo/miniconda3/lib/python3.11/site-packages/tensorflow/python/autograph/impl/api.py:377: ReplayBuffer.get_next (from tf_agents.replay_buffers.replay_buffer) is deprecated and will be removed in a future version.\n",
      "Instructions for updating:\n",
      "Use `as_dataset(..., single_deterministic_pass=False) instead.\n"
     ]
    }
   ],
   "source": [
    "# Create the dataset\n",
    "dataset = replay_buffer.as_dataset(\n",
    "    sample_batch_size=64,\n",
    "    num_steps=2, # Capaz cambiar esto\n",
    "    num_parallel_calls=3\n",
    ").prefetch(3)"
   ]
  },
  {
   "cell_type": "code",
   "execution_count": 9,
   "metadata": {},
   "outputs": [],
   "source": [
    "# Create the training loop\n",
    "\n",
    "from tf_agents.utils.common import function\n",
    "from tf_agents.trajectories import trajectory\n",
    "from tf_agents.eval.metric_utils import log_metrics\n",
    "import logging\n",
    "\n",
    "logging.getLogger().setLevel(logging.INFO)\n",
    "\n",
    "collect_driver.run = function(collect_driver.run)\n",
    "agent.train = function(agent.train)\n",
    "\n",
    "def train_agent(n_iterations):\n",
    "    time_step = None\n",
    "    policy_state = agent.collect_policy.get_initial_state(env.batch_size)\n",
    "    iterator = iter(dataset)\n",
    "    for iteration in range(n_iterations):\n",
    "        time_step, policy_state = collect_driver.run(time_step, policy_state)\n",
    "        trajectories, buffer_info = next(iterator)\n",
    "        train_loss = agent.train(trajectories)\n",
    "        if iteration % 1000 == 0:\n",
    "            print(\"Iteration: \", iteration)\n",
    "            log_metrics(train_metrics)"
   ]
  },
  {
   "cell_type": "code",
   "execution_count": 10,
   "metadata": {},
   "outputs": [
    {
     "name": "stdout",
     "output_type": "stream",
     "text": [
      "WARNING:tensorflow:From /Users/juanpablo/miniconda3/lib/python3.11/site-packages/tensorflow/python/util/dispatch.py:1176: calling foldr_v2 (from tensorflow.python.ops.functional_ops) with back_prop=False is deprecated and will be removed in a future version.\n",
      "Instructions for updating:\n",
      "back_prop=False is deprecated. Consider using tf.stop_gradient instead.\n",
      "Instead of:\n",
      "results = tf.foldr(fn, elems, back_prop=False)\n",
      "Use:\n",
      "results = tf.nest.map_structure(tf.stop_gradient, tf.foldr(fn, elems))\n"
     ]
    },
    {
     "name": "stderr",
     "output_type": "stream",
     "text": [
      "INFO:absl: \n",
      "\t\t NumberOfEpisodes = 1\n",
      "\t\t EnvironmentSteps = 2\n",
      "\t\t AverageReturn = -30.200000762939453\n",
      "\t\t AverageEpisodeLength = 1.0\n"
     ]
    },
    {
     "name": "stdout",
     "output_type": "stream",
     "text": [
      "Iteration:  0\n"
     ]
    },
    {
     "name": "stderr",
     "output_type": "stream",
     "text": [
      "INFO:absl: \n",
      "\t\t NumberOfEpisodes = 184\n",
      "\t\t EnvironmentSteps = 1002\n",
      "\t\t AverageReturn = -4686.7568359375\n",
      "\t\t AverageEpisodeLength = 6.199999809265137\n"
     ]
    },
    {
     "name": "stdout",
     "output_type": "stream",
     "text": [
      "Iteration:  1000\n"
     ]
    },
    {
     "name": "stderr",
     "output_type": "stream",
     "text": [
      "INFO:absl: \n",
      "\t\t NumberOfEpisodes = 343\n",
      "\t\t EnvironmentSteps = 2002\n",
      "\t\t AverageReturn = -8553.1728515625\n",
      "\t\t AverageEpisodeLength = 5.599999904632568\n"
     ]
    },
    {
     "name": "stdout",
     "output_type": "stream",
     "text": [
      "Iteration:  2000\n"
     ]
    },
    {
     "name": "stderr",
     "output_type": "stream",
     "text": [
      "INFO:absl: \n",
      "\t\t NumberOfEpisodes = 495\n",
      "\t\t EnvironmentSteps = 3002\n",
      "\t\t AverageReturn = -11915.912109375\n",
      "\t\t AverageEpisodeLength = 7.699999809265137\n"
     ]
    },
    {
     "name": "stdout",
     "output_type": "stream",
     "text": [
      "Iteration:  3000\n"
     ]
    },
    {
     "name": "stderr",
     "output_type": "stream",
     "text": [
      "INFO:absl: \n",
      "\t\t NumberOfEpisodes = 631\n",
      "\t\t EnvironmentSteps = 4002\n",
      "\t\t AverageReturn = -14436.4814453125\n",
      "\t\t AverageEpisodeLength = 10.899999618530273\n"
     ]
    },
    {
     "name": "stdout",
     "output_type": "stream",
     "text": [
      "Iteration:  4000\n"
     ]
    },
    {
     "name": "stderr",
     "output_type": "stream",
     "text": [
      "INFO:absl: \n",
      "\t\t NumberOfEpisodes = 753\n",
      "\t\t EnvironmentSteps = 5002\n",
      "\t\t AverageReturn = -16295.8154296875\n",
      "\t\t AverageEpisodeLength = 9.399999618530273\n"
     ]
    },
    {
     "name": "stdout",
     "output_type": "stream",
     "text": [
      "Iteration:  5000\n"
     ]
    },
    {
     "name": "stderr",
     "output_type": "stream",
     "text": [
      "INFO:absl: \n",
      "\t\t NumberOfEpisodes = 867\n",
      "\t\t EnvironmentSteps = 6002\n",
      "\t\t AverageReturn = -17650.33203125\n",
      "\t\t AverageEpisodeLength = 6.199999809265137\n"
     ]
    },
    {
     "name": "stdout",
     "output_type": "stream",
     "text": [
      "Iteration:  6000\n"
     ]
    },
    {
     "name": "stderr",
     "output_type": "stream",
     "text": [
      "INFO:absl: \n",
      "\t\t NumberOfEpisodes = 994\n",
      "\t\t EnvironmentSteps = 7002\n",
      "\t\t AverageReturn = -19241.796875\n",
      "\t\t AverageEpisodeLength = 7.800000190734863\n"
     ]
    },
    {
     "name": "stdout",
     "output_type": "stream",
     "text": [
      "Iteration:  7000\n"
     ]
    },
    {
     "name": "stderr",
     "output_type": "stream",
     "text": [
      "INFO:absl: \n",
      "\t\t NumberOfEpisodes = 1104\n",
      "\t\t EnvironmentSteps = 8002\n",
      "\t\t AverageReturn = -20280.974609375\n",
      "\t\t AverageEpisodeLength = 9.199999809265137\n"
     ]
    },
    {
     "name": "stdout",
     "output_type": "stream",
     "text": [
      "Iteration:  8000\n"
     ]
    },
    {
     "name": "stderr",
     "output_type": "stream",
     "text": [
      "INFO:absl: \n",
      "\t\t NumberOfEpisodes = 1191\n",
      "\t\t EnvironmentSteps = 9002\n",
      "\t\t AverageReturn = -20543.14453125\n",
      "\t\t AverageEpisodeLength = 13.0\n"
     ]
    },
    {
     "name": "stdout",
     "output_type": "stream",
     "text": [
      "Iteration:  9000\n"
     ]
    },
    {
     "name": "stderr",
     "output_type": "stream",
     "text": [
      "INFO:absl: \n",
      "\t\t NumberOfEpisodes = 1269\n",
      "\t\t EnvironmentSteps = 10002\n",
      "\t\t AverageReturn = -20628.91796875\n",
      "\t\t AverageEpisodeLength = 16.799999237060547\n"
     ]
    },
    {
     "name": "stdout",
     "output_type": "stream",
     "text": [
      "Iteration:  10000\n"
     ]
    },
    {
     "name": "stderr",
     "output_type": "stream",
     "text": [
      "INFO:absl: \n",
      "\t\t NumberOfEpisodes = 1331\n",
      "\t\t EnvironmentSteps = 11002\n",
      "\t\t AverageReturn = -20168.978515625\n",
      "\t\t AverageEpisodeLength = 14.699999809265137\n"
     ]
    },
    {
     "name": "stdout",
     "output_type": "stream",
     "text": [
      "Iteration:  11000\n"
     ]
    },
    {
     "name": "stderr",
     "output_type": "stream",
     "text": [
      "INFO:absl: \n",
      "\t\t NumberOfEpisodes = 1408\n",
      "\t\t EnvironmentSteps = 12002\n",
      "\t\t AverageReturn = -19942.52734375\n",
      "\t\t AverageEpisodeLength = 9.600000381469727\n"
     ]
    },
    {
     "name": "stdout",
     "output_type": "stream",
     "text": [
      "Iteration:  12000\n"
     ]
    },
    {
     "name": "stderr",
     "output_type": "stream",
     "text": [
      "INFO:absl: \n",
      "\t\t NumberOfEpisodes = 1478\n",
      "\t\t EnvironmentSteps = 13002\n",
      "\t\t AverageReturn = -19667.28515625\n",
      "\t\t AverageEpisodeLength = 9.899999618530273\n"
     ]
    },
    {
     "name": "stdout",
     "output_type": "stream",
     "text": [
      "Iteration:  13000\n"
     ]
    },
    {
     "name": "stderr",
     "output_type": "stream",
     "text": [
      "INFO:absl: \n",
      "\t\t NumberOfEpisodes = 1532\n",
      "\t\t EnvironmentSteps = 14002\n",
      "\t\t AverageReturn = -18897.1875\n",
      "\t\t AverageEpisodeLength = 22.0\n"
     ]
    },
    {
     "name": "stdout",
     "output_type": "stream",
     "text": [
      "Iteration:  14000\n"
     ]
    },
    {
     "name": "stderr",
     "output_type": "stream",
     "text": [
      "INFO:absl: \n",
      "\t\t NumberOfEpisodes = 1581\n",
      "\t\t EnvironmentSteps = 15002\n",
      "\t\t AverageReturn = -17762.05859375\n",
      "\t\t AverageEpisodeLength = 25.700000762939453\n"
     ]
    },
    {
     "name": "stdout",
     "output_type": "stream",
     "text": [
      "Iteration:  15000\n"
     ]
    },
    {
     "name": "stderr",
     "output_type": "stream",
     "text": [
      "INFO:absl: \n",
      "\t\t NumberOfEpisodes = 1636\n",
      "\t\t EnvironmentSteps = 16002\n",
      "\t\t AverageReturn = -16855.458984375\n",
      "\t\t AverageEpisodeLength = 22.899999618530273\n"
     ]
    },
    {
     "name": "stdout",
     "output_type": "stream",
     "text": [
      "Iteration:  16000\n"
     ]
    },
    {
     "name": "stderr",
     "output_type": "stream",
     "text": [
      "INFO:absl: \n",
      "\t\t NumberOfEpisodes = 1685\n",
      "\t\t EnvironmentSteps = 17002\n",
      "\t\t AverageReturn = -15813.263671875\n",
      "\t\t AverageEpisodeLength = 16.200000762939453\n"
     ]
    },
    {
     "name": "stdout",
     "output_type": "stream",
     "text": [
      "Iteration:  17000\n"
     ]
    },
    {
     "name": "stderr",
     "output_type": "stream",
     "text": [
      "INFO:absl: \n",
      "\t\t NumberOfEpisodes = 1732\n",
      "\t\t EnvironmentSteps = 18002\n",
      "\t\t AverageReturn = -14633.025390625\n",
      "\t\t AverageEpisodeLength = 23.700000762939453\n"
     ]
    },
    {
     "name": "stdout",
     "output_type": "stream",
     "text": [
      "Iteration:  18000\n"
     ]
    },
    {
     "name": "stderr",
     "output_type": "stream",
     "text": [
      "INFO:absl: \n",
      "\t\t NumberOfEpisodes = 1771\n",
      "\t\t EnvironmentSteps = 19002\n",
      "\t\t AverageReturn = -13383.142578125\n",
      "\t\t AverageEpisodeLength = 29.200000762939453\n"
     ]
    },
    {
     "name": "stdout",
     "output_type": "stream",
     "text": [
      "Iteration:  19000\n"
     ]
    },
    {
     "name": "stderr",
     "output_type": "stream",
     "text": [
      "INFO:absl: \n",
      "\t\t NumberOfEpisodes = 1816\n",
      "\t\t EnvironmentSteps = 20002\n",
      "\t\t AverageReturn = -11857.025390625\n",
      "\t\t AverageEpisodeLength = 23.5\n"
     ]
    },
    {
     "name": "stdout",
     "output_type": "stream",
     "text": [
      "Iteration:  20000\n"
     ]
    },
    {
     "name": "stderr",
     "output_type": "stream",
     "text": [
      "INFO:absl: \n",
      "\t\t NumberOfEpisodes = 1850\n",
      "\t\t EnvironmentSteps = 21002\n",
      "\t\t AverageReturn = -10371.1025390625\n",
      "\t\t AverageEpisodeLength = 31.700000762939453\n"
     ]
    },
    {
     "name": "stdout",
     "output_type": "stream",
     "text": [
      "Iteration:  21000\n"
     ]
    },
    {
     "name": "stderr",
     "output_type": "stream",
     "text": [
      "INFO:absl: \n",
      "\t\t NumberOfEpisodes = 1884\n",
      "\t\t EnvironmentSteps = 22002\n",
      "\t\t AverageReturn = -8520.533203125\n",
      "\t\t AverageEpisodeLength = 33.900001525878906\n"
     ]
    },
    {
     "name": "stdout",
     "output_type": "stream",
     "text": [
      "Iteration:  22000\n"
     ]
    },
    {
     "name": "stderr",
     "output_type": "stream",
     "text": [
      "INFO:absl: \n",
      "\t\t NumberOfEpisodes = 1920\n",
      "\t\t EnvironmentSteps = 23002\n",
      "\t\t AverageReturn = -6758.41259765625\n",
      "\t\t AverageEpisodeLength = 22.200000762939453\n"
     ]
    },
    {
     "name": "stdout",
     "output_type": "stream",
     "text": [
      "Iteration:  23000\n"
     ]
    },
    {
     "name": "stderr",
     "output_type": "stream",
     "text": [
      "INFO:absl: \n",
      "\t\t NumberOfEpisodes = 1953\n",
      "\t\t EnvironmentSteps = 24002\n",
      "\t\t AverageReturn = -5102.58837890625\n",
      "\t\t AverageEpisodeLength = 31.600000381469727\n"
     ]
    },
    {
     "name": "stdout",
     "output_type": "stream",
     "text": [
      "Iteration:  24000\n"
     ]
    },
    {
     "name": "stderr",
     "output_type": "stream",
     "text": [
      "INFO:absl: \n",
      "\t\t NumberOfEpisodes = 1986\n",
      "\t\t EnvironmentSteps = 25002\n",
      "\t\t AverageReturn = -3487.24609375\n",
      "\t\t AverageEpisodeLength = 36.400001525878906\n"
     ]
    },
    {
     "name": "stdout",
     "output_type": "stream",
     "text": [
      "Iteration:  25000\n"
     ]
    },
    {
     "name": "stderr",
     "output_type": "stream",
     "text": [
      "INFO:absl: \n",
      "\t\t NumberOfEpisodes = 2013\n",
      "\t\t EnvironmentSteps = 26002\n",
      "\t\t AverageReturn = -1563.176513671875\n",
      "\t\t AverageEpisodeLength = 35.29999923706055\n"
     ]
    },
    {
     "name": "stdout",
     "output_type": "stream",
     "text": [
      "Iteration:  26000\n"
     ]
    },
    {
     "name": "stderr",
     "output_type": "stream",
     "text": [
      "INFO:absl: \n",
      "\t\t NumberOfEpisodes = 2052\n",
      "\t\t EnvironmentSteps = 27002\n",
      "\t\t AverageReturn = 234.68557739257812\n",
      "\t\t AverageEpisodeLength = 25.0\n"
     ]
    },
    {
     "name": "stdout",
     "output_type": "stream",
     "text": [
      "Iteration:  27000\n"
     ]
    },
    {
     "name": "stderr",
     "output_type": "stream",
     "text": [
      "INFO:absl: \n",
      "\t\t NumberOfEpisodes = 2083\n",
      "\t\t EnvironmentSteps = 28002\n",
      "\t\t AverageReturn = 2240.649658203125\n",
      "\t\t AverageEpisodeLength = 22.700000762939453\n"
     ]
    },
    {
     "name": "stdout",
     "output_type": "stream",
     "text": [
      "Iteration:  28000\n"
     ]
    },
    {
     "name": "stderr",
     "output_type": "stream",
     "text": [
      "INFO:absl: \n",
      "\t\t NumberOfEpisodes = 2114\n",
      "\t\t EnvironmentSteps = 29002\n",
      "\t\t AverageReturn = 4267.9306640625\n",
      "\t\t AverageEpisodeLength = 36.29999923706055\n"
     ]
    },
    {
     "name": "stdout",
     "output_type": "stream",
     "text": [
      "Iteration:  29000\n"
     ]
    },
    {
     "name": "stderr",
     "output_type": "stream",
     "text": [
      "INFO:absl: \n",
      "\t\t NumberOfEpisodes = 2144\n",
      "\t\t EnvironmentSteps = 30002\n",
      "\t\t AverageReturn = 6377.77978515625\n",
      "\t\t AverageEpisodeLength = 37.0\n"
     ]
    },
    {
     "name": "stdout",
     "output_type": "stream",
     "text": [
      "Iteration:  30000\n"
     ]
    },
    {
     "name": "stderr",
     "output_type": "stream",
     "text": [
      "INFO:absl: \n",
      "\t\t NumberOfEpisodes = 2172\n",
      "\t\t EnvironmentSteps = 31002\n",
      "\t\t AverageReturn = 8620.970703125\n",
      "\t\t AverageEpisodeLength = 31.799999237060547\n"
     ]
    },
    {
     "name": "stdout",
     "output_type": "stream",
     "text": [
      "Iteration:  31000\n"
     ]
    },
    {
     "name": "stderr",
     "output_type": "stream",
     "text": [
      "INFO:absl: \n",
      "\t\t NumberOfEpisodes = 2202\n",
      "\t\t EnvironmentSteps = 32002\n",
      "\t\t AverageReturn = 10706.6005859375\n",
      "\t\t AverageEpisodeLength = 35.099998474121094\n"
     ]
    },
    {
     "name": "stdout",
     "output_type": "stream",
     "text": [
      "Iteration:  32000\n"
     ]
    },
    {
     "name": "stderr",
     "output_type": "stream",
     "text": [
      "INFO:absl: \n",
      "\t\t NumberOfEpisodes = 2228\n",
      "\t\t EnvironmentSteps = 33002\n",
      "\t\t AverageReturn = 12533.013671875\n",
      "\t\t AverageEpisodeLength = 46.20000076293945\n"
     ]
    },
    {
     "name": "stdout",
     "output_type": "stream",
     "text": [
      "Iteration:  33000\n"
     ]
    },
    {
     "name": "stderr",
     "output_type": "stream",
     "text": [
      "INFO:absl: \n",
      "\t\t NumberOfEpisodes = 2251\n",
      "\t\t EnvironmentSteps = 34002\n",
      "\t\t AverageReturn = 14930.2421875\n",
      "\t\t AverageEpisodeLength = 42.29999923706055\n"
     ]
    },
    {
     "name": "stdout",
     "output_type": "stream",
     "text": [
      "Iteration:  34000\n"
     ]
    },
    {
     "name": "stderr",
     "output_type": "stream",
     "text": [
      "INFO:absl: \n",
      "\t\t NumberOfEpisodes = 2279\n",
      "\t\t EnvironmentSteps = 35002\n",
      "\t\t AverageReturn = 17315.53125\n",
      "\t\t AverageEpisodeLength = 32.79999923706055\n"
     ]
    },
    {
     "name": "stdout",
     "output_type": "stream",
     "text": [
      "Iteration:  35000\n"
     ]
    },
    {
     "name": "stderr",
     "output_type": "stream",
     "text": [
      "INFO:absl: \n",
      "\t\t NumberOfEpisodes = 2305\n",
      "\t\t EnvironmentSteps = 36002\n",
      "\t\t AverageReturn = 19751.904296875\n",
      "\t\t AverageEpisodeLength = 34.099998474121094\n"
     ]
    },
    {
     "name": "stdout",
     "output_type": "stream",
     "text": [
      "Iteration:  36000\n"
     ]
    },
    {
     "name": "stderr",
     "output_type": "stream",
     "text": [
      "INFO:absl: \n",
      "\t\t NumberOfEpisodes = 2331\n",
      "\t\t EnvironmentSteps = 37002\n",
      "\t\t AverageReturn = 21905.31640625\n",
      "\t\t AverageEpisodeLength = 40.0\n"
     ]
    },
    {
     "name": "stdout",
     "output_type": "stream",
     "text": [
      "Iteration:  37000\n"
     ]
    },
    {
     "name": "stderr",
     "output_type": "stream",
     "text": [
      "INFO:absl: \n",
      "\t\t NumberOfEpisodes = 2356\n",
      "\t\t EnvironmentSteps = 38002\n",
      "\t\t AverageReturn = 24062.05078125\n",
      "\t\t AverageEpisodeLength = 47.599998474121094\n"
     ]
    },
    {
     "name": "stdout",
     "output_type": "stream",
     "text": [
      "Iteration:  38000\n"
     ]
    },
    {
     "name": "stderr",
     "output_type": "stream",
     "text": [
      "INFO:absl: \n",
      "\t\t NumberOfEpisodes = 2381\n",
      "\t\t EnvironmentSteps = 39002\n",
      "\t\t AverageReturn = 26481.509765625\n",
      "\t\t AverageEpisodeLength = 41.20000076293945\n"
     ]
    },
    {
     "name": "stdout",
     "output_type": "stream",
     "text": [
      "Iteration:  39000\n"
     ]
    },
    {
     "name": "stderr",
     "output_type": "stream",
     "text": [
      "INFO:absl: \n",
      "\t\t NumberOfEpisodes = 2410\n",
      "\t\t EnvironmentSteps = 40002\n",
      "\t\t AverageReturn = 28950.146484375\n",
      "\t\t AverageEpisodeLength = 34.79999923706055\n"
     ]
    },
    {
     "name": "stdout",
     "output_type": "stream",
     "text": [
      "Iteration:  40000\n"
     ]
    },
    {
     "name": "stderr",
     "output_type": "stream",
     "text": [
      "INFO:absl: \n",
      "\t\t NumberOfEpisodes = 2435\n",
      "\t\t EnvironmentSteps = 41002\n",
      "\t\t AverageReturn = 31223.49609375\n",
      "\t\t AverageEpisodeLength = 39.400001525878906\n"
     ]
    },
    {
     "name": "stdout",
     "output_type": "stream",
     "text": [
      "Iteration:  41000\n"
     ]
    },
    {
     "name": "stderr",
     "output_type": "stream",
     "text": [
      "INFO:absl: \n",
      "\t\t NumberOfEpisodes = 2458\n",
      "\t\t EnvironmentSteps = 42002\n",
      "\t\t AverageReturn = 33832.70703125\n",
      "\t\t AverageEpisodeLength = 46.70000076293945\n"
     ]
    },
    {
     "name": "stdout",
     "output_type": "stream",
     "text": [
      "Iteration:  42000\n"
     ]
    },
    {
     "name": "stderr",
     "output_type": "stream",
     "text": [
      "INFO:absl: \n",
      "\t\t NumberOfEpisodes = 2482\n",
      "\t\t EnvironmentSteps = 43002\n",
      "\t\t AverageReturn = 36160.5078125\n",
      "\t\t AverageEpisodeLength = 38.79999923706055\n"
     ]
    },
    {
     "name": "stdout",
     "output_type": "stream",
     "text": [
      "Iteration:  43000\n"
     ]
    },
    {
     "name": "stderr",
     "output_type": "stream",
     "text": [
      "INFO:absl: \n",
      "\t\t NumberOfEpisodes = 2507\n",
      "\t\t EnvironmentSteps = 44002\n",
      "\t\t AverageReturn = 38734.7265625\n",
      "\t\t AverageEpisodeLength = 40.900001525878906\n"
     ]
    },
    {
     "name": "stdout",
     "output_type": "stream",
     "text": [
      "Iteration:  44000\n"
     ]
    },
    {
     "name": "stderr",
     "output_type": "stream",
     "text": [
      "INFO:absl: \n",
      "\t\t NumberOfEpisodes = 2531\n",
      "\t\t EnvironmentSteps = 45002\n",
      "\t\t AverageReturn = 41269.79296875\n",
      "\t\t AverageEpisodeLength = 39.599998474121094\n"
     ]
    },
    {
     "name": "stdout",
     "output_type": "stream",
     "text": [
      "Iteration:  45000\n"
     ]
    },
    {
     "name": "stderr",
     "output_type": "stream",
     "text": [
      "INFO:absl: \n",
      "\t\t NumberOfEpisodes = 2554\n",
      "\t\t EnvironmentSteps = 46002\n",
      "\t\t AverageReturn = 43605.03125\n",
      "\t\t AverageEpisodeLength = 45.5\n"
     ]
    },
    {
     "name": "stdout",
     "output_type": "stream",
     "text": [
      "Iteration:  46000\n"
     ]
    },
    {
     "name": "stderr",
     "output_type": "stream",
     "text": [
      "INFO:absl: \n",
      "\t\t NumberOfEpisodes = 2573\n",
      "\t\t EnvironmentSteps = 47002\n",
      "\t\t AverageReturn = 46004.1015625\n",
      "\t\t AverageEpisodeLength = 55.599998474121094\n"
     ]
    },
    {
     "name": "stdout",
     "output_type": "stream",
     "text": [
      "Iteration:  47000\n"
     ]
    },
    {
     "name": "stderr",
     "output_type": "stream",
     "text": [
      "INFO:absl: \n",
      "\t\t NumberOfEpisodes = 2595\n",
      "\t\t EnvironmentSteps = 48002\n",
      "\t\t AverageReturn = 48806.64453125\n",
      "\t\t AverageEpisodeLength = 47.70000076293945\n"
     ]
    },
    {
     "name": "stdout",
     "output_type": "stream",
     "text": [
      "Iteration:  48000\n"
     ]
    },
    {
     "name": "stderr",
     "output_type": "stream",
     "text": [
      "INFO:absl: \n",
      "\t\t NumberOfEpisodes = 2620\n",
      "\t\t EnvironmentSteps = 49002\n",
      "\t\t AverageReturn = 51382.2421875\n",
      "\t\t AverageEpisodeLength = 40.79999923706055\n"
     ]
    },
    {
     "name": "stdout",
     "output_type": "stream",
     "text": [
      "Iteration:  49000\n"
     ]
    },
    {
     "name": "stderr",
     "output_type": "stream",
     "text": [
      "INFO:absl: \n",
      "\t\t NumberOfEpisodes = 2639\n",
      "\t\t EnvironmentSteps = 50002\n",
      "\t\t AverageReturn = 53883.625\n",
      "\t\t AverageEpisodeLength = 46.70000076293945\n"
     ]
    },
    {
     "name": "stdout",
     "output_type": "stream",
     "text": [
      "Iteration:  50000\n"
     ]
    },
    {
     "name": "stderr",
     "output_type": "stream",
     "text": [
      "INFO:absl: \n",
      "\t\t NumberOfEpisodes = 2658\n",
      "\t\t EnvironmentSteps = 51002\n",
      "\t\t AverageReturn = 56371.85546875\n",
      "\t\t AverageEpisodeLength = 58.29999923706055\n"
     ]
    },
    {
     "name": "stdout",
     "output_type": "stream",
     "text": [
      "Iteration:  51000\n"
     ]
    },
    {
     "name": "stderr",
     "output_type": "stream",
     "text": [
      "INFO:absl: \n",
      "\t\t NumberOfEpisodes = 2680\n",
      "\t\t EnvironmentSteps = 52002\n",
      "\t\t AverageReturn = 58842.3671875\n",
      "\t\t AverageEpisodeLength = 43.0\n"
     ]
    },
    {
     "name": "stdout",
     "output_type": "stream",
     "text": [
      "Iteration:  52000\n"
     ]
    },
    {
     "name": "stderr",
     "output_type": "stream",
     "text": [
      "INFO:absl: \n",
      "\t\t NumberOfEpisodes = 2705\n",
      "\t\t EnvironmentSteps = 53002\n",
      "\t\t AverageReturn = 61652.90625\n",
      "\t\t AverageEpisodeLength = 38.400001525878906\n"
     ]
    },
    {
     "name": "stdout",
     "output_type": "stream",
     "text": [
      "Iteration:  53000\n"
     ]
    },
    {
     "name": "stderr",
     "output_type": "stream",
     "text": [
      "INFO:absl: \n",
      "\t\t NumberOfEpisodes = 2728\n",
      "\t\t EnvironmentSteps = 54002\n",
      "\t\t AverageReturn = 64060.26953125\n",
      "\t\t AverageEpisodeLength = 47.70000076293945\n"
     ]
    },
    {
     "name": "stdout",
     "output_type": "stream",
     "text": [
      "Iteration:  54000\n"
     ]
    },
    {
     "name": "stderr",
     "output_type": "stream",
     "text": [
      "INFO:absl: \n",
      "\t\t NumberOfEpisodes = 2752\n",
      "\t\t EnvironmentSteps = 55002\n",
      "\t\t AverageReturn = 66762.234375\n",
      "\t\t AverageEpisodeLength = 44.099998474121094\n"
     ]
    },
    {
     "name": "stdout",
     "output_type": "stream",
     "text": [
      "Iteration:  55000\n"
     ]
    },
    {
     "name": "stderr",
     "output_type": "stream",
     "text": [
      "INFO:absl: \n",
      "\t\t NumberOfEpisodes = 2774\n",
      "\t\t EnvironmentSteps = 56002\n",
      "\t\t AverageReturn = 69440.953125\n",
      "\t\t AverageEpisodeLength = 45.5\n"
     ]
    },
    {
     "name": "stdout",
     "output_type": "stream",
     "text": [
      "Iteration:  56000\n"
     ]
    },
    {
     "name": "stderr",
     "output_type": "stream",
     "text": [
      "INFO:absl: \n",
      "\t\t NumberOfEpisodes = 2796\n",
      "\t\t EnvironmentSteps = 57002\n",
      "\t\t AverageReturn = 72337.1484375\n",
      "\t\t AverageEpisodeLength = 42.70000076293945\n"
     ]
    },
    {
     "name": "stdout",
     "output_type": "stream",
     "text": [
      "Iteration:  57000\n"
     ]
    },
    {
     "name": "stderr",
     "output_type": "stream",
     "text": [
      "INFO:absl: \n",
      "\t\t NumberOfEpisodes = 2824\n",
      "\t\t EnvironmentSteps = 58002\n",
      "\t\t AverageReturn = 75018.890625\n",
      "\t\t AverageEpisodeLength = 33.5\n"
     ]
    },
    {
     "name": "stdout",
     "output_type": "stream",
     "text": [
      "Iteration:  58000\n"
     ]
    },
    {
     "name": "stderr",
     "output_type": "stream",
     "text": [
      "INFO:absl: \n",
      "\t\t NumberOfEpisodes = 2847\n",
      "\t\t EnvironmentSteps = 59002\n",
      "\t\t AverageReturn = 77438.484375\n",
      "\t\t AverageEpisodeLength = 38.79999923706055\n"
     ]
    },
    {
     "name": "stdout",
     "output_type": "stream",
     "text": [
      "Iteration:  59000\n"
     ]
    },
    {
     "name": "stderr",
     "output_type": "stream",
     "text": [
      "INFO:absl: \n",
      "\t\t NumberOfEpisodes = 2870\n",
      "\t\t EnvironmentSteps = 60002\n",
      "\t\t AverageReturn = 80233.921875\n",
      "\t\t AverageEpisodeLength = 41.79999923706055\n"
     ]
    },
    {
     "name": "stdout",
     "output_type": "stream",
     "text": [
      "Iteration:  60000\n"
     ]
    },
    {
     "name": "stderr",
     "output_type": "stream",
     "text": [
      "INFO:absl: \n",
      "\t\t NumberOfEpisodes = 2892\n",
      "\t\t EnvironmentSteps = 61002\n",
      "\t\t AverageReturn = 83038.9609375\n",
      "\t\t AverageEpisodeLength = 40.5\n"
     ]
    },
    {
     "name": "stdout",
     "output_type": "stream",
     "text": [
      "Iteration:  61000\n"
     ]
    },
    {
     "name": "stderr",
     "output_type": "stream",
     "text": [
      "INFO:absl: \n",
      "\t\t NumberOfEpisodes = 2913\n",
      "\t\t EnvironmentSteps = 62002\n",
      "\t\t AverageReturn = 85717.6953125\n",
      "\t\t AverageEpisodeLength = 38.5\n"
     ]
    },
    {
     "name": "stdout",
     "output_type": "stream",
     "text": [
      "Iteration:  62000\n"
     ]
    },
    {
     "name": "stderr",
     "output_type": "stream",
     "text": [
      "INFO:absl: \n",
      "\t\t NumberOfEpisodes = 2932\n",
      "\t\t EnvironmentSteps = 63002\n",
      "\t\t AverageReturn = 88148.359375\n",
      "\t\t AverageEpisodeLength = 52.0\n"
     ]
    },
    {
     "name": "stdout",
     "output_type": "stream",
     "text": [
      "Iteration:  63000\n"
     ]
    },
    {
     "name": "stderr",
     "output_type": "stream",
     "text": [
      "INFO:absl: \n",
      "\t\t NumberOfEpisodes = 2953\n",
      "\t\t EnvironmentSteps = 64002\n",
      "\t\t AverageReturn = 90996.140625\n",
      "\t\t AverageEpisodeLength = 47.29999923706055\n"
     ]
    },
    {
     "name": "stdout",
     "output_type": "stream",
     "text": [
      "Iteration:  64000\n"
     ]
    },
    {
     "name": "stderr",
     "output_type": "stream",
     "text": [
      "INFO:absl: \n",
      "\t\t NumberOfEpisodes = 2975\n",
      "\t\t EnvironmentSteps = 65002\n",
      "\t\t AverageReturn = 93564.6484375\n",
      "\t\t AverageEpisodeLength = 48.599998474121094\n"
     ]
    },
    {
     "name": "stdout",
     "output_type": "stream",
     "text": [
      "Iteration:  65000\n"
     ]
    },
    {
     "name": "stderr",
     "output_type": "stream",
     "text": [
      "INFO:absl: \n",
      "\t\t NumberOfEpisodes = 2998\n",
      "\t\t EnvironmentSteps = 66002\n",
      "\t\t AverageReturn = 96401.6640625\n",
      "\t\t AverageEpisodeLength = 36.900001525878906\n"
     ]
    },
    {
     "name": "stdout",
     "output_type": "stream",
     "text": [
      "Iteration:  66000\n"
     ]
    },
    {
     "name": "stderr",
     "output_type": "stream",
     "text": [
      "INFO:absl: \n",
      "\t\t NumberOfEpisodes = 3022\n",
      "\t\t EnvironmentSteps = 67002\n",
      "\t\t AverageReturn = 99177.2734375\n",
      "\t\t AverageEpisodeLength = 45.20000076293945\n"
     ]
    },
    {
     "name": "stdout",
     "output_type": "stream",
     "text": [
      "Iteration:  67000\n"
     ]
    },
    {
     "name": "stderr",
     "output_type": "stream",
     "text": [
      "INFO:absl: \n",
      "\t\t NumberOfEpisodes = 3042\n",
      "\t\t EnvironmentSteps = 68002\n",
      "\t\t AverageReturn = 101829.328125\n",
      "\t\t AverageEpisodeLength = 49.20000076293945\n"
     ]
    },
    {
     "name": "stdout",
     "output_type": "stream",
     "text": [
      "Iteration:  68000\n"
     ]
    },
    {
     "name": "stderr",
     "output_type": "stream",
     "text": [
      "INFO:absl: \n",
      "\t\t NumberOfEpisodes = 3067\n",
      "\t\t EnvironmentSteps = 69002\n",
      "\t\t AverageReturn = 104566.328125\n",
      "\t\t AverageEpisodeLength = 40.70000076293945\n"
     ]
    },
    {
     "name": "stdout",
     "output_type": "stream",
     "text": [
      "Iteration:  69000\n"
     ]
    },
    {
     "name": "stderr",
     "output_type": "stream",
     "text": [
      "INFO:absl: \n",
      "\t\t NumberOfEpisodes = 3089\n",
      "\t\t EnvironmentSteps = 70002\n",
      "\t\t AverageReturn = 107354.2890625\n",
      "\t\t AverageEpisodeLength = 41.0\n"
     ]
    },
    {
     "name": "stdout",
     "output_type": "stream",
     "text": [
      "Iteration:  70000\n"
     ]
    },
    {
     "name": "stderr",
     "output_type": "stream",
     "text": [
      "INFO:absl: \n",
      "\t\t NumberOfEpisodes = 3112\n",
      "\t\t EnvironmentSteps = 71002\n",
      "\t\t AverageReturn = 110053.3125\n",
      "\t\t AverageEpisodeLength = 43.0\n"
     ]
    },
    {
     "name": "stdout",
     "output_type": "stream",
     "text": [
      "Iteration:  71000\n"
     ]
    },
    {
     "name": "stderr",
     "output_type": "stream",
     "text": [
      "INFO:absl: \n",
      "\t\t NumberOfEpisodes = 3133\n",
      "\t\t EnvironmentSteps = 72002\n",
      "\t\t AverageReturn = 112680.1640625\n",
      "\t\t AverageEpisodeLength = 51.5\n"
     ]
    },
    {
     "name": "stdout",
     "output_type": "stream",
     "text": [
      "Iteration:  72000\n"
     ]
    },
    {
     "name": "stderr",
     "output_type": "stream",
     "text": [
      "INFO:absl: \n",
      "\t\t NumberOfEpisodes = 3154\n",
      "\t\t EnvironmentSteps = 73002\n",
      "\t\t AverageReturn = 115463.703125\n",
      "\t\t AverageEpisodeLength = 56.400001525878906\n"
     ]
    },
    {
     "name": "stdout",
     "output_type": "stream",
     "text": [
      "Iteration:  73000\n"
     ]
    },
    {
     "name": "stderr",
     "output_type": "stream",
     "text": [
      "INFO:absl: \n",
      "\t\t NumberOfEpisodes = 3177\n",
      "\t\t EnvironmentSteps = 74002\n",
      "\t\t AverageReturn = 118411.671875\n",
      "\t\t AverageEpisodeLength = 49.599998474121094\n"
     ]
    },
    {
     "name": "stdout",
     "output_type": "stream",
     "text": [
      "Iteration:  74000\n"
     ]
    },
    {
     "name": "stderr",
     "output_type": "stream",
     "text": [
      "INFO:absl: \n",
      "\t\t NumberOfEpisodes = 3202\n",
      "\t\t EnvironmentSteps = 75002\n",
      "\t\t AverageReturn = 121392.5\n",
      "\t\t AverageEpisodeLength = 37.599998474121094\n"
     ]
    },
    {
     "name": "stdout",
     "output_type": "stream",
     "text": [
      "Iteration:  75000\n"
     ]
    },
    {
     "name": "stderr",
     "output_type": "stream",
     "text": [
      "INFO:absl: \n",
      "\t\t NumberOfEpisodes = 3225\n",
      "\t\t EnvironmentSteps = 76002\n",
      "\t\t AverageReturn = 123994.7890625\n",
      "\t\t AverageEpisodeLength = 41.900001525878906\n"
     ]
    },
    {
     "name": "stdout",
     "output_type": "stream",
     "text": [
      "Iteration:  76000\n"
     ]
    },
    {
     "name": "stderr",
     "output_type": "stream",
     "text": [
      "INFO:absl: \n",
      "\t\t NumberOfEpisodes = 3245\n",
      "\t\t EnvironmentSteps = 77002\n",
      "\t\t AverageReturn = 126611.046875\n",
      "\t\t AverageEpisodeLength = 51.20000076293945\n"
     ]
    },
    {
     "name": "stdout",
     "output_type": "stream",
     "text": [
      "Iteration:  77000\n"
     ]
    },
    {
     "name": "stderr",
     "output_type": "stream",
     "text": [
      "INFO:absl: \n",
      "\t\t NumberOfEpisodes = 3265\n",
      "\t\t EnvironmentSteps = 78002\n",
      "\t\t AverageReturn = 129263.546875\n",
      "\t\t AverageEpisodeLength = 43.0\n"
     ]
    },
    {
     "name": "stdout",
     "output_type": "stream",
     "text": [
      "Iteration:  78000\n"
     ]
    },
    {
     "name": "stderr",
     "output_type": "stream",
     "text": [
      "INFO:absl: \n",
      "\t\t NumberOfEpisodes = 3287\n",
      "\t\t EnvironmentSteps = 79002\n",
      "\t\t AverageReturn = 132093.53125\n",
      "\t\t AverageEpisodeLength = 51.29999923706055\n"
     ]
    },
    {
     "name": "stdout",
     "output_type": "stream",
     "text": [
      "Iteration:  79000\n"
     ]
    },
    {
     "name": "stderr",
     "output_type": "stream",
     "text": [
      "INFO:absl: \n",
      "\t\t NumberOfEpisodes = 3310\n",
      "\t\t EnvironmentSteps = 80002\n",
      "\t\t AverageReturn = 134894.9375\n",
      "\t\t AverageEpisodeLength = 48.79999923706055\n"
     ]
    },
    {
     "name": "stdout",
     "output_type": "stream",
     "text": [
      "Iteration:  80000\n"
     ]
    },
    {
     "name": "stderr",
     "output_type": "stream",
     "text": [
      "INFO:absl: \n",
      "\t\t NumberOfEpisodes = 3330\n",
      "\t\t EnvironmentSteps = 81002\n",
      "\t\t AverageReturn = 137871.296875\n",
      "\t\t AverageEpisodeLength = 50.5\n"
     ]
    },
    {
     "name": "stdout",
     "output_type": "stream",
     "text": [
      "Iteration:  81000\n"
     ]
    },
    {
     "name": "stderr",
     "output_type": "stream",
     "text": [
      "INFO:absl: \n",
      "\t\t NumberOfEpisodes = 3350\n",
      "\t\t EnvironmentSteps = 82002\n",
      "\t\t AverageReturn = 140460.140625\n",
      "\t\t AverageEpisodeLength = 51.900001525878906\n"
     ]
    },
    {
     "name": "stdout",
     "output_type": "stream",
     "text": [
      "Iteration:  82000\n"
     ]
    },
    {
     "name": "stderr",
     "output_type": "stream",
     "text": [
      "INFO:absl: \n",
      "\t\t NumberOfEpisodes = 3370\n",
      "\t\t EnvironmentSteps = 83002\n",
      "\t\t AverageReturn = 143446.90625\n",
      "\t\t AverageEpisodeLength = 44.0\n"
     ]
    },
    {
     "name": "stdout",
     "output_type": "stream",
     "text": [
      "Iteration:  83000\n"
     ]
    },
    {
     "name": "stderr",
     "output_type": "stream",
     "text": [
      "INFO:absl: \n",
      "\t\t NumberOfEpisodes = 3391\n",
      "\t\t EnvironmentSteps = 84002\n",
      "\t\t AverageReturn = 146277.265625\n",
      "\t\t AverageEpisodeLength = 55.0\n"
     ]
    },
    {
     "name": "stdout",
     "output_type": "stream",
     "text": [
      "Iteration:  84000\n"
     ]
    },
    {
     "name": "stderr",
     "output_type": "stream",
     "text": [
      "INFO:absl: \n",
      "\t\t NumberOfEpisodes = 3412\n",
      "\t\t EnvironmentSteps = 85002\n",
      "\t\t AverageReturn = 149194.484375\n",
      "\t\t AverageEpisodeLength = 49.70000076293945\n"
     ]
    },
    {
     "name": "stdout",
     "output_type": "stream",
     "text": [
      "Iteration:  85000\n"
     ]
    },
    {
     "name": "stderr",
     "output_type": "stream",
     "text": [
      "INFO:absl: \n",
      "\t\t NumberOfEpisodes = 3431\n",
      "\t\t EnvironmentSteps = 86002\n",
      "\t\t AverageReturn = 151952.15625\n",
      "\t\t AverageEpisodeLength = 52.70000076293945\n"
     ]
    },
    {
     "name": "stdout",
     "output_type": "stream",
     "text": [
      "Iteration:  86000\n"
     ]
    },
    {
     "name": "stderr",
     "output_type": "stream",
     "text": [
      "INFO:absl: \n",
      "\t\t NumberOfEpisodes = 3452\n",
      "\t\t EnvironmentSteps = 87002\n",
      "\t\t AverageReturn = 154928.59375\n",
      "\t\t AverageEpisodeLength = 52.900001525878906\n"
     ]
    },
    {
     "name": "stdout",
     "output_type": "stream",
     "text": [
      "Iteration:  87000\n"
     ]
    },
    {
     "name": "stderr",
     "output_type": "stream",
     "text": [
      "INFO:absl: \n",
      "\t\t NumberOfEpisodes = 3472\n",
      "\t\t EnvironmentSteps = 88002\n",
      "\t\t AverageReturn = 157401.609375\n",
      "\t\t AverageEpisodeLength = 51.900001525878906\n"
     ]
    },
    {
     "name": "stdout",
     "output_type": "stream",
     "text": [
      "Iteration:  88000\n"
     ]
    },
    {
     "name": "stderr",
     "output_type": "stream",
     "text": [
      "INFO:absl: \n",
      "\t\t NumberOfEpisodes = 3493\n",
      "\t\t EnvironmentSteps = 89002\n",
      "\t\t AverageReturn = 160158.046875\n",
      "\t\t AverageEpisodeLength = 53.79999923706055\n"
     ]
    },
    {
     "name": "stdout",
     "output_type": "stream",
     "text": [
      "Iteration:  89000\n"
     ]
    },
    {
     "name": "stderr",
     "output_type": "stream",
     "text": [
      "INFO:absl: \n",
      "\t\t NumberOfEpisodes = 3513\n",
      "\t\t EnvironmentSteps = 90002\n",
      "\t\t AverageReturn = 162853.0625\n",
      "\t\t AverageEpisodeLength = 47.599998474121094\n"
     ]
    },
    {
     "name": "stdout",
     "output_type": "stream",
     "text": [
      "Iteration:  90000\n"
     ]
    },
    {
     "name": "stderr",
     "output_type": "stream",
     "text": [
      "INFO:absl: \n",
      "\t\t NumberOfEpisodes = 3535\n",
      "\t\t EnvironmentSteps = 91002\n",
      "\t\t AverageReturn = 165777.546875\n",
      "\t\t AverageEpisodeLength = 49.400001525878906\n"
     ]
    },
    {
     "name": "stdout",
     "output_type": "stream",
     "text": [
      "Iteration:  91000\n"
     ]
    },
    {
     "name": "stderr",
     "output_type": "stream",
     "text": [
      "INFO:absl: \n",
      "\t\t NumberOfEpisodes = 3556\n",
      "\t\t EnvironmentSteps = 92002\n",
      "\t\t AverageReturn = 168608.734375\n",
      "\t\t AverageEpisodeLength = 41.599998474121094\n"
     ]
    },
    {
     "name": "stdout",
     "output_type": "stream",
     "text": [
      "Iteration:  92000\n"
     ]
    },
    {
     "name": "stderr",
     "output_type": "stream",
     "text": [
      "INFO:absl: \n",
      "\t\t NumberOfEpisodes = 3576\n",
      "\t\t EnvironmentSteps = 93002\n",
      "\t\t AverageReturn = 171374.875\n",
      "\t\t AverageEpisodeLength = 45.099998474121094\n"
     ]
    },
    {
     "name": "stdout",
     "output_type": "stream",
     "text": [
      "Iteration:  93000\n"
     ]
    },
    {
     "name": "stderr",
     "output_type": "stream",
     "text": [
      "INFO:absl: \n",
      "\t\t NumberOfEpisodes = 3597\n",
      "\t\t EnvironmentSteps = 94002\n",
      "\t\t AverageReturn = 174225.296875\n",
      "\t\t AverageEpisodeLength = 41.900001525878906\n"
     ]
    },
    {
     "name": "stdout",
     "output_type": "stream",
     "text": [
      "Iteration:  94000\n"
     ]
    },
    {
     "name": "stderr",
     "output_type": "stream",
     "text": [
      "INFO:absl: \n",
      "\t\t NumberOfEpisodes = 3617\n",
      "\t\t EnvironmentSteps = 95002\n",
      "\t\t AverageReturn = 176812.34375\n",
      "\t\t AverageEpisodeLength = 46.70000076293945\n"
     ]
    },
    {
     "name": "stdout",
     "output_type": "stream",
     "text": [
      "Iteration:  95000\n"
     ]
    },
    {
     "name": "stderr",
     "output_type": "stream",
     "text": [
      "INFO:absl: \n",
      "\t\t NumberOfEpisodes = 3638\n",
      "\t\t EnvironmentSteps = 96002\n",
      "\t\t AverageReturn = 179692.171875\n",
      "\t\t AverageEpisodeLength = 50.599998474121094\n"
     ]
    },
    {
     "name": "stdout",
     "output_type": "stream",
     "text": [
      "Iteration:  96000\n"
     ]
    },
    {
     "name": "stderr",
     "output_type": "stream",
     "text": [
      "INFO:absl: \n",
      "\t\t NumberOfEpisodes = 3660\n",
      "\t\t EnvironmentSteps = 97002\n",
      "\t\t AverageReturn = 182547.859375\n",
      "\t\t AverageEpisodeLength = 42.599998474121094\n"
     ]
    },
    {
     "name": "stdout",
     "output_type": "stream",
     "text": [
      "Iteration:  97000\n"
     ]
    },
    {
     "name": "stderr",
     "output_type": "stream",
     "text": [
      "INFO:absl: \n",
      "\t\t NumberOfEpisodes = 3683\n",
      "\t\t EnvironmentSteps = 98002\n",
      "\t\t AverageReturn = 185322.71875\n",
      "\t\t AverageEpisodeLength = 44.29999923706055\n"
     ]
    },
    {
     "name": "stdout",
     "output_type": "stream",
     "text": [
      "Iteration:  98000\n"
     ]
    },
    {
     "name": "stderr",
     "output_type": "stream",
     "text": [
      "INFO:absl: \n",
      "\t\t NumberOfEpisodes = 3708\n",
      "\t\t EnvironmentSteps = 99002\n",
      "\t\t AverageReturn = 188117.53125\n",
      "\t\t AverageEpisodeLength = 45.20000076293945\n"
     ]
    },
    {
     "name": "stdout",
     "output_type": "stream",
     "text": [
      "Iteration:  99000\n"
     ]
    }
   ],
   "source": [
    "train_agent(episodes_count)"
   ]
  },
  {
   "cell_type": "code",
   "execution_count": 11,
   "metadata": {},
   "outputs": [
    {
     "name": "stdout",
     "output_type": "stream",
     "text": [
      "Map:\n",
      " [[[0 0 0 0 0]\n",
      "  [0 0 0 0 0]\n",
      "  [0 0 0 0 0]\n",
      "  [0 3 0 1 2]\n",
      "  [0 0 0 0 0]]]\n",
      "Action:  [0]\n",
      "Map:\n",
      " [[[0 0 0 0 0]\n",
      "  [0 0 0 0 0]\n",
      "  [0 0 0 0 0]\n",
      "  [0 3 1 2 0]\n",
      "  [0 0 0 0 0]]]\n",
      "Action:  [0]\n",
      "Map:\n",
      " [[[3 0 0 0 0]\n",
      "  [0 0 0 0 0]\n",
      "  [0 0 0 0 0]\n",
      "  [0 1 2 2 0]\n",
      "  [0 0 0 0 0]]]\n",
      "Action:  [0]\n",
      "Map:\n",
      " [[[3 0 0 0 0]\n",
      "  [0 0 0 0 0]\n",
      "  [0 0 0 0 0]\n",
      "  [1 2 2 0 0]\n",
      "  [0 0 0 0 0]]]\n",
      "Action:  [1]\n",
      "Map:\n",
      " [[[3 0 0 0 0]\n",
      "  [0 0 0 0 0]\n",
      "  [1 0 0 0 0]\n",
      "  [2 2 0 0 0]\n",
      "  [0 0 0 0 0]]]\n",
      "Action:  [1]\n",
      "Map:\n",
      " [[[3 0 0 0 0]\n",
      "  [1 0 0 0 0]\n",
      "  [2 0 0 0 0]\n",
      "  [2 0 0 0 0]\n",
      "  [0 0 0 0 0]]]\n",
      "Action:  [1]\n",
      "Map:\n",
      " [[[1 0 0 3 0]\n",
      "  [2 0 0 0 0]\n",
      "  [2 0 0 0 0]\n",
      "  [2 0 0 0 0]\n",
      "  [0 0 0 0 0]]]\n",
      "Action:  [2]\n",
      "Map:\n",
      " [[[2 1 0 3 0]\n",
      "  [2 0 0 0 0]\n",
      "  [2 0 0 0 0]\n",
      "  [0 0 0 0 0]\n",
      "  [0 0 0 0 0]]]\n",
      "Action:  [2]\n",
      "Map:\n",
      " [[[2 2 1 3 0]\n",
      "  [2 0 0 0 0]\n",
      "  [0 0 0 0 0]\n",
      "  [0 0 0 0 0]\n",
      "  [0 0 0 0 0]]]\n",
      "Action:  [2]\n",
      "Map:\n",
      " [[[2 2 2 1 0]\n",
      "  [2 0 0 0 0]\n",
      "  [0 0 0 3 0]\n",
      "  [0 0 0 0 0]\n",
      "  [0 0 0 0 0]]]\n",
      "Action:  [3]\n",
      "Map:\n",
      " [[[2 2 2 2 0]\n",
      "  [0 0 0 1 0]\n",
      "  [0 0 0 3 0]\n",
      "  [0 0 0 0 0]\n",
      "  [0 0 0 0 0]]]\n",
      "Action:  [3]\n",
      "Map:\n",
      " [[[2 2 2 2 0]\n",
      "  [0 0 0 2 0]\n",
      "  [0 0 0 1 0]\n",
      "  [0 0 3 0 0]\n",
      "  [0 0 0 0 0]]]\n",
      "Action:  [0]\n",
      "Map:\n",
      " [[[0 2 2 2 0]\n",
      "  [0 0 0 2 0]\n",
      "  [0 0 1 2 0]\n",
      "  [0 0 3 0 0]\n",
      "  [0 0 0 0 0]]]\n",
      "Action:  [3]\n",
      "Map:\n",
      " [[[0 2 2 2 0]\n",
      "  [0 0 0 2 0]\n",
      "  [0 0 2 2 0]\n",
      "  [0 0 1 0 0]\n",
      "  [0 0 3 0 0]]]\n",
      "Action:  [3]\n",
      "Map:\n",
      " [[[0 2 2 2 0]\n",
      "  [0 0 0 2 0]\n",
      "  [0 0 2 2 0]\n",
      "  [0 3 2 0 0]\n",
      "  [0 0 1 0 0]]]\n",
      "Action:  [0]\n",
      "Map:\n",
      " [[[0 0 2 2 0]\n",
      "  [0 0 0 2 0]\n",
      "  [0 0 2 2 0]\n",
      "  [0 3 2 0 0]\n",
      "  [0 1 2 0 0]]]\n",
      "Action:  [0]\n",
      "Map:\n",
      " [[[0 0 0 2 0]\n",
      "  [0 0 0 2 0]\n",
      "  [0 0 2 2 0]\n",
      "  [0 3 2 0 0]\n",
      "  [1 2 2 0 0]]]\n",
      "Action:  [1]\n",
      "Map:\n",
      " [[[0 0 0 0 0]\n",
      "  [0 0 0 2 0]\n",
      "  [0 0 2 2 0]\n",
      "  [1 3 2 0 0]\n",
      "  [2 2 2 0 0]]]\n",
      "Action:  [2]\n",
      "Map:\n",
      " [[[0 0 0 0 0]\n",
      "  [0 0 0 2 0]\n",
      "  [0 0 2 2 0]\n",
      "  [2 1 2 3 0]\n",
      "  [2 2 2 0 0]]]\n",
      "Action:  [1]\n",
      "Map:\n",
      " [[[0 0 0 0 0]\n",
      "  [0 0 0 0 0]\n",
      "  [0 1 2 2 0]\n",
      "  [2 2 2 3 0]\n",
      "  [2 2 2 0 0]]]\n",
      "Action:  [1]\n",
      "Map:\n",
      " [[[0 0 0 0 0]\n",
      "  [0 1 0 0 0]\n",
      "  [0 2 2 0 0]\n",
      "  [2 2 2 3 0]\n",
      "  [2 2 2 0 0]]]\n",
      "Action:  [2]\n",
      "Map:\n",
      " [[[0 0 0 0 0]\n",
      "  [0 2 1 0 0]\n",
      "  [0 2 0 0 0]\n",
      "  [2 2 2 3 0]\n",
      "  [2 2 2 0 0]]]\n",
      "Action:  [2]\n",
      "Map:\n",
      " [[[0 0 0 0 0]\n",
      "  [0 2 2 1 0]\n",
      "  [0 2 0 0 0]\n",
      "  [2 2 0 3 0]\n",
      "  [2 2 2 0 0]]]\n",
      "Action:  [3]\n",
      "Map:\n",
      " [[[0 0 0 0 0]\n",
      "  [0 2 2 2 0]\n",
      "  [0 2 0 1 0]\n",
      "  [2 2 0 3 0]\n",
      "  [2 2 0 0 0]]]\n",
      "Action:  [3]\n",
      "Map:\n",
      " [[[0 0 0 0 0]\n",
      "  [3 2 2 2 0]\n",
      "  [0 2 0 2 0]\n",
      "  [2 2 0 1 0]\n",
      "  [2 2 0 0 0]]]\n",
      "Action:  [3]\n",
      "Map:\n",
      " [[[0 0 0 0 0]\n",
      "  [3 2 2 2 0]\n",
      "  [0 2 0 2 0]\n",
      "  [2 2 0 2 0]\n",
      "  [2 0 0 1 0]]]\n",
      "Action:  [0]\n",
      "Map:\n",
      " [[[0 0 0 0 0]\n",
      "  [3 2 2 2 0]\n",
      "  [0 2 0 2 0]\n",
      "  [2 2 0 2 0]\n",
      "  [0 0 1 2 0]]]\n",
      "Action:  [0]\n",
      "Map:\n",
      " [[[0 0 0 0 0]\n",
      "  [3 2 2 2 0]\n",
      "  [0 2 0 2 0]\n",
      "  [0 2 0 2 0]\n",
      "  [0 1 2 2 0]]]\n",
      "Action:  [0]\n",
      "Map:\n",
      " [[[0 0 0 0 0]\n",
      "  [3 2 2 2 0]\n",
      "  [0 2 0 2 0]\n",
      "  [0 0 0 2 0]\n",
      "  [1 2 2 2 0]]]\n",
      "Action:  [1]\n",
      "Map:\n",
      " [[[0 0 0 0 0]\n",
      "  [3 2 2 2 0]\n",
      "  [0 0 0 2 0]\n",
      "  [1 0 0 2 0]\n",
      "  [2 2 2 2 0]]]\n",
      "Action:  [1]\n",
      "Map:\n",
      " [[[0 0 0 0 0]\n",
      "  [3 0 2 2 0]\n",
      "  [1 0 0 2 0]\n",
      "  [2 0 0 2 0]\n",
      "  [2 2 2 2 0]]]\n",
      "Action:  [1]\n",
      "Map:\n",
      " [[[0 0 0 0 0]\n",
      "  [1 0 2 2 0]\n",
      "  [2 0 0 2 0]\n",
      "  [2 0 0 2 0]\n",
      "  [2 2 2 2 3]]]\n",
      "Action:  [2]\n",
      "Map:\n",
      " [[[0 0 0 0 0]\n",
      "  [2 1 0 2 0]\n",
      "  [2 0 0 2 0]\n",
      "  [2 0 0 2 0]\n",
      "  [2 2 2 2 3]]]\n",
      "Action:  [2]\n",
      "Map:\n",
      " [[[0 0 0 0 0]\n",
      "  [2 2 1 0 0]\n",
      "  [2 0 0 2 0]\n",
      "  [2 0 0 2 0]\n",
      "  [2 2 2 2 3]]]\n",
      "Action:  [2]\n",
      "Map:\n",
      " [[[0 0 0 0 0]\n",
      "  [2 2 2 1 0]\n",
      "  [2 0 0 0 0]\n",
      "  [2 0 0 2 0]\n",
      "  [2 2 2 2 3]]]\n",
      "Action:  [3]\n",
      "Map:\n",
      " [[[0 0 0 0 0]\n",
      "  [2 2 2 2 0]\n",
      "  [2 0 0 1 0]\n",
      "  [2 0 0 0 0]\n",
      "  [2 2 2 2 3]]]\n",
      "Action:  [2]\n",
      "Map:\n",
      " [[[0 0 0 0 0]\n",
      "  [2 2 2 2 0]\n",
      "  [2 0 0 2 1]\n",
      "  [2 0 0 0 0]\n",
      "  [2 2 2 0 3]]]\n",
      "Action:  [3]\n",
      "Map:\n",
      " [[[0 0 0 0 0]\n",
      "  [2 2 2 2 0]\n",
      "  [2 0 0 2 2]\n",
      "  [2 0 0 0 1]\n",
      "  [2 2 0 0 3]]]\n",
      "Action:  [3]\n",
      "Map:\n",
      " [[[0 0 0 0 0]\n",
      "  [2 2 2 2 0]\n",
      "  [2 0 0 2 2]\n",
      "  [2 0 0 0 2]\n",
      "  [2 2 0 3 1]]]\n",
      "Action:  [0]\n",
      "Map:\n",
      " [[[3 0 0 0 0]\n",
      "  [2 2 2 2 0]\n",
      "  [2 0 0 2 2]\n",
      "  [2 0 0 0 2]\n",
      "  [2 2 0 1 2]]]\n",
      "Action:  [0]\n",
      "Map:\n",
      " [[[3 0 0 0 0]\n",
      "  [2 2 2 2 0]\n",
      "  [2 0 0 2 2]\n",
      "  [2 0 0 0 2]\n",
      "  [2 0 1 2 2]]]\n",
      "Action:  [0]\n",
      "Map:\n",
      " [[[3 0 0 0 0]\n",
      "  [2 2 2 2 0]\n",
      "  [2 0 0 2 2]\n",
      "  [2 0 0 0 2]\n",
      "  [0 1 2 2 2]]]\n",
      "Action:  [0]\n",
      "Map:\n",
      " [[[3 0 0 0 0]\n",
      "  [2 2 2 2 0]\n",
      "  [2 0 0 2 2]\n",
      "  [0 0 0 0 2]\n",
      "  [1 2 2 2 2]]]\n",
      "Action:  [1]\n",
      "Map:\n",
      " [[[3 0 0 0 0]\n",
      "  [2 2 2 2 0]\n",
      "  [0 0 0 2 2]\n",
      "  [1 0 0 0 2]\n",
      "  [2 2 2 2 2]]]\n",
      "Action:  [1]\n",
      "Map:\n",
      " [[[3 0 0 0 0]\n",
      "  [0 2 2 2 0]\n",
      "  [1 0 0 2 2]\n",
      "  [2 0 0 0 2]\n",
      "  [2 2 2 2 2]]]\n",
      "Action:  [1]\n",
      "Map:\n",
      " [[[3 0 0 0 0]\n",
      "  [1 0 2 2 0]\n",
      "  [2 0 0 2 2]\n",
      "  [2 0 0 0 2]\n",
      "  [2 2 2 2 2]]]\n",
      "Action:  [1]\n",
      "Map:\n",
      " [[[1 0 0 0 0]\n",
      "  [2 0 2 2 0]\n",
      "  [2 0 0 2 2]\n",
      "  [2 3 0 0 2]\n",
      "  [2 2 2 2 2]]]\n",
      "Action:  [2]\n",
      "Map:\n",
      " [[[2 1 0 0 0]\n",
      "  [2 0 0 2 0]\n",
      "  [2 0 0 2 2]\n",
      "  [2 3 0 0 2]\n",
      "  [2 2 2 2 2]]]\n",
      "Action:  [2]\n",
      "Map:\n",
      " [[[2 2 1 0 0]\n",
      "  [2 0 0 0 0]\n",
      "  [2 0 0 2 2]\n",
      "  [2 3 0 0 2]\n",
      "  [2 2 2 2 2]]]\n",
      "Action:  [3]\n",
      "Map:\n",
      " [[[2 2 2 0 0]\n",
      "  [2 0 1 0 0]\n",
      "  [2 0 0 0 2]\n",
      "  [2 3 0 0 2]\n",
      "  [2 2 2 2 2]]]\n",
      "Action:  [3]\n",
      "Map:\n",
      " [[[2 2 2 0 0]\n",
      "  [2 0 2 0 0]\n",
      "  [2 0 1 0 0]\n",
      "  [2 3 0 0 2]\n",
      "  [2 2 2 2 2]]]\n",
      "Action:  [0]\n",
      "Map:\n",
      " [[[2 2 2 0 0]\n",
      "  [2 0 2 0 0]\n",
      "  [2 1 2 0 0]\n",
      "  [2 3 0 0 0]\n",
      "  [2 2 2 2 2]]]\n",
      "Action:  [3]\n",
      "Map:\n",
      " [[[2 2 2 0 0]\n",
      "  [2 0 2 0 0]\n",
      "  [2 2 2 3 0]\n",
      "  [2 1 0 0 0]\n",
      "  [2 2 2 2 2]]]\n",
      "Action:  [2]\n",
      "Map:\n",
      " [[[2 2 2 0 0]\n",
      "  [2 0 2 0 0]\n",
      "  [2 2 2 3 0]\n",
      "  [2 2 1 0 0]\n",
      "  [2 2 2 2 0]]]\n",
      "Action:  [2]\n",
      "Map:\n",
      " [[[2 2 2 0 0]\n",
      "  [2 0 2 0 0]\n",
      "  [2 2 2 3 0]\n",
      "  [2 2 2 1 0]\n",
      "  [2 2 2 0 0]]]\n",
      "Action:  [1]\n",
      "Map:\n",
      " [[[2 2 2 0 0]\n",
      "  [2 0 2 0 3]\n",
      "  [2 2 2 1 0]\n",
      "  [2 2 2 2 0]\n",
      "  [2 2 2 0 0]]]\n",
      "Action:  [2]\n",
      "Map:\n",
      " [[[2 2 2 0 0]\n",
      "  [2 0 2 0 3]\n",
      "  [2 2 2 2 1]\n",
      "  [2 2 2 2 0]\n",
      "  [2 2 0 0 0]]]\n",
      "Action:  [1]\n",
      "Map:\n",
      " [[[2 2 2 0 0]\n",
      "  [2 0 2 0 1]\n",
      "  [2 2 2 2 2]\n",
      "  [2 2 2 2 0]\n",
      "  [2 2 0 0 3]]]\n",
      "Action:  [1]\n",
      "Map:\n",
      " [[[2 2 2 0 1]\n",
      "  [2 0 2 0 2]\n",
      "  [2 2 2 2 2]\n",
      "  [2 2 2 2 0]\n",
      "  [2 0 0 0 3]]]\n",
      "Action:  [2]\n",
      "Total reward:  170.59999921917915\n",
      "Total steps:  59\n"
     ]
    }
   ],
   "source": [
    "# Evaluate the agent\n",
    "\n",
    "time_step = env.reset()\n",
    "rewards = []\n",
    "steps = 0\n",
    "\n",
    "while not time_step.is_last() and steps < 200:\n",
    "    steps += 1\n",
    "    print(\"Map:\\n\", np.argmax(time_step.observation.numpy(), axis=3))\n",
    "    action_step = agent.policy.action(time_step)\n",
    "    print(\"Action: \", action_step.action.numpy())\n",
    "    time_step = env.step(action_step.action)\n",
    "    rewards.append(time_step.reward.numpy()[0])\n",
    "    \n",
    "print(\"Total reward: \", sum(rewards))\n",
    "print(\"Total steps: \", steps)"
   ]
  },
  {
   "cell_type": "code",
   "execution_count": 12,
   "metadata": {},
   "outputs": [
    {
     "name": "stdout",
     "output_type": "stream",
     "text": [
      "Average steps per episode:  51.354\n",
      "Total 500 episodes:  0\n"
     ]
    }
   ],
   "source": [
    "# Count the average steps per episode\n",
    "\n",
    "n = 500\n",
    "total_steps = 0\n",
    "steps = 0\n",
    "total_500 = 0\n",
    "\n",
    "for _ in range(n):\n",
    "    time_step = env.reset()\n",
    "    steps = 0\n",
    "    while not time_step.is_last() and steps < 500:\n",
    "        steps += 1\n",
    "        action_step = agent.policy.action(time_step)\n",
    "        time_step = env.step(action_step.action)\n",
    "    \n",
    "    if steps == 500:\n",
    "        total_500 += 1\n",
    "    else:\n",
    "        total_steps += steps\n",
    "        \n",
    "if steps == 500:\n",
    "    print(\"500 episodes reached\")\n",
    "    \n",
    "print(\"Average steps per episode: \", total_steps / (n - total_500))\n",
    "print(\"Total 500 episodes: \", total_500)"
   ]
  },
  {
   "cell_type": "code",
   "execution_count": 13,
   "metadata": {},
   "outputs": [
    {
     "name": "stdout",
     "output_type": "stream",
     "text": [
      "Map:\n",
      " [[[0 0 0 0 0]\n",
      "  [2 0 3 0 0]\n",
      "  [1 0 0 0 0]\n",
      "  [0 0 0 0 0]\n",
      "  [0 0 0 0 0]]]\n"
     ]
    }
   ],
   "source": [
    "print(\"Map:\\n\", np.argmax(time_step.observation.numpy(), axis=3))"
   ]
  },
  {
   "cell_type": "code",
   "execution_count": 14,
   "metadata": {},
   "outputs": [
    {
     "name": "stdout",
     "output_type": "stream",
     "text": [
      "Map:\n",
      " [[[0 0 0 0 0]\n",
      "  [1 0 3 0 0]\n",
      "  [2 0 0 0 0]\n",
      "  [0 0 0 0 0]\n",
      "  [0 0 0 0 0]]]\n"
     ]
    }
   ],
   "source": [
    "action_step = agent.policy.action(time_step)\n",
    "time_step = env.step(action_step.action)\n",
    "print(\"Map:\\n\", np.argmax(time_step.observation.numpy(), axis=3))"
   ]
  },
  {
   "cell_type": "code",
   "execution_count": 15,
   "metadata": {},
   "outputs": [
    {
     "name": "stderr",
     "output_type": "stream",
     "text": [
      "INFO:absl:Function `function_with_signature` contains input name(s) 0/step_type, 0/reward, 0/discount, 0/observation, 3755814, 3755816, 3755818, 3755820, 3755822, 3755824, 3755826, 3755828 with unsupported characters which will be renamed to step_type, reward, discount, observation, unknown, unknown_0, unknown_1, unknown_2, unknown_3, unknown_4, unknown_5, unknown_6 in the SavedModel.\n",
      "WARNING:absl:`0/step_type` is not a valid tf.function parameter name. Sanitizing to `arg_0_step_type`.\n",
      "WARNING:absl:`0/reward` is not a valid tf.function parameter name. Sanitizing to `arg_0_reward`.\n",
      "WARNING:absl:`0/discount` is not a valid tf.function parameter name. Sanitizing to `arg_0_discount`.\n",
      "WARNING:absl:`0/observation` is not a valid tf.function parameter name. Sanitizing to `arg_0_observation`.\n",
      "WARNING:absl:`0/step_type` is not a valid tf.function parameter name. Sanitizing to `arg_0_step_type`.\n",
      "INFO:absl:Function `function_with_signature` contains input name(s) 3755869 with unsupported characters which will be renamed to unknown in the SavedModel.\n"
     ]
    },
    {
     "name": "stdout",
     "output_type": "stream",
     "text": [
      "INFO:tensorflow:Assets written to: policy/assets\n"
     ]
    },
    {
     "name": "stderr",
     "output_type": "stream",
     "text": [
      "/Users/juanpablo/miniconda3/lib/python3.11/site-packages/tensorflow/python/saved_model/nested_structure_coder.py:475: UserWarning: Encoding a StructuredValue with type tfp.distributions.Deterministic_ACTTypeSpec; loading this StructuredValue will require that this type be imported and registered.\n",
      "  warnings.warn(\"Encoding a StructuredValue with type %s; loading this \"\n",
      "INFO:tensorflow:Assets written to: policy/assets\n"
     ]
    }
   ],
   "source": [
    "# Save the agent\n",
    "import os\n",
    "from tf_agents.policies.policy_saver import PolicySaver\n",
    "\n",
    "saver = PolicySaver(agent.policy, batch_size=None)\n",
    "saver.save(\"policy\")"
   ]
  },
  {
   "cell_type": "code",
   "execution_count": null,
   "metadata": {},
   "outputs": [],
   "source": []
  }
 ],
 "metadata": {
  "kernelspec": {
   "display_name": "base",
   "language": "python",
   "name": "python3"
  },
  "language_info": {
   "codemirror_mode": {
    "name": "ipython",
    "version": 3
   },
   "file_extension": ".py",
   "mimetype": "text/x-python",
   "name": "python",
   "nbconvert_exporter": "python",
   "pygments_lexer": "ipython3",
   "version": "3.11.4"
  },
  "orig_nbformat": 4
 },
 "nbformat": 4,
 "nbformat_minor": 2
}
